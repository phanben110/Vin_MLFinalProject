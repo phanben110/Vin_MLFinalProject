{
 "cells": [
  {
   "cell_type": "code",
   "execution_count": 28,
   "id": "0c094ef4",
   "metadata": {},
   "outputs": [],
   "source": [
    "import pandas as pd\n",
    "import numpy as np\n",
    "import matplotlib.pyplot as plt\n",
    "import seaborn as sns\n",
    "random_state = 42"
   ]
  },
  {
   "cell_type": "code",
   "execution_count": 2,
   "id": "d7cb04a9",
   "metadata": {},
   "outputs": [],
   "source": [
    "train_df = pd.read_csv('train.csv', index_col='id')\n",
    "holiday_df = pd.read_csv(\"holidays_events.csv\")\n",
    "transaction_df = pd.read_csv(\"transactions.csv\")\n",
    "store_df = pd.read_csv('stores.csv')\n",
    "oil_df = pd.read_csv('oil.csv')\n",
    "test_df = pd.read_csv('test.csv', index_col='id')"
   ]
  },
  {
   "cell_type": "markdown",
   "id": "509c7321",
   "metadata": {},
   "source": [
    "### Gộp dữ liệu và tạo các feature mới"
   ]
  },
  {
   "cell_type": "code",
   "execution_count": 3,
   "id": "7c8e171d",
   "metadata": {},
   "outputs": [],
   "source": [
    "def transform_date(date):\n",
    "    # change from \"MM/DD/YYYY\" -> \"YYYY-MM-DD\"\n",
    "    tmp = date.split('/')\n",
    "    month, day, year = tmp[0], tmp[1], tmp[2]\n",
    "    if (len(month) == 1): \n",
    "        month = '0' + month\n",
    "    if (len(day) == 1): \n",
    "        day = '0' + day\n",
    "    return \"-\".join([year, month, day])\n",
    "\n",
    "# transform \n",
    "holiday_df['date'] = holiday_df['date'].apply(transform_date)"
   ]
  },
  {
   "cell_type": "code",
   "execution_count": 4,
   "id": "62f56692",
   "metadata": {},
   "outputs": [],
   "source": [
    "def fill_nan(series):\n",
    "    n = len(series)\n",
    "    arr = series.values\n",
    "    for i in range(n):\n",
    "        if (np.isnan(arr[i])):\n",
    "            if (i - 1 < 0):\n",
    "                print(i)\n",
    "                v = arr[i + 1] # chưa chặt lắm\n",
    "            else:\n",
    "                v = arr[i - 1]\n",
    "            arr[i] = v\n",
    "    return arr"
   ]
  },
  {
   "cell_type": "code",
   "execution_count": 41,
   "id": "6e0a3394",
   "metadata": {},
   "outputs": [],
   "source": [
    "def rmsle(y_true, y_pred):\n",
    "    n = y_true.shape[0]\n",
    "    y_pred = np.where(y_pred > 0, y_pred, 0)\n",
    "    res = np.sqrt(1/n * np.sum((np.log(1 + y_pred) - np.log(1 + y_true)) ** 2))\n",
    "    return res"
   ]
  },
  {
   "cell_type": "markdown",
   "id": "02bbb63f",
   "metadata": {},
   "source": [
    "#### Tạo lag feature dựa vào giá dầu"
   ]
  },
  {
   "cell_type": "code",
   "execution_count": 5,
   "id": "0e90dffa",
   "metadata": {},
   "outputs": [],
   "source": [
    "def get_oil_lag(oil_df):\n",
    "    lag_oil_df = oil_df.copy()\n",
    "    lag_oil_df['month'] = pd.to_datetime(oil_df['date']).dt.month.values\n",
    "    lag_oil_df['year'] = pd.to_datetime(oil_df['date']).dt.year.values\n",
    "    mean_oil = lag_oil_df.groupby(['year', 'month'])['dcoilwtico'].mean().reset_index()\n",
    "    mean_oil.rename(columns = {\"dcoilwtico\" : 'month_mean'}, inplace = True)\n",
    "    fillna_vals = pd.Series([92.12,93.13, 94.14])\n",
    "    mean = pd.concat([fillna_vals, mean_oil['month_mean']])\n",
    "    mean_oil['last1month'] = mean.shift(1)[3:]\n",
    "    mean_oil['last2month'] = mean.shift(2)[3:]\n",
    "    mean_oil['last3month'] = mean.shift(3)[3:]\n",
    "    lag_oil_df = lag_oil_df.merge(mean_oil, how = 'left', right_on = ['year', 'month'], left_on = ['year', 'month'])\n",
    "    lag_oil_df.drop('month', inplace = True, axis = 1)\n",
    "    lag_oil_df.drop('year', inplace = True, axis = 1)\n",
    "    # handle missing value in oil dataframe\n",
    "    lag_oil_df['dcoilwtico'] = fill_nan(lag_oil_df['dcoilwtico'])\n",
    "    return lag_oil_df"
   ]
  },
  {
   "cell_type": "code",
   "execution_count": 6,
   "id": "24f5283e",
   "metadata": {},
   "outputs": [
    {
     "name": "stdout",
     "output_type": "stream",
     "text": [
      "0\n"
     ]
    }
   ],
   "source": [
    "lag_oil_df = get_oil_lag(oil_df)"
   ]
  },
  {
   "cell_type": "markdown",
   "id": "a4fab9f2",
   "metadata": {},
   "source": [
    "#### Gộp và điền vào missing value"
   ]
  },
  {
   "cell_type": "code",
   "execution_count": 7,
   "id": "d7b08a91",
   "metadata": {},
   "outputs": [],
   "source": [
    "# main dataframe (train_df or test_df) merged with holiday_df\n",
    "mh_df = train_df.merge(holiday_df, how='left', left_on = 'date', right_on = 'date')\n",
    "mh_df = mh_df.fillna(\"None\")\n",
    "mhs_df = mh_df.merge(store_df, how='left', left_on = 'store_nbr', right_on = 'store_nbr')\n",
    "mhso_df = mhs_df.merge(lag_oil_df, how='left', left_on = 'date', right_on = 'date')\n",
    "mhso_df['dcoilwtico'] = fill_nan(mhso_df['dcoilwtico'])\n",
    "mhso_df['last1month'] = fill_nan(mhso_df['last1month'])\n",
    "mhso_df['last2month'] = fill_nan(mhso_df['last2month'])\n",
    "mhso_df['last3month'] = fill_nan(mhso_df['last3month'])\n",
    "mhso_df['month_mean'] = fill_nan(mhso_df['month_mean'])"
   ]
  },
  {
   "cell_type": "code",
   "execution_count": 30,
   "id": "ff476e3d",
   "metadata": {},
   "outputs": [],
   "source": [
    "test_mh_df = test_df.merge(holiday_df, how='left', left_on = 'date', right_on = 'date')\n",
    "test_mh_df = test_mh_df.fillna(\"None\")\n",
    "test_mhs_df = test_mh_df.merge(store_df, how='left', left_on = 'store_nbr', right_on = 'store_nbr')\n",
    "test_mhso_df = test_mhs_df.merge(lag_oil_df, how='left', left_on = 'date', right_on = 'date')\n",
    "test_mhso_df['dcoilwtico'] = fill_nan(test_mhso_df['dcoilwtico'])\n",
    "test_mhso_df['last1month'] = fill_nan(test_mhso_df['last1month'])\n",
    "test_mhso_df['last2month'] = fill_nan(test_mhso_df['last2month'])\n",
    "test_mhso_df['last3month'] = fill_nan(test_mhso_df['last3month'])\n",
    "test_mhso_df['month_mean'] = fill_nan(test_mhso_df['month_mean'])\n",
    "# y = get_sale_lag(test_mhso_df)\n",
    "# test_lag_df = y.merge(test_mhso_df, how = 'left', left_on = ['family', 'store_nbr', 'date'], right_on = ['family', 'store_nbr', 'date'])"
   ]
  },
  {
   "cell_type": "code",
   "execution_count": 29,
   "id": "13c8e80c",
   "metadata": {},
   "outputs": [],
   "source": [
    "train_y = mhso_df['sales']\n",
    "train_X = mhso_df.drop('sales', axis = 1)"
   ]
  },
  {
   "cell_type": "code",
   "execution_count": 14,
   "id": "eeb3262a",
   "metadata": {},
   "outputs": [],
   "source": [
    "train_y.to_csv('lag_train_y.csv')\n",
    "train_X.to_csv('lag_train_X.csv')"
   ]
  },
  {
   "cell_type": "code",
   "execution_count": 12,
   "id": "549c17a0",
   "metadata": {},
   "outputs": [],
   "source": [
    "test_mhso_df.to_csv('lag_test_X.csv')"
   ]
  },
  {
   "cell_type": "code",
   "execution_count": 36,
   "id": "ca8a38b7",
   "metadata": {},
   "outputs": [],
   "source": [
    "def my_split_func(df, train_start_date='2013-01-01', train_end_date='2017-08-30',\n",
    "               val_start_date='2017-09-01', val_end_date='2020-01-01'):\n",
    "    train_start_date = pd.to_datetime(train_start_date)\n",
    "    train_end_date = pd.to_datetime(train_end_date)\n",
    "    val_start_date = pd.to_datetime(val_start_date)\n",
    "    val_end_date = pd.to_datetime(val_end_date)\n",
    "    \n",
    "    train = df[(pd.to_datetime(df['date']) >= train_start_date) & (pd.to_datetime(df['date']) <= train_end_date)]\n",
    "    val = df[(pd.to_datetime(df['date']) >= val_start_date) & (pd.to_datetime(df['date']) <= val_end_date)]\n",
    "    return [train, val]"
   ]
  },
  {
   "cell_type": "code",
   "execution_count": null,
   "id": "f6536064",
   "metadata": {},
   "outputs": [],
   "source": [
    "train_df, val_df = my_split_func(mhso_df)"
   ]
  },
  {
   "cell_type": "code",
   "execution_count": 33,
   "id": "8646dedf",
   "metadata": {},
   "outputs": [
    {
     "name": "stdout",
     "output_type": "stream",
     "text": [
      "(3054348, 134) (3054348,)\n"
     ]
    }
   ],
   "source": [
    "from sklearn.preprocessing import OneHotEncoder, StandardScaler\n",
    "from statsmodels.tsa.deterministic import DeterministicProcess, CalendarFourier\n",
    "class FeatureEncoder(object):\n",
    "    def __init__(self, X_df):\n",
    "        weekday = pd.to_datetime(X_df['date']).dt.dayofweek.values.reshape(-1,1)\n",
    "        month = pd.to_datetime(X_df['date']).dt.month.values.reshape(-1,1)\n",
    "        self.family_encoder = OneHotEncoder().fit(X_df[['family']])\n",
    "        self.store_type_encoder = OneHotEncoder().fit(X_df[['type_y']])\n",
    "        self.week_encoder = OneHotEncoder().fit(weekday)\n",
    "        self.month_encoder = OneHotEncoder().fit(month)\n",
    "        self.holiday_type_encoder = OneHotEncoder().fit(X_df[['type_x']])\n",
    "        self.locale_name_encoder = OneHotEncoder().fit(X_df[['locale_name']])\n",
    "        self.cluster_encoder = OneHotEncoder().fit(X_df[['cluster']])\n",
    "        self.city_encoder = OneHotEncoder().fit(X_df[['city']])\n",
    "        self.date_idx = pd.to_datetime(X_df['date'])\n",
    "    \n",
    "    def date2feature(self, date_col):\n",
    "        weekday = pd.to_datetime(date_col).dt.dayofweek.values.reshape(-1,1)\n",
    "        month = pd.to_datetime(date_col).dt.month.values.reshape(-1,1)\n",
    "        year = pd.to_datetime(date_col).dt.year.values.reshape(-1,1)\n",
    "        weekday_features = self.week_encoder.transform(weekday).todense()\n",
    "        month_features = self.month_encoder.transform(month).todense()\n",
    "        return np.hstack([year, month_features, weekday_features])\n",
    "    \n",
    "    def seasonality_features(self):\n",
    "        # DeterministicProcess\n",
    "        fourierA = CalendarFourier(freq='A', order=5)\n",
    "        fourierM = CalendarFourier(freq='M', order=2)\n",
    "        fourierW = CalendarFourier(freq='W', order=4)\n",
    "\n",
    "        dp = DeterministicProcess(index=self.date_idx,\n",
    "                              order=1,\n",
    "                              seasonal=False,\n",
    "                              constant=False,\n",
    "                              additional_terms=[fourierA, fourierM, fourierW],\n",
    "                              drop=True)\n",
    "        dp_df = dp.in_sample()\n",
    "        return dp_df\n",
    "    \n",
    "    def get_sale_lag(self, mhso_df):\n",
    "        x = pd.DataFrame(mhso_df.groupby(['family', 'store_nbr', 'date'])['sales'].mean()).reset_index()\n",
    "        x = x.set_index(['family', 'store_nbr'])\n",
    "        indices = x.index.unique()\n",
    "\n",
    "        for idx in indices:\n",
    "            sales = x.loc[idx, 'sales']\n",
    "            x.loc[idx, 'sales1'] = sales.shift(1)\n",
    "            x.loc[idx, 'sales2'] = sales.shift(2)\n",
    "            x.loc[idx, 'sales3'] = sales.shift(3)\n",
    "            x.loc[idx, 'sales4'] = sales.shift(4)\n",
    "            x.loc[idx, 'sales5'] = sales.shift(5)\n",
    "        y = x.dropna()\n",
    "        return y\n",
    "    \n",
    "    def get_product_features(self, mhso_df):\n",
    "        tags = {\n",
    "         'AUTOMOTIVE': [4, 7, 30, 10, 'family'],\n",
    "         'BABY CARE':  [-8, 2, 25, 5, 'family'],\n",
    "         'BEAUTY': [-8, 7, 25, 5, 'other'],\n",
    "         'BEVERAGES': [0, 0, 40, 40, 'food'],\n",
    "         'BOOKS': [0, 0, 55, 15, 'other'],\n",
    "         'BREAD/BAKERY': [-3, 0, 30, 30, 'food'],\n",
    "         'CELEBRATION': [-5, 5, 50, 20, 'family'],\n",
    "         'CLEANING': [-8, 3, 40, 20, 'food'],\n",
    "         'DAIRY': [-4, 0, 40, 40, 'food'],\n",
    "         'DELI': [3, 6, 40, 20, 'food'],\n",
    "         'EGGS': [-4, -5, 40, 20, 'food'],\n",
    "         'FROZEN FOODS': [-4, -3, 40, 20, 'food'],\n",
    "         'GROCERY I': [-4, 3, 40, 20, 'food'],\n",
    "         'GROCERY II': [-4, 3, 40, 20, 'food'],\n",
    "         'HARDWARE': [10, 10, 30, 20, 'other'],\n",
    "         'HOME AND KITCHEN I': [-10, 4, 40, 20, 'family'],\n",
    "         'HOME AND KITCHEN II': [-10, 4, 40, 20, 'family'],\n",
    "         'HOME APPLIANCES': [0, 4, 40, 20, 'family'],\n",
    "         'HOME CARE': [-10, 4, 40, 20, 'family'],\n",
    "         'LADIESWEAR': [-10, 4, 40, 20, 'other'],\n",
    "         'LAWN AND GARDEN': [-10, 4, 40, 20, 'family'],\n",
    "         'LINGERIE': [-10, 4, 40, 2, 'other'],\n",
    "         'LIQUOR,WINE,BEER': [4, 8, 40, 20, 'food'],\n",
    "         'MAGAZINES': [-6, -7, 50, 20, 'other'],\n",
    "         'MEATS': [-4, 5, 40, 20, 'food'],\n",
    "         'PERSONAL CARE': [-5, 5, 40, 20, 'family'],\n",
    "         'PET SUPPLIES': [-5, 0, 40, 20, 'family'],\n",
    "         'PLAYERS AND ELECTRONICS': [5, 5, 25, 10, 'other'],\n",
    "         'POULTRY': [-7, -4, 40, 20, 'food'],\n",
    "         'PREPARED FOODS': [0, 6, 30, 10, 'food'],\n",
    "         'PRODUCE': [0, 0, 40, 40, 'other'],\n",
    "         'SCHOOL AND OFFICE SUPPLIES': [3, 3, 25, 15, 'family'],\n",
    "         'SEAFOOD': [-5, 8, 40, 20, 'food']\n",
    "        }\n",
    "\n",
    "        sex_dict = {}\n",
    "        luxury_dict = {}\n",
    "        age_mean_dict = {}\n",
    "        age_var_dict = {}\n",
    "        type_dict = {}\n",
    "        for i in tags.keys():\n",
    "            sex_dict[i] = tags[i][0]\n",
    "            luxury_dict[i] = tags[i][1]\n",
    "            age_mean_dict[i] = tags[i][2]\n",
    "            age_var_dict[i] = tags[i][3]\n",
    "            type_dict[i] = tags[i][4]\n",
    "            \n",
    "        def foo(i):\n",
    "            return pd.Series({   \n",
    "                \"sex\": sex_dict[i],\n",
    "                \"luxury\": luxury_dict[i],\n",
    "                \"age_mean\": age_mean_dict[i],\n",
    "                \"age_var\": age_var_dict[i],\n",
    "                \"type\": type_dict[i]\n",
    "            })\n",
    "\n",
    "        product_info_df = mhso_df['family'].apply(foo)\n",
    "        return product_info_df\n",
    "    \n",
    "    def preprocess(self, mhso_df):\n",
    "        date_features = self.date2feature(mhso_df['date'])\n",
    "        family_features = self.family_encoder.transform(mhso_df[['family']]).todense()\n",
    "        onpromotion = mhso_df['onpromotion'].values.reshape(-1, 1)\n",
    "        holiday_type_features = self.holiday_type_encoder.transform(mhso_df[['type_x']]).todense()\n",
    "        locale_name_features = self.locale_name_encoder.transform(mhso_df[['locale_name']]).todense()\n",
    "        store_type_features = self.store_type_encoder.transform(mhso_df[['type_y']]).todense()\n",
    "        cluster_features = self.cluster_encoder.transform(mhso_df[['cluster']]).todense()\n",
    "        city_features = self.city_encoder.transform(mhso_df[['city']]).todense()\n",
    "        oil_lags = mhso_df.loc[:, ['month_mean', 'last1month', 'last2month', 'last3month']].values # oil lag\n",
    "        sale_lags = self.get_sale_lag(mhso_df)\n",
    "        seasonality_features = self.seasonality_features()\n",
    "        product_features = self.get_product_features(mhso_df)\n",
    "        X = np.hstack([date_features, \n",
    "                       family_features, \n",
    "                       onpromotion, \n",
    "                       holiday_type_features, \n",
    "                       locale_name_features, \n",
    "                       store_type_features, \n",
    "                       cluster_features, \n",
    "                       city_features, \n",
    "                       oil_lags,\n",
    "                       sale_lags, \n",
    "                       product_features])\n",
    "        return X\n",
    "encoder = FeatureEncoder(train_df)\n",
    "X_train = encoder.preprocess(train_df)\n",
    "y_train = train_df['sales']\n",
    "print(X.shape, y.shape)"
   ]
  },
  {
   "cell_type": "code",
   "execution_count": null,
   "id": "2cb4e87c",
   "metadata": {},
   "outputs": [],
   "source": [
    "# todo: viết sale lag cho test"
   ]
  },
  {
   "cell_type": "markdown",
   "id": "523cbd56",
   "metadata": {},
   "source": [
    "### Huấn luyện mô hình"
   ]
  },
  {
   "cell_type": "code",
   "execution_count": 40,
   "id": "9017e4db",
   "metadata": {
    "scrolled": true
   },
   "outputs": [
    {
     "name": "stderr",
     "output_type": "stream",
     "text": [
      "C:\\Users\\thamnt36\\Anaconda3\\lib\\site-packages\\sklearn\\utils\\validation.py:727: FutureWarning: np.matrix usage is deprecated in 1.0 and will raise a TypeError in 1.2. Please convert to a numpy array with np.asarray. For more information see: https://numpy.org/doc/stable/reference/generated/numpy.matrix.html\n",
      "  warnings.warn(\n"
     ]
    },
    {
     "data": {
      "text/html": [
       "<style>#sk-container-id-1 {color: black;background-color: white;}#sk-container-id-1 pre{padding: 0;}#sk-container-id-1 div.sk-toggleable {background-color: white;}#sk-container-id-1 label.sk-toggleable__label {cursor: pointer;display: block;width: 100%;margin-bottom: 0;padding: 0.3em;box-sizing: border-box;text-align: center;}#sk-container-id-1 label.sk-toggleable__label-arrow:before {content: \"▸\";float: left;margin-right: 0.25em;color: #696969;}#sk-container-id-1 label.sk-toggleable__label-arrow:hover:before {color: black;}#sk-container-id-1 div.sk-estimator:hover label.sk-toggleable__label-arrow:before {color: black;}#sk-container-id-1 div.sk-toggleable__content {max-height: 0;max-width: 0;overflow: hidden;text-align: left;background-color: #f0f8ff;}#sk-container-id-1 div.sk-toggleable__content pre {margin: 0.2em;color: black;border-radius: 0.25em;background-color: #f0f8ff;}#sk-container-id-1 input.sk-toggleable__control:checked~div.sk-toggleable__content {max-height: 200px;max-width: 100%;overflow: auto;}#sk-container-id-1 input.sk-toggleable__control:checked~label.sk-toggleable__label-arrow:before {content: \"▾\";}#sk-container-id-1 div.sk-estimator input.sk-toggleable__control:checked~label.sk-toggleable__label {background-color: #d4ebff;}#sk-container-id-1 div.sk-label input.sk-toggleable__control:checked~label.sk-toggleable__label {background-color: #d4ebff;}#sk-container-id-1 input.sk-hidden--visually {border: 0;clip: rect(1px 1px 1px 1px);clip: rect(1px, 1px, 1px, 1px);height: 1px;margin: -1px;overflow: hidden;padding: 0;position: absolute;width: 1px;}#sk-container-id-1 div.sk-estimator {font-family: monospace;background-color: #f0f8ff;border: 1px dotted black;border-radius: 0.25em;box-sizing: border-box;margin-bottom: 0.5em;}#sk-container-id-1 div.sk-estimator:hover {background-color: #d4ebff;}#sk-container-id-1 div.sk-parallel-item::after {content: \"\";width: 100%;border-bottom: 1px solid gray;flex-grow: 1;}#sk-container-id-1 div.sk-label:hover label.sk-toggleable__label {background-color: #d4ebff;}#sk-container-id-1 div.sk-serial::before {content: \"\";position: absolute;border-left: 1px solid gray;box-sizing: border-box;top: 0;bottom: 0;left: 50%;z-index: 0;}#sk-container-id-1 div.sk-serial {display: flex;flex-direction: column;align-items: center;background-color: white;padding-right: 0.2em;padding-left: 0.2em;position: relative;}#sk-container-id-1 div.sk-item {position: relative;z-index: 1;}#sk-container-id-1 div.sk-parallel {display: flex;align-items: stretch;justify-content: center;background-color: white;position: relative;}#sk-container-id-1 div.sk-item::before, #sk-container-id-1 div.sk-parallel-item::before {content: \"\";position: absolute;border-left: 1px solid gray;box-sizing: border-box;top: 0;bottom: 0;left: 50%;z-index: -1;}#sk-container-id-1 div.sk-parallel-item {display: flex;flex-direction: column;z-index: 1;position: relative;background-color: white;}#sk-container-id-1 div.sk-parallel-item:first-child::after {align-self: flex-end;width: 50%;}#sk-container-id-1 div.sk-parallel-item:last-child::after {align-self: flex-start;width: 50%;}#sk-container-id-1 div.sk-parallel-item:only-child::after {width: 0;}#sk-container-id-1 div.sk-dashed-wrapped {border: 1px dashed gray;margin: 0 0.4em 0.5em 0.4em;box-sizing: border-box;padding-bottom: 0.4em;background-color: white;}#sk-container-id-1 div.sk-label label {font-family: monospace;font-weight: bold;display: inline-block;line-height: 1.2em;}#sk-container-id-1 div.sk-label-container {text-align: center;}#sk-container-id-1 div.sk-container {/* jupyter's `normalize.less` sets `[hidden] { display: none; }` but bootstrap.min.css set `[hidden] { display: none !important; }` so we also need the `!important` here to be able to override the default hidden behavior on the sphinx rendered scikit-learn.org. See: https://github.com/scikit-learn/scikit-learn/issues/21755 */display: inline-block !important;position: relative;}#sk-container-id-1 div.sk-text-repr-fallback {display: none;}</style><div id=\"sk-container-id-1\" class=\"sk-top-container\"><div class=\"sk-text-repr-fallback\"><pre>RandomForestRegressor(n_estimators=10)</pre><b>In a Jupyter environment, please rerun this cell to show the HTML representation or trust the notebook. <br />On GitHub, the HTML representation is unable to render, please try loading this page with nbviewer.org.</b></div><div class=\"sk-container\" hidden><div class=\"sk-item\"><div class=\"sk-estimator sk-toggleable\"><input class=\"sk-toggleable__control sk-hidden--visually\" id=\"sk-estimator-id-1\" type=\"checkbox\" checked><label for=\"sk-estimator-id-1\" class=\"sk-toggleable__label sk-toggleable__label-arrow\">RandomForestRegressor</label><div class=\"sk-toggleable__content\"><pre>RandomForestRegressor(n_estimators=10)</pre></div></div></div></div></div>"
      ],
      "text/plain": [
       "RandomForestRegressor(n_estimators=10)"
      ]
     },
     "execution_count": 40,
     "metadata": {},
     "output_type": "execute_result"
    }
   ],
   "source": [
    "from sklearn.ensemble import RandomForestRegressor\n",
    "model = RandomForestRegressor(n_estimators = 10)\n",
    "model.fit(X, y)"
   ]
  },
  {
   "cell_type": "markdown",
   "id": "6a2e4a11",
   "metadata": {},
   "source": [
    "### Evaluate model"
   ]
  },
  {
   "cell_type": "code",
   "execution_count": 30,
   "id": "ca340f51",
   "metadata": {},
   "outputs": [
    {
     "data": {
      "text/plain": [
       "(28512, 134)"
      ]
     },
     "execution_count": 30,
     "metadata": {},
     "output_type": "execute_result"
    }
   ],
   "source": [
    "test_X = encoder.preprocess(test_mhso_df)\n",
    "test_X.shape"
   ]
  },
  {
   "cell_type": "markdown",
   "id": "59a7d644",
   "metadata": {},
   "source": [
    "### Predict test value"
   ]
  },
  {
   "cell_type": "code",
   "execution_count": 34,
   "id": "aaaea602",
   "metadata": {},
   "outputs": [
    {
     "name": "stderr",
     "output_type": "stream",
     "text": [
      "C:\\Users\\thamnt36\\Anaconda3\\lib\\site-packages\\sklearn\\utils\\validation.py:727: FutureWarning: np.matrix usage is deprecated in 1.0 and will raise a TypeError in 1.2. Please convert to a numpy array with np.asarray. For more information see: https://numpy.org/doc/stable/reference/generated/numpy.matrix.html\n",
      "  warnings.warn(\n"
     ]
    }
   ],
   "source": [
    "y_pred = model.predict(test_X)\n",
    "y_pred = np.where(y_pred > 0, y_pred, 0)\n",
    "submit = pd.DataFrame(np.hstack([test_df.index.values.reshape(-1, 1), y_pred.reshape(-1, 1)]), columns = ['id', 'sales'])\n",
    "submit.id = submit.id.astype(np.int32)\n",
    "submit.to_csv('submit.csv', index=False)"
   ]
  },
  {
   "cell_type": "code",
   "execution_count": null,
   "id": "29b6f1da",
   "metadata": {},
   "outputs": [],
   "source": [
    "# TODO:\n",
    "# tương quan giữa oil lag feature và sales\n",
    "# thêm sales lag feature\n",
    "# feature selection"
   ]
  },
  {
   "cell_type": "code",
   "execution_count": 40,
   "id": "0de4a2cf",
   "metadata": {
    "scrolled": true
   },
   "outputs": [
    {
     "data": {
      "text/html": [
       "<div>\n",
       "<style scoped>\n",
       "    .dataframe tbody tr th:only-of-type {\n",
       "        vertical-align: middle;\n",
       "    }\n",
       "\n",
       "    .dataframe tbody tr th {\n",
       "        vertical-align: top;\n",
       "    }\n",
       "\n",
       "    .dataframe thead th {\n",
       "        text-align: right;\n",
       "    }\n",
       "</style>\n",
       "<table border=\"1\" class=\"dataframe\">\n",
       "  <thead>\n",
       "    <tr style=\"text-align: right;\">\n",
       "      <th></th>\n",
       "      <th>month_mean</th>\n",
       "      <th>last1month</th>\n",
       "      <th>last2month</th>\n",
       "      <th>last3month</th>\n",
       "      <th>sales</th>\n",
       "    </tr>\n",
       "  </thead>\n",
       "  <tbody>\n",
       "    <tr>\n",
       "      <th>0</th>\n",
       "      <td>94.756667</td>\n",
       "      <td>94.14</td>\n",
       "      <td>93.13</td>\n",
       "      <td>92.12</td>\n",
       "      <td>0.0</td>\n",
       "    </tr>\n",
       "    <tr>\n",
       "      <th>1</th>\n",
       "      <td>94.756667</td>\n",
       "      <td>94.14</td>\n",
       "      <td>93.13</td>\n",
       "      <td>92.12</td>\n",
       "      <td>0.0</td>\n",
       "    </tr>\n",
       "    <tr>\n",
       "      <th>2</th>\n",
       "      <td>94.756667</td>\n",
       "      <td>94.14</td>\n",
       "      <td>93.13</td>\n",
       "      <td>92.12</td>\n",
       "      <td>0.0</td>\n",
       "    </tr>\n",
       "  </tbody>\n",
       "</table>\n",
       "</div>"
      ],
      "text/plain": [
       "   month_mean  last1month  last2month  last3month  sales\n",
       "0   94.756667       94.14       93.13       92.12    0.0\n",
       "1   94.756667       94.14       93.13       92.12    0.0\n",
       "2   94.756667       94.14       93.13       92.12    0.0"
      ]
     },
     "execution_count": 40,
     "metadata": {},
     "output_type": "execute_result"
    }
   ],
   "source": [
    "x = train_X.loc[:, ['month_mean', 'last1month', 'last2month', 'last3month']]\n",
    "x = pd.concat([x, train_y], axis = 1)\n",
    "x.head(3)"
   ]
  },
  {
   "cell_type": "code",
   "execution_count": 41,
   "id": "43718711",
   "metadata": {
    "scrolled": false
   },
   "outputs": [
    {
     "data": {
      "text/plain": [
       "<AxesSubplot:>"
      ]
     },
     "execution_count": 41,
     "metadata": {},
     "output_type": "execute_result"
    },
    {
     "data": {
      "image/png": "[encoded data removed]",
      "text/plain": [
       "<Figure size 432x288 with 2 Axes>"
      ]
     },
     "metadata": {
      "needs_background": "light"
     },
     "output_type": "display_data"
    }
   ],
   "source": [
    "import seaborn as sns\n",
    "sns.heatmap(x.corr(), )"
   ]
  },
  {
   "cell_type": "markdown",
   "id": "ad94c14e",
   "metadata": {},
   "source": [
    "### Ideas"
   ]
  },
  {
   "cell_type": "code",
   "execution_count": 24,
   "id": "c8be6009",
   "metadata": {
    "collapsed": true
   },
   "outputs": [
    {
     "data": {
      "text/plain": [
       "{1: ['BABY CARE'],\n",
       " 9: ['BOOKS'],\n",
       " 10: ['BOOKS'],\n",
       " 11: ['BOOKS'],\n",
       " 12: ['BOOKS'],\n",
       " 13: ['BABY CARE', 'BOOKS'],\n",
       " 14: ['BOOKS', 'LAWN AND GARDEN'],\n",
       " 15: ['BOOKS'],\n",
       " 16: ['BOOKS', 'LADIESWEAR'],\n",
       " 17: ['BOOKS'],\n",
       " 18: ['BOOKS'],\n",
       " 19: ['BOOKS'],\n",
       " 20: ['BOOKS'],\n",
       " 21: ['BOOKS'],\n",
       " 22: ['BOOKS'],\n",
       " 23: ['BABY CARE'],\n",
       " 25: ['LADIESWEAR'],\n",
       " 28: ['BOOKS', 'LADIESWEAR'],\n",
       " 29: ['BOOKS', 'LADIESWEAR'],\n",
       " 30: ['BOOKS', 'LAWN AND GARDEN'],\n",
       " 31: ['BOOKS'],\n",
       " 32: ['BOOKS', 'LADIESWEAR'],\n",
       " 33: ['BOOKS', 'LADIESWEAR'],\n",
       " 34: ['BOOKS'],\n",
       " 35: ['BOOKS', 'LADIESWEAR'],\n",
       " 36: ['BOOKS'],\n",
       " 39: ['BOOKS'],\n",
       " 40: ['BOOKS', 'LADIESWEAR'],\n",
       " 43: ['BOOKS', 'LADIESWEAR'],\n",
       " 44: ['BABY CARE'],\n",
       " 45: ['BABY CARE'],\n",
       " 46: ['BABY CARE'],\n",
       " 47: ['BABY CARE'],\n",
       " 48: ['BABY CARE'],\n",
       " 49: ['BABY CARE'],\n",
       " 50: ['BABY CARE'],\n",
       " 51: ['BABY CARE'],\n",
       " 52: ['BABY CARE', 'BOOKS'],\n",
       " 54: ['BOOKS', 'LADIESWEAR', 'LAWN AND GARDEN']}"
      ]
     },
     "execution_count": 24,
     "metadata": {},
     "output_type": "execute_result"
    }
   ],
   "source": [
    "store_groups = mhso_df.groupby(['store_nbr', 'family'])['sales'].sum()\n",
    "pairs = store_groups.index[store_groups == 0]\n",
    "not_sell = {}\n",
    "for store, item in pairs:\n",
    "    if store not in not_sell.keys():\n",
    "        not_sell[store] = [item]\n",
    "    else:\n",
    "        not_sell[store].append(item)    "
   ]
  },
  {
   "cell_type": "code",
   "execution_count": 25,
   "id": "2ed14281",
   "metadata": {},
   "outputs": [],
   "source": [
    "def isSell(store, item):\n",
    "    not_sell = {1: ['BABY CARE'], 9: ['BOOKS'], 10: ['BOOKS'], 11: ['BOOKS'],\n",
    "     12: ['BOOKS'], 13: ['BABY CARE', 'BOOKS'], 14: ['BOOKS', 'LAWN AND GARDEN'],\n",
    "     15: ['BOOKS'], 16: ['BOOKS', 'LADIESWEAR'], 17: ['BOOKS'], 18: ['BOOKS'],\n",
    "     19: ['BOOKS'], 20: ['BOOKS'], 21: ['BOOKS'], 22: ['BOOKS'], 23: ['BABY CARE'],\n",
    "     25: ['LADIESWEAR'], 28: ['BOOKS', 'LADIESWEAR'], 29: ['BOOKS', 'LADIESWEAR'],\n",
    "     30: ['BOOKS', 'LAWN AND GARDEN'], 31: ['BOOKS'], 32: ['BOOKS', 'LADIESWEAR'],\n",
    "     33: ['BOOKS', 'LADIESWEAR'], 34: ['BOOKS'], 35: ['BOOKS', 'LADIESWEAR'],\n",
    "     36: ['BOOKS'], 39: ['BOOKS'], 40: ['BOOKS', 'LADIESWEAR'], 43: ['BOOKS', 'LADIESWEAR'],\n",
    "     44: ['BABY CARE'], 45: ['BABY CARE'], 46: ['BABY CARE'], 47: ['BABY CARE'],\n",
    "     48: ['BABY CARE'], 49: ['BABY CARE'], 50: ['BABY CARE'], 51: ['BABY CARE'],\n",
    "     52: ['BABY CARE', 'BOOKS'], 54: ['BOOKS', 'LADIESWEAR', 'LAWN AND GARDEN']}\n",
    "    if store in not_sell.keys():\n",
    "        if item in not_sell[store]:\n",
    "            return False\n",
    "    return True"
   ]
  },
  {
   "cell_type": "code",
   "execution_count": 26,
   "id": "d065fd8a",
   "metadata": {},
   "outputs": [
    {
     "data": {
      "text/plain": [
       "False"
      ]
     },
     "execution_count": 26,
     "metadata": {},
     "output_type": "execute_result"
    }
   ],
   "source": [
    "isSell(16, 'BOOKS')"
   ]
  }
 ],
 "metadata": {
  "kernelspec": {
   "display_name": "Python 3 (ipykernel)",
   "language": "python",
   "name": "python3"
  },
  "language_info": {
   "codemirror_mode": {
    "name": "ipython",
    "version": 3
   },
   "file_extension": ".py",
   "mimetype": "text/x-python",
   "name": "python",
   "nbconvert_exporter": "python",
   "pygments_lexer": "ipython3",
   "version": "3.9.12"
  }
 },
 "nbformat": 4,
 "nbformat_minor": 5
}
