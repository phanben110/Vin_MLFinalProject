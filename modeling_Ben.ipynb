{
  "cells": [
    {
      "cell_type": "markdown",
      "metadata": {
        "id": "b9d1256a"
      },
      "source": [
        "# Loading libraries"
      ],
      "id": "b9d1256a"
    },
    {
      "cell_type": "code",
      "execution_count": 2,
      "metadata": {
        "colab": {
          "base_uri": "https://localhost:8080/"
        },
        "id": "0da04af5",
        "outputId": "5e6dd8bd-afe0-4642-fc9c-55c092e71c0f"
      },
      "outputs": [
        {
          "output_type": "stream",
          "name": "stdout",
          "text": [
            "Looking in indexes: https://pypi.org/simple, https://us-python.pkg.dev/colab-wheels/public/simple/\n",
            "Requirement already satisfied: catboost in /usr/local/lib/python3.7/dist-packages (1.0.6)\n",
            "Requirement already satisfied: plotly in /usr/local/lib/python3.7/dist-packages (from catboost) (5.5.0)\n",
            "Requirement already satisfied: scipy in /usr/local/lib/python3.7/dist-packages (from catboost) (1.7.3)\n",
            "Requirement already satisfied: pandas>=0.24.0 in /usr/local/lib/python3.7/dist-packages (from catboost) (1.3.5)\n",
            "Requirement already satisfied: graphviz in /usr/local/lib/python3.7/dist-packages (from catboost) (0.10.1)\n",
            "Requirement already satisfied: matplotlib in /usr/local/lib/python3.7/dist-packages (from catboost) (3.2.2)\n",
            "Requirement already satisfied: numpy>=1.16.0 in /usr/local/lib/python3.7/dist-packages (from catboost) (1.21.6)\n",
            "Requirement already satisfied: six in /usr/local/lib/python3.7/dist-packages (from catboost) (1.15.0)\n",
            "Requirement already satisfied: python-dateutil>=2.7.3 in /usr/local/lib/python3.7/dist-packages (from pandas>=0.24.0->catboost) (2.8.2)\n",
            "Requirement already satisfied: pytz>=2017.3 in /usr/local/lib/python3.7/dist-packages (from pandas>=0.24.0->catboost) (2022.2.1)\n",
            "Requirement already satisfied: cycler>=0.10 in /usr/local/lib/python3.7/dist-packages (from matplotlib->catboost) (0.11.0)\n",
            "Requirement already satisfied: pyparsing!=2.0.4,!=2.1.2,!=2.1.6,>=2.0.1 in /usr/local/lib/python3.7/dist-packages (from matplotlib->catboost) (3.0.9)\n",
            "Requirement already satisfied: kiwisolver>=1.0.1 in /usr/local/lib/python3.7/dist-packages (from matplotlib->catboost) (1.4.4)\n",
            "Requirement already satisfied: typing-extensions in /usr/local/lib/python3.7/dist-packages (from kiwisolver>=1.0.1->matplotlib->catboost) (4.1.1)\n",
            "Requirement already satisfied: tenacity>=6.2.0 in /usr/local/lib/python3.7/dist-packages (from plotly->catboost) (8.0.1)\n"
          ]
        }
      ],
      "source": [
        "%pip install catboost\n",
        "import numpy as np\n",
        "import pandas as pd\n",
        "import matplotlib.pyplot as plt\n",
        "import seaborn as sns\n",
        "import warnings\n",
        "import plotly.express as px\n",
        "from sklearn.model_selection import train_test_split, cross_val_score, TimeSeriesSplit, GridSearchCV, cross_validate\n",
        "from sklearn.metrics import mean_squared_error, make_scorer, mean_squared_log_error, mean_absolute_error, mean_absolute_percentage_error\n",
        "from sklearn.linear_model import LinearRegression\n",
        "import matplotlib.pyplot as plt\n",
        "from sklearn.ensemble import RandomForestRegressor, GradientBoostingRegressor\n",
        "from sklearn.metrics import mean_squared_log_error as msle\n",
        "from tqdm import tqdm\n",
        "from xgboost import XGBRegressor\n",
        "from lightgbm import LGBMRegressor\n",
        "from catboost import Pool, CatBoostRegressor\n",
        "import warnings\n",
        "warnings.filterwarnings('ignore')"
      ],
      "id": "0da04af5"
    },
    {
      "cell_type": "markdown",
      "metadata": {
        "id": "AJ1F1H9fpvql"
      },
      "source": [
        "# Overview modeling"
      ],
      "id": "AJ1F1H9fpvql"
    },
    {
      "cell_type": "markdown",
      "metadata": {
        "id": "xtHi8OXhJxsq"
      },
      "source": [
        "1. Tổng qua về data fit vào training \n",
        "    * Dữ liệu training: 01/1/2013 - 15/8/2017\n",
        "    * Dữ liệu test: 16/8/2017 - 31/8/2017\n",
        "    * Dữ liệu test thì bị thiếu trường thông tin **sale** và đây là trường mà chúng ta cần dự báo \n",
        "2. Chiến lược training của tác giả \n",
        "    * Chúng ta có 54 cửa hàng, và mỗi cửa hàng có 33 mặt hàng \n",
        "    * Tác giả xây dựng một mô hình có thể training mỗi mặt hàng trong từng cửa hàng đó xong rồi đánh giá với tập dữ liệu test. \n",
        "    * Tổng ta có cả hết là 54x33 = 1782 mô hình khác nhau chỗ mỗi mặt hàng tại mỗi cửa hàng \n",
        "3. Chiến lược đánh giá \n",
        "    * Training mô hình xong, đưa ra kết quả dự đoán dựa trên id, trong id đó sẽ đặc trưng cho mặt hàng nào và cửa hàng nào. Từ đó chúng ta có thể lựa chọn được 1 trong số 1782 mô hình để đưa ra được kết quả có độ chính xác cao nhất. \n",
        "    * Kết quả sau khi được training xong được đánh giá bằng cách đưa lên kaggle để hệ thống đánh giá điểm score RMSE \n",
        "    * Một ý tưởng để việc đánh giá có thể diễn ra nhanh hơn, sử dụng y_pred của giải pháp tốt nhất trên kaggle làm ground truth\n",
        "4. Đưa ra một số giải pháp để tuning các parameter \n",
        "    * Thay đổi một số mô hình trong số các mô hình Machine learning cơ bản sau: \n",
        "        * Linear Regression \n",
        "        * KNN\n",
        "        * Random Forest \n",
        "        * ...\n",
        "    * Với mỗi mô hình thay đổi từng tham số parameter \n"
      ],
      "id": "xtHi8OXhJxsq"
    },
    {
      "cell_type": "markdown",
      "metadata": {
        "id": "Stg9Dhm1tgZa"
      },
      "source": [
        "# Support Function "
      ],
      "id": "Stg9Dhm1tgZa"
    },
    {
      "cell_type": "markdown",
      "metadata": {
        "id": "Ca1UXMUEAOwU"
      },
      "source": [
        "### split_func"
      ],
      "id": "Ca1UXMUEAOwU"
    },
    {
      "cell_type": "code",
      "execution_count": 3,
      "metadata": {
        "id": "9eb3d5da"
      },
      "outputs": [],
      "source": [
        "def split_func (orig_df, X, y, test_size, shuffle = False):\n",
        "    # Splitting train and test\n",
        "    idx_train, idx_test = train_test_split(orig_df.index, test_size=test_size, shuffle=shuffle )\n",
        "    X_train, X_test = X.loc[idx_train, :], X.loc[idx_test, :]\n",
        "    y_train, y_test = y.loc[idx_train], y.loc[idx_test]\n",
        "    \n",
        "    return X_train, y_train, X_test, y_test"
      ],
      "id": "9eb3d5da"
    },
    {
      "cell_type": "markdown",
      "metadata": {
        "id": "BN3YWbDkAVtT"
      },
      "source": [
        "### my_split_func"
      ],
      "id": "BN3YWbDkAVtT"
    },
    {
      "cell_type": "code",
      "execution_count": 4,
      "metadata": {
        "id": "85b0e0c2"
      },
      "outputs": [],
      "source": [
        "def my_split_func(df, train_start_date='2013-01-01', train_end_date='2017-08-30',\n",
        "               val_start_date='2017-09-01', val_end_date='2020-01-01'):\n",
        "    train_start_date = (pd.to_datetime(train_start_date) - pd.to_datetime('2013-01-01')).days\n",
        "    train_end_date = (pd.to_datetime(train_end_date) - pd.to_datetime('2013-01-01')).days\n",
        "    val_start_date = (pd.to_datetime(val_start_date) - pd.to_datetime('2013-01-01')).days\n",
        "    val_end_date = (pd.to_datetime(val_end_date) - pd.to_datetime('2013-01-01')).days\n",
        "    \n",
        "    train = df[(df['days_from_2013'] >= train_start_date) & (df['days_from_2013'] <= train_end_date)]\n",
        "    val = df[(df['days_from_2013'] >= val_start_date) & (df['days_from_2013'] <= val_end_date)]\n",
        "    return [train.drop(columns=['sales']), val.drop(columns=['sales']), train['sales'], val['sales']]"
      ],
      "id": "85b0e0c2"
    },
    {
      "cell_type": "markdown",
      "metadata": {
        "id": "BYWB7RdxAboc"
      },
      "source": [
        "### learning_curves"
      ],
      "id": "BYWB7RdxAboc"
    },
    {
      "cell_type": "code",
      "execution_count": 5,
      "metadata": {
        "id": "4uA54PXelbHM"
      },
      "outputs": [],
      "source": [
        "import numpy as np\n",
        "from sklearn.model_selection import train_test_split, GridSearchCV, learning_curve, ShuffleSplit, cross_val_score\n",
        "from sklearn.feature_selection import SelectFromModel\n",
        "from sklearn.metrics import accuracy_score, confusion_matrix, classification_report, f1_score, roc_auc_score\n",
        "\n",
        "import matplotlib.pyplot as plt\n",
        "\n",
        "from sklearn.ensemble import RandomForestClassifier \n",
        "from sklearn.tree import DecisionTreeClassifier \n",
        "\n",
        "random_state = 42\n",
        "%pwd\n",
        "### Bundling our previous work into a function ###\n",
        "def learning_curves(estimator, X_train, y_train):\n",
        "    train_sizes, train_scores, validation_scores = learning_curve( estimator, X_train, y_train, cv = 5, scoring = 'neg_mean_squared_error')\n",
        "    train_scores_mean = -train_scores.mean(axis = 1)\n",
        "    validation_scores_mean = -validation_scores.mean(axis = 1)\n",
        "    \n",
        "    train_scores_mean = np.mean(train_scores, axis=1)\n",
        "    train_scores_std = np.std(train_scores, axis=1)\n",
        "    test_scores_mean = np.mean(test_scores, axis=1)\n",
        "    test_scores_std = np.std(test_scores, axis=1)\n",
        "\n",
        "    plt.plot(train_sizes, train_scores_mean, label = 'Training error')\n",
        "    plt.plot(train_sizes, validation_scores_mean, label = 'Validation error')\n",
        "\n",
        "    plt.ylabel('MSE', fontsize = 14)\n",
        "    plt.xlabel('Training set size', fontsize = 14)\n",
        "    title = 'Learning curves for a ' + str(estimator).split('(')[0] + ' model'\n",
        "    plt.title(title, fontsize = 18, y = 1.03)\n",
        "    plt.legend()\n",
        "\n",
        "\n",
        "    train_sizes, train_scores, test_scores = learning_curve(\n",
        "        estimator, X, y, cv=cv, n_jobs=n_jobs, train_sizes=train_sizes, scoring=\"f1\")\n",
        "    # Lấy trung bình cộng các giá trị output của các fold \n",
        "    train_scores_mean = np.mean(train_scores, axis=1)\n",
        "    train_scores_std = np.std(train_scores, axis=1)\n",
        "    test_scores_mean = np.mean(test_scores, axis=1)\n",
        "    test_scores_std = np.std(test_scores, axis=1)\n",
        "    \n",
        "    # thực hiện vẽ các giá trị số lên đồ thị với màu vừa được random \n",
        "    plt.fill_between(train_sizes, test_scores_mean - test_scores_std,\n",
        "                     test_scores_mean + test_scores_std, alpha=0.1, color='r')\n",
        "    plt.fill_between(train_sizes, train_scores_mean - train_scores_std,\n",
        "                     train_scores_mean + train_scores_std, alpha=0.1, color='g')\n",
        "    plt.plot(train_sizes, test_scores_mean, 'o-', color='r',\n",
        "             label=label_curve['test'])\n",
        "    plt.plot(train_sizes, train_scores_mean, 'o-', color='g',\n",
        "             label=label_curve['train'])\n",
        "\n",
        "    plt.legend(loc=\"best\")\n",
        "    return plt "
      ],
      "id": "4uA54PXelbHM"
    },
    {
      "cell_type": "markdown",
      "metadata": {
        "id": "VlF9I3TAAhDf"
      },
      "source": [
        "### Grid_Search_CV_RFR"
      ],
      "id": "VlF9I3TAAhDf"
    },
    {
      "cell_type": "code",
      "execution_count": 6,
      "metadata": {
        "id": "fUYGswYHmew0"
      },
      "outputs": [],
      "source": [
        "def Grid_Search_CV_RFR(X_train, y_train):\n",
        "    from sklearn.model_selection import GridSearchCV\n",
        "    from sklearn.model_selection import ShuffleSplit\n",
        "    from sklearn.ensemble import RandomForestRegressor\n",
        "\n",
        "    estimator = RandomForestRegressor()\n",
        "    param_grid = { \n",
        "            \"n_estimators\"      : [10,20,30],\n",
        "            \"max_features\"      : [\"auto\", \"sqrt\", \"log2\"],\n",
        "            \"min_samples_split\" : [2,4,8],\n",
        "            \"bootstrap\": [True, False],\n",
        "            }\n",
        "\n",
        "    grid = GridSearchCV(estimator, param_grid, n_jobs=-1, cv=5)\n",
        "\n",
        "    grid.fit(X_train, y_train)\n",
        "\n",
        "    return grid.best_score_ , grid.best_params_\n",
        "\n",
        "def RFR(X_train, X_test, y_train, y_test, best_params):\n",
        "    from sklearn.ensemble import RandomForestRegressor\n",
        "    estimator = RandomForestRegressor(n_jobs=-1).set_params(**best_params)\n",
        "    estimator.fit(X_train,y_train)\n",
        "    y_predict = estimator.predict(X_test)\n",
        "    print (\"R2 score:\",r2(y_test,y_predict))\n",
        "    return y_test,y_predict\n"
      ],
      "id": "fUYGswYHmew0"
    },
    {
      "cell_type": "markdown",
      "metadata": {
        "id": "JCPMv_cgAnMM"
      },
      "source": [
        "### get_weights_distribution"
      ],
      "id": "JCPMv_cgAnMM"
    },
    {
      "cell_type": "code",
      "execution_count": 7,
      "metadata": {
        "id": "5jyLNj7gw-GC"
      },
      "outputs": [],
      "source": [
        "def get_weights_distribution(tp, dates):\n",
        "    if tp == 1:\n",
        "        return np.ones(dates.shape)\n",
        "    if tp == 2:\n",
        "        return np.exp((400 - (pd.to_datetime('2017-08-16') - pd.to_datetime(dates)).days) / 100)\n",
        "    if tp == 3:\n",
        "        return np.exp((400 - (pd.to_datetime('2017-08-16') - pd.to_datetime(dates)).days) / 200)\n",
        "    if tp == 4:\n",
        "        return np.exp((400 - (pd.to_datetime('2017-08-16') - pd.to_datetime(dates)).days) / 300)\n",
        "    if tp == 5:\n",
        "        return np.exp((400 - (pd.to_datetime('2017-08-16') - pd.to_datetime(dates)).days) / 400)"
      ],
      "id": "5jyLNj7gw-GC"
    },
    {
      "cell_type": "code",
      "execution_count": 8,
      "metadata": {
        "id": "W7j5T987scV9"
      },
      "outputs": [],
      "source": [
        "def plot_learning_curve(estimator, title, label_curve, X, y, ylim=None, cv=None,\n",
        "                        n_jobs=1, train_sizes=np.linspace(.1, 1.0, 5), new_plot=False,\n",
        "                        idx_color=0):\n",
        "    # Khởi tạo bức ảnh mới với thư viện plot lib \n",
        "    if new_plot:\n",
        "        # plt.figure()\n",
        "        plt.title(title)\n",
        "        plt.xlabel(\"Training examples\")\n",
        "        plt.ylabel(\"Score\")\n",
        "        plt.grid()\n",
        "    # chú thích nếu có \n",
        "    if ylim is not None:\n",
        "        plt.ylim(*ylim)\n",
        "        \n",
        "    # thực hiện training model, ghi nhận các giá trị trong quá trình training \n",
        "    # cv = số fold cross validate, số phần bộ dữ liệu được chia để thực hiện training testing.\n",
        "    # train_sizes = mảng tỉ lệ, các tỉ lệ được hệ thống chọn làm điểm dừng để thực hiện 1 testing \n",
        "    #  train_sizes = [0.3, 0.5] => hệ thống lấy 30 % dữ liệu để train và thực hiện test, tương tự 50 % ..\n",
        "    # scoring = hàm mục tiêu để đánh giá chất lượng mô hình và vẽ lên đồ thị \n",
        "    train_sizes, train_scores, test_scores = learning_curve(\n",
        "        estimator, X, y, cv=cv, n_jobs=n_jobs, train_sizes=train_sizes, scoring = 'neg_mean_squared_error')\n",
        "    # Lấy trung bình cộng các giá trị output của các fold \n",
        "    train_scores_mean = -np.mean(train_scores, axis=1)\n",
        "    train_scores_std = -np.std(train_scores, axis=1)\n",
        "    test_scores_mean = -np.mean(test_scores, axis=1)\n",
        "    test_scores_std = -np.std(test_scores, axis=1)\n",
        "    plt.figure(figsize = (12,9))\n",
        "    \n",
        "    # thực hiện vẽ các giá trị số lên đồ thị với màu vừa được random \n",
        "    plt.fill_between(train_sizes, test_scores_mean - test_scores_std,\n",
        "                     test_scores_mean + test_scores_std, alpha=0.1, color='r')\n",
        "    plt.fill_between(train_sizes, train_scores_mean - train_scores_std,\n",
        "                     train_scores_mean + train_scores_std, alpha=0.1, color='g')\n",
        "    plt.plot(train_sizes, test_scores_mean, 'o-', color='r',\n",
        "             label=label_curve['test'])\n",
        "    plt.plot(train_sizes, train_scores_mean, 'o-', color='g',\n",
        "             label=label_curve['train'])\n",
        "\n",
        "    plt.legend(loc=\"best\")\n",
        "    return plt "
      ],
      "id": "W7j5T987scV9"
    },
    {
      "cell_type": "markdown",
      "metadata": {
        "id": "QFgOImebEXjJ"
      },
      "source": [
        "### Str_to_num"
      ],
      "id": "QFgOImebEXjJ"
    },
    {
      "cell_type": "code",
      "execution_count": 9,
      "metadata": {
        "id": "tKPzG7XZEWnh"
      },
      "outputs": [],
      "source": [
        "def str_to_num(data):\n",
        "    data1 = data.dropna().unique()\n",
        "    lis = range(1,len(data1)+1)\n",
        "    zipper = dict(zip(data1,lis))\n",
        "    print(zipper)\n",
        "    liss = []\n",
        "    for ele in data:\n",
        "        x = zipper[ele]\n",
        "        liss.append(x)\n",
        "    return liss"
      ],
      "id": "tKPzG7XZEWnh"
    },
    {
      "cell_type": "markdown",
      "metadata": {
        "id": "323718ee"
      },
      "source": [
        "# Load data"
      ],
      "id": "323718ee"
    },
    {
      "cell_type": "code",
      "execution_count": 10,
      "metadata": {
        "colab": {
          "base_uri": "https://localhost:8080/"
        },
        "id": "SZMUyi6G354B",
        "outputId": "f44111f6-a12d-4e17-dac8-9e7b643ff70e"
      },
      "outputs": [
        {
          "output_type": "stream",
          "name": "stdout",
          "text": [
            "Drive already mounted at /content/gdrive; to attempt to forcibly remount, call drive.mount(\"/content/gdrive\", force_remount=True).\n"
          ]
        }
      ],
      "source": [
        "from google.colab import drive\n",
        "drive.mount('/content/gdrive')"
      ],
      "id": "SZMUyi6G354B"
    },
    {
      "cell_type": "code",
      "execution_count": 11,
      "metadata": {
        "colab": {
          "base_uri": "https://localhost:8080/",
          "height": 693
        },
        "id": "055feeca",
        "outputId": "59698b8f-a9e3-49fd-be40-69329e50fdc1"
      },
      "outputs": [
        {
          "output_type": "execute_result",
          "data": {
            "text/plain": [
              "                                      id  sales  onpromotion  cluster  \\\n",
              "store_nbr family     date                                               \n",
              "1         AUTOMOTIVE 2016-06-01  2216808    3.0            0       13   \n",
              "                     2016-06-02  2218590    1.0            0       13   \n",
              "                     2016-06-03  2220372    4.0            0       13   \n",
              "                     2016-06-04  2222154    9.0            0       13   \n",
              "                     2016-06-05  2223936    2.0            0       13   \n",
              "...                                  ...    ...          ...      ...   \n",
              "54        SEAFOOD    2017-08-27  3022139    NaN            0        3   \n",
              "                     2017-08-28  3023921    NaN            0        3   \n",
              "                     2017-08-29  3025703    NaN            0        3   \n",
              "                     2017-08-30  3027485    NaN            0        3   \n",
              "                     2017-08-31  3029267    NaN            0        3   \n",
              "\n",
              "                                 uniquestore  newstore  firstday  isclosed  \\\n",
              "store_nbr family     date                                                    \n",
              "1         AUTOMOTIVE 2016-06-01            0         0         0         0   \n",
              "                     2016-06-02            0         0         0         0   \n",
              "                     2016-06-03            0         0         0         0   \n",
              "                     2016-06-04            0         0         0         0   \n",
              "                     2016-06-05            0         0         0         0   \n",
              "...                                      ...       ...       ...       ...   \n",
              "54        SEAFOOD    2017-08-27            1         0         0         0   \n",
              "                     2017-08-28            1         0         0         0   \n",
              "                     2017-08-29            1         0         0         0   \n",
              "                     2017-08-30            1         0         0         0   \n",
              "                     2017-08-31            1         0         0         0   \n",
              "\n",
              "                                 dcoilwtico  lagoil_1_dcoilwtico  ...  \\\n",
              "store_nbr family     date                                         ...   \n",
              "1         AUTOMOTIVE 2016-06-01   49.070000            49.100000  ...   \n",
              "                     2016-06-02   49.140000            49.070000  ...   \n",
              "                     2016-06-03   48.690000            49.140000  ...   \n",
              "                     2016-06-04   49.030000            48.690000  ...   \n",
              "                     2016-06-05   49.370000            49.030000  ...   \n",
              "...                                     ...                  ...  ...   \n",
              "54        SEAFOOD    2017-08-27   46.816667            47.233333  ...   \n",
              "                     2017-08-28   46.400000            46.816667  ...   \n",
              "                     2017-08-29   46.460000            46.400000  ...   \n",
              "                     2017-08-30   45.960000            46.460000  ...   \n",
              "                     2017-08-31   47.260000            45.960000  ...   \n",
              "\n",
              "                                 trans_lagged365  tag_sex  tag_luxury  \\\n",
              "store_nbr family     date                                               \n",
              "1         AUTOMOTIVE 2016-06-01                0        4           7   \n",
              "                     2016-06-02                0        4           7   \n",
              "                     2016-06-03                0        4           7   \n",
              "                     2016-06-04                0        4           7   \n",
              "                     2016-06-05                0        4           7   \n",
              "...                                          ...      ...         ...   \n",
              "54        SEAFOOD    2017-08-27                0       -5           8   \n",
              "                     2017-08-28                0       -5           8   \n",
              "                     2017-08-29                0       -5           8   \n",
              "                     2017-08-30                0       -5           8   \n",
              "                     2017-08-31                0       -5           8   \n",
              "\n",
              "                                 tag_age_mean  tag_age_var  tag_type_family  \\\n",
              "store_nbr family     date                                                     \n",
              "1         AUTOMOTIVE 2016-06-01            30           10                1   \n",
              "                     2016-06-02            30           10                1   \n",
              "                     2016-06-03            30           10                1   \n",
              "                     2016-06-04            30           10                1   \n",
              "                     2016-06-05            30           10                1   \n",
              "...                                       ...          ...              ...   \n",
              "54        SEAFOOD    2017-08-27            40           20                0   \n",
              "                     2017-08-28            40           20                0   \n",
              "                     2017-08-29            40           20                0   \n",
              "                     2017-08-30            40           20                0   \n",
              "                     2017-08-31            40           20                0   \n",
              "\n",
              "                                 tag_type_food  tag_type_other  tag_age_min  \\\n",
              "store_nbr family     date                                                     \n",
              "1         AUTOMOTIVE 2016-06-01              0               0           20   \n",
              "                     2016-06-02              0               0           20   \n",
              "                     2016-06-03              0               0           20   \n",
              "                     2016-06-04              0               0           20   \n",
              "                     2016-06-05              0               0           20   \n",
              "...                                        ...             ...          ...   \n",
              "54        SEAFOOD    2017-08-27              1               0           20   \n",
              "                     2017-08-28              1               0           20   \n",
              "                     2017-08-29              1               0           20   \n",
              "                     2017-08-30              1               0           20   \n",
              "                     2017-08-31              1               0           20   \n",
              "\n",
              "                                 tag_age_max  \n",
              "store_nbr family     date                     \n",
              "1         AUTOMOTIVE 2016-06-01           40  \n",
              "                     2016-06-02           40  \n",
              "                     2016-06-03           40  \n",
              "                     2016-06-04           40  \n",
              "                     2016-06-05           40  \n",
              "...                                      ...  \n",
              "54        SEAFOOD    2017-08-27           60  \n",
              "                     2017-08-28           60  \n",
              "                     2017-08-29           60  \n",
              "                     2017-08-30           60  \n",
              "                     2017-08-31           60  \n",
              "\n",
              "[812592 rows x 160 columns]"
            ],
            "text/html": [
              "\n",
              "  <div id=\"df-3ec82d3c-1367-4925-874b-caf2a2239cad\">\n",
              "    <div class=\"colab-df-container\">\n",
              "      <div>\n",
              "<style scoped>\n",
              "    .dataframe tbody tr th:only-of-type {\n",
              "        vertical-align: middle;\n",
              "    }\n",
              "\n",
              "    .dataframe tbody tr th {\n",
              "        vertical-align: top;\n",
              "    }\n",
              "\n",
              "    .dataframe thead th {\n",
              "        text-align: right;\n",
              "    }\n",
              "</style>\n",
              "<table border=\"1\" class=\"dataframe\">\n",
              "  <thead>\n",
              "    <tr style=\"text-align: right;\">\n",
              "      <th></th>\n",
              "      <th></th>\n",
              "      <th></th>\n",
              "      <th>id</th>\n",
              "      <th>sales</th>\n",
              "      <th>onpromotion</th>\n",
              "      <th>cluster</th>\n",
              "      <th>uniquestore</th>\n",
              "      <th>newstore</th>\n",
              "      <th>firstday</th>\n",
              "      <th>isclosed</th>\n",
              "      <th>dcoilwtico</th>\n",
              "      <th>lagoil_1_dcoilwtico</th>\n",
              "      <th>...</th>\n",
              "      <th>trans_lagged365</th>\n",
              "      <th>tag_sex</th>\n",
              "      <th>tag_luxury</th>\n",
              "      <th>tag_age_mean</th>\n",
              "      <th>tag_age_var</th>\n",
              "      <th>tag_type_family</th>\n",
              "      <th>tag_type_food</th>\n",
              "      <th>tag_type_other</th>\n",
              "      <th>tag_age_min</th>\n",
              "      <th>tag_age_max</th>\n",
              "    </tr>\n",
              "    <tr>\n",
              "      <th>store_nbr</th>\n",
              "      <th>family</th>\n",
              "      <th>date</th>\n",
              "      <th></th>\n",
              "      <th></th>\n",
              "      <th></th>\n",
              "      <th></th>\n",
              "      <th></th>\n",
              "      <th></th>\n",
              "      <th></th>\n",
              "      <th></th>\n",
              "      <th></th>\n",
              "      <th></th>\n",
              "      <th></th>\n",
              "      <th></th>\n",
              "      <th></th>\n",
              "      <th></th>\n",
              "      <th></th>\n",
              "      <th></th>\n",
              "      <th></th>\n",
              "      <th></th>\n",
              "      <th></th>\n",
              "      <th></th>\n",
              "      <th></th>\n",
              "    </tr>\n",
              "  </thead>\n",
              "  <tbody>\n",
              "    <tr>\n",
              "      <th rowspan=\"5\" valign=\"top\">1</th>\n",
              "      <th rowspan=\"5\" valign=\"top\">AUTOMOTIVE</th>\n",
              "      <th>2016-06-01</th>\n",
              "      <td>2216808</td>\n",
              "      <td>3.0</td>\n",
              "      <td>0</td>\n",
              "      <td>13</td>\n",
              "      <td>0</td>\n",
              "      <td>0</td>\n",
              "      <td>0</td>\n",
              "      <td>0</td>\n",
              "      <td>49.070000</td>\n",
              "      <td>49.100000</td>\n",
              "      <td>...</td>\n",
              "      <td>0</td>\n",
              "      <td>4</td>\n",
              "      <td>7</td>\n",
              "      <td>30</td>\n",
              "      <td>10</td>\n",
              "      <td>1</td>\n",
              "      <td>0</td>\n",
              "      <td>0</td>\n",
              "      <td>20</td>\n",
              "      <td>40</td>\n",
              "    </tr>\n",
              "    <tr>\n",
              "      <th>2016-06-02</th>\n",
              "      <td>2218590</td>\n",
              "      <td>1.0</td>\n",
              "      <td>0</td>\n",
              "      <td>13</td>\n",
              "      <td>0</td>\n",
              "      <td>0</td>\n",
              "      <td>0</td>\n",
              "      <td>0</td>\n",
              "      <td>49.140000</td>\n",
              "      <td>49.070000</td>\n",
              "      <td>...</td>\n",
              "      <td>0</td>\n",
              "      <td>4</td>\n",
              "      <td>7</td>\n",
              "      <td>30</td>\n",
              "      <td>10</td>\n",
              "      <td>1</td>\n",
              "      <td>0</td>\n",
              "      <td>0</td>\n",
              "      <td>20</td>\n",
              "      <td>40</td>\n",
              "    </tr>\n",
              "    <tr>\n",
              "      <th>2016-06-03</th>\n",
              "      <td>2220372</td>\n",
              "      <td>4.0</td>\n",
              "      <td>0</td>\n",
              "      <td>13</td>\n",
              "      <td>0</td>\n",
              "      <td>0</td>\n",
              "      <td>0</td>\n",
              "      <td>0</td>\n",
              "      <td>48.690000</td>\n",
              "      <td>49.140000</td>\n",
              "      <td>...</td>\n",
              "      <td>0</td>\n",
              "      <td>4</td>\n",
              "      <td>7</td>\n",
              "      <td>30</td>\n",
              "      <td>10</td>\n",
              "      <td>1</td>\n",
              "      <td>0</td>\n",
              "      <td>0</td>\n",
              "      <td>20</td>\n",
              "      <td>40</td>\n",
              "    </tr>\n",
              "    <tr>\n",
              "      <th>2016-06-04</th>\n",
              "      <td>2222154</td>\n",
              "      <td>9.0</td>\n",
              "      <td>0</td>\n",
              "      <td>13</td>\n",
              "      <td>0</td>\n",
              "      <td>0</td>\n",
              "      <td>0</td>\n",
              "      <td>0</td>\n",
              "      <td>49.030000</td>\n",
              "      <td>48.690000</td>\n",
              "      <td>...</td>\n",
              "      <td>0</td>\n",
              "      <td>4</td>\n",
              "      <td>7</td>\n",
              "      <td>30</td>\n",
              "      <td>10</td>\n",
              "      <td>1</td>\n",
              "      <td>0</td>\n",
              "      <td>0</td>\n",
              "      <td>20</td>\n",
              "      <td>40</td>\n",
              "    </tr>\n",
              "    <tr>\n",
              "      <th>2016-06-05</th>\n",
              "      <td>2223936</td>\n",
              "      <td>2.0</td>\n",
              "      <td>0</td>\n",
              "      <td>13</td>\n",
              "      <td>0</td>\n",
              "      <td>0</td>\n",
              "      <td>0</td>\n",
              "      <td>0</td>\n",
              "      <td>49.370000</td>\n",
              "      <td>49.030000</td>\n",
              "      <td>...</td>\n",
              "      <td>0</td>\n",
              "      <td>4</td>\n",
              "      <td>7</td>\n",
              "      <td>30</td>\n",
              "      <td>10</td>\n",
              "      <td>1</td>\n",
              "      <td>0</td>\n",
              "      <td>0</td>\n",
              "      <td>20</td>\n",
              "      <td>40</td>\n",
              "    </tr>\n",
              "    <tr>\n",
              "      <th>...</th>\n",
              "      <th>...</th>\n",
              "      <th>...</th>\n",
              "      <td>...</td>\n",
              "      <td>...</td>\n",
              "      <td>...</td>\n",
              "      <td>...</td>\n",
              "      <td>...</td>\n",
              "      <td>...</td>\n",
              "      <td>...</td>\n",
              "      <td>...</td>\n",
              "      <td>...</td>\n",
              "      <td>...</td>\n",
              "      <td>...</td>\n",
              "      <td>...</td>\n",
              "      <td>...</td>\n",
              "      <td>...</td>\n",
              "      <td>...</td>\n",
              "      <td>...</td>\n",
              "      <td>...</td>\n",
              "      <td>...</td>\n",
              "      <td>...</td>\n",
              "      <td>...</td>\n",
              "      <td>...</td>\n",
              "    </tr>\n",
              "    <tr>\n",
              "      <th rowspan=\"5\" valign=\"top\">54</th>\n",
              "      <th rowspan=\"5\" valign=\"top\">SEAFOOD</th>\n",
              "      <th>2017-08-27</th>\n",
              "      <td>3022139</td>\n",
              "      <td>NaN</td>\n",
              "      <td>0</td>\n",
              "      <td>3</td>\n",
              "      <td>1</td>\n",
              "      <td>0</td>\n",
              "      <td>0</td>\n",
              "      <td>0</td>\n",
              "      <td>46.816667</td>\n",
              "      <td>47.233333</td>\n",
              "      <td>...</td>\n",
              "      <td>0</td>\n",
              "      <td>-5</td>\n",
              "      <td>8</td>\n",
              "      <td>40</td>\n",
              "      <td>20</td>\n",
              "      <td>0</td>\n",
              "      <td>1</td>\n",
              "      <td>0</td>\n",
              "      <td>20</td>\n",
              "      <td>60</td>\n",
              "    </tr>\n",
              "    <tr>\n",
              "      <th>2017-08-28</th>\n",
              "      <td>3023921</td>\n",
              "      <td>NaN</td>\n",
              "      <td>0</td>\n",
              "      <td>3</td>\n",
              "      <td>1</td>\n",
              "      <td>0</td>\n",
              "      <td>0</td>\n",
              "      <td>0</td>\n",
              "      <td>46.400000</td>\n",
              "      <td>46.816667</td>\n",
              "      <td>...</td>\n",
              "      <td>0</td>\n",
              "      <td>-5</td>\n",
              "      <td>8</td>\n",
              "      <td>40</td>\n",
              "      <td>20</td>\n",
              "      <td>0</td>\n",
              "      <td>1</td>\n",
              "      <td>0</td>\n",
              "      <td>20</td>\n",
              "      <td>60</td>\n",
              "    </tr>\n",
              "    <tr>\n",
              "      <th>2017-08-29</th>\n",
              "      <td>3025703</td>\n",
              "      <td>NaN</td>\n",
              "      <td>0</td>\n",
              "      <td>3</td>\n",
              "      <td>1</td>\n",
              "      <td>0</td>\n",
              "      <td>0</td>\n",
              "      <td>0</td>\n",
              "      <td>46.460000</td>\n",
              "      <td>46.400000</td>\n",
              "      <td>...</td>\n",
              "      <td>0</td>\n",
              "      <td>-5</td>\n",
              "      <td>8</td>\n",
              "      <td>40</td>\n",
              "      <td>20</td>\n",
              "      <td>0</td>\n",
              "      <td>1</td>\n",
              "      <td>0</td>\n",
              "      <td>20</td>\n",
              "      <td>60</td>\n",
              "    </tr>\n",
              "    <tr>\n",
              "      <th>2017-08-30</th>\n",
              "      <td>3027485</td>\n",
              "      <td>NaN</td>\n",
              "      <td>0</td>\n",
              "      <td>3</td>\n",
              "      <td>1</td>\n",
              "      <td>0</td>\n",
              "      <td>0</td>\n",
              "      <td>0</td>\n",
              "      <td>45.960000</td>\n",
              "      <td>46.460000</td>\n",
              "      <td>...</td>\n",
              "      <td>0</td>\n",
              "      <td>-5</td>\n",
              "      <td>8</td>\n",
              "      <td>40</td>\n",
              "      <td>20</td>\n",
              "      <td>0</td>\n",
              "      <td>1</td>\n",
              "      <td>0</td>\n",
              "      <td>20</td>\n",
              "      <td>60</td>\n",
              "    </tr>\n",
              "    <tr>\n",
              "      <th>2017-08-31</th>\n",
              "      <td>3029267</td>\n",
              "      <td>NaN</td>\n",
              "      <td>0</td>\n",
              "      <td>3</td>\n",
              "      <td>1</td>\n",
              "      <td>0</td>\n",
              "      <td>0</td>\n",
              "      <td>0</td>\n",
              "      <td>47.260000</td>\n",
              "      <td>45.960000</td>\n",
              "      <td>...</td>\n",
              "      <td>0</td>\n",
              "      <td>-5</td>\n",
              "      <td>8</td>\n",
              "      <td>40</td>\n",
              "      <td>20</td>\n",
              "      <td>0</td>\n",
              "      <td>1</td>\n",
              "      <td>0</td>\n",
              "      <td>20</td>\n",
              "      <td>60</td>\n",
              "    </tr>\n",
              "  </tbody>\n",
              "</table>\n",
              "<p>812592 rows × 160 columns</p>\n",
              "</div>\n",
              "      <button class=\"colab-df-convert\" onclick=\"convertToInteractive('df-3ec82d3c-1367-4925-874b-caf2a2239cad')\"\n",
              "              title=\"Convert this dataframe to an interactive table.\"\n",
              "              style=\"display:none;\">\n",
              "        \n",
              "  <svg xmlns=\"http://www.w3.org/2000/svg\" height=\"24px\"viewBox=\"0 0 24 24\"\n",
              "       width=\"24px\">\n",
              "    <path d=\"M0 0h24v24H0V0z\" fill=\"none\"/>\n",
              "    <path d=\"M18.56 5.44l.94 2.06.94-2.06 2.06-.94-2.06-.94-.94-2.06-.94 2.06-2.06.94zm-11 1L8.5 8.5l.94-2.06 2.06-.94-2.06-.94L8.5 2.5l-.94 2.06-2.06.94zm10 10l.94 2.06.94-2.06 2.06-.94-2.06-.94-.94-2.06-.94 2.06-2.06.94z\"/><path d=\"M17.41 7.96l-1.37-1.37c-.4-.4-.92-.59-1.43-.59-.52 0-1.04.2-1.43.59L10.3 9.45l-7.72 7.72c-.78.78-.78 2.05 0 2.83L4 21.41c.39.39.9.59 1.41.59.51 0 1.02-.2 1.41-.59l7.78-7.78 2.81-2.81c.8-.78.8-2.07 0-2.86zM5.41 20L4 18.59l7.72-7.72 1.47 1.35L5.41 20z\"/>\n",
              "  </svg>\n",
              "      </button>\n",
              "      \n",
              "  <style>\n",
              "    .colab-df-container {\n",
              "      display:flex;\n",
              "      flex-wrap:wrap;\n",
              "      gap: 12px;\n",
              "    }\n",
              "\n",
              "    .colab-df-convert {\n",
              "      background-color: #E8F0FE;\n",
              "      border: none;\n",
              "      border-radius: 50%;\n",
              "      cursor: pointer;\n",
              "      display: none;\n",
              "      fill: #1967D2;\n",
              "      height: 32px;\n",
              "      padding: 0 0 0 0;\n",
              "      width: 32px;\n",
              "    }\n",
              "\n",
              "    .colab-df-convert:hover {\n",
              "      background-color: #E2EBFA;\n",
              "      box-shadow: 0px 1px 2px rgba(60, 64, 67, 0.3), 0px 1px 3px 1px rgba(60, 64, 67, 0.15);\n",
              "      fill: #174EA6;\n",
              "    }\n",
              "\n",
              "    [theme=dark] .colab-df-convert {\n",
              "      background-color: #3B4455;\n",
              "      fill: #D2E3FC;\n",
              "    }\n",
              "\n",
              "    [theme=dark] .colab-df-convert:hover {\n",
              "      background-color: #434B5C;\n",
              "      box-shadow: 0px 1px 3px 1px rgba(0, 0, 0, 0.15);\n",
              "      filter: drop-shadow(0px 1px 2px rgba(0, 0, 0, 0.3));\n",
              "      fill: #FFFFFF;\n",
              "    }\n",
              "  </style>\n",
              "\n",
              "      <script>\n",
              "        const buttonEl =\n",
              "          document.querySelector('#df-3ec82d3c-1367-4925-874b-caf2a2239cad button.colab-df-convert');\n",
              "        buttonEl.style.display =\n",
              "          google.colab.kernel.accessAllowed ? 'block' : 'none';\n",
              "\n",
              "        async function convertToInteractive(key) {\n",
              "          const element = document.querySelector('#df-3ec82d3c-1367-4925-874b-caf2a2239cad');\n",
              "          const dataTable =\n",
              "            await google.colab.kernel.invokeFunction('convertToInteractive',\n",
              "                                                     [key], {});\n",
              "          if (!dataTable) return;\n",
              "\n",
              "          const docLinkHtml = 'Like what you see? Visit the ' +\n",
              "            '<a target=\"_blank\" href=https://colab.research.google.com/notebooks/data_table.ipynb>data table notebook</a>'\n",
              "            + ' to learn more about interactive tables.';\n",
              "          element.innerHTML = '';\n",
              "          dataTable['output_type'] = 'display_data';\n",
              "          await google.colab.output.renderOutput(dataTable, element);\n",
              "          const docLink = document.createElement('div');\n",
              "          docLink.innerHTML = docLinkHtml;\n",
              "          element.appendChild(docLink);\n",
              "        }\n",
              "      </script>\n",
              "    </div>\n",
              "  </div>\n",
              "  "
            ]
          },
          "metadata": {},
          "execution_count": 11
        }
      ],
      "source": [
        "df = pd.read_csv('/content/gdrive/MyDrive/VinBigData/Machine learning/Project/data.csv', index_col = [0,1,2] ) \n",
        "df"
      ],
      "id": "055feeca"
    },
    {
      "cell_type": "code",
      "execution_count": 12,
      "metadata": {
        "id": "7bd5adf1"
      },
      "outputs": [],
      "source": [
        "good_p = [{'criterion': 'squared_error',\n",
        "  'bootstrap': 'False',\n",
        "  'max_depth': 9733,\n",
        "  'max_features': 'auto',\n",
        "  'max_leaf_nodes': 4730,\n",
        "  'n_estimators': 159,\n",
        "  'min_samples_split': 3,\n",
        "  'min_samples_leaf': 8},\n",
        " {'criterion': 'squared_error',\n",
        "  'bootstrap': 'False',\n",
        "  'max_depth': 3637,\n",
        "  'max_features': 'auto',\n",
        "  'max_leaf_nodes': 5844,\n",
        "  'n_estimators': 927,\n",
        "  'min_samples_split': 19,\n",
        "  'min_samples_leaf': 9},\n",
        " {'criterion': 'squared_error',\n",
        "  'bootstrap': 'False',\n",
        "  'max_depth': 5062,\n",
        "  'max_features': 'auto',\n",
        "  'max_leaf_nodes': 5517,\n",
        "  'n_estimators': 802,\n",
        "  'min_samples_split': 20,\n",
        "  'min_samples_leaf': 8},\n",
        " {'criterion': 'squared_error',\n",
        "  'bootstrap': 'False',\n",
        "  'max_depth': 3464,\n",
        "  'max_features': 'auto',\n",
        "  'max_leaf_nodes': 6557,\n",
        "  'n_estimators': 831,\n",
        "  'min_samples_split': 18,\n",
        "  'min_samples_leaf': 9},\n",
        " {'criterion': 'squared_error',\n",
        "  'bootstrap': 'False',\n",
        "  'max_depth': 9643,\n",
        "  'max_features': 'auto',\n",
        "  'max_leaf_nodes': 3637,\n",
        "  'n_estimators': 602,\n",
        "  'min_samples_split': 8,\n",
        "  'min_samples_leaf': 8},\n",
        " {'criterion': 'squared_error',\n",
        "  'bootstrap': 'False',\n",
        "  'max_depth': 5776,\n",
        "  'max_features': 'auto',\n",
        "  'max_leaf_nodes': 5125,\n",
        "  'n_estimators': 850,\n",
        "  'min_samples_split': 20,\n",
        "  'min_samples_leaf': 8},\n",
        " {'criterion': 'squared_error',\n",
        "  'bootstrap': 'False',\n",
        "  'max_depth': 4385,\n",
        "  'max_features': 'auto',\n",
        "  'max_leaf_nodes': 5692,\n",
        "  'n_estimators': 622,\n",
        "  'min_samples_split': 20,\n",
        "  'min_samples_leaf': 8},\n",
        " {'criterion': 'squared_error',\n",
        "  'bootstrap': 'False',\n",
        "  'max_depth': 9517,\n",
        "  'max_features': 'auto',\n",
        "  'max_leaf_nodes': 5239,\n",
        "  'n_estimators': 154,\n",
        "  'min_samples_split': 3,\n",
        "  'min_samples_leaf': 8},\n",
        " {'criterion': 'squared_error',\n",
        "  'bootstrap': 'False',\n",
        "  'max_depth': 9974,\n",
        "  'max_features': 'auto',\n",
        "  'max_leaf_nodes': 1802,\n",
        "  'n_estimators': 286,\n",
        "  'min_samples_split': 8,\n",
        "  'min_samples_leaf': 9},\n",
        " {'criterion': 'squared_error',\n",
        "  'bootstrap': 'False',\n",
        "  'max_depth': 8942,\n",
        "  'max_features': 'auto',\n",
        "  'max_leaf_nodes': 3263,\n",
        "  'n_estimators': 356,\n",
        "  'min_samples_split': 14,\n",
        "  'min_samples_leaf': 8},\n",
        " {'criterion': 'squared_error',\n",
        "  'bootstrap': 'False',\n",
        "  'max_depth': 5629,\n",
        "  'max_features': 'auto',\n",
        "  'max_leaf_nodes': 4907,\n",
        "  'n_estimators': 586,\n",
        "  'min_samples_split': 20,\n",
        "  'min_samples_leaf': 9},\n",
        " {'criterion': 'squared_error',\n",
        "  'bootstrap': 'False',\n",
        "  'max_depth': 5292,\n",
        "  'max_features': 'auto',\n",
        "  'max_leaf_nodes': 5194,\n",
        "  'n_estimators': 885,\n",
        "  'min_samples_split': 20,\n",
        "  'min_samples_leaf': 8},\n",
        " {'criterion': 'squared_error',\n",
        "  'bootstrap': 'False',\n",
        "  'max_depth': 3123,\n",
        "  'max_features': 'auto',\n",
        "  'max_leaf_nodes': 5206,\n",
        "  'n_estimators': 814,\n",
        "  'min_samples_split': 7,\n",
        "  'min_samples_leaf': 9},\n",
        " {'criterion': 'squared_error',\n",
        "  'bootstrap': 'False',\n",
        "  'max_depth': 4363,\n",
        "  'max_features': 'auto',\n",
        "  'max_leaf_nodes': 5692,\n",
        "  'n_estimators': 816,\n",
        "  'min_samples_split': 19,\n",
        "  'min_samples_leaf': 9},\n",
        " {'criterion': 'squared_error',\n",
        "  'bootstrap': 'False',\n",
        "  'max_depth': 5159,\n",
        "  'max_features': 'auto',\n",
        "  'max_leaf_nodes': 5510,\n",
        "  'n_estimators': 863,\n",
        "  'min_samples_split': 19,\n",
        "  'min_samples_leaf': 8},\n",
        " {'criterion': 'squared_error',\n",
        "  'bootstrap': 'False',\n",
        "  'max_depth': 9640,\n",
        "  'max_features': 'auto',\n",
        "  'max_leaf_nodes': 3074,\n",
        "  'n_estimators': 631,\n",
        "  'min_samples_split': 2,\n",
        "  'min_samples_leaf': 10},\n",
        " {'criterion': 'squared_error',\n",
        "  'bootstrap': 'False',\n",
        "  'max_depth': 3227,\n",
        "  'max_features': 'auto',\n",
        "  'max_leaf_nodes': 6524,\n",
        "  'n_estimators': 931,\n",
        "  'min_samples_split': 19,\n",
        "  'min_samples_leaf': 8},\n",
        " {'criterion': 'squared_error',\n",
        "  'bootstrap': 'False',\n",
        "  'max_depth': 5503,\n",
        "  'max_features': 'auto',\n",
        "  'max_leaf_nodes': 5540,\n",
        "  'n_estimators': 813,\n",
        "  'min_samples_split': 19,\n",
        "  'min_samples_leaf': 8},\n",
        " {'criterion': 'squared_error',\n",
        "  'bootstrap': 'False',\n",
        "  'max_depth': 2388,\n",
        "  'max_features': 'auto',\n",
        "  'max_leaf_nodes': 5413,\n",
        "  'n_estimators': 842,\n",
        "  'min_samples_split': 6,\n",
        "  'min_samples_leaf': 8},\n",
        " {'criterion': 'squared_error',\n",
        "  'bootstrap': 'False',\n",
        "  'max_depth': 9395,\n",
        "  'max_features': 'auto',\n",
        "  'max_leaf_nodes': 2736,\n",
        "  'n_estimators': 549,\n",
        "  'min_samples_split': 3,\n",
        "  'min_samples_leaf': 8},\n",
        " {'criterion': 'squared_error',\n",
        "  'bootstrap': 'False',\n",
        "  'max_depth': 5346,\n",
        "  'max_features': 'auto',\n",
        "  'max_leaf_nodes': 4506,\n",
        "  'n_estimators': 600,\n",
        "  'min_samples_split': 20,\n",
        "  'min_samples_leaf': 8},\n",
        " {'criterion': 'squared_error',\n",
        "  'bootstrap': 'False',\n",
        "  'max_depth': 5633,\n",
        "  'max_features': 'auto',\n",
        "  'max_leaf_nodes': 5546,\n",
        "  'n_estimators': 802,\n",
        "  'min_samples_split': 19,\n",
        "  'min_samples_leaf': 8},\n",
        " {'criterion': 'squared_error',\n",
        "  'bootstrap': 'False',\n",
        "  'max_depth': 9638,\n",
        "  'max_features': 'auto',\n",
        "  'max_leaf_nodes': 3230,\n",
        "  'n_estimators': 347,\n",
        "  'min_samples_split': 10,\n",
        "  'min_samples_leaf': 10},\n",
        " {'criterion': 'squared_error',\n",
        "  'bootstrap': 'False',\n",
        "  'max_depth': 8900,\n",
        "  'max_features': 'auto',\n",
        "  'max_leaf_nodes': 3277,\n",
        "  'n_estimators': 604,\n",
        "  'min_samples_split': 12,\n",
        "  'min_samples_leaf': 9},\n",
        " {'criterion': 'squared_error',\n",
        "  'bootstrap': 'False',\n",
        "  'max_depth': 9684,\n",
        "  'max_features': 'auto',\n",
        "  'max_leaf_nodes': 6188,\n",
        "  'n_estimators': 151,\n",
        "  'min_samples_split': 3,\n",
        "  'min_samples_leaf': 7},\n",
        " {'criterion': 'squared_error',\n",
        "  'bootstrap': 'False',\n",
        "  'max_depth': 4280,\n",
        "  'max_features': 'auto',\n",
        "  'max_leaf_nodes': 5767,\n",
        "  'n_estimators': 582,\n",
        "  'min_samples_split': 19,\n",
        "  'min_samples_leaf': 9},\n",
        " {'criterion': 'squared_error',\n",
        "  'bootstrap': 'False',\n",
        "  'max_depth': 5492,\n",
        "  'max_features': 'auto',\n",
        "  'max_leaf_nodes': 7085,\n",
        "  'n_estimators': 928,\n",
        "  'min_samples_split': 20,\n",
        "  'min_samples_leaf': 8},\n",
        " {'criterion': 'squared_error',\n",
        "  'bootstrap': 'False',\n",
        "  'max_depth': 9442,\n",
        "  'max_features': 'auto',\n",
        "  'max_leaf_nodes': 3015,\n",
        "  'n_estimators': 571,\n",
        "  'min_samples_split': 19,\n",
        "  'min_samples_leaf': 8},\n",
        " {'criterion': 'squared_error',\n",
        "  'bootstrap': 'False',\n",
        "  'max_depth': 9229,\n",
        "  'max_features': 'auto',\n",
        "  'max_leaf_nodes': 2628,\n",
        "  'n_estimators': 724,\n",
        "  'min_samples_split': 14,\n",
        "  'min_samples_leaf': 10},\n",
        " {'criterion': 'squared_error',\n",
        "  'bootstrap': 'False',\n",
        "  'max_depth': 8943,\n",
        "  'max_features': 'auto',\n",
        "  'max_leaf_nodes': 3268,\n",
        "  'n_estimators': 552,\n",
        "  'min_samples_split': 12,\n",
        "  'min_samples_leaf': 9},\n",
        " {'criterion': 'squared_error',\n",
        "  'bootstrap': 'False',\n",
        "  'max_depth': 5048,\n",
        "  'max_features': 'auto',\n",
        "  'max_leaf_nodes': 5318,\n",
        "  'n_estimators': 841,\n",
        "  'min_samples_split': 20,\n",
        "  'min_samples_leaf': 8},\n",
        " {'criterion': 'squared_error',\n",
        "  'bootstrap': 'False',\n",
        "  'max_depth': 4811,\n",
        "  'max_features': 'auto',\n",
        "  'max_leaf_nodes': 4645,\n",
        "  'n_estimators': 862,\n",
        "  'min_samples_split': 20,\n",
        "  'min_samples_leaf': 8},\n",
        " {'criterion': 'squared_error',\n",
        "  'bootstrap': 'False',\n",
        "  'max_depth': 9948,\n",
        "  'max_features': 'auto',\n",
        "  'max_leaf_nodes': 2266,\n",
        "  'n_estimators': 478,\n",
        "  'min_samples_split': 2,\n",
        "  'min_samples_leaf': 8},\n",
        " {'criterion': 'squared_error',\n",
        "  'bootstrap': 'False',\n",
        "  'max_depth': 9082,\n",
        "  'max_features': 'auto',\n",
        "  'max_leaf_nodes': 2578,\n",
        "  'n_estimators': 771,\n",
        "  'min_samples_split': 16,\n",
        "  'min_samples_leaf': 10},\n",
        " {'criterion': 'squared_error',\n",
        "  'bootstrap': 'False',\n",
        "  'max_depth': 9473,\n",
        "  'max_features': 'auto',\n",
        "  'max_leaf_nodes': 4595,\n",
        "  'n_estimators': 601,\n",
        "  'min_samples_split': 20,\n",
        "  'min_samples_leaf': 8},\n",
        " {'criterion': 'squared_error',\n",
        "  'bootstrap': 'False',\n",
        "  'max_depth': 2596,\n",
        "  'max_features': 'auto',\n",
        "  'max_leaf_nodes': 5962,\n",
        "  'n_estimators': 826,\n",
        "  'min_samples_split': 19,\n",
        "  'min_samples_leaf': 8},\n",
        " {'criterion': 'squared_error',\n",
        "  'bootstrap': 'False',\n",
        "  'max_depth': 7853,\n",
        "  'max_features': 'auto',\n",
        "  'max_leaf_nodes': 3855,\n",
        "  'n_estimators': 540,\n",
        "  'min_samples_split': 12,\n",
        "  'min_samples_leaf': 9},\n",
        " {'criterion': 'squared_error',\n",
        "  'bootstrap': 'False',\n",
        "  'max_depth': 9124,\n",
        "  'max_features': 'auto',\n",
        "  'max_leaf_nodes': 3312,\n",
        "  'n_estimators': 561,\n",
        "  'min_samples_split': 12,\n",
        "  'min_samples_leaf': 10},\n",
        " {'criterion': 'squared_error',\n",
        "  'bootstrap': 'False',\n",
        "  'max_depth': 5893,\n",
        "  'max_features': 'auto',\n",
        "  'max_leaf_nodes': 7028,\n",
        "  'n_estimators': 900,\n",
        "  'min_samples_split': 18,\n",
        "  'min_samples_leaf': 8},\n",
        " {'criterion': 'squared_error',\n",
        "  'bootstrap': 'False',\n",
        "  'max_depth': 4892,\n",
        "  'max_features': 'auto',\n",
        "  'max_leaf_nodes': 5583,\n",
        "  'n_estimators': 817,\n",
        "  'min_samples_split': 20,\n",
        "  'min_samples_leaf': 8},\n",
        " {'criterion': 'squared_error',\n",
        "  'bootstrap': 'False',\n",
        "  'max_depth': 8662,\n",
        "  'max_features': 'auto',\n",
        "  'max_leaf_nodes': 2555,\n",
        "  'n_estimators': 603,\n",
        "  'min_samples_split': 2,\n",
        "  'min_samples_leaf': 9},\n",
        " {'criterion': 'squared_error',\n",
        "  'bootstrap': 'False',\n",
        "  'max_depth': 9399,\n",
        "  'max_features': 'auto',\n",
        "  'max_leaf_nodes': 5406,\n",
        "  'n_estimators': 476,\n",
        "  'min_samples_split': 8,\n",
        "  'min_samples_leaf': 9},\n",
        " {'criterion': 'squared_error',\n",
        "  'bootstrap': 'False',\n",
        "  'max_depth': 5676,\n",
        "  'max_features': 'auto',\n",
        "  'max_leaf_nodes': 5010,\n",
        "  'n_estimators': 910,\n",
        "  'min_samples_split': 20,\n",
        "  'min_samples_leaf': 8},\n",
        " {'criterion': 'squared_error',\n",
        "  'bootstrap': 'False',\n",
        "  'max_depth': 8670,\n",
        "  'max_features': 'auto',\n",
        "  'max_leaf_nodes': 2466,\n",
        "  'n_estimators': 615,\n",
        "  'min_samples_split': 2,\n",
        "  'min_samples_leaf': 9},\n",
        " {'criterion': 'squared_error',\n",
        "  'bootstrap': 'False',\n",
        "  'max_depth': 9504,\n",
        "  'max_features': 'auto',\n",
        "  'max_leaf_nodes': 4756,\n",
        "  'n_estimators': 174,\n",
        "  'min_samples_split': 3,\n",
        "  'min_samples_leaf': 8},\n",
        " {'criterion': 'squared_error',\n",
        "  'bootstrap': 'False',\n",
        "  'max_depth': 5425,\n",
        "  'max_features': 'auto',\n",
        "  'max_leaf_nodes': 4880,\n",
        "  'n_estimators': 593,\n",
        "  'min_samples_split': 20,\n",
        "  'min_samples_leaf': 8},\n",
        " {'criterion': 'squared_error',\n",
        "  'bootstrap': 'False',\n",
        "  'max_depth': 3110,\n",
        "  'max_features': 'auto',\n",
        "  'max_leaf_nodes': 6680,\n",
        "  'n_estimators': 900,\n",
        "  'min_samples_split': 18,\n",
        "  'min_samples_leaf': 9},\n",
        " {'criterion': 'squared_error',\n",
        "  'bootstrap': 'False',\n",
        "  'max_depth': 7487,\n",
        "  'max_features': 'auto',\n",
        "  'max_leaf_nodes': 2261,\n",
        "  'n_estimators': 619,\n",
        "  'min_samples_split': 2,\n",
        "  'min_samples_leaf': 8},\n",
        " {'criterion': 'squared_error',\n",
        "  'bootstrap': 'False',\n",
        "  'max_depth': 9159,\n",
        "  'max_features': 'auto',\n",
        "  'max_leaf_nodes': 1792,\n",
        "  'n_estimators': 650,\n",
        "  'min_samples_split': 2,\n",
        "  'min_samples_leaf': 7},\n",
        " {'criterion': 'squared_error',\n",
        "  'bootstrap': 'False',\n",
        "  'max_depth': 5681,\n",
        "  'max_features': 'auto',\n",
        "  'max_leaf_nodes': 5128,\n",
        "  'n_estimators': 865,\n",
        "  'min_samples_split': 20,\n",
        "  'min_samples_leaf': 8},\n",
        " {'criterion': 'squared_error',\n",
        "  'bootstrap': 'False',\n",
        "  'max_depth': 8890,\n",
        "  'max_features': 'auto',\n",
        "  'max_leaf_nodes': 4136,\n",
        "  'n_estimators': 652,\n",
        "  'min_samples_split': 2,\n",
        "  'min_samples_leaf': 8},\n",
        " {'criterion': 'squared_error',\n",
        "  'bootstrap': 'False',\n",
        "  'max_depth': 5616,\n",
        "  'max_features': 'auto',\n",
        "  'max_leaf_nodes': 5129,\n",
        "  'n_estimators': 805,\n",
        "  'min_samples_split': 19,\n",
        "  'min_samples_leaf': 7},\n",
        " {'criterion': 'squared_error',\n",
        "  'bootstrap': 'False',\n",
        "  'max_depth': 9610,\n",
        "  'max_features': 'auto',\n",
        "  'max_leaf_nodes': 3832,\n",
        "  'n_estimators': 537,\n",
        "  'min_samples_split': 3,\n",
        "  'min_samples_leaf': 10},\n",
        " {'criterion': 'squared_error',\n",
        "  'bootstrap': 'False',\n",
        "  'max_depth': 7895,\n",
        "  'max_features': 'auto',\n",
        "  'max_leaf_nodes': 2550,\n",
        "  'n_estimators': 547,\n",
        "  'min_samples_split': 7,\n",
        "  'min_samples_leaf': 10},\n",
        " {'criterion': 'squared_error',\n",
        "  'bootstrap': 'False',\n",
        "  'max_depth': 9542,\n",
        "  'max_features': 'auto',\n",
        "  'max_leaf_nodes': 4330,\n",
        "  'n_estimators': 138,\n",
        "  'min_samples_split': 12,\n",
        "  'min_samples_leaf': 8},\n",
        " {'criterion': 'squared_error',\n",
        "  'bootstrap': 'False',\n",
        "  'max_depth': 9248,\n",
        "  'max_features': 'auto',\n",
        "  'max_leaf_nodes': 3167,\n",
        "  'n_estimators': 725,\n",
        "  'min_samples_split': 9,\n",
        "  'min_samples_leaf': 8},\n",
        " {'criterion': 'squared_error',\n",
        "  'bootstrap': 'False',\n",
        "  'max_depth': 9384,\n",
        "  'max_features': 'auto',\n",
        "  'max_leaf_nodes': 2723,\n",
        "  'n_estimators': 542,\n",
        "  'min_samples_split': 8,\n",
        "  'min_samples_leaf': 9},\n",
        " {'criterion': 'squared_error',\n",
        "  'bootstrap': 'False',\n",
        "  'max_depth': 9690,\n",
        "  'max_features': 'auto',\n",
        "  'max_leaf_nodes': 3295,\n",
        "  'n_estimators': 580,\n",
        "  'min_samples_split': 14,\n",
        "  'min_samples_leaf': 9},\n",
        " {'criterion': 'squared_error',\n",
        "  'bootstrap': 'False',\n",
        "  'max_depth': 9740,\n",
        "  'max_features': 'auto',\n",
        "  'max_leaf_nodes': 2422,\n",
        "  'n_estimators': 226,\n",
        "  'min_samples_split': 12,\n",
        "  'min_samples_leaf': 9},\n",
        " {'criterion': 'squared_error',\n",
        "  'bootstrap': 'False',\n",
        "  'max_depth': 5135,\n",
        "  'max_features': 'auto',\n",
        "  'max_leaf_nodes': 4734,\n",
        "  'n_estimators': 801,\n",
        "  'min_samples_split': 20,\n",
        "  'min_samples_leaf': 8},\n",
        " {'criterion': 'squared_error',\n",
        "  'bootstrap': 'False',\n",
        "  'max_depth': 7858,\n",
        "  'max_features': 'auto',\n",
        "  'max_leaf_nodes': 1368,\n",
        "  'n_estimators': 588,\n",
        "  'min_samples_split': 4,\n",
        "  'min_samples_leaf': 9},\n",
        " {'criterion': 'squared_error',\n",
        "  'bootstrap': 'False',\n",
        "  'max_depth': 4094,\n",
        "  'max_features': 'auto',\n",
        "  'max_leaf_nodes': 5658,\n",
        "  'n_estimators': 605,\n",
        "  'min_samples_split': 20,\n",
        "  'min_samples_leaf': 9},\n",
        " {'criterion': 'squared_error',\n",
        "  'bootstrap': 'False',\n",
        "  'max_depth': 8659,\n",
        "  'max_features': 'auto',\n",
        "  'max_leaf_nodes': 2678,\n",
        "  'n_estimators': 669,\n",
        "  'min_samples_split': 3,\n",
        "  'min_samples_leaf': 9},\n",
        " {'criterion': 'squared_error',\n",
        "  'bootstrap': 'False',\n",
        "  'max_depth': 7750,\n",
        "  'max_features': 'auto',\n",
        "  'max_leaf_nodes': 3738,\n",
        "  'n_estimators': 703,\n",
        "  'min_samples_split': 13,\n",
        "  'min_samples_leaf': 10},\n",
        " {'criterion': 'squared_error',\n",
        "  'bootstrap': 'False',\n",
        "  'max_depth': 9805,\n",
        "  'max_features': 'auto',\n",
        "  'max_leaf_nodes': 3020,\n",
        "  'n_estimators': 716,\n",
        "  'min_samples_split': 14,\n",
        "  'min_samples_leaf': 10},\n",
        " {'criterion': 'squared_error',\n",
        "  'bootstrap': 'False',\n",
        "  'max_depth': 9567,\n",
        "  'max_features': 'auto',\n",
        "  'max_leaf_nodes': 2948,\n",
        "  'n_estimators': 223,\n",
        "  'min_samples_split': 12,\n",
        "  'min_samples_leaf': 10}]"
      ],
      "id": "7bd5adf1"
    },
    {
      "cell_type": "code",
      "execution_count": 13,
      "metadata": {
        "id": "60d3d617"
      },
      "outputs": [],
      "source": [
        "ss = pd.read_csv('/content/gdrive/MyDrive/VinBigData/Machine learning/Project/data/sample_submission.csv')"
      ],
      "id": "60d3d617"
    },
    {
      "cell_type": "code",
      "execution_count": 14,
      "metadata": {
        "colab": {
          "base_uri": "https://localhost:8080/"
        },
        "id": "yBikRW-mCzhc",
        "outputId": "c8042e45-300b-4eec-e918-1f5cf115081e"
      },
      "outputs": [
        {
          "output_type": "execute_result",
          "data": {
            "text/plain": [
              "Int64Index([ 1,  2,  3,  4,  5,  6,  7,  8,  9, 10, 11, 12, 13, 14, 15, 16, 17,\n",
              "            18, 19, 20, 21, 22, 23, 24, 25, 26, 27, 28, 29, 30, 31, 32, 33, 34,\n",
              "            35, 36, 37, 38, 39, 40, 41, 42, 43, 44, 45, 46, 47, 48, 49, 50, 51,\n",
              "            52, 53, 54],\n",
              "           dtype='int64', name='store_nbr')"
            ]
          },
          "metadata": {},
          "execution_count": 14
        }
      ],
      "source": [
        "df.index.get_level_values(0).unique()"
      ],
      "id": "yBikRW-mCzhc"
    },
    {
      "cell_type": "code",
      "execution_count": 15,
      "metadata": {
        "colab": {
          "base_uri": "https://localhost:8080/"
        },
        "id": "pBGRZxKYDCY9",
        "outputId": "3404380a-5c5b-45f5-ce97-cf0508e3cd88"
      },
      "outputs": [
        {
          "output_type": "execute_result",
          "data": {
            "text/plain": [
              "Index(['AUTOMOTIVE', 'BABY CARE', 'BEAUTY', 'BEVERAGES', 'BOOKS',\n",
              "       'BREAD/BAKERY', 'CELEBRATION', 'CLEANING', 'DAIRY', 'DELI', 'EGGS',\n",
              "       'FROZEN FOODS', 'GROCERY I', 'GROCERY II', 'HARDWARE',\n",
              "       'HOME AND KITCHEN I', 'HOME AND KITCHEN II', 'HOME APPLIANCES',\n",
              "       'HOME CARE', 'LADIESWEAR', 'LAWN AND GARDEN', 'LINGERIE',\n",
              "       'LIQUOR,WINE,BEER', 'MAGAZINES', 'MEATS', 'PERSONAL CARE',\n",
              "       'PET SUPPLIES', 'PLAYERS AND ELECTRONICS', 'POULTRY', 'PREPARED FOODS',\n",
              "       'PRODUCE', 'SCHOOL AND OFFICE SUPPLIES', 'SEAFOOD'],\n",
              "      dtype='object', name='family')"
            ]
          },
          "metadata": {},
          "execution_count": 15
        }
      ],
      "source": [
        "df.index.get_level_values(1).unique()\n"
      ],
      "id": "pBGRZxKYDCY9"
    },
    {
      "cell_type": "code",
      "execution_count": 16,
      "metadata": {
        "id": "3ULLiaJNQ1og"
      },
      "outputs": [],
      "source": [
        "Y_test = pd.read_csv('/content/gdrive/MyDrive/VinBigData/Machine learning/Project/submission_best.csv') \n"
      ],
      "id": "3ULLiaJNQ1og"
    },
    {
      "cell_type": "code",
      "execution_count": 16,
      "metadata": {
        "id": "3w_dqKYixuye"
      },
      "outputs": [],
      "source": [],
      "id": "3w_dqKYixuye"
    },
    {
      "cell_type": "markdown",
      "metadata": {
        "id": "jIWljPixtczR"
      },
      "source": [
        "# Strategy 1: Training theo từng mặt hàng của từng cửa hàng 55x33 models "
      ],
      "id": "jIWljPixtczR"
    },
    {
      "cell_type": "markdown",
      "metadata": {
        "id": "KK0AeJNiO9Dh"
      },
      "source": [],
      "id": "KK0AeJNiO9Dh"
    },
    {
      "cell_type": "markdown",
      "metadata": {
        "id": "JsMA1Uu5uqx2"
      },
      "source": [
        "### Step1: Test model\n",
        "\n",
        "\n"
      ],
      "id": "JsMA1Uu5uqx2"
    },
    {
      "cell_type": "code",
      "execution_count": null,
      "metadata": {
        "colab": {
          "base_uri": "https://localhost:8080/",
          "height": 331
        },
        "id": "c575523b",
        "outputId": "0fc76d70-de5b-4471-d8d1-eb7c7bbe5f77"
      },
      "outputs": [
        {
          "name": "stdout",
          "output_type": "stream",
          "text": [
            "RF: 0.3742303330766315\n",
            "LG: 0.3947800427820736\n"
          ]
        },
        {
          "data": {
            "image/png": "[encoded data removed]",
            "text/plain": [
              "<Figure size 432x288 with 1 Axes>"
            ]
          },
          "metadata": {},
          "output_type": "display_data"
        }
      ],
      "source": [
        "sm_rf = 0\n",
        "sm_lg = 0\n",
        "cnt = 0\n",
        "import warnings\n",
        "warnings.filterwarnings('ignore')\n",
        "i = df.index.get_level_values(0).unique()[0]\n",
        "for j in df.index.get_level_values(1).unique():\n",
        "    df_ = df.loc[(i, j)]\n",
        "    test_data = df_[df_['sales'].isna()]\n",
        "    df_ = df_.drop(columns=['id', 'transactions'])\n",
        "    train = df_[~df_['sales'].isna()]\n",
        "    train.dropna()\n",
        "    #train.dropna()\n",
        "    X = train.drop(['sales'], axis =1 )\n",
        "    y = train['sales'] \n",
        "    X.shape, y.shape\n",
        "    X_train, y_train, X_val , y_val = split_func (train, X , y, test_size = 0.2,  shuffle = False) \n",
        "\n",
        "    y_train = np.log1p(y_train)\n",
        "    y_val = np.log1p(y_val)\n",
        "\n",
        "    weights = np.exp((400 - (pd.to_datetime('2017-08-16') - pd.to_datetime(X_train.index)).days) / 200)\n",
        "    weights = weights.to_numpy()\n",
        "\n",
        "    model = RandomForestRegressor()\n",
        "    model.fit(X_train.values, y_train.values, sample_weight=weights)\n",
        "    preds = model.predict(X_val)\n",
        "    sm_rf += msle(np.exp(y_val) - 1, (np.exp(preds) - 1).clip(0))\n",
        "\n",
        "    model = LGBMRegressor()\n",
        "    model.fit(X_train.to_numpy(), y_train, sample_weight=weights)\n",
        "    preds = model.predict(X_val)\n",
        "    sm_lg += msle(np.exp(y_val) - 1, (np.exp(preds) - 1).clip(0))\n",
        "\n",
        "    cnt += 1\n",
        "print(\"RF:\", (sm_rf / cnt)**0.5)\n",
        "print(\"LG:\", (sm_lg / cnt)**0.5)\n",
        "scores = [ (sm_rf / cnt)**0.5 , (sm_lg / cnt)**0.5]\n",
        "labels = ['RF','LG'] \n",
        "# creating the bar plot\n",
        "plt.bar(labels, scores, color ='green', width = 0.6)\n",
        "plt.xlabel(\"Method Machine learning\")\n",
        "plt.ylabel(\"Score RMSE\")\n",
        "plt.title(\"Compare methods\")\n",
        "plt.show()"
      ],
      "id": "c575523b"
    },
    {
      "cell_type": "markdown",
      "metadata": {
        "id": "xkUT0s35uwiS"
      },
      "source": [
        "### Step 2: Lựa chọn best kiến trúc"
      ],
      "id": "xkUT0s35uwiS"
    },
    {
      "cell_type": "code",
      "execution_count": null,
      "metadata": {
        "colab": {
          "base_uri": "https://localhost:8080/"
        },
        "collapsed": true,
        "id": "af34c87a",
        "outputId": "296f8b57-5cbf-4487-fbcd-1dc93f543da8"
      },
      "outputs": [
        {
          "name": "stderr",
          "output_type": "stream",
          "text": [
            "\r  0%|          | 0/54 [00:00<?, ?it/s]"
          ]
        },
        {
          "name": "stdout",
          "output_type": "stream",
          "text": [
            "[05:54:24] WARNING: /workspace/src/objective/regression_obj.cu:152: reg:linear is now deprecated in favor of reg:squarederror.\n",
            "[05:54:24] WARNING: /workspace/src/objective/regression_obj.cu:152: reg:linear is now deprecated in favor of reg:squarederror.\n",
            "[05:54:26] WARNING: /workspace/src/objective/regression_obj.cu:152: reg:linear is now deprecated in favor of reg:squarederror.\n",
            "[05:54:29] WARNING: /workspace/src/objective/regression_obj.cu:152: reg:linear is now deprecated in favor of reg:squarederror.\n",
            "[05:54:31] WARNING: /workspace/src/objective/regression_obj.cu:152: reg:linear is now deprecated in favor of reg:squarederror.\n",
            "[05:54:34] WARNING: /workspace/src/objective/regression_obj.cu:152: reg:linear is now deprecated in favor of reg:squarederror.\n",
            "[05:54:36] WARNING: /workspace/src/objective/regression_obj.cu:152: reg:linear is now deprecated in favor of reg:squarederror.\n",
            "[05:54:39] WARNING: /workspace/src/objective/regression_obj.cu:152: reg:linear is now deprecated in favor of reg:squarederror.\n",
            "[05:54:42] WARNING: /workspace/src/objective/regression_obj.cu:152: reg:linear is now deprecated in favor of reg:squarederror.\n",
            "[05:54:44] WARNING: /workspace/src/objective/regression_obj.cu:152: reg:linear is now deprecated in favor of reg:squarederror.\n",
            "[05:54:47] WARNING: /workspace/src/objective/regression_obj.cu:152: reg:linear is now deprecated in favor of reg:squarederror.\n",
            "[05:54:50] WARNING: /workspace/src/objective/regression_obj.cu:152: reg:linear is now deprecated in favor of reg:squarederror.\n",
            "[05:54:52] WARNING: /workspace/src/objective/regression_obj.cu:152: reg:linear is now deprecated in favor of reg:squarederror.\n",
            "[05:54:55] WARNING: /workspace/src/objective/regression_obj.cu:152: reg:linear is now deprecated in favor of reg:squarederror.\n",
            "[05:54:57] WARNING: /workspace/src/objective/regression_obj.cu:152: reg:linear is now deprecated in favor of reg:squarederror.\n",
            "[05:55:00] WARNING: /workspace/src/objective/regression_obj.cu:152: reg:linear is now deprecated in favor of reg:squarederror.\n",
            "[05:55:02] WARNING: /workspace/src/objective/regression_obj.cu:152: reg:linear is now deprecated in favor of reg:squarederror.\n",
            "[05:55:04] WARNING: /workspace/src/objective/regression_obj.cu:152: reg:linear is now deprecated in favor of reg:squarederror.\n",
            "[05:55:07] WARNING: /workspace/src/objective/regression_obj.cu:152: reg:linear is now deprecated in favor of reg:squarederror.\n",
            "[05:55:09] WARNING: /workspace/src/objective/regression_obj.cu:152: reg:linear is now deprecated in favor of reg:squarederror.\n",
            "[05:55:12] WARNING: /workspace/src/objective/regression_obj.cu:152: reg:linear is now deprecated in favor of reg:squarederror.\n",
            "[05:55:15] WARNING: /workspace/src/objective/regression_obj.cu:152: reg:linear is now deprecated in favor of reg:squarederror.\n",
            "[05:55:17] WARNING: /workspace/src/objective/regression_obj.cu:152: reg:linear is now deprecated in favor of reg:squarederror.\n",
            "[05:55:20] WARNING: /workspace/src/objective/regression_obj.cu:152: reg:linear is now deprecated in favor of reg:squarederror.\n",
            "[05:55:22] WARNING: /workspace/src/objective/regression_obj.cu:152: reg:linear is now deprecated in favor of reg:squarederror.\n",
            "[05:55:25] WARNING: /workspace/src/objective/regression_obj.cu:152: reg:linear is now deprecated in favor of reg:squarederror.\n",
            "[05:55:27] WARNING: /workspace/src/objective/regression_obj.cu:152: reg:linear is now deprecated in favor of reg:squarederror.\n",
            "[05:55:30] WARNING: /workspace/src/objective/regression_obj.cu:152: reg:linear is now deprecated in favor of reg:squarederror.\n",
            "[05:55:33] WARNING: /workspace/src/objective/regression_obj.cu:152: reg:linear is now deprecated in favor of reg:squarederror.\n",
            "[05:55:35] WARNING: /workspace/src/objective/regression_obj.cu:152: reg:linear is now deprecated in favor of reg:squarederror.\n",
            "[05:55:38] WARNING: /workspace/src/objective/regression_obj.cu:152: reg:linear is now deprecated in favor of reg:squarederror.\n",
            "[05:55:41] WARNING: /workspace/src/objective/regression_obj.cu:152: reg:linear is now deprecated in favor of reg:squarederror.\n",
            "[05:55:43] WARNING: /workspace/src/objective/regression_obj.cu:152: reg:linear is now deprecated in favor of reg:squarederror.\n"
          ]
        },
        {
          "name": "stderr",
          "output_type": "stream",
          "text": [
            "\r  0%|          | 0/54 [01:22<?, ?it/s]"
          ]
        },
        {
          "name": "stdout",
          "output_type": "stream",
          "text": [
            "GB: 0.3888224175185954\n",
            "RF: 0.3767473383137528\n",
            "LR: 1.319410143822232\n",
            "XG: 0.3870991591114694\n",
            "LG: 0.3947800427820736\n"
          ]
        },
        {
          "name": "stderr",
          "output_type": "stream",
          "text": [
            "\n"
          ]
        }
      ],
      "source": [
        "sm_gb = 0\n",
        "sm_lr = 0\n",
        "sm_rf = 0\n",
        "sm_xg = 0\n",
        "sm_lg = 0\n",
        "sm_cb = 0\n",
        "\n",
        "cnt = 0\n",
        "for i in tqdm(df.index.get_level_values(0).unique()):\n",
        "    for j in df.index.get_level_values(1).unique():\n",
        "        df_ = df.loc[(i, j)]\n",
        "        # test_data = df_[df_['sales'].isna()]\n",
        "        df_ = df_.drop(columns=['id', 'transactions'])\n",
        "        \n",
        "        train = df_[~df_['sales'].isna()]\n",
        "        train.dropna()\n",
        "        #train.dropna()\n",
        "        X = train.drop(['sales'], axis =1 )\n",
        "        y = train['sales'] \n",
        "        X.shape, y.shape\n",
        "        X_train, y_train, X_val , y_val = split_func (train, X , y, test_size = 0.2,  shuffle = False) \n",
        "        y_train = np.log1p(y_train)\n",
        "        y_val = np.log1p(y_val)\n",
        "    \n",
        "        # y_test = test_data.merge(Y_test, left_on='id', right_on='id')['sales_y']\n",
        "        # y_test = np.log1p(y_test)\n",
        "        weights = np.exp((400 - (pd.to_datetime('2017-08-16') - pd.to_datetime(X_train.index)).days) / 200)\n",
        "        weights = weights.to_numpy()\n",
        "        \n",
        "        model = GradientBoostingRegressor()\n",
        "        model.fit(X_train, y_train, sample_weight=weights)\n",
        "        preds = model.predict(X_val)\n",
        "        sm_gb += msle(np.exp(y_val) - 1, (np.exp(preds) - 1).clip(0))\n",
        "        \n",
        "        model = LinearRegression()\n",
        "        model.fit(X_train, y_train, sample_weight=weights)\n",
        "        preds = model.predict(X_val)\n",
        "        sm_lr += msle(np.exp(y_val) - 1, (np.exp(preds) - 1).clip(0))\n",
        "        \n",
        "        model = RandomForestRegressor()\n",
        "        model.fit(X_train, y_train, sample_weight=weights)\n",
        "        preds = model.predict(X_val)\n",
        "        sm_rf += msle(np.exp(y_val) - 1, (np.exp(preds) - 1).clip(0))\n",
        "        \n",
        "        model = XGBRegressor()\n",
        "        model.fit(X_train, y_train, sample_weight=weights)\n",
        "        preds = model.predict(X_val)\n",
        "        sm_xg += msle(np.exp(y_val) - 1, (np.exp(preds) - 1).clip(0))\n",
        "        \n",
        "        model = LGBMRegressor()\n",
        "        model.fit(X_train.to_numpy(), y_train, sample_weight=weights)\n",
        "        preds = model.predict(X_val)\n",
        "        sm_lg += msle(np.exp(y_val) - 1, (np.exp(preds) - 1).clip(0))\n",
        "        \n",
        "        \n",
        "        #P = Pool(X_train.to_numpy(), y_train, weight=weights)\n",
        "\n",
        "        \n",
        "        # model = CatBoostRegressor()\n",
        "        # model.fit(X_train, y_train, verbose=0)\n",
        "        # preds = model.predict(X_test)\n",
        "        sm_cb += msle(np.exp(y_val) - 1, (np.exp(preds) - 1).clip(0))\n",
        "        \n",
        "        cnt += 1\n",
        "        #print(msle(np.exp(y_val) - 1,(np.exp(preds) - 1).clip(0), squared=False))\n",
        "    print(\"GB:\", (sm_gb / cnt)**0.5)\n",
        "    print(\"RF:\", (sm_rf / cnt)**0.5)\n",
        "    print(\"LR:\", (sm_lr / cnt)**0.5)\n",
        "    print(\"XG:\", (sm_xg / cnt)**0.5)\n",
        "    print(\"LG:\", (sm_lg / cnt)**0.5)\n",
        "\n",
        "\n",
        "    # print(\"CB:\", (sm_cb / cnt)**0.5)\n",
        "    break\n",
        "#print((sm / cnt)**0.5)"
      ],
      "id": "af34c87a"
    },
    {
      "cell_type": "code",
      "execution_count": null,
      "metadata": {
        "colab": {
          "base_uri": "https://localhost:8080/",
          "height": 664
        },
        "id": "1D0KKIu-fTbz",
        "outputId": "46233abf-a8d5-4346-fdba-65a63824df5e"
      },
      "outputs": [
        {
          "name": "stderr",
          "output_type": "stream",
          "text": [
            "WARNING:matplotlib.legend:No handles with labels found to put in legend.\n",
            "WARNING:matplotlib.font_manager:findfont: Font family ['Comic Sans MS'] not found. Falling back to DejaVu Sans.\n"
          ]
        },
        {
          "data": {
            "image/png": "[encoded data removed]",
            "text/plain": [
              "<Figure size 864x720 with 1 Axes>"
            ]
          },
          "metadata": {},
          "output_type": "display_data"
        }
      ],
      "source": [
        "    scores = [(sm_gb / cnt)**0.5, (sm_rf / cnt)**0.5,(sm_lr / cnt)**0.5, (sm_xg / cnt)**0.5, (sm_lg / cnt)**0.5 ]\n",
        "    labels = ['Gradient Boosting','Random Forest','Linear Rigression','XGBRegressor','LGBMRegressor'] \n",
        "    # creating the bar plot\n",
        "    plt.figure(figsize=(12,10))\n",
        "    plt.bar(labels, scores, color ='orange', width = 0.6)\n",
        "    plt.xlabel(\"Method Machine learning\",fontdict={'fontname':'Comic Sans MS',\n",
        "                                                    'fontweight':'bold',\n",
        "                                                   'fontsize':15})\n",
        "    plt.title('Compare methods',fontdict={'fontname':'Comic Sans MS',\n",
        "                                                    'fontweight':'bold',\n",
        "                                                   'fontsize':15})\n",
        "    plt.ylabel(\"Score RMSE\",fontdict={'fontname':'Comic Sans MS',\n",
        "                                                    'fontweight':'bold',\n",
        "                                                   'fontsize':15})\n",
        "#plt.xticks(rotation=45)\n",
        "plt.grid(True,ls='--')\n",
        "\n",
        "#Hiển thị chú thích trong biểu đồ:\n",
        "plt.legend()\n",
        "plt.show()"
      ],
      "id": "1D0KKIu-fTbz"
    },
    {
      "cell_type": "markdown",
      "metadata": {
        "id": "Qu4QDf37tkck"
      },
      "source": [
        "### Step 3: Tuning Parameter "
      ],
      "id": "Qu4QDf37tkck"
    },
    {
      "cell_type": "code",
      "execution_count": null,
      "metadata": {
        "colab": {
          "base_uri": "https://localhost:8080/",
          "height": 407
        },
        "id": "TbLj7DF0njF5",
        "outputId": "f043287c-c07c-4644-f337-e5689865d802"
      },
      "outputs": [
        {
          "name": "stderr",
          "output_type": "stream",
          "text": [
            "  0%|          | 0/3 [00:20<?, ?it/s]\n"
          ]
        },
        {
          "ename": "KeyboardInterrupt",
          "evalue": "ignored",
          "output_type": "error",
          "traceback": [
            "\u001b[0;31m---------------------------------------------------------------------------\u001b[0m",
            "\u001b[0;31mKeyboardInterrupt\u001b[0m                         Traceback (most recent call last)",
            "\u001b[0;32m<ipython-input-35-d6fcae2ee09a>\u001b[0m in \u001b[0;36m<module>\u001b[0;34m\u001b[0m\n\u001b[1;32m     18\u001b[0m         \u001b[0my_train\u001b[0m \u001b[0;34m=\u001b[0m \u001b[0mnp\u001b[0m\u001b[0;34m.\u001b[0m\u001b[0mlog1p\u001b[0m\u001b[0;34m(\u001b[0m\u001b[0my_train\u001b[0m\u001b[0;34m)\u001b[0m\u001b[0;34m\u001b[0m\u001b[0;34m\u001b[0m\u001b[0m\n\u001b[1;32m     19\u001b[0m         \u001b[0;31m#y_test = np.log1p(y_test)\u001b[0m\u001b[0;34m\u001b[0m\u001b[0;34m\u001b[0m\u001b[0;34m\u001b[0m\u001b[0m\n\u001b[0;32m---> 20\u001b[0;31m         \u001b[0mbest_score\u001b[0m\u001b[0;34m,\u001b[0m \u001b[0mbest_params\u001b[0m \u001b[0;34m=\u001b[0m \u001b[0mGrid_Search_CV_RFR\u001b[0m\u001b[0;34m(\u001b[0m\u001b[0mX_train\u001b[0m\u001b[0;34m,\u001b[0m \u001b[0my_train\u001b[0m\u001b[0;34m)\u001b[0m\u001b[0;34m\u001b[0m\u001b[0;34m\u001b[0m\u001b[0m\n\u001b[0m\u001b[1;32m     21\u001b[0m         \u001b[0mbestScore\u001b[0m\u001b[0;34m.\u001b[0m\u001b[0mappend\u001b[0m\u001b[0;34m(\u001b[0m\u001b[0mbest_score\u001b[0m\u001b[0;34m)\u001b[0m\u001b[0;34m\u001b[0m\u001b[0;34m\u001b[0m\u001b[0m\n\u001b[1;32m     22\u001b[0m         \u001b[0mbestParameter\u001b[0m\u001b[0;34m.\u001b[0m\u001b[0mappend\u001b[0m\u001b[0;34m(\u001b[0m\u001b[0mbest_params\u001b[0m\u001b[0;34m)\u001b[0m\u001b[0;34m\u001b[0m\u001b[0;34m\u001b[0m\u001b[0m\n",
            "\u001b[0;32m<ipython-input-20-088609b4cdee>\u001b[0m in \u001b[0;36mGrid_Search_CV_RFR\u001b[0;34m(X_train, y_train)\u001b[0m\n\u001b[1;32m     14\u001b[0m     \u001b[0mgrid\u001b[0m \u001b[0;34m=\u001b[0m \u001b[0mGridSearchCV\u001b[0m\u001b[0;34m(\u001b[0m\u001b[0mestimator\u001b[0m\u001b[0;34m,\u001b[0m \u001b[0mparam_grid\u001b[0m\u001b[0;34m,\u001b[0m \u001b[0mn_jobs\u001b[0m\u001b[0;34m=\u001b[0m\u001b[0;34m-\u001b[0m\u001b[0;36m1\u001b[0m\u001b[0;34m,\u001b[0m \u001b[0mcv\u001b[0m\u001b[0;34m=\u001b[0m\u001b[0;36m5\u001b[0m\u001b[0;34m)\u001b[0m\u001b[0;34m\u001b[0m\u001b[0;34m\u001b[0m\u001b[0m\n\u001b[1;32m     15\u001b[0m \u001b[0;34m\u001b[0m\u001b[0m\n\u001b[0;32m---> 16\u001b[0;31m     \u001b[0mgrid\u001b[0m\u001b[0;34m.\u001b[0m\u001b[0mfit\u001b[0m\u001b[0;34m(\u001b[0m\u001b[0mX_train\u001b[0m\u001b[0;34m,\u001b[0m \u001b[0my_train\u001b[0m\u001b[0;34m)\u001b[0m\u001b[0;34m\u001b[0m\u001b[0;34m\u001b[0m\u001b[0m\n\u001b[0m\u001b[1;32m     17\u001b[0m \u001b[0;34m\u001b[0m\u001b[0m\n\u001b[1;32m     18\u001b[0m     \u001b[0;32mreturn\u001b[0m \u001b[0mgrid\u001b[0m\u001b[0;34m.\u001b[0m\u001b[0mbest_score_\u001b[0m \u001b[0;34m,\u001b[0m \u001b[0mgrid\u001b[0m\u001b[0;34m.\u001b[0m\u001b[0mbest_params_\u001b[0m\u001b[0;34m\u001b[0m\u001b[0;34m\u001b[0m\u001b[0m\n",
            "\u001b[0;32m/usr/local/lib/python3.7/dist-packages/sklearn/model_selection/_search.py\u001b[0m in \u001b[0;36mfit\u001b[0;34m(self, X, y, groups, **fit_params)\u001b[0m\n\u001b[1;32m    889\u001b[0m                 \u001b[0;32mreturn\u001b[0m \u001b[0mresults\u001b[0m\u001b[0;34m\u001b[0m\u001b[0;34m\u001b[0m\u001b[0m\n\u001b[1;32m    890\u001b[0m \u001b[0;34m\u001b[0m\u001b[0m\n\u001b[0;32m--> 891\u001b[0;31m             \u001b[0mself\u001b[0m\u001b[0;34m.\u001b[0m\u001b[0m_run_search\u001b[0m\u001b[0;34m(\u001b[0m\u001b[0mevaluate_candidates\u001b[0m\u001b[0;34m)\u001b[0m\u001b[0;34m\u001b[0m\u001b[0;34m\u001b[0m\u001b[0m\n\u001b[0m\u001b[1;32m    892\u001b[0m \u001b[0;34m\u001b[0m\u001b[0m\n\u001b[1;32m    893\u001b[0m             \u001b[0;31m# multimetric is determined here because in the case of a callable\u001b[0m\u001b[0;34m\u001b[0m\u001b[0;34m\u001b[0m\u001b[0;34m\u001b[0m\u001b[0m\n",
            "\u001b[0;32m/usr/local/lib/python3.7/dist-packages/sklearn/model_selection/_search.py\u001b[0m in \u001b[0;36m_run_search\u001b[0;34m(self, evaluate_candidates)\u001b[0m\n\u001b[1;32m   1390\u001b[0m     \u001b[0;32mdef\u001b[0m \u001b[0m_run_search\u001b[0m\u001b[0;34m(\u001b[0m\u001b[0mself\u001b[0m\u001b[0;34m,\u001b[0m \u001b[0mevaluate_candidates\u001b[0m\u001b[0;34m)\u001b[0m\u001b[0;34m:\u001b[0m\u001b[0;34m\u001b[0m\u001b[0;34m\u001b[0m\u001b[0m\n\u001b[1;32m   1391\u001b[0m         \u001b[0;34m\"\"\"Search all candidates in param_grid\"\"\"\u001b[0m\u001b[0;34m\u001b[0m\u001b[0;34m\u001b[0m\u001b[0m\n\u001b[0;32m-> 1392\u001b[0;31m         \u001b[0mevaluate_candidates\u001b[0m\u001b[0;34m(\u001b[0m\u001b[0mParameterGrid\u001b[0m\u001b[0;34m(\u001b[0m\u001b[0mself\u001b[0m\u001b[0;34m.\u001b[0m\u001b[0mparam_grid\u001b[0m\u001b[0;34m)\u001b[0m\u001b[0;34m)\u001b[0m\u001b[0;34m\u001b[0m\u001b[0;34m\u001b[0m\u001b[0m\n\u001b[0m\u001b[1;32m   1393\u001b[0m \u001b[0;34m\u001b[0m\u001b[0m\n\u001b[1;32m   1394\u001b[0m \u001b[0;34m\u001b[0m\u001b[0m\n",
            "\u001b[0;32m/usr/local/lib/python3.7/dist-packages/sklearn/model_selection/_search.py\u001b[0m in \u001b[0;36mevaluate_candidates\u001b[0;34m(candidate_params, cv, more_results)\u001b[0m\n\u001b[1;32m    849\u001b[0m                     )\n\u001b[1;32m    850\u001b[0m                     for (cand_idx, parameters), (split_idx, (train, test)) in product(\n\u001b[0;32m--> 851\u001b[0;31m                         \u001b[0menumerate\u001b[0m\u001b[0;34m(\u001b[0m\u001b[0mcandidate_params\u001b[0m\u001b[0;34m)\u001b[0m\u001b[0;34m,\u001b[0m \u001b[0menumerate\u001b[0m\u001b[0;34m(\u001b[0m\u001b[0mcv\u001b[0m\u001b[0;34m.\u001b[0m\u001b[0msplit\u001b[0m\u001b[0;34m(\u001b[0m\u001b[0mX\u001b[0m\u001b[0;34m,\u001b[0m \u001b[0my\u001b[0m\u001b[0;34m,\u001b[0m \u001b[0mgroups\u001b[0m\u001b[0;34m)\u001b[0m\u001b[0;34m)\u001b[0m\u001b[0;34m\u001b[0m\u001b[0;34m\u001b[0m\u001b[0m\n\u001b[0m\u001b[1;32m    852\u001b[0m                     )\n\u001b[1;32m    853\u001b[0m                 )\n",
            "\u001b[0;32m/usr/local/lib/python3.7/dist-packages/joblib/parallel.py\u001b[0m in \u001b[0;36m__call__\u001b[0;34m(self, iterable)\u001b[0m\n\u001b[1;32m   1054\u001b[0m \u001b[0;34m\u001b[0m\u001b[0m\n\u001b[1;32m   1055\u001b[0m             \u001b[0;32mwith\u001b[0m \u001b[0mself\u001b[0m\u001b[0;34m.\u001b[0m\u001b[0m_backend\u001b[0m\u001b[0;34m.\u001b[0m\u001b[0mretrieval_context\u001b[0m\u001b[0;34m(\u001b[0m\u001b[0;34m)\u001b[0m\u001b[0;34m:\u001b[0m\u001b[0;34m\u001b[0m\u001b[0;34m\u001b[0m\u001b[0m\n\u001b[0;32m-> 1056\u001b[0;31m                 \u001b[0mself\u001b[0m\u001b[0;34m.\u001b[0m\u001b[0mretrieve\u001b[0m\u001b[0;34m(\u001b[0m\u001b[0;34m)\u001b[0m\u001b[0;34m\u001b[0m\u001b[0;34m\u001b[0m\u001b[0m\n\u001b[0m\u001b[1;32m   1057\u001b[0m             \u001b[0;31m# Make sure that we get a last message telling us we are done\u001b[0m\u001b[0;34m\u001b[0m\u001b[0;34m\u001b[0m\u001b[0;34m\u001b[0m\u001b[0m\n\u001b[1;32m   1058\u001b[0m             \u001b[0melapsed_time\u001b[0m \u001b[0;34m=\u001b[0m \u001b[0mtime\u001b[0m\u001b[0;34m.\u001b[0m\u001b[0mtime\u001b[0m\u001b[0;34m(\u001b[0m\u001b[0;34m)\u001b[0m \u001b[0;34m-\u001b[0m \u001b[0mself\u001b[0m\u001b[0;34m.\u001b[0m\u001b[0m_start_time\u001b[0m\u001b[0;34m\u001b[0m\u001b[0;34m\u001b[0m\u001b[0m\n",
            "\u001b[0;32m/usr/local/lib/python3.7/dist-packages/joblib/parallel.py\u001b[0m in \u001b[0;36mretrieve\u001b[0;34m(self)\u001b[0m\n\u001b[1;32m    933\u001b[0m             \u001b[0;32mtry\u001b[0m\u001b[0;34m:\u001b[0m\u001b[0;34m\u001b[0m\u001b[0;34m\u001b[0m\u001b[0m\n\u001b[1;32m    934\u001b[0m                 \u001b[0;32mif\u001b[0m \u001b[0mgetattr\u001b[0m\u001b[0;34m(\u001b[0m\u001b[0mself\u001b[0m\u001b[0;34m.\u001b[0m\u001b[0m_backend\u001b[0m\u001b[0;34m,\u001b[0m \u001b[0;34m'supports_timeout'\u001b[0m\u001b[0;34m,\u001b[0m \u001b[0;32mFalse\u001b[0m\u001b[0;34m)\u001b[0m\u001b[0;34m:\u001b[0m\u001b[0;34m\u001b[0m\u001b[0;34m\u001b[0m\u001b[0m\n\u001b[0;32m--> 935\u001b[0;31m                     \u001b[0mself\u001b[0m\u001b[0;34m.\u001b[0m\u001b[0m_output\u001b[0m\u001b[0;34m.\u001b[0m\u001b[0mextend\u001b[0m\u001b[0;34m(\u001b[0m\u001b[0mjob\u001b[0m\u001b[0;34m.\u001b[0m\u001b[0mget\u001b[0m\u001b[0;34m(\u001b[0m\u001b[0mtimeout\u001b[0m\u001b[0;34m=\u001b[0m\u001b[0mself\u001b[0m\u001b[0;34m.\u001b[0m\u001b[0mtimeout\u001b[0m\u001b[0;34m)\u001b[0m\u001b[0;34m)\u001b[0m\u001b[0;34m\u001b[0m\u001b[0;34m\u001b[0m\u001b[0m\n\u001b[0m\u001b[1;32m    936\u001b[0m                 \u001b[0;32melse\u001b[0m\u001b[0;34m:\u001b[0m\u001b[0;34m\u001b[0m\u001b[0;34m\u001b[0m\u001b[0m\n\u001b[1;32m    937\u001b[0m                     \u001b[0mself\u001b[0m\u001b[0;34m.\u001b[0m\u001b[0m_output\u001b[0m\u001b[0;34m.\u001b[0m\u001b[0mextend\u001b[0m\u001b[0;34m(\u001b[0m\u001b[0mjob\u001b[0m\u001b[0;34m.\u001b[0m\u001b[0mget\u001b[0m\u001b[0;34m(\u001b[0m\u001b[0;34m)\u001b[0m\u001b[0;34m)\u001b[0m\u001b[0;34m\u001b[0m\u001b[0;34m\u001b[0m\u001b[0m\n",
            "\u001b[0;32m/usr/local/lib/python3.7/dist-packages/joblib/_parallel_backends.py\u001b[0m in \u001b[0;36mwrap_future_result\u001b[0;34m(future, timeout)\u001b[0m\n\u001b[1;32m    540\u001b[0m         AsyncResults.get from multiprocessing.\"\"\"\n\u001b[1;32m    541\u001b[0m         \u001b[0;32mtry\u001b[0m\u001b[0;34m:\u001b[0m\u001b[0;34m\u001b[0m\u001b[0;34m\u001b[0m\u001b[0m\n\u001b[0;32m--> 542\u001b[0;31m             \u001b[0;32mreturn\u001b[0m \u001b[0mfuture\u001b[0m\u001b[0;34m.\u001b[0m\u001b[0mresult\u001b[0m\u001b[0;34m(\u001b[0m\u001b[0mtimeout\u001b[0m\u001b[0;34m=\u001b[0m\u001b[0mtimeout\u001b[0m\u001b[0;34m)\u001b[0m\u001b[0;34m\u001b[0m\u001b[0;34m\u001b[0m\u001b[0m\n\u001b[0m\u001b[1;32m    543\u001b[0m         \u001b[0;32mexcept\u001b[0m \u001b[0mCfTimeoutError\u001b[0m \u001b[0;32mas\u001b[0m \u001b[0me\u001b[0m\u001b[0;34m:\u001b[0m\u001b[0;34m\u001b[0m\u001b[0;34m\u001b[0m\u001b[0m\n\u001b[1;32m    544\u001b[0m             \u001b[0;32mraise\u001b[0m \u001b[0mTimeoutError\u001b[0m \u001b[0;32mfrom\u001b[0m \u001b[0me\u001b[0m\u001b[0;34m\u001b[0m\u001b[0;34m\u001b[0m\u001b[0m\n",
            "\u001b[0;32m/usr/lib/python3.7/concurrent/futures/_base.py\u001b[0m in \u001b[0;36mresult\u001b[0;34m(self, timeout)\u001b[0m\n\u001b[1;32m    428\u001b[0m                 \u001b[0;32mreturn\u001b[0m \u001b[0mself\u001b[0m\u001b[0;34m.\u001b[0m\u001b[0m__get_result\u001b[0m\u001b[0;34m(\u001b[0m\u001b[0;34m)\u001b[0m\u001b[0;34m\u001b[0m\u001b[0;34m\u001b[0m\u001b[0m\n\u001b[1;32m    429\u001b[0m \u001b[0;34m\u001b[0m\u001b[0m\n\u001b[0;32m--> 430\u001b[0;31m             \u001b[0mself\u001b[0m\u001b[0;34m.\u001b[0m\u001b[0m_condition\u001b[0m\u001b[0;34m.\u001b[0m\u001b[0mwait\u001b[0m\u001b[0;34m(\u001b[0m\u001b[0mtimeout\u001b[0m\u001b[0;34m)\u001b[0m\u001b[0;34m\u001b[0m\u001b[0;34m\u001b[0m\u001b[0m\n\u001b[0m\u001b[1;32m    431\u001b[0m \u001b[0;34m\u001b[0m\u001b[0m\n\u001b[1;32m    432\u001b[0m             \u001b[0;32mif\u001b[0m \u001b[0mself\u001b[0m\u001b[0;34m.\u001b[0m\u001b[0m_state\u001b[0m \u001b[0;32min\u001b[0m \u001b[0;34m[\u001b[0m\u001b[0mCANCELLED\u001b[0m\u001b[0;34m,\u001b[0m \u001b[0mCANCELLED_AND_NOTIFIED\u001b[0m\u001b[0;34m]\u001b[0m\u001b[0;34m:\u001b[0m\u001b[0;34m\u001b[0m\u001b[0;34m\u001b[0m\u001b[0m\n",
            "\u001b[0;32m/usr/lib/python3.7/threading.py\u001b[0m in \u001b[0;36mwait\u001b[0;34m(self, timeout)\u001b[0m\n\u001b[1;32m    294\u001b[0m         \u001b[0;32mtry\u001b[0m\u001b[0;34m:\u001b[0m    \u001b[0;31m# restore state no matter what (e.g., KeyboardInterrupt)\u001b[0m\u001b[0;34m\u001b[0m\u001b[0;34m\u001b[0m\u001b[0m\n\u001b[1;32m    295\u001b[0m             \u001b[0;32mif\u001b[0m \u001b[0mtimeout\u001b[0m \u001b[0;32mis\u001b[0m \u001b[0;32mNone\u001b[0m\u001b[0;34m:\u001b[0m\u001b[0;34m\u001b[0m\u001b[0;34m\u001b[0m\u001b[0m\n\u001b[0;32m--> 296\u001b[0;31m                 \u001b[0mwaiter\u001b[0m\u001b[0;34m.\u001b[0m\u001b[0macquire\u001b[0m\u001b[0;34m(\u001b[0m\u001b[0;34m)\u001b[0m\u001b[0;34m\u001b[0m\u001b[0;34m\u001b[0m\u001b[0m\n\u001b[0m\u001b[1;32m    297\u001b[0m                 \u001b[0mgotit\u001b[0m \u001b[0;34m=\u001b[0m \u001b[0;32mTrue\u001b[0m\u001b[0;34m\u001b[0m\u001b[0;34m\u001b[0m\u001b[0m\n\u001b[1;32m    298\u001b[0m             \u001b[0;32melse\u001b[0m\u001b[0;34m:\u001b[0m\u001b[0;34m\u001b[0m\u001b[0;34m\u001b[0m\u001b[0m\n",
            "\u001b[0;31mKeyboardInterrupt\u001b[0m: "
          ]
        }
      ],
      "source": [
        "sm_rf = 0\n",
        "cnt = 0\n",
        "fin_pred = {}\n",
        "bestScore = [] \n",
        "bestParameter = []\n",
        "#idStore = df.index.get_level_values(0).unique()\n",
        "idStore = [1,2,3] \n",
        "for i in tqdm(idStore): \n",
        "    for j in df.index.get_level_values(1).unique():\n",
        "        df_ = df.loc[(i, j)]\n",
        "        test_id = df_[df_['sales'].isna()]['id']\n",
        "        df_ = df_.drop(columns=['id', 'transactions'])\n",
        "        train = df_[~df_['sales'].isna()]\n",
        "        X = train.drop(['sales'], axis =1 )\n",
        "        y = train['sales'] \n",
        "        X.shape, y.shape\n",
        "        X_train, y_train, X_val , y_val = split_func (train, X , y, test_size = 0.2,  shuffle = False) \n",
        "        y_train = np.log1p(y_train)\n",
        "        #y_test = np.log1p(y_test)\n",
        "        best_score, best_params = Grid_Search_CV_RFR(X_train, y_train) \n",
        "        bestScore.append(best_score)\n",
        "        bestParameter.append(best_params) \n",
        "        print(best_score)\n",
        "        print(best_params)\n",
        "        break"
      ],
      "id": "TbLj7DF0njF5"
    },
    {
      "cell_type": "code",
      "execution_count": null,
      "metadata": {
        "id": "eUUI2FormfBP"
      },
      "outputs": [],
      "source": [
        "sm_rf = 0\n",
        "cnt = 0\n",
        "fin_pred = {}\n",
        "visulizeScore = []\n",
        "#idStore = df.index.get_level_values(0).unique()\n",
        "idStore = [1,2,3] \n",
        "count = 0 \n",
        "for i in tqdm(idStore): \n",
        "    for j in df.index.get_level_values(1).unique():\n",
        "        df_ = df.loc[(i, j)]\n",
        "        test_data = df_[df_['sales'].isna()]\n",
        "        test_id = df_[df_['sales'].isna()]['id']\n",
        "        df_ = df_.drop(columns=['id', 'transactions'])\n",
        "\n",
        "        train = df_[~df_['sales'].isna()]\n",
        "        X_test = df_[df_['sales'].isna()].drop(columns=['sales'])\n",
        "        X = train.drop(['sales'], axis =1 )\n",
        "        y = train['sales'] \n",
        "        X.shape, y.shape\n",
        "        X_train, y_train, X_val , y_val = split_func (train, X , y, test_size = 0.2,  shuffle = False) \n",
        "        y_train = np.log1p(y_train)\n",
        "        y_test = np.log1p(y_test)\n",
        "\n",
        "        model = RandomForestRegressor(n_jobs=-1).set_params(**bestParameter[count])\n",
        "        weights = get_weights_distribution(5, X_train.index)\n",
        "        model.fit(X_train, y_train, sample_weight=weights)\n",
        "\n",
        "        preds = model.predict(X_val)\n",
        "        preds_ = model.predict(X_test)\n",
        "\n",
        "        for q in range(preds_.shape[0]):\n",
        "            fin_pred[test_id[q]] = preds_[q]\n",
        "        \n",
        "        sm_rf += msle(np.exp(y_val) - 1, (np.exp(preds) - 1).clip(0))\n",
        "        cnt += 1\n",
        "        count +=1 \n",
        "        break\n",
        "    print((sm_rf / cnt)**0.5)\n",
        "    visulizeScore.append((sm_rf / cnt)**0.5) \n",
        "print((sm_rf / cnt)**0.5)"
      ],
      "id": "eUUI2FormfBP"
    },
    {
      "cell_type": "code",
      "execution_count": null,
      "metadata": {
        "id": "hdgKvFDfs2Gp"
      },
      "outputs": [],
      "source": [
        "sm_rf = 0\n",
        "cnt = 0\n",
        "fin_pred = {}\n",
        "visulizeScore = []\n",
        "#idStore = df.index.get_level_values(0).unique()\n",
        "idStore = [1] \n",
        "count = 0 \n",
        "for i in tqdm(idStore): \n",
        "    for j in df.index.get_level_values(1).unique():\n",
        "        df_ = df.loc[(i, j)]\n",
        "        test_data = df_[df_['sales'].isna()]\n",
        "        test_id = df_[df_['sales'].isna()]['id']\n",
        "        df_ = df_.drop(columns=['id', 'transactions'])\n",
        "\n",
        "        train = df_[~df_['sales'].isna()]\n",
        "        X = train.drop(['sales'], axis =1 )\n",
        "        y = train['sales'] \n",
        "        X.shape, y.shape\n",
        "        X_train, y_train, X_val , y_val = split_func (train, X , y, test_size = 0.2,  shuffle = False) \n",
        "\n",
        "        y_train = np.log1p(y_train)\n",
        "        y_test = np.log1p(y_test)\n",
        "\n",
        "        title = 'Learning with dropped features'\n",
        "        label_curve = {'train': 'train', 'test':'cv'}\n",
        "\n",
        "        #model = RandomForestRegressor(**good_p[0], random_state=0)\n",
        "        estimator = RandomForestRegressor(n_jobs=-1).set_params(**best_params)\n",
        "        estimator.fit(X_train,y_train)\n",
        "        plot_learning_curve(estimator, title, label_curve, X_train, y_train, cv=5)\n",
        "        break\n",
        "        #learning_curves(model, X_train, y_train )"
      ],
      "id": "hdgKvFDfs2Gp"
    },
    {
      "cell_type": "markdown",
      "metadata": {
        "id": "MON8664Vv_W1"
      },
      "source": [
        "### Step 4: Final training and test"
      ],
      "id": "MON8664Vv_W1"
    },
    {
      "cell_type": "code",
      "execution_count": null,
      "metadata": {
        "colab": {
          "base_uri": "https://localhost:8080/"
        },
        "id": "529cd263",
        "outputId": "12fa26c7-438a-407a-9ec8-088d745c7b30"
      },
      "outputs": [
        {
          "name": "stderr",
          "output_type": "stream",
          "text": [
            "  2%|▏         | 1/54 [00:45<40:34, 45.94s/it]"
          ]
        },
        {
          "name": "stdout",
          "output_type": "stream",
          "text": [
            "0.3668792574373401\n"
          ]
        },
        {
          "name": "stderr",
          "output_type": "stream",
          "text": [
            "\r  4%|▎         | 2/54 [01:28<38:02, 43.90s/it]"
          ]
        },
        {
          "name": "stdout",
          "output_type": "stream",
          "text": [
            "0.3662993960446776\n"
          ]
        },
        {
          "name": "stderr",
          "output_type": "stream",
          "text": [
            "\r  6%|▌         | 3/54 [02:12<37:22, 43.97s/it]"
          ]
        },
        {
          "name": "stdout",
          "output_type": "stream",
          "text": [
            "0.3521044238676025\n"
          ]
        },
        {
          "name": "stderr",
          "output_type": "stream",
          "text": [
            "\r  7%|▋         | 4/54 [02:56<36:46, 44.14s/it]"
          ]
        },
        {
          "name": "stdout",
          "output_type": "stream",
          "text": [
            "0.35207847776793977\n"
          ]
        },
        {
          "name": "stderr",
          "output_type": "stream",
          "text": [
            "\r  9%|▉         | 5/54 [03:40<35:49, 43.87s/it]"
          ]
        },
        {
          "name": "stdout",
          "output_type": "stream",
          "text": [
            "0.35956326209254846\n"
          ]
        },
        {
          "name": "stderr",
          "output_type": "stream",
          "text": [
            "\r 11%|█         | 6/54 [04:20<33:59, 42.50s/it]"
          ]
        },
        {
          "name": "stdout",
          "output_type": "stream",
          "text": [
            "0.35235659730678626\n"
          ]
        },
        {
          "name": "stderr",
          "output_type": "stream",
          "text": [
            "\r 13%|█▎        | 7/54 [05:03<33:26, 42.69s/it]"
          ]
        },
        {
          "name": "stdout",
          "output_type": "stream",
          "text": [
            "0.3530181145479408\n"
          ]
        },
        {
          "name": "stderr",
          "output_type": "stream",
          "text": [
            "\r 15%|█▍        | 8/54 [05:45<32:36, 42.53s/it]"
          ]
        },
        {
          "name": "stdout",
          "output_type": "stream",
          "text": [
            "0.3492869207941494\n"
          ]
        },
        {
          "name": "stderr",
          "output_type": "stream",
          "text": [
            "\r 17%|█▋        | 9/54 [06:25<31:26, 41.92s/it]"
          ]
        },
        {
          "name": "stdout",
          "output_type": "stream",
          "text": [
            "0.358383678085368\n"
          ]
        },
        {
          "name": "stderr",
          "output_type": "stream",
          "text": [
            "\r 19%|█▊        | 10/54 [07:06<30:20, 41.37s/it]"
          ]
        },
        {
          "name": "stdout",
          "output_type": "stream",
          "text": [
            "0.3663204711622803\n"
          ]
        },
        {
          "name": "stderr",
          "output_type": "stream",
          "text": [
            "\r 20%|██        | 11/54 [07:48<29:50, 41.64s/it]"
          ]
        },
        {
          "name": "stdout",
          "output_type": "stream",
          "text": [
            "0.37123221785302785\n"
          ]
        },
        {
          "name": "stderr",
          "output_type": "stream",
          "text": [
            "\r 22%|██▏       | 12/54 [08:28<28:52, 41.24s/it]"
          ]
        },
        {
          "name": "stdout",
          "output_type": "stream",
          "text": [
            "0.3764524087482408\n"
          ]
        },
        {
          "name": "stderr",
          "output_type": "stream",
          "text": [
            "\r 24%|██▍       | 13/54 [09:07<27:46, 40.64s/it]"
          ]
        },
        {
          "name": "stdout",
          "output_type": "stream",
          "text": [
            "0.3839041398824714\n"
          ]
        },
        {
          "name": "stderr",
          "output_type": "stream",
          "text": [
            "\r 26%|██▌       | 14/54 [09:48<27:02, 40.56s/it]"
          ]
        },
        {
          "name": "stdout",
          "output_type": "stream",
          "text": [
            "0.3923090071710801\n"
          ]
        },
        {
          "name": "stderr",
          "output_type": "stream",
          "text": [
            "\r 28%|██▊       | 15/54 [10:29<26:30, 40.79s/it]"
          ]
        },
        {
          "name": "stdout",
          "output_type": "stream",
          "text": [
            "0.39423233730235613\n"
          ]
        },
        {
          "name": "stderr",
          "output_type": "stream",
          "text": [
            "\r 30%|██▉       | 16/54 [11:09<25:35, 40.40s/it]"
          ]
        },
        {
          "name": "stdout",
          "output_type": "stream",
          "text": [
            "0.4019435061290503\n"
          ]
        },
        {
          "name": "stderr",
          "output_type": "stream",
          "text": [
            "\r 31%|███▏      | 17/54 [11:48<24:45, 40.14s/it]"
          ]
        },
        {
          "name": "stdout",
          "output_type": "stream",
          "text": [
            "0.4045058106813443\n"
          ]
        },
        {
          "name": "stderr",
          "output_type": "stream",
          "text": [
            "\r 33%|███▎      | 18/54 [12:22<22:52, 38.12s/it]"
          ]
        },
        {
          "name": "stdout",
          "output_type": "stream",
          "text": [
            "0.40875149190317556\n"
          ]
        },
        {
          "name": "stderr",
          "output_type": "stream",
          "text": [
            "\r 35%|███▌      | 19/54 [13:03<22:53, 39.23s/it]"
          ]
        },
        {
          "name": "stdout",
          "output_type": "stream",
          "text": [
            "0.41286534068058317\n"
          ]
        },
        {
          "name": "stderr",
          "output_type": "stream",
          "text": [
            "\r 37%|███▋      | 20/54 [13:44<22:33, 39.80s/it]"
          ]
        },
        {
          "name": "stdout",
          "output_type": "stream",
          "text": [
            "0.41475516300503895\n"
          ]
        },
        {
          "name": "stderr",
          "output_type": "stream",
          "text": [
            "\r 39%|███▉      | 21/54 [14:26<22:08, 40.27s/it]"
          ]
        },
        {
          "name": "stdout",
          "output_type": "stream",
          "text": [
            "0.41887975589243936\n"
          ]
        },
        {
          "name": "stderr",
          "output_type": "stream",
          "text": [
            "\r 41%|████      | 22/54 [15:06<21:24, 40.14s/it]"
          ]
        },
        {
          "name": "stdout",
          "output_type": "stream",
          "text": [
            "0.4229223521844945\n"
          ]
        },
        {
          "name": "stderr",
          "output_type": "stream",
          "text": [
            "\r 43%|████▎     | 23/54 [15:48<21:03, 40.76s/it]"
          ]
        },
        {
          "name": "stdout",
          "output_type": "stream",
          "text": [
            "0.42235601481086926\n"
          ]
        },
        {
          "name": "stderr",
          "output_type": "stream",
          "text": [
            "\r 44%|████▍     | 24/54 [16:31<20:45, 41.52s/it]"
          ]
        },
        {
          "name": "stdout",
          "output_type": "stream",
          "text": [
            "0.42029356774952303\n"
          ]
        },
        {
          "name": "stderr",
          "output_type": "stream",
          "text": [
            "\r 46%|████▋     | 25/54 [17:10<19:38, 40.63s/it]"
          ]
        },
        {
          "name": "stdout",
          "output_type": "stream",
          "text": [
            "0.42279750581855524\n"
          ]
        },
        {
          "name": "stderr",
          "output_type": "stream",
          "text": [
            "\r 48%|████▊     | 26/54 [17:52<19:08, 41.03s/it]"
          ]
        },
        {
          "name": "stdout",
          "output_type": "stream",
          "text": [
            "0.4269851908647744\n"
          ]
        },
        {
          "name": "stderr",
          "output_type": "stream",
          "text": [
            "\r 50%|█████     | 27/54 [18:33<18:31, 41.17s/it]"
          ]
        },
        {
          "name": "stdout",
          "output_type": "stream",
          "text": [
            "0.42610756411549056\n"
          ]
        },
        {
          "name": "stderr",
          "output_type": "stream",
          "text": [
            "\r 52%|█████▏    | 28/54 [19:13<17:37, 40.66s/it]"
          ]
        },
        {
          "name": "stdout",
          "output_type": "stream",
          "text": [
            "0.4273003057544437\n"
          ]
        },
        {
          "name": "stderr",
          "output_type": "stream",
          "text": [
            "\r 54%|█████▎    | 29/54 [19:52<16:48, 40.34s/it]"
          ]
        },
        {
          "name": "stdout",
          "output_type": "stream",
          "text": [
            "0.4278573522409426\n"
          ]
        },
        {
          "name": "stderr",
          "output_type": "stream",
          "text": [
            "\r 56%|█████▌    | 30/54 [20:35<16:24, 41.02s/it]"
          ]
        },
        {
          "name": "stdout",
          "output_type": "stream",
          "text": [
            "0.4312708985411543\n"
          ]
        },
        {
          "name": "stderr",
          "output_type": "stream",
          "text": [
            "\r 57%|█████▋    | 31/54 [21:17<15:54, 41.50s/it]"
          ]
        },
        {
          "name": "stdout",
          "output_type": "stream",
          "text": [
            "0.4321247932149193\n"
          ]
        },
        {
          "name": "stderr",
          "output_type": "stream",
          "text": [
            "\r 59%|█████▉    | 32/54 [21:57<14:57, 40.79s/it]"
          ]
        },
        {
          "name": "stdout",
          "output_type": "stream",
          "text": [
            "0.43781562343131347\n"
          ]
        },
        {
          "name": "stderr",
          "output_type": "stream",
          "text": [
            "\r 61%|██████    | 33/54 [22:36<14:06, 40.31s/it]"
          ]
        },
        {
          "name": "stdout",
          "output_type": "stream",
          "text": [
            "0.43789936147915876\n"
          ]
        },
        {
          "name": "stderr",
          "output_type": "stream",
          "text": [
            "\r 63%|██████▎   | 34/54 [23:18<13:39, 40.98s/it]"
          ]
        },
        {
          "name": "stdout",
          "output_type": "stream",
          "text": [
            "0.43886712480979423\n"
          ]
        },
        {
          "name": "stderr",
          "output_type": "stream",
          "text": [
            "\r 65%|██████▍   | 35/54 [23:58<12:50, 40.56s/it]"
          ]
        },
        {
          "name": "stdout",
          "output_type": "stream",
          "text": [
            "0.43956460484054194\n"
          ]
        },
        {
          "name": "stderr",
          "output_type": "stream",
          "text": [
            "\r 67%|██████▋   | 36/54 [24:40<12:15, 40.89s/it]"
          ]
        },
        {
          "name": "stdout",
          "output_type": "stream",
          "text": [
            "0.4406513663873084\n"
          ]
        },
        {
          "name": "stderr",
          "output_type": "stream",
          "text": [
            "\r 69%|██████▊   | 37/54 [25:23<11:49, 41.76s/it]"
          ]
        },
        {
          "name": "stdout",
          "output_type": "stream",
          "text": [
            "0.4391784695095401\n"
          ]
        },
        {
          "name": "stderr",
          "output_type": "stream",
          "text": [
            "\r 70%|███████   | 38/54 [26:05<11:06, 41.67s/it]"
          ]
        },
        {
          "name": "stdout",
          "output_type": "stream",
          "text": [
            "0.4382120299118424\n"
          ]
        },
        {
          "name": "stderr",
          "output_type": "stream",
          "text": [
            "\r 72%|███████▏  | 39/54 [26:47<10:27, 41.83s/it]"
          ]
        },
        {
          "name": "stdout",
          "output_type": "stream",
          "text": [
            "0.4378945216922193\n"
          ]
        },
        {
          "name": "stderr",
          "output_type": "stream",
          "text": [
            "\r 74%|███████▍  | 40/54 [27:28<09:42, 41.58s/it]"
          ]
        },
        {
          "name": "stdout",
          "output_type": "stream",
          "text": [
            "0.43764333327511773\n"
          ]
        },
        {
          "name": "stderr",
          "output_type": "stream",
          "text": [
            "\r 76%|███████▌  | 41/54 [28:09<08:58, 41.44s/it]"
          ]
        },
        {
          "name": "stdout",
          "output_type": "stream",
          "text": [
            "0.43783670153215337\n"
          ]
        },
        {
          "name": "stderr",
          "output_type": "stream",
          "text": [
            "\r 78%|███████▊  | 42/54 [28:50<08:16, 41.35s/it]"
          ]
        },
        {
          "name": "stdout",
          "output_type": "stream",
          "text": [
            "0.4361222488705713\n"
          ]
        },
        {
          "name": "stderr",
          "output_type": "stream",
          "text": [
            "\r 80%|███████▉  | 43/54 [29:30<07:28, 40.77s/it]"
          ]
        },
        {
          "name": "stdout",
          "output_type": "stream",
          "text": [
            "0.4401388652895545\n"
          ]
        },
        {
          "name": "stderr",
          "output_type": "stream",
          "text": [
            "\r 81%|████████▏ | 44/54 [30:11<06:49, 40.95s/it]"
          ]
        },
        {
          "name": "stdout",
          "output_type": "stream",
          "text": [
            "0.4384007598762269\n"
          ]
        },
        {
          "name": "stderr",
          "output_type": "stream",
          "text": [
            "\r 83%|████████▎ | 45/54 [30:52<06:08, 40.98s/it]"
          ]
        },
        {
          "name": "stdout",
          "output_type": "stream",
          "text": [
            "0.4373204376766911\n"
          ]
        },
        {
          "name": "stderr",
          "output_type": "stream",
          "text": [
            "\r 85%|████████▌ | 46/54 [31:33<05:28, 41.07s/it]"
          ]
        },
        {
          "name": "stdout",
          "output_type": "stream",
          "text": [
            "0.4360334085959272\n"
          ]
        },
        {
          "name": "stderr",
          "output_type": "stream",
          "text": [
            "\r 87%|████████▋ | 47/54 [32:14<04:46, 40.94s/it]"
          ]
        },
        {
          "name": "stdout",
          "output_type": "stream",
          "text": [
            "0.4355112312088646\n"
          ]
        },
        {
          "name": "stderr",
          "output_type": "stream",
          "text": [
            "\r 89%|████████▉ | 48/54 [32:55<04:04, 40.82s/it]"
          ]
        },
        {
          "name": "stdout",
          "output_type": "stream",
          "text": [
            "0.43429668189578896\n"
          ]
        },
        {
          "name": "stderr",
          "output_type": "stream",
          "text": [
            "\r 91%|█████████ | 49/54 [33:35<03:23, 40.73s/it]"
          ]
        },
        {
          "name": "stdout",
          "output_type": "stream",
          "text": [
            "0.4333406867093326\n"
          ]
        },
        {
          "name": "stderr",
          "output_type": "stream",
          "text": [
            "\r 93%|█████████▎| 50/54 [34:16<02:42, 40.69s/it]"
          ]
        },
        {
          "name": "stdout",
          "output_type": "stream",
          "text": [
            "0.43304985117503775\n"
          ]
        },
        {
          "name": "stderr",
          "output_type": "stream",
          "text": [
            "\r 94%|█████████▍| 51/54 [34:57<02:02, 40.82s/it]"
          ]
        },
        {
          "name": "stdout",
          "output_type": "stream",
          "text": [
            "0.4348135464395135\n"
          ]
        },
        {
          "name": "stderr",
          "output_type": "stream",
          "text": [
            "\r 96%|█████████▋| 52/54 [35:11<01:05, 32.98s/it]"
          ]
        },
        {
          "name": "stdout",
          "output_type": "stream",
          "text": [
            "0.43477615392949187\n"
          ]
        },
        {
          "name": "stderr",
          "output_type": "stream",
          "text": [
            "\r 98%|█████████▊| 53/54 [35:53<00:35, 35.46s/it]"
          ]
        },
        {
          "name": "stdout",
          "output_type": "stream",
          "text": [
            "0.43449938709676783\n"
          ]
        },
        {
          "name": "stderr",
          "output_type": "stream",
          "text": [
            "100%|██████████| 54/54 [36:32<00:00, 40.59s/it]"
          ]
        },
        {
          "name": "stdout",
          "output_type": "stream",
          "text": [
            "0.4349564206171193\n",
            "0.4349564206171193\n"
          ]
        },
        {
          "name": "stderr",
          "output_type": "stream",
          "text": [
            "\n"
          ]
        }
      ],
      "source": [
        "sm_rf = 0\n",
        "cnt = 0\n",
        "fin_pred = {}\n",
        "visulizeScore = []\n",
        "idStore = df.index.get_level_values(0).unique()\n",
        "#idStore = [1,2,3] \n",
        "count = 0 \n",
        "for i in tqdm(idStore): \n",
        "    for j in df.index.get_level_values(1).unique():\n",
        "        df_ = df.loc[(i, j)]\n",
        "        test_data = df_[df_['sales'].isna()]\n",
        "        test_id = df_[df_['sales'].isna()]['id']\n",
        "        df_ = df_.drop(columns=['id', 'transactions'])\n",
        "\n",
        "        X_test = df_[df_['sales'].isna()].drop(columns=['sales'])\n",
        "        train = df_[~df_['sales'].isna()]\n",
        "        X = train.drop(['sales'], axis =1 )\n",
        "        y = train['sales'] \n",
        "        X.shape, y.shape\n",
        "        X_train, y_train, X_val , y_val = split_func (train, X , y, test_size = 0.2,  shuffle = False) \n",
        "\n",
        "        y_train = np.log1p(y_train)\n",
        "        #y_test = np.log1p(y_test)\n",
        "        y_val = np.log1p(y_val)\n",
        "\n",
        "        model = RandomForestRegressor(**good_p[0], random_state=0)\n",
        "        weights = get_weights_distribution(5, X_train.index)\n",
        "        model.fit(X_train, y_train, sample_weight=weights)\n",
        "\n",
        "        preds = model.predict(X_val)\n",
        "        preds_ = model.predict(X_test)\n",
        "\n",
        "        for q in range(preds_.shape[0]):\n",
        "            fin_pred[test_id[q]] = preds_[q]\n",
        "        \n",
        "        sm_rf += msle(np.exp(y_val) - 1, (np.exp(preds) - 1).clip(0))\n",
        "        cnt += 1\n",
        "        count +=1 \n",
        "    print((sm_rf / cnt)**0.5)\n",
        "    visulizeScore.append((sm_rf / cnt)**0.5) \n",
        "print((sm_rf / cnt)**0.5)\n",
        "\n",
        "labels = np.array(idStore).astype(str)\n",
        "# creating the bar plot\n",
        "plt.figure(figsize=(20,8))\n",
        "plt.bar(labels, visulizeScore, color ='red', width = 0.4)\n",
        "plt.xlabel(\"ID Store\")\n",
        "plt.ylabel(\"Score RMSE\")\n",
        "plt.title(\"Compare methods\")\n",
        "plt.show()\n"
      ],
      "id": "529cd263"
    },
    {
      "cell_type": "code",
      "execution_count": null,
      "metadata": {
        "colab": {
          "base_uri": "https://localhost:8080/",
          "height": 513
        },
        "id": "QpksxgsniF3y",
        "outputId": "ba331d3d-127a-4a56-d733-15a83a734860"
      },
      "outputs": [
        {
          "data": {
            "image/png": "[encoded data removed]",
            "text/plain": [
              "<Figure size 1440x576 with 1 Axes>"
            ]
          },
          "metadata": {},
          "output_type": "display_data"
        }
      ],
      "source": [
        "    labels = np.array(idStore).astype(str)\n",
        "    # creating the bar plot\n",
        "    plt.figure(figsize=(20,8))\n",
        "    plt.bar(labels, visulizeScore, color ='red', width = 0.4)\n",
        "    plt.xlabel(\"ID Store\")\n",
        "    plt.ylabel(\"Score RMSE\")\n",
        "    plt.title(\"Compare methods\")\n",
        "    plt.show()"
      ],
      "id": "QpksxgsniF3y"
    },
    {
      "cell_type": "markdown",
      "metadata": {
        "id": "9BNApKEXwOCb"
      },
      "source": [
        "# Strategy 2: Training với toàn bộ data 1 model"
      ],
      "id": "9BNApKEXwOCb"
    },
    {
      "cell_type": "code",
      "execution_count": null,
      "metadata": {
        "colab": {
          "base_uri": "https://localhost:8080/"
        },
        "id": "PVGdV2DIxYXO",
        "outputId": "00cd5b52-2013-46bd-fb2a-9bf6a9e3d3c7"
      },
      "outputs": [
        {
          "name": "stdout",
          "output_type": "stream",
          "text": [
            "{'AUTOMOTIVE': 1, 'BABY CARE': 2, 'BEAUTY': 3, 'BEVERAGES': 4, 'BOOKS': 5, 'BREAD/BAKERY': 6, 'CELEBRATION': 7, 'CLEANING': 8, 'DAIRY': 9, 'DELI': 10, 'EGGS': 11, 'FROZEN FOODS': 12, 'GROCERY I': 13, 'GROCERY II': 14, 'HARDWARE': 15, 'HOME AND KITCHEN I': 16, 'HOME AND KITCHEN II': 17, 'HOME APPLIANCES': 18, 'HOME CARE': 19, 'LADIESWEAR': 20, 'LAWN AND GARDEN': 21, 'LINGERIE': 22, 'LIQUOR,WINE,BEER': 23, 'MAGAZINES': 24, 'MEATS': 25, 'PERSONAL CARE': 26, 'PET SUPPLIES': 27, 'PLAYERS AND ELECTRONICS': 28, 'POULTRY': 29, 'PREPARED FOODS': 30, 'PRODUCE': 31, 'SCHOOL AND OFFICE SUPPLIES': 32, 'SEAFOOD': 33}\n"
          ]
        }
      ],
      "source": [
        "data = df.copy()\n",
        "data = df[~df['sales'].isna()]\n",
        "data.reset_index(inplace = True)\n",
        "data['family'] = str_to_num(data['family'])\n",
        "X = data.drop(['sales','date','id','transactions'], axis =1 ) \n",
        "y = data['sales'] \n",
        "X_train, y_train, X_val , y_val = split_func (data, X , y, test_size = 0.2,  shuffle = False)\n",
        "y_train = np.log1p(y_train.values)\n",
        "model = RandomForestRegressor()\n",
        "model.fit(X_train, y_train)\n",
        "preds = model.predict(X_val)\n",
        "y_val = np.log1p(y_val.values)\n",
        "print( \"RMSE: \", msle(np.exp(y_val) - 1, (np.exp(preds) - 1).clip(0)) ) \n",
        "#y_train.isna().sum()"
      ],
      "id": "PVGdV2DIxYXO"
    },
    {
      "cell_type": "code",
      "execution_count": null,
      "metadata": {
        "colab": {
          "base_uri": "https://localhost:8080/"
        },
        "id": "_zDylynt6pHV",
        "outputId": "38f1e2e3-a7cd-4ed4-d5e1-5be186dde16b"
      },
      "outputs": [
        {
          "name": "stdout",
          "output_type": "stream",
          "text": [
            "RMSE:  0.8270572559036478\n"
          ]
        }
      ],
      "source": [
        "X_train, y_train, X_val , y_val = split_func (data, X , y, test_size = 0.2,  shuffle = False) \n",
        "y_val = np.log1p(y_val.values)\n",
        "preds = model.predict(X_val)\n",
        "preds = np.log1p(preds)\n",
        "print( \"RMSE: \", msle(np.exp(y_val) - 1, (np.exp(preds) - 1).clip(0)) ) \n"
      ],
      "id": "_zDylynt6pHV"
    },
    {
      "cell_type": "markdown",
      "metadata": {
        "id": "DMwRQSSVItu-"
      },
      "source": [
        "# Strategy 3: Training với từng mặt hàng ( 33 mô hình )  "
      ],
      "id": "DMwRQSSVItu-"
    },
    {
      "cell_type": "code",
      "execution_count": 17,
      "metadata": {
        "colab": {
          "base_uri": "https://localhost:8080/"
        },
        "id": "DE-0har0JoQE",
        "outputId": "d6c239ea-8a8c-413c-c287-a4ed621a780e"
      },
      "outputs": [
        {
          "output_type": "execute_result",
          "data": {
            "text/plain": [
              "((23760, 161), (784080, 161))"
            ]
          },
          "metadata": {},
          "execution_count": 17
        }
      ],
      "source": [
        "data3 = df.copy()\n",
        "data3 = df[~df['sales'].isna()]\n",
        "data3.reset_index(inplace = True) \n",
        "data3.set_index(['family','date'], inplace=True)\n",
        "data3.head()\n",
        "data3.index.get_level_values(0).unique()\n",
        "data3_ = data3.loc[('DAIRY',)]\n",
        "data3_.shape, data3.shape \n"
      ],
      "id": "DE-0har0JoQE"
    },
    {
      "cell_type": "code",
      "execution_count": null,
      "metadata": {
        "colab": {
          "background_save": true,
          "base_uri": "https://localhost:8080/"
        },
        "id": "MESuuheFJJuS",
        "outputId": "b97aa248-4213-4f2c-9098-bde2c5edacfd"
      },
      "outputs": [
        {
          "name": "stderr",
          "output_type": "stream",
          "text": [
            "  3%|▎         | 1/33 [1:07:45<36:08:05, 4065.18s/it]"
          ]
        }
      ],
      "source": [
        "sm_rf = 0\n",
        "sm_lg = 0\n",
        "cnt = 0\n",
        "import warnings\n",
        "warnings.filterwarnings('ignore')\n",
        "for i in tqdm(data3.index.get_level_values(0).unique()):\n",
        "    data3_ = data3.loc[(i,)]\n",
        "    test_data = data3_[data3_['sales'].isna()]\n",
        "    data3_ = data3_.drop(columns=['id', 'transactions'])\n",
        "    train = data3_[~data3_['sales'].isna()]\n",
        "    train.dropna()\n",
        "    #train.dropna()\n",
        "    X = train.drop(['sales'], axis =1 )\n",
        "    y = train['sales'] \n",
        "    X.shape, y.shape\n",
        "    X_train, y_train, X_val , y_val = split_func (train, X , y, test_size = 0.2,  shuffle = False) \n",
        "\n",
        "    y_train = np.log1p(y_train)\n",
        "    y_val = np.log1p(y_val)\n",
        "\n",
        "    weights = np.exp((400 - (pd.to_datetime('2017-08-16') - pd.to_datetime(X_train.index)).days) / 200)\n",
        "    weights = weights.to_numpy()\n",
        "\n",
        "    model = RandomForestRegressor()\n",
        "    model.fit(X_train.values, y_train.values, sample_weight=weights)\n",
        "    preds = model.predict(X_val)\n",
        "    sm_rf += msle(np.exp(y_val) - 1, (np.exp(preds) - 1).clip(0))\n",
        "\n",
        "    model = LGBMRegressor()\n",
        "    model.fit(X_train.to_numpy(), y_train, sample_weight=weights)\n",
        "    preds = model.predict(X_val)\n",
        "    sm_lg += msle(np.exp(y_val) - 1, (np.exp(preds) - 1).clip(0))\n",
        "    cnt += 1\n",
        "print(\"RF:\", (sm_rf / cnt)**0.5)\n",
        "print(\"LG:\", (sm_lg / cnt)**0.5)\n",
        "scores = [ (sm_rf / cnt)**0.5 , (sm_lg / cnt)**0.5]\n",
        "labels = ['RF','LG'] \n",
        "# creating the bar plot\n",
        "plt.bar(labels, scores, color ='green', width = 0.6)\n",
        "plt.xlabel(\"Method Machine learning\")\n",
        "plt.ylabel(\"Score RMSE\")\n",
        "plt.title(\"Compare methods\")\n",
        "plt.show()"
      ],
      "id": "MESuuheFJJuS"
    },
    {
      "cell_type": "code",
      "execution_count": null,
      "metadata": {
        "id": "9MUTtKBmS6_k",
        "colab": {
          "base_uri": "https://localhost:8080/"
        },
        "outputId": "8dbd526d-744b-49c9-8aa7-64cac53c822b"
      },
      "outputs": [
        {
          "output_type": "stream",
          "name": "stderr",
          "text": [
            "\r  0%|          | 0/33 [00:00<?, ?it/s]"
          ]
        },
        {
          "output_type": "stream",
          "name": "stdout",
          "text": [
            "\n",
            " AUTOMOTIVE\n",
            "(23760, 159)\n"
          ]
        }
      ],
      "source": [
        "data3 = df.copy()\n",
        "data3 = df[~df['sales'].isna()]\n",
        "data3.reset_index(inplace = True) \n",
        "data3.set_index(['family','date'], inplace=True)\n",
        "data3.head()\n",
        "data3.index.get_level_values(0).unique()\n",
        "data3_ = data3.loc[('DAIRY',)]\n",
        "data3_.shape, data3.shape \n",
        "sm_rf = 0\n",
        "cnt = 0\n",
        "fin_pred = {}\n",
        "visulizeScore = []\n",
        "sm_rf = 0\n",
        "sm_lg = 0\n",
        "cnt = 0\n",
        "import warnings\n",
        "warnings.filterwarnings('ignore')\n",
        "for i in tqdm(data3.index.get_level_values(0).unique()):\n",
        "    print('\\n',i)\n",
        "    data3_ = data3.loc[(i,)]\n",
        "    #print( data3_.shape )\n",
        "    test_data = data3_[data3_['sales'].isna()]\n",
        "    data3_ = data3_.drop(columns=['id', 'transactions'])\n",
        "    train = data3_[~data3_['sales'].isna()]\n",
        "    train.dropna()\n",
        "    print( train.shape )\n",
        "    #train.dropna()\n",
        "    X = train.drop(['sales'], axis =1 )\n",
        "    y = train['sales'] \n",
        "    X.shape, y.shape\n",
        "    X_train, y_train, X_val , y_val = split_func (train, X , y, test_size = 0.2,  shuffle = False) \n",
        "\n",
        "    y_train = np.log1p(y_train)\n",
        "    y_val = np.log1p(y_val)\n",
        "\n",
        "    weights = np.exp((400 - (pd.to_datetime('2017-08-16') - pd.to_datetime(X_train.index)).days) / 200)\n",
        "    weights = weights.to_numpy()\n",
        "\n",
        "    model = RandomForestRegressor(**good_p[0], random_state=0)\n",
        "    weights = get_weights_distribution(5, X_train.index)\n",
        "    model.fit(X_train, y_train, sample_weight=weights)\n",
        "\n",
        "    preds = model.predict(X_val)\n",
        "    # preds_ = model.predict(X_test)\n",
        "\n",
        "    # for q in range(preds_.shape[0]):\n",
        "    #     fin_pred[test_id[q]] = preds_[q]\n",
        "        \n",
        "    sm_rf += msle(np.exp(y_val) - 1, (np.exp(preds) - 1).clip(0))\n",
        "    cnt += 1\n",
        "    print((sm_rf / cnt)**0.5)\n",
        "    visulizeScore.append((sm_rf / cnt)**0.5) \n",
        "print((sm_rf / cnt)**0.5)\n",
        "\n",
        "labels = np.array(idStore).astype(str)\n",
        "# creating the bar plot\n",
        "plt.figure(figsize=(20,8))\n",
        "plt.bar(labels, visulizeScore, color ='red', width = 0.4)\n",
        "plt.xlabel(\"ID Store\")\n",
        "plt.ylabel(\"Score RMSE\")\n",
        "plt.title(\"Compare methods\")\n",
        "plt.show()\n"
      ],
      "id": "9MUTtKBmS6_k"
    },
    {
      "cell_type": "code",
      "source": [
        "sm_rf"
      ],
      "metadata": {
        "colab": {
          "base_uri": "https://localhost:8080/"
        },
        "id": "D71nI8vCn2lf",
        "outputId": "0d94a53b-970f-4a7b-fe5f-8cc7a5b66955"
      },
      "id": "D71nI8vCn2lf",
      "execution_count": 20,
      "outputs": [
        {
          "output_type": "execute_result",
          "data": {
            "text/plain": [
              "(0.01312072503453225,)"
            ]
          },
          "metadata": {},
          "execution_count": 20
        }
      ]
    },
    {
      "cell_type": "markdown",
      "metadata": {
        "id": "c925a9d1"
      },
      "source": [
        "# Submission"
      ],
      "id": "c925a9d1"
    },
    {
      "cell_type": "code",
      "execution_count": null,
      "metadata": {
        "id": "43423127"
      },
      "outputs": [],
      "source": [
        "ss['sales'] = ss['id'].map(fin_pred)\n",
        "ss"
      ],
      "id": "43423127"
    },
    {
      "cell_type": "code",
      "execution_count": null,
      "metadata": {
        "id": "Kn7J8PkJGXMi"
      },
      "outputs": [],
      "source": [
        "X_test"
      ],
      "id": "Kn7J8PkJGXMi"
    },
    {
      "cell_type": "code",
      "execution_count": null,
      "metadata": {
        "id": "7df0b049"
      },
      "outputs": [],
      "source": [
        "ss['sales'] = np.exp(ss['sales']) - 1"
      ],
      "id": "7df0b049"
    },
    {
      "cell_type": "code",
      "execution_count": null,
      "metadata": {
        "id": "7c5ebcb7"
      },
      "outputs": [],
      "source": [
        "ss.to_csv('submission.csv', index=False)"
      ],
      "id": "7c5ebcb7"
    },
    {
      "cell_type": "code",
      "execution_count": null,
      "metadata": {
        "id": "53418aa9"
      },
      "outputs": [],
      "source": [
        "ss[ss['id']==3027981]"
      ],
      "id": "53418aa9"
    },
    {
      "cell_type": "code",
      "execution_count": null,
      "metadata": {
        "id": "d6b3ae73"
      },
      "outputs": [],
      "source": [],
      "id": "d6b3ae73"
    },
    {
      "cell_type": "code",
      "execution_count": null,
      "metadata": {
        "id": "219c6e36"
      },
      "outputs": [],
      "source": [],
      "id": "219c6e36"
    }
  ],
  "metadata": {
    "colab": {
      "collapsed_sections": [
        "b9d1256a",
        "e8a56b27",
        "d7ea1ef7",
        "b8fff066",
        "479a3f50",
        "fd0b08c7",
        "acbf2bcb",
        "b41777a1",
        "Qu4QDf37tkck",
        "c925a9d1"
      ],
      "toc_visible": true,
      "provenance": []
    },
    "kernelspec": {
      "display_name": "Python 3.7.13 ('ai')",
      "language": "python",
      "name": "python3"
    },
    "language_info": {
      "codemirror_mode": {
        "name": "ipython",
        "version": 3
      },
      "file_extension": ".py",
      "mimetype": "text/x-python",
      "name": "python",
      "nbconvert_exporter": "python",
      "pygments_lexer": "ipython3",
      "version": "3.7.13"
    },
    "papermill": {
      "default_parameters": {},
      "duration": 4563.403594,
      "end_time": "2022-06-21T11:20:35.976296",
      "environment_variables": {},
      "exception": null,
      "input_path": "__notebook__.ipynb",
      "output_path": "__notebook__.ipynb",
      "parameters": {},
      "start_time": "2022-06-21T10:04:32.572702",
      "version": "2.3.4"
    },
    "vscode": {
      "interpreter": {
        "hash": "b1351fcf4d9a71a0a7642ff753eb3792ce6ab1ef3fbcd1886aadc4d216688484"
      }
    }
  },
  "nbformat": 4,
  "nbformat_minor": 5
}