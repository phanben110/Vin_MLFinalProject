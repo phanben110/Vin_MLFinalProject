{
 "cells": [
  {
   "cell_type": "markdown",
   "id": "b9d1256a",
   "metadata": {
    "papermill": {
     "duration": 0.014068,
     "end_time": "2022-06-21T10:04:43.986957",
     "exception": false,
     "start_time": "2022-06-21T10:04:43.972889",
     "status": "completed"
    },
    "tags": []
   },
   "source": [
    "# Loading libraries"
   ]
  },
  {
   "cell_type": "code",
   "execution_count": 1,
   "id": "0da04af5",
   "metadata": {
    "execution": {
     "iopub.execute_input": "2022-06-21T10:04:44.015291Z",
     "iopub.status.busy": "2022-06-21T10:04:44.014767Z",
     "iopub.status.idle": "2022-06-21T10:04:45.768701Z",
     "shell.execute_reply": "2022-06-21T10:04:45.767617Z"
    },
    "papermill": {
     "duration": 1.771168,
     "end_time": "2022-06-21T10:04:45.771560",
     "exception": false,
     "start_time": "2022-06-21T10:04:44.000392",
     "status": "completed"
    },
    "tags": []
   },
   "outputs": [],
   "source": [
    "import numpy as np\n",
    "import pandas as pd\n",
    "import matplotlib.pyplot as plt\n",
    "import seaborn as sns\n",
    "import warnings\n",
    "import plotly.express as px\n",
    "        \n",
    "from scipy.stats import skew,norm,zscore\n",
    "from scipy.signal import periodogram\n",
    "\n",
    "from statsmodels.graphics.tsaplots import plot_acf, plot_pacf\n",
    "from statsmodels.tsa.deterministic import DeterministicProcess, CalendarFourier\n",
    "\n",
    "from sklearn.model_selection import train_test_split, cross_val_score, TimeSeriesSplit, GridSearchCV, cross_validate\n",
    "from sklearn.metrics import mean_squared_error, make_scorer, mean_squared_log_error, mean_absolute_error, mean_absolute_percentage_error\n",
    "from sklearn.linear_model import LinearRegression\n",
    "from sklearn.ensemble import RandomForestRegressor"
   ]
  },
  {
   "cell_type": "markdown",
   "id": "e8a56b27",
   "metadata": {
    "papermill": {
     "duration": 0.012499,
     "end_time": "2022-06-21T10:04:45.799193",
     "exception": false,
     "start_time": "2022-06-21T10:04:45.786694",
     "status": "completed"
    },
    "tags": []
   },
   "source": [
    "# Importing the dataset"
   ]
  },
  {
   "cell_type": "code",
   "execution_count": 2,
   "id": "d90c4435",
   "metadata": {
    "execution": {
     "iopub.execute_input": "2022-06-21T10:04:45.827671Z",
     "iopub.status.busy": "2022-06-21T10:04:45.827167Z",
     "iopub.status.idle": "2022-06-21T10:04:49.537790Z",
     "shell.execute_reply": "2022-06-21T10:04:49.536396Z"
    },
    "papermill": {
     "duration": 3.728593,
     "end_time": "2022-06-21T10:04:49.540584",
     "exception": false,
     "start_time": "2022-06-21T10:04:45.811991",
     "status": "completed"
    },
    "tags": []
   },
   "outputs": [],
   "source": [
    "orig_holidays_events = pd.read_csv(\"./data/holidays_events.csv\", parse_dates=['date'])\n",
    "orig_oil = pd.read_csv(\"./data/oil.csv\", parse_dates=['date'])\n",
    "orig_stores = pd.read_csv(\"./data/stores.csv\")\n",
    "orig_transactions = pd.read_csv(\"./data/transactions.csv\", parse_dates=['date'])\n",
    "\n",
    "orig_test = pd.read_csv(\"./data/test.csv\", parse_dates=['date'])\n",
    "orig_train = pd.read_csv(\"./data/train.csv\", parse_dates=['date'])"
   ]
  },
  {
   "cell_type": "code",
   "execution_count": 3,
   "id": "87e405c9",
   "metadata": {},
   "outputs": [
    {
     "data": {
      "text/html": [
       "<div>\n",
       "<style scoped>\n",
       "    .dataframe tbody tr th:only-of-type {\n",
       "        vertical-align: middle;\n",
       "    }\n",
       "\n",
       "    .dataframe tbody tr th {\n",
       "        vertical-align: top;\n",
       "    }\n",
       "\n",
       "    .dataframe thead th {\n",
       "        text-align: right;\n",
       "    }\n",
       "</style>\n",
       "<table border=\"1\" class=\"dataframe\">\n",
       "  <thead>\n",
       "    <tr style=\"text-align: right;\">\n",
       "      <th></th>\n",
       "      <th>id</th>\n",
       "      <th>store_nbr</th>\n",
       "      <th>sales</th>\n",
       "      <th>onpromotion</th>\n",
       "    </tr>\n",
       "  </thead>\n",
       "  <tbody>\n",
       "    <tr>\n",
       "      <th>count</th>\n",
       "      <td>3.000888e+06</td>\n",
       "      <td>3.000888e+06</td>\n",
       "      <td>3.000888e+06</td>\n",
       "      <td>3.000888e+06</td>\n",
       "    </tr>\n",
       "    <tr>\n",
       "      <th>mean</th>\n",
       "      <td>1.500444e+06</td>\n",
       "      <td>2.750000e+01</td>\n",
       "      <td>3.577757e+02</td>\n",
       "      <td>2.602770e+00</td>\n",
       "    </tr>\n",
       "    <tr>\n",
       "      <th>std</th>\n",
       "      <td>8.662819e+05</td>\n",
       "      <td>1.558579e+01</td>\n",
       "      <td>1.101998e+03</td>\n",
       "      <td>1.221888e+01</td>\n",
       "    </tr>\n",
       "    <tr>\n",
       "      <th>min</th>\n",
       "      <td>0.000000e+00</td>\n",
       "      <td>1.000000e+00</td>\n",
       "      <td>0.000000e+00</td>\n",
       "      <td>0.000000e+00</td>\n",
       "    </tr>\n",
       "    <tr>\n",
       "      <th>25%</th>\n",
       "      <td>7.502218e+05</td>\n",
       "      <td>1.400000e+01</td>\n",
       "      <td>0.000000e+00</td>\n",
       "      <td>0.000000e+00</td>\n",
       "    </tr>\n",
       "    <tr>\n",
       "      <th>50%</th>\n",
       "      <td>1.500444e+06</td>\n",
       "      <td>2.750000e+01</td>\n",
       "      <td>1.100000e+01</td>\n",
       "      <td>0.000000e+00</td>\n",
       "    </tr>\n",
       "    <tr>\n",
       "      <th>75%</th>\n",
       "      <td>2.250665e+06</td>\n",
       "      <td>4.100000e+01</td>\n",
       "      <td>1.958473e+02</td>\n",
       "      <td>0.000000e+00</td>\n",
       "    </tr>\n",
       "    <tr>\n",
       "      <th>max</th>\n",
       "      <td>3.000887e+06</td>\n",
       "      <td>5.400000e+01</td>\n",
       "      <td>1.247170e+05</td>\n",
       "      <td>7.410000e+02</td>\n",
       "    </tr>\n",
       "  </tbody>\n",
       "</table>\n",
       "</div>"
      ],
      "text/plain": [
       "                 id     store_nbr         sales   onpromotion\n",
       "count  3.000888e+06  3.000888e+06  3.000888e+06  3.000888e+06\n",
       "mean   1.500444e+06  2.750000e+01  3.577757e+02  2.602770e+00\n",
       "std    8.662819e+05  1.558579e+01  1.101998e+03  1.221888e+01\n",
       "min    0.000000e+00  1.000000e+00  0.000000e+00  0.000000e+00\n",
       "25%    7.502218e+05  1.400000e+01  0.000000e+00  0.000000e+00\n",
       "50%    1.500444e+06  2.750000e+01  1.100000e+01  0.000000e+00\n",
       "75%    2.250665e+06  4.100000e+01  1.958473e+02  0.000000e+00\n",
       "max    3.000887e+06  5.400000e+01  1.247170e+05  7.410000e+02"
      ]
     },
     "execution_count": 3,
     "metadata": {},
     "output_type": "execute_result"
    }
   ],
   "source": [
    "orig_train.describe()"
   ]
  },
  {
   "cell_type": "markdown",
   "id": "d7ea1ef7",
   "metadata": {
    "papermill": {
     "duration": 0.012706,
     "end_time": "2022-06-21T10:04:49.566722",
     "exception": false,
     "start_time": "2022-06-21T10:04:49.554016",
     "status": "completed"
    },
    "tags": []
   },
   "source": [
    "# Setting main dates"
   ]
  },
  {
   "cell_type": "code",
   "execution_count": 4,
   "id": "a925bd70",
   "metadata": {
    "execution": {
     "iopub.execute_input": "2022-06-21T10:04:49.596120Z",
     "iopub.status.busy": "2022-06-21T10:04:49.595379Z",
     "iopub.status.idle": "2022-06-21T10:04:49.600779Z",
     "shell.execute_reply": "2022-06-21T10:04:49.599640Z"
    },
    "papermill": {
     "duration": 0.022514,
     "end_time": "2022-06-21T10:04:49.603568",
     "exception": false,
     "start_time": "2022-06-21T10:04:49.581054",
     "status": "completed"
    },
    "tags": []
   },
   "outputs": [],
   "source": [
    "date = {\n",
    "    'date_start_train': '2013-01-01',\n",
    "    'date_end_train': '2017-08-15',\n",
    "    'date_start_test': '2017-08-16',\n",
    "    'date_end_test': '2017-08-31',\n",
    "    'date_start_fore': '2016-06-01'\n",
    "}"
   ]
  },
  {
   "cell_type": "code",
   "execution_count": 5,
   "id": "e8a22990",
   "metadata": {
    "execution": {
     "iopub.execute_input": "2022-06-21T10:04:49.631227Z",
     "iopub.status.busy": "2022-06-21T10:04:49.630833Z",
     "iopub.status.idle": "2022-06-21T10:04:49.637109Z",
     "shell.execute_reply": "2022-06-21T10:04:49.636146Z"
    },
    "papermill": {
     "duration": 0.022493,
     "end_time": "2022-06-21T10:04:49.639201",
     "exception": false,
     "start_time": "2022-06-21T10:04:49.616708",
     "status": "completed"
    },
    "tags": []
   },
   "outputs": [],
   "source": [
    "diff_train = (pd.Timestamp(date['date_end_train']) - pd.Timestamp(date['date_start_fore'])).days\n",
    "diff_test = (pd.Timestamp(date['date_end_test']) - pd.Timestamp(date['date_start_fore'])).days"
   ]
  },
  {
   "cell_type": "markdown",
   "id": "b8fff066",
   "metadata": {
    "papermill": {
     "duration": 0.013296,
     "end_time": "2022-06-21T10:04:49.665511",
     "exception": false,
     "start_time": "2022-06-21T10:04:49.652215",
     "status": "completed"
    },
    "tags": []
   },
   "source": [
    "# Stores"
   ]
  },
  {
   "cell_type": "code",
   "execution_count": 6,
   "id": "adad603c",
   "metadata": {},
   "outputs": [
    {
     "data": {
      "text/plain": [
       "array(['Quito', 'Santo Domingo', 'Cayambe', 'Latacunga', 'Riobamba',\n",
       "       'Ibarra', 'Guaranda', 'Puyo', 'Ambato', 'Guayaquil', 'Salinas',\n",
       "       'Daule', 'Babahoyo', 'Quevedo', 'Playas', 'Libertad', 'Cuenca',\n",
       "       'Loja', 'Machala', 'Esmeraldas', 'Manta', 'El Carmen'],\n",
       "      dtype=object)"
      ]
     },
     "execution_count": 6,
     "metadata": {},
     "output_type": "execute_result"
    }
   ],
   "source": [
    "orig_stores.city.unique()"
   ]
  },
  {
   "cell_type": "code",
   "execution_count": 6,
   "id": "aac9dfd3",
   "metadata": {},
   "outputs": [
    {
     "data": {
      "application/vnd.plotly.v1+json": {
       "config": {
        "plotlyServerURL": "https://plot.ly"
       },
       "data": [
        {
         "hovertemplate": "city=Ambato<br>year=%{x}<br>sales=%{y}<extra></extra>",
         "legendgroup": "Ambato",
         "line": {
          "color": "#636efa",
          "dash": "solid"
         },
         "marker": {
          "symbol": "circle"
         },
         "mode": "lines",
         "name": "Ambato",
         "orientation": "v",
         "showlegend": true,
         "type": "scatter",
         "x": [
          2013,
          2014,
          2015,
          2016,
          2017
         ],
         "xaxis": "x",
         "y": [
          263.42990077460456,
          347.60031102202385,
          361.5368193369339,
          420.02185340870903,
          455.2879785766587
         ],
         "yaxis": "y"
        },
        {
         "hovertemplate": "city=Babahoyo<br>year=%{x}<br>sales=%{y}<extra></extra>",
         "legendgroup": "Babahoyo",
         "line": {
          "color": "#EF553B",
          "dash": "solid"
         },
         "marker": {
          "symbol": "circle"
         },
         "mode": "lines",
         "name": "Babahoyo",
         "orientation": "v",
         "showlegend": true,
         "type": "scatter",
         "x": [
          2013,
          2014,
          2015,
          2016,
          2017
         ],
         "xaxis": "x",
         "y": [
          199.0523816102231,
          297.60474536580085,
          343.1490516159674,
          385.23933873964296,
          403.0053463010279
         ],
         "yaxis": "y"
        },
        {
         "hovertemplate": "city=Cayambe<br>year=%{x}<br>sales=%{y}<extra></extra>",
         "legendgroup": "Cayambe",
         "line": {
          "color": "#00cc96",
          "dash": "solid"
         },
         "marker": {
          "symbol": "circle"
         },
         "mode": "lines",
         "name": "Cayambe",
         "orientation": "v",
         "showlegend": true,
         "type": "scatter",
         "x": [
          2013,
          2014,
          2015,
          2016,
          2017
         ],
         "xaxis": "x",
         "y": [
          380.4115004721945,
          488.74987523959373,
          515.0441522811356,
          587.2771003518473,
          617.3713797099185
         ],
         "yaxis": "y"
        },
        {
         "hovertemplate": "city=Cuenca<br>year=%{x}<br>sales=%{y}<extra></extra>",
         "legendgroup": "Cuenca",
         "line": {
          "color": "#ab63fa",
          "dash": "solid"
         },
         "marker": {
          "symbol": "circle"
         },
         "mode": "lines",
         "name": "Cuenca",
         "orientation": "v",
         "showlegend": true,
         "type": "scatter",
         "x": [
          2013,
          2014,
          2015,
          2016,
          2017
         ],
         "xaxis": "x",
         "y": [
          152.4391058048701,
          232.1142062914419,
          291.6535704558136,
          409.86450744971916,
          444.54905161024783
         ],
         "yaxis": "y"
        },
        {
         "hovertemplate": "city=Daule<br>year=%{x}<br>sales=%{y}<extra></extra>",
         "legendgroup": "Daule",
         "line": {
          "color": "#FFA15A",
          "dash": "solid"
         },
         "marker": {
          "symbol": "circle"
         },
         "mode": "lines",
         "name": "Daule",
         "orientation": "v",
         "showlegend": true,
         "type": "scatter",
         "x": [
          2013,
          2014,
          2015,
          2016,
          2017
         ],
         "xaxis": "x",
         "y": [
          201.29201149572927,
          308.0426511285381,
          360.54442442565767,
          434.37153752999586,
          468.1656145163129
         ],
         "yaxis": "y"
        },
        {
         "hovertemplate": "city=El Carmen<br>year=%{x}<br>sales=%{y}<extra></extra>",
         "legendgroup": "El Carmen",
         "line": {
          "color": "#19d3f3",
          "dash": "solid"
         },
         "marker": {
          "symbol": "circle"
         },
         "mode": "lines",
         "name": "El Carmen",
         "orientation": "v",
         "showlegend": true,
         "type": "scatter",
         "x": [
          2013,
          2014,
          2015,
          2016,
          2017
         ],
         "xaxis": "x",
         "y": [
          127.39864735284715,
          174.1691032096237,
          201.58042024562937,
          244.44497485371525,
          276.24183260512615
         ],
         "yaxis": "y"
        },
        {
         "hovertemplate": "city=Esmeraldas<br>year=%{x}<br>sales=%{y}<extra></extra>",
         "legendgroup": "Esmeraldas",
         "line": {
          "color": "#FF6692",
          "dash": "solid"
         },
         "marker": {
          "symbol": "circle"
         },
         "mode": "lines",
         "name": "Esmeraldas",
         "orientation": "v",
         "showlegend": true,
         "type": "scatter",
         "x": [
          2013,
          2014,
          2015,
          2016,
          2017
         ],
         "xaxis": "x",
         "y": [
          175.99372810644354,
          267.31464105844157,
          316.1571741744089,
          330.6449492078871,
          438.7096104804432
         ],
         "yaxis": "y"
        },
        {
         "hovertemplate": "city=Guaranda<br>year=%{x}<br>sales=%{y}<extra></extra>",
         "legendgroup": "Guaranda",
         "line": {
          "color": "#B6E880",
          "dash": "solid"
         },
         "marker": {
          "symbol": "circle"
         },
         "mode": "lines",
         "name": "Guaranda",
         "orientation": "v",
         "showlegend": true,
         "type": "scatter",
         "x": [
          2013,
          2014,
          2015,
          2016,
          2017
         ],
         "xaxis": "x",
         "y": [
          152.38042813644688,
          218.95376747194473,
          260.09948710406263,
          277.61865147555005,
          283.1146419660927
         ],
         "yaxis": "y"
        },
        {
         "hovertemplate": "city=Guayaquil<br>year=%{x}<br>sales=%{y}<extra></extra>",
         "legendgroup": "Guayaquil",
         "line": {
          "color": "#FF97FF",
          "dash": "solid"
         },
         "marker": {
          "symbol": "circle"
         },
         "mode": "lines",
         "name": "Guayaquil",
         "orientation": "v",
         "showlegend": true,
         "type": "scatter",
         "x": [
          2013,
          2014,
          2015,
          2016,
          2017
         ],
         "xaxis": "x",
         "y": [
          177.26041626899558,
          235.7282397805611,
          291.98308345937085,
          346.60672086639585,
          364.1581994947337
         ],
         "yaxis": "y"
        },
        {
         "hovertemplate": "city=Ibarra<br>year=%{x}<br>sales=%{y}<extra></extra>",
         "legendgroup": "Ibarra",
         "line": {
          "color": "#FECB52",
          "dash": "solid"
         },
         "marker": {
          "symbol": "circle"
         },
         "mode": "lines",
         "name": "Ibarra",
         "orientation": "v",
         "showlegend": true,
         "type": "scatter",
         "x": [
          2013,
          2014,
          2015,
          2016,
          2017
         ],
         "xaxis": "x",
         "y": [
          148.57144888677988,
          190.21517581376958,
          218.07702638428236,
          241.32480314163556,
          247.69277692911493
         ],
         "yaxis": "y"
        },
        {
         "hovertemplate": "city=Latacunga<br>year=%{x}<br>sales=%{y}<extra></extra>",
         "legendgroup": "Latacunga",
         "line": {
          "color": "#636efa",
          "dash": "solid"
         },
         "marker": {
          "symbol": "circle"
         },
         "mode": "lines",
         "name": "Latacunga",
         "orientation": "v",
         "showlegend": true,
         "type": "scatter",
         "x": [
          2013,
          2014,
          2015,
          2016,
          2017
         ],
         "xaxis": "x",
         "y": [
          139.7338869486347,
          180.6267813932318,
          200.57373338773726,
          219.93843710273973,
          224.8710958629689
         ],
         "yaxis": "y"
        },
        {
         "hovertemplate": "city=Libertad<br>year=%{x}<br>sales=%{y}<extra></extra>",
         "legendgroup": "Libertad",
         "line": {
          "color": "#EF553B",
          "dash": "solid"
         },
         "marker": {
          "symbol": "circle"
         },
         "mode": "lines",
         "name": "Libertad",
         "orientation": "v",
         "showlegend": true,
         "type": "scatter",
         "x": [
          2013,
          2014,
          2015,
          2016,
          2017
         ],
         "xaxis": "x",
         "y": [
          106.35756467782218,
          252.03441571070596,
          328.28691617282715,
          359.0380803739311,
          367.0311724708316
         ],
         "yaxis": "y"
        },
        {
         "hovertemplate": "city=Loja<br>year=%{x}<br>sales=%{y}<extra></extra>",
         "legendgroup": "Loja",
         "line": {
          "color": "#00cc96",
          "dash": "solid"
         },
         "marker": {
          "symbol": "circle"
         },
         "mode": "lines",
         "name": "Loja",
         "orientation": "v",
         "showlegend": true,
         "type": "scatter",
         "x": [
          2013,
          2014,
          2015,
          2016,
          2017
         ],
         "xaxis": "x",
         "y": [
          229.1841558427406,
          358.7378074507493,
          361.9203823690892,
          368.9917065504192,
          401.2799224443866
         ],
         "yaxis": "y"
        },
        {
         "hovertemplate": "city=Machala<br>year=%{x}<br>sales=%{y}<extra></extra>",
         "legendgroup": "Machala",
         "line": {
          "color": "#ab63fa",
          "dash": "solid"
         },
         "marker": {
          "symbol": "circle"
         },
         "mode": "lines",
         "name": "Machala",
         "orientation": "v",
         "showlegend": true,
         "type": "scatter",
         "x": [
          2013,
          2014,
          2015,
          2016,
          2017
         ],
         "xaxis": "x",
         "y": [
          154.56192961340744,
          267.8551954590035,
          319.3345981104521,
          378.4513801511332,
          430.52058463265917
         ],
         "yaxis": "y"
        },
        {
         "hovertemplate": "city=Manta<br>year=%{x}<br>sales=%{y}<extra></extra>",
         "legendgroup": "Manta",
         "line": {
          "color": "#FFA15A",
          "dash": "solid"
         },
         "marker": {
          "symbol": "circle"
         },
         "mode": "lines",
         "name": "Manta",
         "orientation": "v",
         "showlegend": true,
         "type": "scatter",
         "x": [
          2013,
          2014,
          2015,
          2016,
          2017
         ],
         "xaxis": "x",
         "y": [
          0,
          57.296747403896106,
          106.66944256414419,
          189.518651974176,
          360.94706595127485
         ],
         "yaxis": "y"
        },
        {
         "hovertemplate": "city=Playas<br>year=%{x}<br>sales=%{y}<extra></extra>",
         "legendgroup": "Playas",
         "line": {
          "color": "#19d3f3",
          "dash": "solid"
         },
         "marker": {
          "symbol": "circle"
         },
         "mode": "lines",
         "name": "Playas",
         "orientation": "v",
         "showlegend": true,
         "type": "scatter",
         "x": [
          2013,
          2014,
          2015,
          2016,
          2017
         ],
         "xaxis": "x",
         "y": [
          84.09276257435064,
          125.44908820412921,
          155.46882992574092,
          166.61184981141554,
          171.58341931277533
         ],
         "yaxis": "y"
        },
        {
         "hovertemplate": "city=Puyo<br>year=%{x}<br>sales=%{y}<extra></extra>",
         "legendgroup": "Puyo",
         "line": {
          "color": "#FF6692",
          "dash": "solid"
         },
         "marker": {
          "symbol": "circle"
         },
         "mode": "lines",
         "name": "Puyo",
         "orientation": "v",
         "showlegend": true,
         "type": "scatter",
         "x": [
          2013,
          2014,
          2015,
          2016,
          2017
         ],
         "xaxis": "x",
         "y": [
          0,
          0,
          42.67443390218115,
          171.057053452802,
          202.53827685596048
         ],
         "yaxis": "y"
        },
        {
         "hovertemplate": "city=Quevedo<br>year=%{x}<br>sales=%{y}<extra></extra>",
         "legendgroup": "Quevedo",
         "line": {
          "color": "#B6E880",
          "dash": "solid"
         },
         "marker": {
          "symbol": "circle"
         },
         "mode": "lines",
         "name": "Quevedo",
         "orientation": "v",
         "showlegend": true,
         "type": "scatter",
         "x": [
          2013,
          2014,
          2015,
          2016,
          2017
         ],
         "xaxis": "x",
         "y": [
          176.10162395471195,
          263.54115181143857,
          269.1800880925741,
          287.56910691000417,
          293.73263383353355
         ],
         "yaxis": "y"
        },
        {
         "hovertemplate": "city=Quito<br>year=%{x}<br>sales=%{y}<extra></extra>",
         "legendgroup": "Quito",
         "line": {
          "color": "#FF97FF",
          "dash": "solid"
         },
         "marker": {
          "symbol": "circle"
         },
         "mode": "lines",
         "name": "Quito",
         "orientation": "v",
         "showlegend": true,
         "type": "scatter",
         "x": [
          2013,
          2014,
          2015,
          2016,
          2017
         ],
         "xaxis": "x",
         "y": [
          335.67946575314966,
          516.793503218168,
          576.8519310096746,
          688.8074667287297,
          729.4574036418279
         ],
         "yaxis": "y"
        },
        {
         "hovertemplate": "city=Riobamba<br>year=%{x}<br>sales=%{y}<extra></extra>",
         "legendgroup": "Riobamba",
         "line": {
          "color": "#FECB52",
          "dash": "solid"
         },
         "marker": {
          "symbol": "circle"
         },
         "mode": "lines",
         "name": "Riobamba",
         "orientation": "v",
         "showlegend": true,
         "type": "scatter",
         "x": [
          2013,
          2014,
          2015,
          2016,
          2017
         ],
         "xaxis": "x",
         "y": [
          162.36710347977024,
          183.41756379595404,
          210.24303230611054,
          235.91736211598175,
          249.27104447390204
         ],
         "yaxis": "y"
        },
        {
         "hovertemplate": "city=Salinas<br>year=%{x}<br>sales=%{y}<extra></extra>",
         "legendgroup": "Salinas",
         "line": {
          "color": "#636efa",
          "dash": "solid"
         },
         "marker": {
          "symbol": "circle"
         },
         "mode": "lines",
         "name": "Salinas",
         "orientation": "v",
         "showlegend": true,
         "type": "scatter",
         "x": [
          2013,
          2014,
          2015,
          2016,
          2017
         ],
         "xaxis": "x",
         "y": [
          138.50565184432236,
          196.44481370021646,
          216.94765496353648,
          220.3678390185139,
          285.3113106465759
         ],
         "yaxis": "y"
        },
        {
         "hovertemplate": "city=Santo Domingo<br>year=%{x}<br>sales=%{y}<extra></extra>",
         "legendgroup": "Santo Domingo",
         "line": {
          "color": "#EF553B",
          "dash": "solid"
         },
         "marker": {
          "symbol": "circle"
         },
         "mode": "lines",
         "name": "Santo Domingo",
         "orientation": "v",
         "showlegend": true,
         "type": "scatter",
         "x": [
          2013,
          2014,
          2015,
          2016,
          2017
         ],
         "xaxis": "x",
         "y": [
          125.03437482392886,
          174.28799259630645,
          227.84201160575535,
          279.1197850402684,
          300.4242443065768
         ],
         "yaxis": "y"
        }
       ],
       "layout": {
        "legend": {
         "title": {
          "text": "city"
         },
         "tracegroupgap": 0
        },
        "margin": {
         "t": 60
        },
        "template": {
         "data": {
          "bar": [
           {
            "error_x": {
             "color": "#2a3f5f"
            },
            "error_y": {
             "color": "#2a3f5f"
            },
            "marker": {
             "line": {
              "color": "#E5ECF6",
              "width": 0.5
             },
             "pattern": {
              "fillmode": "overlay",
              "size": 10,
              "solidity": 0.2
             }
            },
            "type": "bar"
           }
          ],
          "barpolar": [
           {
            "marker": {
             "line": {
              "color": "#E5ECF6",
              "width": 0.5
             },
             "pattern": {
              "fillmode": "overlay",
              "size": 10,
              "solidity": 0.2
             }
            },
            "type": "barpolar"
           }
          ],
          "carpet": [
           {
            "aaxis": {
             "endlinecolor": "#2a3f5f",
             "gridcolor": "white",
             "linecolor": "white",
             "minorgridcolor": "white",
             "startlinecolor": "#2a3f5f"
            },
            "baxis": {
             "endlinecolor": "#2a3f5f",
             "gridcolor": "white",
             "linecolor": "white",
             "minorgridcolor": "white",
             "startlinecolor": "#2a3f5f"
            },
            "type": "carpet"
           }
          ],
          "choropleth": [
           {
            "colorbar": {
             "outlinewidth": 0,
             "ticks": ""
            },
            "type": "choropleth"
           }
          ],
          "contour": [
           {
            "colorbar": {
             "outlinewidth": 0,
             "ticks": ""
            },
            "colorscale": [
             [
              0,
              "#0d0887"
             ],
             [
              0.1111111111111111,
              "#46039f"
             ],
             [
              0.2222222222222222,
              "#7201a8"
             ],
             [
              0.3333333333333333,
              "#9c179e"
             ],
             [
              0.4444444444444444,
              "#bd3786"
             ],
             [
              0.5555555555555556,
              "#d8576b"
             ],
             [
              0.6666666666666666,
              "#ed7953"
             ],
             [
              0.7777777777777778,
              "#fb9f3a"
             ],
             [
              0.8888888888888888,
              "#fdca26"
             ],
             [
              1,
              "#f0f921"
             ]
            ],
            "type": "contour"
           }
          ],
          "contourcarpet": [
           {
            "colorbar": {
             "outlinewidth": 0,
             "ticks": ""
            },
            "type": "contourcarpet"
           }
          ],
          "heatmap": [
           {
            "colorbar": {
             "outlinewidth": 0,
             "ticks": ""
            },
            "colorscale": [
             [
              0,
              "#0d0887"
             ],
             [
              0.1111111111111111,
              "#46039f"
             ],
             [
              0.2222222222222222,
              "#7201a8"
             ],
             [
              0.3333333333333333,
              "#9c179e"
             ],
             [
              0.4444444444444444,
              "#bd3786"
             ],
             [
              0.5555555555555556,
              "#d8576b"
             ],
             [
              0.6666666666666666,
              "#ed7953"
             ],
             [
              0.7777777777777778,
              "#fb9f3a"
             ],
             [
              0.8888888888888888,
              "#fdca26"
             ],
             [
              1,
              "#f0f921"
             ]
            ],
            "type": "heatmap"
           }
          ],
          "heatmapgl": [
           {
            "colorbar": {
             "outlinewidth": 0,
             "ticks": ""
            },
            "colorscale": [
             [
              0,
              "#0d0887"
             ],
             [
              0.1111111111111111,
              "#46039f"
             ],
             [
              0.2222222222222222,
              "#7201a8"
             ],
             [
              0.3333333333333333,
              "#9c179e"
             ],
             [
              0.4444444444444444,
              "#bd3786"
             ],
             [
              0.5555555555555556,
              "#d8576b"
             ],
             [
              0.6666666666666666,
              "#ed7953"
             ],
             [
              0.7777777777777778,
              "#fb9f3a"
             ],
             [
              0.8888888888888888,
              "#fdca26"
             ],
             [
              1,
              "#f0f921"
             ]
            ],
            "type": "heatmapgl"
           }
          ],
          "histogram": [
           {
            "marker": {
             "pattern": {
              "fillmode": "overlay",
              "size": 10,
              "solidity": 0.2
             }
            },
            "type": "histogram"
           }
          ],
          "histogram2d": [
           {
            "colorbar": {
             "outlinewidth": 0,
             "ticks": ""
            },
            "colorscale": [
             [
              0,
              "#0d0887"
             ],
             [
              0.1111111111111111,
              "#46039f"
             ],
             [
              0.2222222222222222,
              "#7201a8"
             ],
             [
              0.3333333333333333,
              "#9c179e"
             ],
             [
              0.4444444444444444,
              "#bd3786"
             ],
             [
              0.5555555555555556,
              "#d8576b"
             ],
             [
              0.6666666666666666,
              "#ed7953"
             ],
             [
              0.7777777777777778,
              "#fb9f3a"
             ],
             [
              0.8888888888888888,
              "#fdca26"
             ],
             [
              1,
              "#f0f921"
             ]
            ],
            "type": "histogram2d"
           }
          ],
          "histogram2dcontour": [
           {
            "colorbar": {
             "outlinewidth": 0,
             "ticks": ""
            },
            "colorscale": [
             [
              0,
              "#0d0887"
             ],
             [
              0.1111111111111111,
              "#46039f"
             ],
             [
              0.2222222222222222,
              "#7201a8"
             ],
             [
              0.3333333333333333,
              "#9c179e"
             ],
             [
              0.4444444444444444,
              "#bd3786"
             ],
             [
              0.5555555555555556,
              "#d8576b"
             ],
             [
              0.6666666666666666,
              "#ed7953"
             ],
             [
              0.7777777777777778,
              "#fb9f3a"
             ],
             [
              0.8888888888888888,
              "#fdca26"
             ],
             [
              1,
              "#f0f921"
             ]
            ],
            "type": "histogram2dcontour"
           }
          ],
          "mesh3d": [
           {
            "colorbar": {
             "outlinewidth": 0,
             "ticks": ""
            },
            "type": "mesh3d"
           }
          ],
          "parcoords": [
           {
            "line": {
             "colorbar": {
              "outlinewidth": 0,
              "ticks": ""
             }
            },
            "type": "parcoords"
           }
          ],
          "pie": [
           {
            "automargin": true,
            "type": "pie"
           }
          ],
          "scatter": [
           {
            "marker": {
             "colorbar": {
              "outlinewidth": 0,
              "ticks": ""
             }
            },
            "type": "scatter"
           }
          ],
          "scatter3d": [
           {
            "line": {
             "colorbar": {
              "outlinewidth": 0,
              "ticks": ""
             }
            },
            "marker": {
             "colorbar": {
              "outlinewidth": 0,
              "ticks": ""
             }
            },
            "type": "scatter3d"
           }
          ],
          "scattercarpet": [
           {
            "marker": {
             "colorbar": {
              "outlinewidth": 0,
              "ticks": ""
             }
            },
            "type": "scattercarpet"
           }
          ],
          "scattergeo": [
           {
            "marker": {
             "colorbar": {
              "outlinewidth": 0,
              "ticks": ""
             }
            },
            "type": "scattergeo"
           }
          ],
          "scattergl": [
           {
            "marker": {
             "colorbar": {
              "outlinewidth": 0,
              "ticks": ""
             }
            },
            "type": "scattergl"
           }
          ],
          "scattermapbox": [
           {
            "marker": {
             "colorbar": {
              "outlinewidth": 0,
              "ticks": ""
             }
            },
            "type": "scattermapbox"
           }
          ],
          "scatterpolar": [
           {
            "marker": {
             "colorbar": {
              "outlinewidth": 0,
              "ticks": ""
             }
            },
            "type": "scatterpolar"
           }
          ],
          "scatterpolargl": [
           {
            "marker": {
             "colorbar": {
              "outlinewidth": 0,
              "ticks": ""
             }
            },
            "type": "scatterpolargl"
           }
          ],
          "scatterternary": [
           {
            "marker": {
             "colorbar": {
              "outlinewidth": 0,
              "ticks": ""
             }
            },
            "type": "scatterternary"
           }
          ],
          "surface": [
           {
            "colorbar": {
             "outlinewidth": 0,
             "ticks": ""
            },
            "colorscale": [
             [
              0,
              "#0d0887"
             ],
             [
              0.1111111111111111,
              "#46039f"
             ],
             [
              0.2222222222222222,
              "#7201a8"
             ],
             [
              0.3333333333333333,
              "#9c179e"
             ],
             [
              0.4444444444444444,
              "#bd3786"
             ],
             [
              0.5555555555555556,
              "#d8576b"
             ],
             [
              0.6666666666666666,
              "#ed7953"
             ],
             [
              0.7777777777777778,
              "#fb9f3a"
             ],
             [
              0.8888888888888888,
              "#fdca26"
             ],
             [
              1,
              "#f0f921"
             ]
            ],
            "type": "surface"
           }
          ],
          "table": [
           {
            "cells": {
             "fill": {
              "color": "#EBF0F8"
             },
             "line": {
              "color": "white"
             }
            },
            "header": {
             "fill": {
              "color": "#C8D4E3"
             },
             "line": {
              "color": "white"
             }
            },
            "type": "table"
           }
          ]
         },
         "layout": {
          "annotationdefaults": {
           "arrowcolor": "#2a3f5f",
           "arrowhead": 0,
           "arrowwidth": 1
          },
          "autotypenumbers": "strict",
          "coloraxis": {
           "colorbar": {
            "outlinewidth": 0,
            "ticks": ""
           }
          },
          "colorscale": {
           "diverging": [
            [
             0,
             "#8e0152"
            ],
            [
             0.1,
             "#c51b7d"
            ],
            [
             0.2,
             "#de77ae"
            ],
            [
             0.3,
             "#f1b6da"
            ],
            [
             0.4,
             "#fde0ef"
            ],
            [
             0.5,
             "#f7f7f7"
            ],
            [
             0.6,
             "#e6f5d0"
            ],
            [
             0.7,
             "#b8e186"
            ],
            [
             0.8,
             "#7fbc41"
            ],
            [
             0.9,
             "#4d9221"
            ],
            [
             1,
             "#276419"
            ]
           ],
           "sequential": [
            [
             0,
             "#0d0887"
            ],
            [
             0.1111111111111111,
             "#46039f"
            ],
            [
             0.2222222222222222,
             "#7201a8"
            ],
            [
             0.3333333333333333,
             "#9c179e"
            ],
            [
             0.4444444444444444,
             "#bd3786"
            ],
            [
             0.5555555555555556,
             "#d8576b"
            ],
            [
             0.6666666666666666,
             "#ed7953"
            ],
            [
             0.7777777777777778,
             "#fb9f3a"
            ],
            [
             0.8888888888888888,
             "#fdca26"
            ],
            [
             1,
             "#f0f921"
            ]
           ],
           "sequentialminus": [
            [
             0,
             "#0d0887"
            ],
            [
             0.1111111111111111,
             "#46039f"
            ],
            [
             0.2222222222222222,
             "#7201a8"
            ],
            [
             0.3333333333333333,
             "#9c179e"
            ],
            [
             0.4444444444444444,
             "#bd3786"
            ],
            [
             0.5555555555555556,
             "#d8576b"
            ],
            [
             0.6666666666666666,
             "#ed7953"
            ],
            [
             0.7777777777777778,
             "#fb9f3a"
            ],
            [
             0.8888888888888888,
             "#fdca26"
            ],
            [
             1,
             "#f0f921"
            ]
           ]
          },
          "colorway": [
           "#636efa",
           "#EF553B",
           "#00cc96",
           "#ab63fa",
           "#FFA15A",
           "#19d3f3",
           "#FF6692",
           "#B6E880",
           "#FF97FF",
           "#FECB52"
          ],
          "font": {
           "color": "#2a3f5f"
          },
          "geo": {
           "bgcolor": "white",
           "lakecolor": "white",
           "landcolor": "#E5ECF6",
           "showlakes": true,
           "showland": true,
           "subunitcolor": "white"
          },
          "hoverlabel": {
           "align": "left"
          },
          "hovermode": "closest",
          "mapbox": {
           "style": "light"
          },
          "paper_bgcolor": "white",
          "plot_bgcolor": "#E5ECF6",
          "polar": {
           "angularaxis": {
            "gridcolor": "white",
            "linecolor": "white",
            "ticks": ""
           },
           "bgcolor": "#E5ECF6",
           "radialaxis": {
            "gridcolor": "white",
            "linecolor": "white",
            "ticks": ""
           }
          },
          "scene": {
           "xaxis": {
            "backgroundcolor": "#E5ECF6",
            "gridcolor": "white",
            "gridwidth": 2,
            "linecolor": "white",
            "showbackground": true,
            "ticks": "",
            "zerolinecolor": "white"
           },
           "yaxis": {
            "backgroundcolor": "#E5ECF6",
            "gridcolor": "white",
            "gridwidth": 2,
            "linecolor": "white",
            "showbackground": true,
            "ticks": "",
            "zerolinecolor": "white"
           },
           "zaxis": {
            "backgroundcolor": "#E5ECF6",
            "gridcolor": "white",
            "gridwidth": 2,
            "linecolor": "white",
            "showbackground": true,
            "ticks": "",
            "zerolinecolor": "white"
           }
          },
          "shapedefaults": {
           "line": {
            "color": "#2a3f5f"
           }
          },
          "ternary": {
           "aaxis": {
            "gridcolor": "white",
            "linecolor": "white",
            "ticks": ""
           },
           "baxis": {
            "gridcolor": "white",
            "linecolor": "white",
            "ticks": ""
           },
           "bgcolor": "#E5ECF6",
           "caxis": {
            "gridcolor": "white",
            "linecolor": "white",
            "ticks": ""
           }
          },
          "title": {
           "x": 0.05
          },
          "xaxis": {
           "automargin": true,
           "gridcolor": "white",
           "linecolor": "white",
           "ticks": "",
           "title": {
            "standoff": 15
           },
           "zerolinecolor": "white",
           "zerolinewidth": 2
          },
          "yaxis": {
           "automargin": true,
           "gridcolor": "white",
           "linecolor": "white",
           "ticks": "",
           "title": {
            "standoff": 15
           },
           "zerolinecolor": "white",
           "zerolinewidth": 2
          }
         }
        },
        "xaxis": {
         "anchor": "y",
         "domain": [
          0,
          1
         ],
         "title": {
          "text": "year"
         }
        },
        "yaxis": {
         "anchor": "x",
         "domain": [
          0,
          1
         ],
         "title": {
          "text": "sales"
         }
        }
       }
      }
     },
     "metadata": {},
     "output_type": "display_data"
    }
   ],
   "source": [
    "# d = pd.merge(orig_train, orig_stores)\n",
    "# d[\"store_nbr\"] = d[\"store_nbr\"].astype(\"int8\")\n",
    "# d[\"year\"] = d.date.dt.year\n",
    "# px.line(d.groupby([\"city\", \"year\"]).sales.mean().reset_index(), x = \"year\", y = \"sales\", color = \"city\")"
   ]
  },
  {
   "cell_type": "code",
   "execution_count": 7,
   "id": "b38569ce",
   "metadata": {
    "execution": {
     "iopub.execute_input": "2022-06-21T10:04:49.697292Z",
     "iopub.status.busy": "2022-06-21T10:04:49.695849Z",
     "iopub.status.idle": "2022-06-21T10:04:49.705011Z",
     "shell.execute_reply": "2022-06-21T10:04:49.704139Z"
    },
    "papermill": {
     "duration": 0.028593,
     "end_time": "2022-06-21T10:04:49.708119",
     "exception": false,
     "start_time": "2022-06-21T10:04:49.679526",
     "status": "completed"
    },
    "tags": []
   },
   "outputs": [
    {
     "data": {
      "text/html": [
       "<div>\n",
       "<style scoped>\n",
       "    .dataframe tbody tr th:only-of-type {\n",
       "        vertical-align: middle;\n",
       "    }\n",
       "\n",
       "    .dataframe tbody tr th {\n",
       "        vertical-align: top;\n",
       "    }\n",
       "\n",
       "    .dataframe thead th {\n",
       "        text-align: right;\n",
       "    }\n",
       "</style>\n",
       "<table border=\"1\" class=\"dataframe\">\n",
       "  <thead>\n",
       "    <tr style=\"text-align: right;\">\n",
       "      <th></th>\n",
       "      <th>id</th>\n",
       "      <th>date</th>\n",
       "      <th>store_nbr</th>\n",
       "      <th>family</th>\n",
       "      <th>sales</th>\n",
       "      <th>onpromotion</th>\n",
       "      <th>city</th>\n",
       "      <th>state</th>\n",
       "      <th>store</th>\n",
       "      <th>cluster</th>\n",
       "      <th>uniquestore</th>\n",
       "      <th>newstore</th>\n",
       "    </tr>\n",
       "  </thead>\n",
       "  <tbody>\n",
       "    <tr>\n",
       "      <th>0</th>\n",
       "      <td>0</td>\n",
       "      <td>2013-01-01</td>\n",
       "      <td>1</td>\n",
       "      <td>AUTOMOTIVE</td>\n",
       "      <td>0.0</td>\n",
       "      <td>0</td>\n",
       "      <td>Quito</td>\n",
       "      <td>Pichincha</td>\n",
       "      <td>D</td>\n",
       "      <td>13</td>\n",
       "      <td>0</td>\n",
       "      <td>0</td>\n",
       "    </tr>\n",
       "    <tr>\n",
       "      <th>1</th>\n",
       "      <td>1</td>\n",
       "      <td>2013-01-01</td>\n",
       "      <td>1</td>\n",
       "      <td>BABY CARE</td>\n",
       "      <td>0.0</td>\n",
       "      <td>0</td>\n",
       "      <td>Quito</td>\n",
       "      <td>Pichincha</td>\n",
       "      <td>D</td>\n",
       "      <td>13</td>\n",
       "      <td>0</td>\n",
       "      <td>0</td>\n",
       "    </tr>\n",
       "    <tr>\n",
       "      <th>2</th>\n",
       "      <td>2</td>\n",
       "      <td>2013-01-01</td>\n",
       "      <td>1</td>\n",
       "      <td>BEAUTY</td>\n",
       "      <td>0.0</td>\n",
       "      <td>0</td>\n",
       "      <td>Quito</td>\n",
       "      <td>Pichincha</td>\n",
       "      <td>D</td>\n",
       "      <td>13</td>\n",
       "      <td>0</td>\n",
       "      <td>0</td>\n",
       "    </tr>\n",
       "    <tr>\n",
       "      <th>3</th>\n",
       "      <td>3</td>\n",
       "      <td>2013-01-01</td>\n",
       "      <td>1</td>\n",
       "      <td>BEVERAGES</td>\n",
       "      <td>0.0</td>\n",
       "      <td>0</td>\n",
       "      <td>Quito</td>\n",
       "      <td>Pichincha</td>\n",
       "      <td>D</td>\n",
       "      <td>13</td>\n",
       "      <td>0</td>\n",
       "      <td>0</td>\n",
       "    </tr>\n",
       "    <tr>\n",
       "      <th>4</th>\n",
       "      <td>4</td>\n",
       "      <td>2013-01-01</td>\n",
       "      <td>1</td>\n",
       "      <td>BOOKS</td>\n",
       "      <td>0.0</td>\n",
       "      <td>0</td>\n",
       "      <td>Quito</td>\n",
       "      <td>Pichincha</td>\n",
       "      <td>D</td>\n",
       "      <td>13</td>\n",
       "      <td>0</td>\n",
       "      <td>0</td>\n",
       "    </tr>\n",
       "    <tr>\n",
       "      <th>...</th>\n",
       "      <td>...</td>\n",
       "      <td>...</td>\n",
       "      <td>...</td>\n",
       "      <td>...</td>\n",
       "      <td>...</td>\n",
       "      <td>...</td>\n",
       "      <td>...</td>\n",
       "      <td>...</td>\n",
       "      <td>...</td>\n",
       "      <td>...</td>\n",
       "      <td>...</td>\n",
       "      <td>...</td>\n",
       "    </tr>\n",
       "    <tr>\n",
       "      <th>3029395</th>\n",
       "      <td>3029395</td>\n",
       "      <td>2017-08-31</td>\n",
       "      <td>9</td>\n",
       "      <td>POULTRY</td>\n",
       "      <td>NaN</td>\n",
       "      <td>1</td>\n",
       "      <td>Quito</td>\n",
       "      <td>Pichincha</td>\n",
       "      <td>B</td>\n",
       "      <td>6</td>\n",
       "      <td>0</td>\n",
       "      <td>0</td>\n",
       "    </tr>\n",
       "    <tr>\n",
       "      <th>3029396</th>\n",
       "      <td>3029396</td>\n",
       "      <td>2017-08-31</td>\n",
       "      <td>9</td>\n",
       "      <td>PREPARED FOODS</td>\n",
       "      <td>NaN</td>\n",
       "      <td>0</td>\n",
       "      <td>Quito</td>\n",
       "      <td>Pichincha</td>\n",
       "      <td>B</td>\n",
       "      <td>6</td>\n",
       "      <td>0</td>\n",
       "      <td>0</td>\n",
       "    </tr>\n",
       "    <tr>\n",
       "      <th>3029397</th>\n",
       "      <td>3029397</td>\n",
       "      <td>2017-08-31</td>\n",
       "      <td>9</td>\n",
       "      <td>PRODUCE</td>\n",
       "      <td>NaN</td>\n",
       "      <td>1</td>\n",
       "      <td>Quito</td>\n",
       "      <td>Pichincha</td>\n",
       "      <td>B</td>\n",
       "      <td>6</td>\n",
       "      <td>0</td>\n",
       "      <td>0</td>\n",
       "    </tr>\n",
       "    <tr>\n",
       "      <th>3029398</th>\n",
       "      <td>3029398</td>\n",
       "      <td>2017-08-31</td>\n",
       "      <td>9</td>\n",
       "      <td>SCHOOL AND OFFICE SUPPLIES</td>\n",
       "      <td>NaN</td>\n",
       "      <td>9</td>\n",
       "      <td>Quito</td>\n",
       "      <td>Pichincha</td>\n",
       "      <td>B</td>\n",
       "      <td>6</td>\n",
       "      <td>0</td>\n",
       "      <td>0</td>\n",
       "    </tr>\n",
       "    <tr>\n",
       "      <th>3029399</th>\n",
       "      <td>3029399</td>\n",
       "      <td>2017-08-31</td>\n",
       "      <td>9</td>\n",
       "      <td>SEAFOOD</td>\n",
       "      <td>NaN</td>\n",
       "      <td>0</td>\n",
       "      <td>Quito</td>\n",
       "      <td>Pichincha</td>\n",
       "      <td>B</td>\n",
       "      <td>6</td>\n",
       "      <td>0</td>\n",
       "      <td>0</td>\n",
       "    </tr>\n",
       "  </tbody>\n",
       "</table>\n",
       "<p>3029400 rows × 12 columns</p>\n",
       "</div>"
      ],
      "text/plain": [
       "              id       date  store_nbr                      family  sales  \\\n",
       "0              0 2013-01-01          1                  AUTOMOTIVE    0.0   \n",
       "1              1 2013-01-01          1                   BABY CARE    0.0   \n",
       "2              2 2013-01-01          1                      BEAUTY    0.0   \n",
       "3              3 2013-01-01          1                   BEVERAGES    0.0   \n",
       "4              4 2013-01-01          1                       BOOKS    0.0   \n",
       "...          ...        ...        ...                         ...    ...   \n",
       "3029395  3029395 2017-08-31          9                     POULTRY    NaN   \n",
       "3029396  3029396 2017-08-31          9              PREPARED FOODS    NaN   \n",
       "3029397  3029397 2017-08-31          9                     PRODUCE    NaN   \n",
       "3029398  3029398 2017-08-31          9  SCHOOL AND OFFICE SUPPLIES    NaN   \n",
       "3029399  3029399 2017-08-31          9                     SEAFOOD    NaN   \n",
       "\n",
       "         onpromotion   city      state store  cluster  uniquestore  newstore  \n",
       "0                  0  Quito  Pichincha     D       13            0         0  \n",
       "1                  0  Quito  Pichincha     D       13            0         0  \n",
       "2                  0  Quito  Pichincha     D       13            0         0  \n",
       "3                  0  Quito  Pichincha     D       13            0         0  \n",
       "4                  0  Quito  Pichincha     D       13            0         0  \n",
       "...              ...    ...        ...   ...      ...          ...       ...  \n",
       "3029395            1  Quito  Pichincha     B        6            0         0  \n",
       "3029396            0  Quito  Pichincha     B        6            0         0  \n",
       "3029397            1  Quito  Pichincha     B        6            0         0  \n",
       "3029398            9  Quito  Pichincha     B        6            0         0  \n",
       "3029399            0  Quito  Pichincha     B        6            0         0  \n",
       "\n",
       "[3029400 rows x 12 columns]"
      ]
     },
     "execution_count": 7,
     "metadata": {},
     "output_type": "execute_result"
    }
   ],
   "source": [
    "def store_func (orig_df):\n",
    "    \n",
    "    df = orig_df.copy()\n",
    "    \n",
    "    # Adding features to orig_stores\n",
    "    df['uniquestore'] = df.city.apply(lambda x: 0 if x in ['Quito', 'Guayaquil', 'Santo Domingo', 'Cuenca', 'Manta', 'Machala', 'Latacunga', 'Ambato'] else 1)\n",
    "    df['newstore'] = df.store_nbr.apply(lambda x: 1 if x in [19, 20, 21, 28, 35, 41, 51, 52] else 0)\n",
    "    \n",
    "    # Merging orig_stores, orig_test and orig_train\n",
    "    df = pd.concat([orig_train, orig_test], axis=0).merge(df, on=['store_nbr'], how='left')\n",
    "    df = df.rename(columns={'type' : 'store'})\n",
    "    return df\n",
    "store_func(orig_stores)"
   ]
  },
  {
   "cell_type": "code",
   "execution_count": 8,
   "id": "badcb561",
   "metadata": {
    "execution": {
     "iopub.execute_input": "2022-06-21T10:04:49.737252Z",
     "iopub.status.busy": "2022-06-21T10:04:49.736553Z",
     "iopub.status.idle": "2022-06-21T10:04:51.249839Z",
     "shell.execute_reply": "2022-06-21T10:04:51.248731Z"
    },
    "papermill": {
     "duration": 1.531452,
     "end_time": "2022-06-21T10:04:51.252776",
     "exception": false,
     "start_time": "2022-06-21T10:04:49.721324",
     "status": "completed"
    },
    "tags": []
   },
   "outputs": [],
   "source": [
    "final_df = store_func(orig_stores)"
   ]
  },
  {
   "cell_type": "markdown",
   "id": "479a3f50",
   "metadata": {
    "papermill": {
     "duration": 0.014367,
     "end_time": "2022-06-21T10:04:51.280110",
     "exception": false,
     "start_time": "2022-06-21T10:04:51.265743",
     "status": "completed"
    },
    "tags": []
   },
   "source": [
    "# Events"
   ]
  },
  {
   "cell_type": "code",
   "execution_count": 9,
   "id": "89ce56b0",
   "metadata": {
    "execution": {
     "iopub.execute_input": "2022-06-21T10:04:51.308803Z",
     "iopub.status.busy": "2022-06-21T10:04:51.308421Z",
     "iopub.status.idle": "2022-06-21T10:04:51.329824Z",
     "shell.execute_reply": "2022-06-21T10:04:51.328722Z"
    },
    "papermill": {
     "duration": 0.038824,
     "end_time": "2022-06-21T10:04:51.332555",
     "exception": false,
     "start_time": "2022-06-21T10:04:51.293731",
     "status": "completed"
    },
    "tags": []
   },
   "outputs": [],
   "source": [
    "def holiday_func (orig_df):\n",
    "    \n",
    "    df = orig_df.copy()\n",
    "    \n",
    "    # Non-transferred events\n",
    "    # print(df.loc[297])\n",
    "    # df.loc[297, 'transferred'] = df.loc[297, 'transferred'] = False\n",
    "    # print(df.loc[297])\n",
    "    df = df.query(\"transferred!=True\")\n",
    "    # Removing duplicates\n",
    "    df = df.drop(index=orig_holidays_events[orig_holidays_events[['date', 'locale_name']].duplicated()].index.values)\n",
    "    # Adding event type\n",
    "    df.loc[df.type=='Event', 'type'] = df.description.apply(lambda x: x[0:7])\n",
    "    # Merging orig_holidays_events and final_df\n",
    "    nat_df = df.query(\"locale=='National'\")\n",
    "    loc_df = df.query(\"locale=='Local'\")\n",
    "    reg_df = df.query(\"locale=='Regional'\")\n",
    "    \n",
    "    df = final_df.merge(nat_df, left_on=['date'], right_on=['date'], how='left')\n",
    "    df = df.merge(loc_df, left_on=['date', 'city'], right_on=['date', 'locale_name'], how='left')\n",
    "    df = df.merge(reg_df, left_on=['date', 'state'], right_on=['date', 'locale_name'], how='left')\n",
    "    # Adding New Year\n",
    "    df['firstday'] = df.description_x.apply(lambda x: 1 if x=='Primer dia del ano' else 0)\n",
    "    # Matching event and store\n",
    "    df = df.drop(columns=['locale_x', 'locale_name_x', 'description_x', 'transferred_x',\n",
    "                          'locale_y', 'locale_name_y', 'description_y', 'transferred_y',\n",
    "                          'locale', 'locale_name', 'description', 'transferred'])\n",
    "    df.loc[~df.type_x.isnull(), 'event_type'] = df.type_x.apply(lambda x: x)\n",
    "    df.loc[~df.type_y.isnull(), 'event_type'] = df.type_y.apply(lambda x: x)\n",
    "    df.loc[~df.type.isnull(), 'event_type'] = df.type.apply(lambda x: x)\n",
    "    df.loc[df.event_type.isnull(), 'event_type'] = df.event_type.apply(lambda x: 'norm')\n",
    "    df = df.drop(columns=['type_x', 'type_y', 'type'])\n",
    "    df['isevent'] = df.event_type.apply(lambda x: 'y' if x!='norm' else 'n')\n",
    "    # Adding Easter\n",
    "    df.loc[df.date.isin(['2017-04-16', '2016-03-27', '2015-04-05', '2014-04-20', '2013-03-31']), 'isevent'] = df.isevent.apply(lambda x: 'y')\n",
    "    df.loc[df.date.isin(['2017-04-16', '2016-03-27', '2015-04-05', '2014-04-20', '2013-03-31']), 'event_type'] = df.event_type.apply(lambda x: 'Holiday')\n",
    "    # Adding closure days\n",
    "    df['isclosed'] = df.groupby(by=['date', 'store_nbr'])['sales'].transform(lambda x: 1 if x.sum()==0 else 0)    \n",
    "    df.loc[(df.date.dt.year==2017) & (df.date.dt.month==8) & (df.date.dt.day>=16) , 'isclosed'] = df.isclosed.apply(lambda x: 0)\n",
    "    df.loc[df.date.isin(['2017-01-01']), 'isevent'] = df.isevent.apply(lambda x: 'n')\n",
    "    return df\n"
   ]
  },
  {
   "cell_type": "code",
   "execution_count": 10,
   "id": "c6428acb",
   "metadata": {
    "execution": {
     "iopub.execute_input": "2022-06-21T10:04:51.362050Z",
     "iopub.status.busy": "2022-06-21T10:04:51.360902Z",
     "iopub.status.idle": "2022-06-21T10:05:36.756934Z",
     "shell.execute_reply": "2022-06-21T10:05:36.756001Z"
    },
    "papermill": {
     "duration": 45.413935,
     "end_time": "2022-06-21T10:05:36.759466",
     "exception": false,
     "start_time": "2022-06-21T10:04:51.345531",
     "status": "completed"
    },
    "tags": []
   },
   "outputs": [],
   "source": [
    "final_df = holiday_func(orig_holidays_events)"
   ]
  },
  {
   "cell_type": "code",
   "execution_count": 11,
   "id": "448b957b",
   "metadata": {},
   "outputs": [
    {
     "data": {
      "text/html": [
       "<div>\n",
       "<style scoped>\n",
       "    .dataframe tbody tr th:only-of-type {\n",
       "        vertical-align: middle;\n",
       "    }\n",
       "\n",
       "    .dataframe tbody tr th {\n",
       "        vertical-align: top;\n",
       "    }\n",
       "\n",
       "    .dataframe thead th {\n",
       "        text-align: right;\n",
       "    }\n",
       "</style>\n",
       "<table border=\"1\" class=\"dataframe\">\n",
       "  <thead>\n",
       "    <tr style=\"text-align: right;\">\n",
       "      <th></th>\n",
       "      <th>id</th>\n",
       "      <th>date</th>\n",
       "      <th>store_nbr</th>\n",
       "      <th>family</th>\n",
       "      <th>sales</th>\n",
       "      <th>onpromotion</th>\n",
       "      <th>city</th>\n",
       "      <th>state</th>\n",
       "      <th>store</th>\n",
       "      <th>cluster</th>\n",
       "      <th>uniquestore</th>\n",
       "      <th>newstore</th>\n",
       "      <th>firstday</th>\n",
       "      <th>event_type</th>\n",
       "      <th>isevent</th>\n",
       "      <th>isclosed</th>\n",
       "    </tr>\n",
       "  </thead>\n",
       "  <tbody>\n",
       "    <tr>\n",
       "      <th>0</th>\n",
       "      <td>0</td>\n",
       "      <td>2013-01-01</td>\n",
       "      <td>1</td>\n",
       "      <td>AUTOMOTIVE</td>\n",
       "      <td>0.0</td>\n",
       "      <td>0</td>\n",
       "      <td>Quito</td>\n",
       "      <td>Pichincha</td>\n",
       "      <td>D</td>\n",
       "      <td>13</td>\n",
       "      <td>0</td>\n",
       "      <td>0</td>\n",
       "      <td>1</td>\n",
       "      <td>Holiday</td>\n",
       "      <td>y</td>\n",
       "      <td>1</td>\n",
       "    </tr>\n",
       "    <tr>\n",
       "      <th>1</th>\n",
       "      <td>1</td>\n",
       "      <td>2013-01-01</td>\n",
       "      <td>1</td>\n",
       "      <td>BABY CARE</td>\n",
       "      <td>0.0</td>\n",
       "      <td>0</td>\n",
       "      <td>Quito</td>\n",
       "      <td>Pichincha</td>\n",
       "      <td>D</td>\n",
       "      <td>13</td>\n",
       "      <td>0</td>\n",
       "      <td>0</td>\n",
       "      <td>1</td>\n",
       "      <td>Holiday</td>\n",
       "      <td>y</td>\n",
       "      <td>1</td>\n",
       "    </tr>\n",
       "    <tr>\n",
       "      <th>2</th>\n",
       "      <td>2</td>\n",
       "      <td>2013-01-01</td>\n",
       "      <td>1</td>\n",
       "      <td>BEAUTY</td>\n",
       "      <td>0.0</td>\n",
       "      <td>0</td>\n",
       "      <td>Quito</td>\n",
       "      <td>Pichincha</td>\n",
       "      <td>D</td>\n",
       "      <td>13</td>\n",
       "      <td>0</td>\n",
       "      <td>0</td>\n",
       "      <td>1</td>\n",
       "      <td>Holiday</td>\n",
       "      <td>y</td>\n",
       "      <td>1</td>\n",
       "    </tr>\n",
       "    <tr>\n",
       "      <th>3</th>\n",
       "      <td>3</td>\n",
       "      <td>2013-01-01</td>\n",
       "      <td>1</td>\n",
       "      <td>BEVERAGES</td>\n",
       "      <td>0.0</td>\n",
       "      <td>0</td>\n",
       "      <td>Quito</td>\n",
       "      <td>Pichincha</td>\n",
       "      <td>D</td>\n",
       "      <td>13</td>\n",
       "      <td>0</td>\n",
       "      <td>0</td>\n",
       "      <td>1</td>\n",
       "      <td>Holiday</td>\n",
       "      <td>y</td>\n",
       "      <td>1</td>\n",
       "    </tr>\n",
       "    <tr>\n",
       "      <th>4</th>\n",
       "      <td>4</td>\n",
       "      <td>2013-01-01</td>\n",
       "      <td>1</td>\n",
       "      <td>BOOKS</td>\n",
       "      <td>0.0</td>\n",
       "      <td>0</td>\n",
       "      <td>Quito</td>\n",
       "      <td>Pichincha</td>\n",
       "      <td>D</td>\n",
       "      <td>13</td>\n",
       "      <td>0</td>\n",
       "      <td>0</td>\n",
       "      <td>1</td>\n",
       "      <td>Holiday</td>\n",
       "      <td>y</td>\n",
       "      <td>1</td>\n",
       "    </tr>\n",
       "    <tr>\n",
       "      <th>...</th>\n",
       "      <td>...</td>\n",
       "      <td>...</td>\n",
       "      <td>...</td>\n",
       "      <td>...</td>\n",
       "      <td>...</td>\n",
       "      <td>...</td>\n",
       "      <td>...</td>\n",
       "      <td>...</td>\n",
       "      <td>...</td>\n",
       "      <td>...</td>\n",
       "      <td>...</td>\n",
       "      <td>...</td>\n",
       "      <td>...</td>\n",
       "      <td>...</td>\n",
       "      <td>...</td>\n",
       "      <td>...</td>\n",
       "    </tr>\n",
       "    <tr>\n",
       "      <th>3029395</th>\n",
       "      <td>3029395</td>\n",
       "      <td>2017-08-31</td>\n",
       "      <td>9</td>\n",
       "      <td>POULTRY</td>\n",
       "      <td>NaN</td>\n",
       "      <td>1</td>\n",
       "      <td>Quito</td>\n",
       "      <td>Pichincha</td>\n",
       "      <td>B</td>\n",
       "      <td>6</td>\n",
       "      <td>0</td>\n",
       "      <td>0</td>\n",
       "      <td>0</td>\n",
       "      <td>norm</td>\n",
       "      <td>n</td>\n",
       "      <td>0</td>\n",
       "    </tr>\n",
       "    <tr>\n",
       "      <th>3029396</th>\n",
       "      <td>3029396</td>\n",
       "      <td>2017-08-31</td>\n",
       "      <td>9</td>\n",
       "      <td>PREPARED FOODS</td>\n",
       "      <td>NaN</td>\n",
       "      <td>0</td>\n",
       "      <td>Quito</td>\n",
       "      <td>Pichincha</td>\n",
       "      <td>B</td>\n",
       "      <td>6</td>\n",
       "      <td>0</td>\n",
       "      <td>0</td>\n",
       "      <td>0</td>\n",
       "      <td>norm</td>\n",
       "      <td>n</td>\n",
       "      <td>0</td>\n",
       "    </tr>\n",
       "    <tr>\n",
       "      <th>3029397</th>\n",
       "      <td>3029397</td>\n",
       "      <td>2017-08-31</td>\n",
       "      <td>9</td>\n",
       "      <td>PRODUCE</td>\n",
       "      <td>NaN</td>\n",
       "      <td>1</td>\n",
       "      <td>Quito</td>\n",
       "      <td>Pichincha</td>\n",
       "      <td>B</td>\n",
       "      <td>6</td>\n",
       "      <td>0</td>\n",
       "      <td>0</td>\n",
       "      <td>0</td>\n",
       "      <td>norm</td>\n",
       "      <td>n</td>\n",
       "      <td>0</td>\n",
       "    </tr>\n",
       "    <tr>\n",
       "      <th>3029398</th>\n",
       "      <td>3029398</td>\n",
       "      <td>2017-08-31</td>\n",
       "      <td>9</td>\n",
       "      <td>SCHOOL AND OFFICE SUPPLIES</td>\n",
       "      <td>NaN</td>\n",
       "      <td>9</td>\n",
       "      <td>Quito</td>\n",
       "      <td>Pichincha</td>\n",
       "      <td>B</td>\n",
       "      <td>6</td>\n",
       "      <td>0</td>\n",
       "      <td>0</td>\n",
       "      <td>0</td>\n",
       "      <td>norm</td>\n",
       "      <td>n</td>\n",
       "      <td>0</td>\n",
       "    </tr>\n",
       "    <tr>\n",
       "      <th>3029399</th>\n",
       "      <td>3029399</td>\n",
       "      <td>2017-08-31</td>\n",
       "      <td>9</td>\n",
       "      <td>SEAFOOD</td>\n",
       "      <td>NaN</td>\n",
       "      <td>0</td>\n",
       "      <td>Quito</td>\n",
       "      <td>Pichincha</td>\n",
       "      <td>B</td>\n",
       "      <td>6</td>\n",
       "      <td>0</td>\n",
       "      <td>0</td>\n",
       "      <td>0</td>\n",
       "      <td>norm</td>\n",
       "      <td>n</td>\n",
       "      <td>0</td>\n",
       "    </tr>\n",
       "  </tbody>\n",
       "</table>\n",
       "<p>3029400 rows × 16 columns</p>\n",
       "</div>"
      ],
      "text/plain": [
       "              id       date  store_nbr                      family  sales  \\\n",
       "0              0 2013-01-01          1                  AUTOMOTIVE    0.0   \n",
       "1              1 2013-01-01          1                   BABY CARE    0.0   \n",
       "2              2 2013-01-01          1                      BEAUTY    0.0   \n",
       "3              3 2013-01-01          1                   BEVERAGES    0.0   \n",
       "4              4 2013-01-01          1                       BOOKS    0.0   \n",
       "...          ...        ...        ...                         ...    ...   \n",
       "3029395  3029395 2017-08-31          9                     POULTRY    NaN   \n",
       "3029396  3029396 2017-08-31          9              PREPARED FOODS    NaN   \n",
       "3029397  3029397 2017-08-31          9                     PRODUCE    NaN   \n",
       "3029398  3029398 2017-08-31          9  SCHOOL AND OFFICE SUPPLIES    NaN   \n",
       "3029399  3029399 2017-08-31          9                     SEAFOOD    NaN   \n",
       "\n",
       "         onpromotion   city      state store  cluster  uniquestore  newstore  \\\n",
       "0                  0  Quito  Pichincha     D       13            0         0   \n",
       "1                  0  Quito  Pichincha     D       13            0         0   \n",
       "2                  0  Quito  Pichincha     D       13            0         0   \n",
       "3                  0  Quito  Pichincha     D       13            0         0   \n",
       "4                  0  Quito  Pichincha     D       13            0         0   \n",
       "...              ...    ...        ...   ...      ...          ...       ...   \n",
       "3029395            1  Quito  Pichincha     B        6            0         0   \n",
       "3029396            0  Quito  Pichincha     B        6            0         0   \n",
       "3029397            1  Quito  Pichincha     B        6            0         0   \n",
       "3029398            9  Quito  Pichincha     B        6            0         0   \n",
       "3029399            0  Quito  Pichincha     B        6            0         0   \n",
       "\n",
       "         firstday event_type isevent  isclosed  \n",
       "0               1    Holiday       y         1  \n",
       "1               1    Holiday       y         1  \n",
       "2               1    Holiday       y         1  \n",
       "3               1    Holiday       y         1  \n",
       "4               1    Holiday       y         1  \n",
       "...           ...        ...     ...       ...  \n",
       "3029395         0       norm       n         0  \n",
       "3029396         0       norm       n         0  \n",
       "3029397         0       norm       n         0  \n",
       "3029398         0       norm       n         0  \n",
       "3029399         0       norm       n         0  \n",
       "\n",
       "[3029400 rows x 16 columns]"
      ]
     },
     "execution_count": 11,
     "metadata": {},
     "output_type": "execute_result"
    }
   ],
   "source": [
    "final_df"
   ]
  },
  {
   "cell_type": "markdown",
   "id": "fd0b08c7",
   "metadata": {
    "papermill": {
     "duration": 0.013706,
     "end_time": "2022-06-21T10:05:36.787049",
     "exception": false,
     "start_time": "2022-06-21T10:05:36.773343",
     "status": "completed"
    },
    "tags": []
   },
   "source": [
    "# Oil"
   ]
  },
  {
   "cell_type": "code",
   "execution_count": 12,
   "id": "19ca937d",
   "metadata": {
    "execution": {
     "iopub.execute_input": "2022-06-21T10:05:36.816434Z",
     "iopub.status.busy": "2022-06-21T10:05:36.815801Z",
     "iopub.status.idle": "2022-06-21T10:05:36.839583Z",
     "shell.execute_reply": "2022-06-21T10:05:36.838731Z"
    },
    "papermill": {
     "duration": 0.040541,
     "end_time": "2022-06-21T10:05:36.841567",
     "exception": false,
     "start_time": "2022-06-21T10:05:36.801026",
     "status": "completed"
    },
    "tags": []
   },
   "outputs": [
    {
     "data": {
      "text/plain": [
       "dcoilwtico    529\n",
       "dtype: int64"
      ]
     },
     "execution_count": 12,
     "metadata": {},
     "output_type": "execute_result"
    }
   ],
   "source": [
    "orig_oil.set_index('date').resample(\"D\").mean().isnull().sum()"
   ]
  },
  {
   "cell_type": "code",
   "execution_count": 13,
   "id": "a9ed6798",
   "metadata": {},
   "outputs": [
    {
     "data": {
      "text/html": [
       "<div>\n",
       "<style scoped>\n",
       "    .dataframe tbody tr th:only-of-type {\n",
       "        vertical-align: middle;\n",
       "    }\n",
       "\n",
       "    .dataframe tbody tr th {\n",
       "        vertical-align: top;\n",
       "    }\n",
       "\n",
       "    .dataframe thead th {\n",
       "        text-align: right;\n",
       "    }\n",
       "</style>\n",
       "<table border=\"1\" class=\"dataframe\">\n",
       "  <thead>\n",
       "    <tr style=\"text-align: right;\">\n",
       "      <th></th>\n",
       "      <th>dcoilwtico</th>\n",
       "    </tr>\n",
       "    <tr>\n",
       "      <th>date</th>\n",
       "      <th></th>\n",
       "    </tr>\n",
       "  </thead>\n",
       "  <tbody>\n",
       "    <tr>\n",
       "      <th>2013-01-01</th>\n",
       "      <td>NaN</td>\n",
       "    </tr>\n",
       "    <tr>\n",
       "      <th>2013-01-02</th>\n",
       "      <td>93.14</td>\n",
       "    </tr>\n",
       "    <tr>\n",
       "      <th>2013-01-03</th>\n",
       "      <td>92.97</td>\n",
       "    </tr>\n",
       "    <tr>\n",
       "      <th>2013-01-04</th>\n",
       "      <td>93.12</td>\n",
       "    </tr>\n",
       "    <tr>\n",
       "      <th>2013-01-05</th>\n",
       "      <td>NaN</td>\n",
       "    </tr>\n",
       "    <tr>\n",
       "      <th>...</th>\n",
       "      <td>...</td>\n",
       "    </tr>\n",
       "    <tr>\n",
       "      <th>2017-08-27</th>\n",
       "      <td>NaN</td>\n",
       "    </tr>\n",
       "    <tr>\n",
       "      <th>2017-08-28</th>\n",
       "      <td>46.40</td>\n",
       "    </tr>\n",
       "    <tr>\n",
       "      <th>2017-08-29</th>\n",
       "      <td>46.46</td>\n",
       "    </tr>\n",
       "    <tr>\n",
       "      <th>2017-08-30</th>\n",
       "      <td>45.96</td>\n",
       "    </tr>\n",
       "    <tr>\n",
       "      <th>2017-08-31</th>\n",
       "      <td>47.26</td>\n",
       "    </tr>\n",
       "  </tbody>\n",
       "</table>\n",
       "<p>1704 rows × 1 columns</p>\n",
       "</div>"
      ],
      "text/plain": [
       "            dcoilwtico\n",
       "date                  \n",
       "2013-01-01         NaN\n",
       "2013-01-02       93.14\n",
       "2013-01-03       92.97\n",
       "2013-01-04       93.12\n",
       "2013-01-05         NaN\n",
       "...                ...\n",
       "2017-08-27         NaN\n",
       "2017-08-28       46.40\n",
       "2017-08-29       46.46\n",
       "2017-08-30       45.96\n",
       "2017-08-31       47.26\n",
       "\n",
       "[1704 rows x 1 columns]"
      ]
     },
     "execution_count": 13,
     "metadata": {},
     "output_type": "execute_result"
    }
   ],
   "source": [
    "orig_oil.set_index('date').resample(\"D\").mean()"
   ]
  },
  {
   "cell_type": "code",
   "execution_count": 14,
   "id": "ba9d1d2e",
   "metadata": {
    "execution": {
     "iopub.execute_input": "2022-06-21T10:05:36.870480Z",
     "iopub.status.busy": "2022-06-21T10:05:36.869867Z",
     "iopub.status.idle": "2022-06-21T10:05:36.878264Z",
     "shell.execute_reply": "2022-06-21T10:05:36.877469Z"
    },
    "papermill": {
     "duration": 0.025144,
     "end_time": "2022-06-21T10:05:36.880654",
     "exception": false,
     "start_time": "2022-06-21T10:05:36.855510",
     "status": "completed"
    },
    "tags": []
   },
   "outputs": [
    {
     "data": {
      "text/html": [
       "<div>\n",
       "<style scoped>\n",
       "    .dataframe tbody tr th:only-of-type {\n",
       "        vertical-align: middle;\n",
       "    }\n",
       "\n",
       "    .dataframe tbody tr th {\n",
       "        vertical-align: top;\n",
       "    }\n",
       "\n",
       "    .dataframe thead th {\n",
       "        text-align: right;\n",
       "    }\n",
       "</style>\n",
       "<table border=\"1\" class=\"dataframe\">\n",
       "  <thead>\n",
       "    <tr style=\"text-align: right;\">\n",
       "      <th></th>\n",
       "      <th>id</th>\n",
       "      <th>date</th>\n",
       "      <th>store_nbr</th>\n",
       "      <th>family</th>\n",
       "      <th>sales</th>\n",
       "      <th>onpromotion</th>\n",
       "      <th>city</th>\n",
       "      <th>state</th>\n",
       "      <th>store</th>\n",
       "      <th>cluster</th>\n",
       "      <th>...</th>\n",
       "      <th>lagoil_7_dcoilwtico</th>\n",
       "      <th>lagoil_10_dcoilwtico</th>\n",
       "      <th>lagoil_14_dcoilwtico</th>\n",
       "      <th>lagoil_21_dcoilwtico</th>\n",
       "      <th>lagoil_30_dcoilwtico</th>\n",
       "      <th>lagoil_60_dcoilwtico</th>\n",
       "      <th>lagoil_90_dcoilwtico</th>\n",
       "      <th>oil_week_avg</th>\n",
       "      <th>oil_2weeks_avg</th>\n",
       "      <th>oil_month_avg</th>\n",
       "    </tr>\n",
       "  </thead>\n",
       "  <tbody>\n",
       "    <tr>\n",
       "      <th>0</th>\n",
       "      <td>0</td>\n",
       "      <td>2013-01-01</td>\n",
       "      <td>1</td>\n",
       "      <td>AUTOMOTIVE</td>\n",
       "      <td>0.0</td>\n",
       "      <td>0</td>\n",
       "      <td>Quito</td>\n",
       "      <td>Pichincha</td>\n",
       "      <td>D</td>\n",
       "      <td>13</td>\n",
       "      <td>...</td>\n",
       "      <td>NaN</td>\n",
       "      <td>NaN</td>\n",
       "      <td>NaN</td>\n",
       "      <td>NaN</td>\n",
       "      <td>NaN</td>\n",
       "      <td>NaN</td>\n",
       "      <td>NaN</td>\n",
       "      <td>NaN</td>\n",
       "      <td>NaN</td>\n",
       "      <td>NaN</td>\n",
       "    </tr>\n",
       "    <tr>\n",
       "      <th>1</th>\n",
       "      <td>1</td>\n",
       "      <td>2013-01-01</td>\n",
       "      <td>1</td>\n",
       "      <td>BABY CARE</td>\n",
       "      <td>0.0</td>\n",
       "      <td>0</td>\n",
       "      <td>Quito</td>\n",
       "      <td>Pichincha</td>\n",
       "      <td>D</td>\n",
       "      <td>13</td>\n",
       "      <td>...</td>\n",
       "      <td>NaN</td>\n",
       "      <td>NaN</td>\n",
       "      <td>NaN</td>\n",
       "      <td>NaN</td>\n",
       "      <td>NaN</td>\n",
       "      <td>NaN</td>\n",
       "      <td>NaN</td>\n",
       "      <td>NaN</td>\n",
       "      <td>NaN</td>\n",
       "      <td>NaN</td>\n",
       "    </tr>\n",
       "    <tr>\n",
       "      <th>2</th>\n",
       "      <td>2</td>\n",
       "      <td>2013-01-01</td>\n",
       "      <td>1</td>\n",
       "      <td>BEAUTY</td>\n",
       "      <td>0.0</td>\n",
       "      <td>0</td>\n",
       "      <td>Quito</td>\n",
       "      <td>Pichincha</td>\n",
       "      <td>D</td>\n",
       "      <td>13</td>\n",
       "      <td>...</td>\n",
       "      <td>NaN</td>\n",
       "      <td>NaN</td>\n",
       "      <td>NaN</td>\n",
       "      <td>NaN</td>\n",
       "      <td>NaN</td>\n",
       "      <td>NaN</td>\n",
       "      <td>NaN</td>\n",
       "      <td>NaN</td>\n",
       "      <td>NaN</td>\n",
       "      <td>NaN</td>\n",
       "    </tr>\n",
       "    <tr>\n",
       "      <th>3</th>\n",
       "      <td>3</td>\n",
       "      <td>2013-01-01</td>\n",
       "      <td>1</td>\n",
       "      <td>BEVERAGES</td>\n",
       "      <td>0.0</td>\n",
       "      <td>0</td>\n",
       "      <td>Quito</td>\n",
       "      <td>Pichincha</td>\n",
       "      <td>D</td>\n",
       "      <td>13</td>\n",
       "      <td>...</td>\n",
       "      <td>NaN</td>\n",
       "      <td>NaN</td>\n",
       "      <td>NaN</td>\n",
       "      <td>NaN</td>\n",
       "      <td>NaN</td>\n",
       "      <td>NaN</td>\n",
       "      <td>NaN</td>\n",
       "      <td>NaN</td>\n",
       "      <td>NaN</td>\n",
       "      <td>NaN</td>\n",
       "    </tr>\n",
       "    <tr>\n",
       "      <th>4</th>\n",
       "      <td>4</td>\n",
       "      <td>2013-01-01</td>\n",
       "      <td>1</td>\n",
       "      <td>BOOKS</td>\n",
       "      <td>0.0</td>\n",
       "      <td>0</td>\n",
       "      <td>Quito</td>\n",
       "      <td>Pichincha</td>\n",
       "      <td>D</td>\n",
       "      <td>13</td>\n",
       "      <td>...</td>\n",
       "      <td>NaN</td>\n",
       "      <td>NaN</td>\n",
       "      <td>NaN</td>\n",
       "      <td>NaN</td>\n",
       "      <td>NaN</td>\n",
       "      <td>NaN</td>\n",
       "      <td>NaN</td>\n",
       "      <td>NaN</td>\n",
       "      <td>NaN</td>\n",
       "      <td>NaN</td>\n",
       "    </tr>\n",
       "    <tr>\n",
       "      <th>...</th>\n",
       "      <td>...</td>\n",
       "      <td>...</td>\n",
       "      <td>...</td>\n",
       "      <td>...</td>\n",
       "      <td>...</td>\n",
       "      <td>...</td>\n",
       "      <td>...</td>\n",
       "      <td>...</td>\n",
       "      <td>...</td>\n",
       "      <td>...</td>\n",
       "      <td>...</td>\n",
       "      <td>...</td>\n",
       "      <td>...</td>\n",
       "      <td>...</td>\n",
       "      <td>...</td>\n",
       "      <td>...</td>\n",
       "      <td>...</td>\n",
       "      <td>...</td>\n",
       "      <td>...</td>\n",
       "      <td>...</td>\n",
       "      <td>...</td>\n",
       "    </tr>\n",
       "    <tr>\n",
       "      <th>3029395</th>\n",
       "      <td>3029395</td>\n",
       "      <td>2017-08-31</td>\n",
       "      <td>9</td>\n",
       "      <td>POULTRY</td>\n",
       "      <td>NaN</td>\n",
       "      <td>1</td>\n",
       "      <td>Quito</td>\n",
       "      <td>Pichincha</td>\n",
       "      <td>B</td>\n",
       "      <td>6</td>\n",
       "      <td>...</td>\n",
       "      <td>47.24</td>\n",
       "      <td>47.39</td>\n",
       "      <td>47.07</td>\n",
       "      <td>48.54</td>\n",
       "      <td>49.19</td>\n",
       "      <td>45.656</td>\n",
       "      <td>47.68</td>\n",
       "      <td>46.825714</td>\n",
       "      <td>47.362857</td>\n",
       "      <td>48.034333</td>\n",
       "    </tr>\n",
       "    <tr>\n",
       "      <th>3029396</th>\n",
       "      <td>3029396</td>\n",
       "      <td>2017-08-31</td>\n",
       "      <td>9</td>\n",
       "      <td>PREPARED FOODS</td>\n",
       "      <td>NaN</td>\n",
       "      <td>0</td>\n",
       "      <td>Quito</td>\n",
       "      <td>Pichincha</td>\n",
       "      <td>B</td>\n",
       "      <td>6</td>\n",
       "      <td>...</td>\n",
       "      <td>47.24</td>\n",
       "      <td>47.39</td>\n",
       "      <td>47.07</td>\n",
       "      <td>48.54</td>\n",
       "      <td>49.19</td>\n",
       "      <td>45.656</td>\n",
       "      <td>47.68</td>\n",
       "      <td>46.825714</td>\n",
       "      <td>47.362857</td>\n",
       "      <td>48.034333</td>\n",
       "    </tr>\n",
       "    <tr>\n",
       "      <th>3029397</th>\n",
       "      <td>3029397</td>\n",
       "      <td>2017-08-31</td>\n",
       "      <td>9</td>\n",
       "      <td>PRODUCE</td>\n",
       "      <td>NaN</td>\n",
       "      <td>1</td>\n",
       "      <td>Quito</td>\n",
       "      <td>Pichincha</td>\n",
       "      <td>B</td>\n",
       "      <td>6</td>\n",
       "      <td>...</td>\n",
       "      <td>47.24</td>\n",
       "      <td>47.39</td>\n",
       "      <td>47.07</td>\n",
       "      <td>48.54</td>\n",
       "      <td>49.19</td>\n",
       "      <td>45.656</td>\n",
       "      <td>47.68</td>\n",
       "      <td>46.825714</td>\n",
       "      <td>47.362857</td>\n",
       "      <td>48.034333</td>\n",
       "    </tr>\n",
       "    <tr>\n",
       "      <th>3029398</th>\n",
       "      <td>3029398</td>\n",
       "      <td>2017-08-31</td>\n",
       "      <td>9</td>\n",
       "      <td>SCHOOL AND OFFICE SUPPLIES</td>\n",
       "      <td>NaN</td>\n",
       "      <td>9</td>\n",
       "      <td>Quito</td>\n",
       "      <td>Pichincha</td>\n",
       "      <td>B</td>\n",
       "      <td>6</td>\n",
       "      <td>...</td>\n",
       "      <td>47.24</td>\n",
       "      <td>47.39</td>\n",
       "      <td>47.07</td>\n",
       "      <td>48.54</td>\n",
       "      <td>49.19</td>\n",
       "      <td>45.656</td>\n",
       "      <td>47.68</td>\n",
       "      <td>46.825714</td>\n",
       "      <td>47.362857</td>\n",
       "      <td>48.034333</td>\n",
       "    </tr>\n",
       "    <tr>\n",
       "      <th>3029399</th>\n",
       "      <td>3029399</td>\n",
       "      <td>2017-08-31</td>\n",
       "      <td>9</td>\n",
       "      <td>SEAFOOD</td>\n",
       "      <td>NaN</td>\n",
       "      <td>0</td>\n",
       "      <td>Quito</td>\n",
       "      <td>Pichincha</td>\n",
       "      <td>B</td>\n",
       "      <td>6</td>\n",
       "      <td>...</td>\n",
       "      <td>47.24</td>\n",
       "      <td>47.39</td>\n",
       "      <td>47.07</td>\n",
       "      <td>48.54</td>\n",
       "      <td>49.19</td>\n",
       "      <td>45.656</td>\n",
       "      <td>47.68</td>\n",
       "      <td>46.825714</td>\n",
       "      <td>47.362857</td>\n",
       "      <td>48.034333</td>\n",
       "    </tr>\n",
       "  </tbody>\n",
       "</table>\n",
       "<p>3029400 rows × 33 columns</p>\n",
       "</div>"
      ],
      "text/plain": [
       "              id       date  store_nbr                      family  sales  \\\n",
       "0              0 2013-01-01          1                  AUTOMOTIVE    0.0   \n",
       "1              1 2013-01-01          1                   BABY CARE    0.0   \n",
       "2              2 2013-01-01          1                      BEAUTY    0.0   \n",
       "3              3 2013-01-01          1                   BEVERAGES    0.0   \n",
       "4              4 2013-01-01          1                       BOOKS    0.0   \n",
       "...          ...        ...        ...                         ...    ...   \n",
       "3029395  3029395 2017-08-31          9                     POULTRY    NaN   \n",
       "3029396  3029396 2017-08-31          9              PREPARED FOODS    NaN   \n",
       "3029397  3029397 2017-08-31          9                     PRODUCE    NaN   \n",
       "3029398  3029398 2017-08-31          9  SCHOOL AND OFFICE SUPPLIES    NaN   \n",
       "3029399  3029399 2017-08-31          9                     SEAFOOD    NaN   \n",
       "\n",
       "         onpromotion   city      state store  cluster  ...  \\\n",
       "0                  0  Quito  Pichincha     D       13  ...   \n",
       "1                  0  Quito  Pichincha     D       13  ...   \n",
       "2                  0  Quito  Pichincha     D       13  ...   \n",
       "3                  0  Quito  Pichincha     D       13  ...   \n",
       "4                  0  Quito  Pichincha     D       13  ...   \n",
       "...              ...    ...        ...   ...      ...  ...   \n",
       "3029395            1  Quito  Pichincha     B        6  ...   \n",
       "3029396            0  Quito  Pichincha     B        6  ...   \n",
       "3029397            1  Quito  Pichincha     B        6  ...   \n",
       "3029398            9  Quito  Pichincha     B        6  ...   \n",
       "3029399            0  Quito  Pichincha     B        6  ...   \n",
       "\n",
       "         lagoil_7_dcoilwtico  lagoil_10_dcoilwtico  lagoil_14_dcoilwtico  \\\n",
       "0                        NaN                   NaN                   NaN   \n",
       "1                        NaN                   NaN                   NaN   \n",
       "2                        NaN                   NaN                   NaN   \n",
       "3                        NaN                   NaN                   NaN   \n",
       "4                        NaN                   NaN                   NaN   \n",
       "...                      ...                   ...                   ...   \n",
       "3029395                47.24                 47.39                 47.07   \n",
       "3029396                47.24                 47.39                 47.07   \n",
       "3029397                47.24                 47.39                 47.07   \n",
       "3029398                47.24                 47.39                 47.07   \n",
       "3029399                47.24                 47.39                 47.07   \n",
       "\n",
       "        lagoil_21_dcoilwtico lagoil_30_dcoilwtico  lagoil_60_dcoilwtico  \\\n",
       "0                        NaN                  NaN                   NaN   \n",
       "1                        NaN                  NaN                   NaN   \n",
       "2                        NaN                  NaN                   NaN   \n",
       "3                        NaN                  NaN                   NaN   \n",
       "4                        NaN                  NaN                   NaN   \n",
       "...                      ...                  ...                   ...   \n",
       "3029395                48.54                49.19                45.656   \n",
       "3029396                48.54                49.19                45.656   \n",
       "3029397                48.54                49.19                45.656   \n",
       "3029398                48.54                49.19                45.656   \n",
       "3029399                48.54                49.19                45.656   \n",
       "\n",
       "         lagoil_90_dcoilwtico  oil_week_avg  oil_2weeks_avg  oil_month_avg  \n",
       "0                         NaN           NaN             NaN            NaN  \n",
       "1                         NaN           NaN             NaN            NaN  \n",
       "2                         NaN           NaN             NaN            NaN  \n",
       "3                         NaN           NaN             NaN            NaN  \n",
       "4                         NaN           NaN             NaN            NaN  \n",
       "...                       ...           ...             ...            ...  \n",
       "3029395                 47.68     46.825714       47.362857      48.034333  \n",
       "3029396                 47.68     46.825714       47.362857      48.034333  \n",
       "3029397                 47.68     46.825714       47.362857      48.034333  \n",
       "3029398                 47.68     46.825714       47.362857      48.034333  \n",
       "3029399                 47.68     46.825714       47.362857      48.034333  \n",
       "\n",
       "[3029400 rows x 33 columns]"
      ]
     },
     "execution_count": 14,
     "metadata": {},
     "output_type": "execute_result"
    }
   ],
   "source": [
    "def oil_func (orig_df):\n",
    "    \n",
    "    df = orig_df.copy()\n",
    "    \n",
    "    # Adding missing values\n",
    "    df = df.set_index('date').resample(\"D\").mean().interpolate(method ='linear',limit_direction='backward').reset_index()\n",
    "    for i in [1, 2, 3, 4, 5, 6, 7, 10, 14, 21, 30, 60, 90]:\n",
    "        df['lagoil_' + str(i) + '_dcoilwtico'] = df['dcoilwtico'].shift(i)\n",
    "    df['oil_week_avg'] = df['dcoilwtico'].rolling(7).mean()\n",
    "    df['oil_2weeks_avg'] = df['dcoilwtico'].rolling(14).mean()\n",
    "    df['oil_month_avg'] = df['dcoilwtico'].rolling(30).mean()\n",
    "\n",
    "    df.dropna(inplace = True)\n",
    "    # Merging orig_oil and final_df\n",
    "    df = final_df.merge(df, on=['date'], how='left')\n",
    "    return df\n",
    "oil_func(orig_oil)"
   ]
  },
  {
   "cell_type": "code",
   "execution_count": 15,
   "id": "6f4daf77",
   "metadata": {
    "execution": {
     "iopub.execute_input": "2022-06-21T10:05:36.909946Z",
     "iopub.status.busy": "2022-06-21T10:05:36.909320Z",
     "iopub.status.idle": "2022-06-21T10:05:38.782809Z",
     "shell.execute_reply": "2022-06-21T10:05:38.781960Z"
    },
    "papermill": {
     "duration": 1.890897,
     "end_time": "2022-06-21T10:05:38.785235",
     "exception": false,
     "start_time": "2022-06-21T10:05:36.894338",
     "status": "completed"
    },
    "tags": []
   },
   "outputs": [],
   "source": [
    "final_df = oil_func(orig_oil)"
   ]
  },
  {
   "cell_type": "markdown",
   "id": "acbf2bcb",
   "metadata": {
    "papermill": {
     "duration": 0.013967,
     "end_time": "2022-06-21T10:05:38.812811",
     "exception": false,
     "start_time": "2022-06-21T10:05:38.798844",
     "status": "completed"
    },
    "tags": []
   },
   "source": [
    "# Transactions"
   ]
  },
  {
   "cell_type": "code",
   "execution_count": 16,
   "id": "e973e10a",
   "metadata": {
    "execution": {
     "iopub.execute_input": "2022-06-21T10:05:38.840911Z",
     "iopub.status.busy": "2022-06-21T10:05:38.840245Z",
     "iopub.status.idle": "2022-06-21T10:05:38.852079Z",
     "shell.execute_reply": "2022-06-21T10:05:38.851269Z"
    },
    "papermill": {
     "duration": 0.028364,
     "end_time": "2022-06-21T10:05:38.854289",
     "exception": false,
     "start_time": "2022-06-21T10:05:38.825925",
     "status": "completed"
    },
    "tags": []
   },
   "outputs": [],
   "source": [
    "def transactions_func (orig_df):\n",
    "    \n",
    "    df = orig_df.copy()\n",
    "    \n",
    "    # Merging orig_transactions and final_df\n",
    "    df = final_df.merge(df, on=['date', 'store_nbr'], how='left')\n",
    "    # Filling missing values\n",
    "    df.loc[(df.transactions.isnull()) & (df.isclosed==1), 'transactions'] = df.transactions.apply(lambda x: 0)\n",
    "    group_df = df.groupby(by=['store_nbr', 'date']).transactions.first().reset_index()\n",
    "    group_df['avg_tra'] = group_df.transactions.rolling(15, min_periods=10).mean()\n",
    "    group_df['16_tra'] = group_df.transactions.shift(16)\n",
    "    group_df['21_tra'] = group_df.transactions.shift(21)\n",
    "    group_df['30_tra'] = group_df.transactions.shift(30)\n",
    "    group_df['60_tra'] = group_df.transactions.shift(60)\n",
    "    group_df.drop(columns='transactions', inplace=True)\n",
    "    df = df.merge(group_df, on=['date', 'store_nbr'], how='left')\n",
    "    df.loc[(df.transactions.isnull()) & (df.isclosed==0), 'transactions'] = df.avg_tra\n",
    "    df.drop(columns='avg_tra', inplace=True)\n",
    "    df.loc[(df.date.dt.year==2017) & (df.date.dt.month==8) & (df.date.dt.day>=16) , 'transactions'] = df.transactions.apply(lambda x: None)    \n",
    "    df['tot_store_day_onprom'] = df.groupby(by=['date', 'store_nbr']).onpromotion.transform(lambda x: x.sum())\n",
    "    return df\n"
   ]
  },
  {
   "cell_type": "code",
   "execution_count": 17,
   "id": "76398c15",
   "metadata": {
    "execution": {
     "iopub.execute_input": "2022-06-21T10:05:38.883884Z",
     "iopub.status.busy": "2022-06-21T10:05:38.883223Z",
     "iopub.status.idle": "2022-06-21T10:06:14.154600Z",
     "shell.execute_reply": "2022-06-21T10:06:14.153054Z"
    },
    "papermill": {
     "duration": 35.290246,
     "end_time": "2022-06-21T10:06:14.158310",
     "exception": false,
     "start_time": "2022-06-21T10:05:38.868064",
     "status": "completed"
    },
    "tags": []
   },
   "outputs": [],
   "source": [
    "final_df = transactions_func(orig_transactions)"
   ]
  },
  {
   "cell_type": "code",
   "execution_count": 18,
   "id": "070dcb01",
   "metadata": {
    "execution": {
     "iopub.execute_input": "2022-06-21T10:06:14.187810Z",
     "iopub.status.busy": "2022-06-21T10:06:14.186792Z",
     "iopub.status.idle": "2022-06-21T10:06:14.199424Z",
     "shell.execute_reply": "2022-06-21T10:06:14.198513Z"
    },
    "papermill": {
     "duration": 0.0301,
     "end_time": "2022-06-21T10:06:14.201676",
     "exception": false,
     "start_time": "2022-06-21T10:06:14.171576",
     "status": "completed"
    },
    "tags": []
   },
   "outputs": [],
   "source": [
    "del orig_train\n",
    "del orig_test\n",
    "del orig_stores\n",
    "del orig_holidays_events\n",
    "del orig_oil\n",
    "del orig_transactions"
   ]
  },
  {
   "cell_type": "markdown",
   "id": "b41777a1",
   "metadata": {
    "papermill": {
     "duration": 0.01266,
     "end_time": "2022-06-21T10:06:14.227263",
     "exception": false,
     "start_time": "2022-06-21T10:06:14.214603",
     "status": "completed"
    },
    "tags": []
   },
   "source": [
    "# Final dataframe"
   ]
  },
  {
   "cell_type": "code",
   "execution_count": 19,
   "id": "66007187",
   "metadata": {
    "execution": {
     "iopub.execute_input": "2022-06-21T10:06:14.257238Z",
     "iopub.status.busy": "2022-06-21T10:06:14.256503Z",
     "iopub.status.idle": "2022-06-21T10:06:15.744252Z",
     "shell.execute_reply": "2022-06-21T10:06:15.743099Z"
    },
    "papermill": {
     "duration": 1.506244,
     "end_time": "2022-06-21T10:06:15.746793",
     "exception": false,
     "start_time": "2022-06-21T10:06:14.240549",
     "status": "completed"
    },
    "tags": []
   },
   "outputs": [],
   "source": [
    "final_df = final_df.set_index('date').loc[date['date_start_fore']:,:]"
   ]
  },
  {
   "cell_type": "code",
   "execution_count": 20,
   "id": "6f43354e",
   "metadata": {},
   "outputs": [
    {
     "data": {
      "text/html": [
       "<div>\n",
       "<style scoped>\n",
       "    .dataframe tbody tr th:only-of-type {\n",
       "        vertical-align: middle;\n",
       "    }\n",
       "\n",
       "    .dataframe tbody tr th {\n",
       "        vertical-align: top;\n",
       "    }\n",
       "\n",
       "    .dataframe thead th {\n",
       "        text-align: right;\n",
       "    }\n",
       "</style>\n",
       "<table border=\"1\" class=\"dataframe\">\n",
       "  <thead>\n",
       "    <tr style=\"text-align: right;\">\n",
       "      <th></th>\n",
       "      <th>id</th>\n",
       "      <th>store_nbr</th>\n",
       "      <th>family</th>\n",
       "      <th>sales</th>\n",
       "      <th>onpromotion</th>\n",
       "      <th>city</th>\n",
       "      <th>state</th>\n",
       "      <th>store</th>\n",
       "      <th>cluster</th>\n",
       "      <th>uniquestore</th>\n",
       "      <th>...</th>\n",
       "      <th>lagoil_90_dcoilwtico</th>\n",
       "      <th>oil_week_avg</th>\n",
       "      <th>oil_2weeks_avg</th>\n",
       "      <th>oil_month_avg</th>\n",
       "      <th>transactions</th>\n",
       "      <th>16_tra</th>\n",
       "      <th>21_tra</th>\n",
       "      <th>30_tra</th>\n",
       "      <th>60_tra</th>\n",
       "      <th>tot_store_day_onprom</th>\n",
       "    </tr>\n",
       "    <tr>\n",
       "      <th>date</th>\n",
       "      <th></th>\n",
       "      <th></th>\n",
       "      <th></th>\n",
       "      <th></th>\n",
       "      <th></th>\n",
       "      <th></th>\n",
       "      <th></th>\n",
       "      <th></th>\n",
       "      <th></th>\n",
       "      <th></th>\n",
       "      <th></th>\n",
       "      <th></th>\n",
       "      <th></th>\n",
       "      <th></th>\n",
       "      <th></th>\n",
       "      <th></th>\n",
       "      <th></th>\n",
       "      <th></th>\n",
       "      <th></th>\n",
       "      <th></th>\n",
       "      <th></th>\n",
       "    </tr>\n",
       "  </thead>\n",
       "  <tbody>\n",
       "    <tr>\n",
       "      <th>2016-06-01</th>\n",
       "      <td>2216808</td>\n",
       "      <td>1</td>\n",
       "      <td>AUTOMOTIVE</td>\n",
       "      <td>3.0</td>\n",
       "      <td>0</td>\n",
       "      <td>Quito</td>\n",
       "      <td>Pichincha</td>\n",
       "      <td>D</td>\n",
       "      <td>13</td>\n",
       "      <td>0</td>\n",
       "      <td>...</td>\n",
       "      <td>34.56</td>\n",
       "      <td>49.174286</td>\n",
       "      <td>48.650000</td>\n",
       "      <td>47.024333</td>\n",
       "      <td>1898.0</td>\n",
       "      <td>1794.0</td>\n",
       "      <td>1828.0</td>\n",
       "      <td>1722.0</td>\n",
       "      <td>1295.0</td>\n",
       "      <td>363</td>\n",
       "    </tr>\n",
       "    <tr>\n",
       "      <th>2016-06-01</th>\n",
       "      <td>2216809</td>\n",
       "      <td>1</td>\n",
       "      <td>BABY CARE</td>\n",
       "      <td>0.0</td>\n",
       "      <td>0</td>\n",
       "      <td>Quito</td>\n",
       "      <td>Pichincha</td>\n",
       "      <td>D</td>\n",
       "      <td>13</td>\n",
       "      <td>0</td>\n",
       "      <td>...</td>\n",
       "      <td>34.56</td>\n",
       "      <td>49.174286</td>\n",
       "      <td>48.650000</td>\n",
       "      <td>47.024333</td>\n",
       "      <td>1898.0</td>\n",
       "      <td>1794.0</td>\n",
       "      <td>1828.0</td>\n",
       "      <td>1722.0</td>\n",
       "      <td>1295.0</td>\n",
       "      <td>363</td>\n",
       "    </tr>\n",
       "    <tr>\n",
       "      <th>2016-06-01</th>\n",
       "      <td>2216810</td>\n",
       "      <td>1</td>\n",
       "      <td>BEAUTY</td>\n",
       "      <td>4.0</td>\n",
       "      <td>0</td>\n",
       "      <td>Quito</td>\n",
       "      <td>Pichincha</td>\n",
       "      <td>D</td>\n",
       "      <td>13</td>\n",
       "      <td>0</td>\n",
       "      <td>...</td>\n",
       "      <td>34.56</td>\n",
       "      <td>49.174286</td>\n",
       "      <td>48.650000</td>\n",
       "      <td>47.024333</td>\n",
       "      <td>1898.0</td>\n",
       "      <td>1794.0</td>\n",
       "      <td>1828.0</td>\n",
       "      <td>1722.0</td>\n",
       "      <td>1295.0</td>\n",
       "      <td>363</td>\n",
       "    </tr>\n",
       "    <tr>\n",
       "      <th>2016-06-01</th>\n",
       "      <td>2216811</td>\n",
       "      <td>1</td>\n",
       "      <td>BEVERAGES</td>\n",
       "      <td>2199.0</td>\n",
       "      <td>37</td>\n",
       "      <td>Quito</td>\n",
       "      <td>Pichincha</td>\n",
       "      <td>D</td>\n",
       "      <td>13</td>\n",
       "      <td>0</td>\n",
       "      <td>...</td>\n",
       "      <td>34.56</td>\n",
       "      <td>49.174286</td>\n",
       "      <td>48.650000</td>\n",
       "      <td>47.024333</td>\n",
       "      <td>1898.0</td>\n",
       "      <td>1794.0</td>\n",
       "      <td>1828.0</td>\n",
       "      <td>1722.0</td>\n",
       "      <td>1295.0</td>\n",
       "      <td>363</td>\n",
       "    </tr>\n",
       "    <tr>\n",
       "      <th>2016-06-01</th>\n",
       "      <td>2216812</td>\n",
       "      <td>1</td>\n",
       "      <td>BOOKS</td>\n",
       "      <td>0.0</td>\n",
       "      <td>0</td>\n",
       "      <td>Quito</td>\n",
       "      <td>Pichincha</td>\n",
       "      <td>D</td>\n",
       "      <td>13</td>\n",
       "      <td>0</td>\n",
       "      <td>...</td>\n",
       "      <td>34.56</td>\n",
       "      <td>49.174286</td>\n",
       "      <td>48.650000</td>\n",
       "      <td>47.024333</td>\n",
       "      <td>1898.0</td>\n",
       "      <td>1794.0</td>\n",
       "      <td>1828.0</td>\n",
       "      <td>1722.0</td>\n",
       "      <td>1295.0</td>\n",
       "      <td>363</td>\n",
       "    </tr>\n",
       "    <tr>\n",
       "      <th>...</th>\n",
       "      <td>...</td>\n",
       "      <td>...</td>\n",
       "      <td>...</td>\n",
       "      <td>...</td>\n",
       "      <td>...</td>\n",
       "      <td>...</td>\n",
       "      <td>...</td>\n",
       "      <td>...</td>\n",
       "      <td>...</td>\n",
       "      <td>...</td>\n",
       "      <td>...</td>\n",
       "      <td>...</td>\n",
       "      <td>...</td>\n",
       "      <td>...</td>\n",
       "      <td>...</td>\n",
       "      <td>...</td>\n",
       "      <td>...</td>\n",
       "      <td>...</td>\n",
       "      <td>...</td>\n",
       "      <td>...</td>\n",
       "      <td>...</td>\n",
       "    </tr>\n",
       "    <tr>\n",
       "      <th>2017-08-31</th>\n",
       "      <td>3029395</td>\n",
       "      <td>9</td>\n",
       "      <td>POULTRY</td>\n",
       "      <td>NaN</td>\n",
       "      <td>1</td>\n",
       "      <td>Quito</td>\n",
       "      <td>Pichincha</td>\n",
       "      <td>B</td>\n",
       "      <td>6</td>\n",
       "      <td>0</td>\n",
       "      <td>...</td>\n",
       "      <td>47.68</td>\n",
       "      <td>46.825714</td>\n",
       "      <td>47.362857</td>\n",
       "      <td>48.034333</td>\n",
       "      <td>None</td>\n",
       "      <td>2155.0</td>\n",
       "      <td>1923.0</td>\n",
       "      <td>2271.0</td>\n",
       "      <td>2352.0</td>\n",
       "      <td>223</td>\n",
       "    </tr>\n",
       "    <tr>\n",
       "      <th>2017-08-31</th>\n",
       "      <td>3029396</td>\n",
       "      <td>9</td>\n",
       "      <td>PREPARED FOODS</td>\n",
       "      <td>NaN</td>\n",
       "      <td>0</td>\n",
       "      <td>Quito</td>\n",
       "      <td>Pichincha</td>\n",
       "      <td>B</td>\n",
       "      <td>6</td>\n",
       "      <td>0</td>\n",
       "      <td>...</td>\n",
       "      <td>47.68</td>\n",
       "      <td>46.825714</td>\n",
       "      <td>47.362857</td>\n",
       "      <td>48.034333</td>\n",
       "      <td>None</td>\n",
       "      <td>2155.0</td>\n",
       "      <td>1923.0</td>\n",
       "      <td>2271.0</td>\n",
       "      <td>2352.0</td>\n",
       "      <td>223</td>\n",
       "    </tr>\n",
       "    <tr>\n",
       "      <th>2017-08-31</th>\n",
       "      <td>3029397</td>\n",
       "      <td>9</td>\n",
       "      <td>PRODUCE</td>\n",
       "      <td>NaN</td>\n",
       "      <td>1</td>\n",
       "      <td>Quito</td>\n",
       "      <td>Pichincha</td>\n",
       "      <td>B</td>\n",
       "      <td>6</td>\n",
       "      <td>0</td>\n",
       "      <td>...</td>\n",
       "      <td>47.68</td>\n",
       "      <td>46.825714</td>\n",
       "      <td>47.362857</td>\n",
       "      <td>48.034333</td>\n",
       "      <td>None</td>\n",
       "      <td>2155.0</td>\n",
       "      <td>1923.0</td>\n",
       "      <td>2271.0</td>\n",
       "      <td>2352.0</td>\n",
       "      <td>223</td>\n",
       "    </tr>\n",
       "    <tr>\n",
       "      <th>2017-08-31</th>\n",
       "      <td>3029398</td>\n",
       "      <td>9</td>\n",
       "      <td>SCHOOL AND OFFICE SUPPLIES</td>\n",
       "      <td>NaN</td>\n",
       "      <td>9</td>\n",
       "      <td>Quito</td>\n",
       "      <td>Pichincha</td>\n",
       "      <td>B</td>\n",
       "      <td>6</td>\n",
       "      <td>0</td>\n",
       "      <td>...</td>\n",
       "      <td>47.68</td>\n",
       "      <td>46.825714</td>\n",
       "      <td>47.362857</td>\n",
       "      <td>48.034333</td>\n",
       "      <td>None</td>\n",
       "      <td>2155.0</td>\n",
       "      <td>1923.0</td>\n",
       "      <td>2271.0</td>\n",
       "      <td>2352.0</td>\n",
       "      <td>223</td>\n",
       "    </tr>\n",
       "    <tr>\n",
       "      <th>2017-08-31</th>\n",
       "      <td>3029399</td>\n",
       "      <td>9</td>\n",
       "      <td>SEAFOOD</td>\n",
       "      <td>NaN</td>\n",
       "      <td>0</td>\n",
       "      <td>Quito</td>\n",
       "      <td>Pichincha</td>\n",
       "      <td>B</td>\n",
       "      <td>6</td>\n",
       "      <td>0</td>\n",
       "      <td>...</td>\n",
       "      <td>47.68</td>\n",
       "      <td>46.825714</td>\n",
       "      <td>47.362857</td>\n",
       "      <td>48.034333</td>\n",
       "      <td>None</td>\n",
       "      <td>2155.0</td>\n",
       "      <td>1923.0</td>\n",
       "      <td>2271.0</td>\n",
       "      <td>2352.0</td>\n",
       "      <td>223</td>\n",
       "    </tr>\n",
       "  </tbody>\n",
       "</table>\n",
       "<p>812592 rows × 38 columns</p>\n",
       "</div>"
      ],
      "text/plain": [
       "                 id  store_nbr                      family   sales  \\\n",
       "date                                                                 \n",
       "2016-06-01  2216808          1                  AUTOMOTIVE     3.0   \n",
       "2016-06-01  2216809          1                   BABY CARE     0.0   \n",
       "2016-06-01  2216810          1                      BEAUTY     4.0   \n",
       "2016-06-01  2216811          1                   BEVERAGES  2199.0   \n",
       "2016-06-01  2216812          1                       BOOKS     0.0   \n",
       "...             ...        ...                         ...     ...   \n",
       "2017-08-31  3029395          9                     POULTRY     NaN   \n",
       "2017-08-31  3029396          9              PREPARED FOODS     NaN   \n",
       "2017-08-31  3029397          9                     PRODUCE     NaN   \n",
       "2017-08-31  3029398          9  SCHOOL AND OFFICE SUPPLIES     NaN   \n",
       "2017-08-31  3029399          9                     SEAFOOD     NaN   \n",
       "\n",
       "            onpromotion   city      state store  cluster  uniquestore  ...  \\\n",
       "date                                                                   ...   \n",
       "2016-06-01            0  Quito  Pichincha     D       13            0  ...   \n",
       "2016-06-01            0  Quito  Pichincha     D       13            0  ...   \n",
       "2016-06-01            0  Quito  Pichincha     D       13            0  ...   \n",
       "2016-06-01           37  Quito  Pichincha     D       13            0  ...   \n",
       "2016-06-01            0  Quito  Pichincha     D       13            0  ...   \n",
       "...                 ...    ...        ...   ...      ...          ...  ...   \n",
       "2017-08-31            1  Quito  Pichincha     B        6            0  ...   \n",
       "2017-08-31            0  Quito  Pichincha     B        6            0  ...   \n",
       "2017-08-31            1  Quito  Pichincha     B        6            0  ...   \n",
       "2017-08-31            9  Quito  Pichincha     B        6            0  ...   \n",
       "2017-08-31            0  Quito  Pichincha     B        6            0  ...   \n",
       "\n",
       "            lagoil_90_dcoilwtico  oil_week_avg oil_2weeks_avg oil_month_avg  \\\n",
       "date                                                                          \n",
       "2016-06-01                 34.56     49.174286      48.650000     47.024333   \n",
       "2016-06-01                 34.56     49.174286      48.650000     47.024333   \n",
       "2016-06-01                 34.56     49.174286      48.650000     47.024333   \n",
       "2016-06-01                 34.56     49.174286      48.650000     47.024333   \n",
       "2016-06-01                 34.56     49.174286      48.650000     47.024333   \n",
       "...                          ...           ...            ...           ...   \n",
       "2017-08-31                 47.68     46.825714      47.362857     48.034333   \n",
       "2017-08-31                 47.68     46.825714      47.362857     48.034333   \n",
       "2017-08-31                 47.68     46.825714      47.362857     48.034333   \n",
       "2017-08-31                 47.68     46.825714      47.362857     48.034333   \n",
       "2017-08-31                 47.68     46.825714      47.362857     48.034333   \n",
       "\n",
       "            transactions  16_tra  21_tra  30_tra  60_tra  tot_store_day_onprom  \n",
       "date                                                                            \n",
       "2016-06-01        1898.0  1794.0  1828.0  1722.0  1295.0                   363  \n",
       "2016-06-01        1898.0  1794.0  1828.0  1722.0  1295.0                   363  \n",
       "2016-06-01        1898.0  1794.0  1828.0  1722.0  1295.0                   363  \n",
       "2016-06-01        1898.0  1794.0  1828.0  1722.0  1295.0                   363  \n",
       "2016-06-01        1898.0  1794.0  1828.0  1722.0  1295.0                   363  \n",
       "...                  ...     ...     ...     ...     ...                   ...  \n",
       "2017-08-31          None  2155.0  1923.0  2271.0  2352.0                   223  \n",
       "2017-08-31          None  2155.0  1923.0  2271.0  2352.0                   223  \n",
       "2017-08-31          None  2155.0  1923.0  2271.0  2352.0                   223  \n",
       "2017-08-31          None  2155.0  1923.0  2271.0  2352.0                   223  \n",
       "2017-08-31          None  2155.0  1923.0  2271.0  2352.0                   223  \n",
       "\n",
       "[812592 rows x 38 columns]"
      ]
     },
     "execution_count": 20,
     "metadata": {},
     "output_type": "execute_result"
    }
   ],
   "source": [
    "final_df"
   ]
  },
  {
   "cell_type": "markdown",
   "id": "36613cbf",
   "metadata": {
    "papermill": {
     "duration": 0.012845,
     "end_time": "2022-06-21T10:06:15.772402",
     "exception": false,
     "start_time": "2022-06-21T10:06:15.759557",
     "status": "completed"
    },
    "tags": []
   },
   "source": [
    "# Support functions"
   ]
  },
  {
   "cell_type": "code",
   "execution_count": 21,
   "id": "9eb3d5da",
   "metadata": {
    "execution": {
     "iopub.execute_input": "2022-06-21T10:06:15.799923Z",
     "iopub.status.busy": "2022-06-21T10:06:15.799484Z",
     "iopub.status.idle": "2022-06-21T10:06:15.806331Z",
     "shell.execute_reply": "2022-06-21T10:06:15.805287Z"
    },
    "papermill": {
     "duration": 0.023145,
     "end_time": "2022-06-21T10:06:15.808528",
     "exception": false,
     "start_time": "2022-06-21T10:06:15.785383",
     "status": "completed"
    },
    "tags": []
   },
   "outputs": [],
   "source": [
    "# def split_func (orig_df, X, y, end_date, test_size):\n",
    "    \n",
    "#     # Splitting train and test\n",
    "#     idx_train, idx_test = train_test_split(orig_df.index, test_size=test_size, shuffle=False)\n",
    "#     X_train, X_test = X.loc[idx_train, :], X.loc[idx_test, :]\n",
    "#     y_train, y_test = y.loc[idx_train], y.loc[idx_test]\n",
    "    \n",
    "#     return X_train, y_train, X_test, y_test"
   ]
  },
  {
   "cell_type": "code",
   "execution_count": 22,
   "id": "85b0e0c2",
   "metadata": {
    "execution": {
     "iopub.execute_input": "2022-06-21T10:06:15.835925Z",
     "iopub.status.busy": "2022-06-21T10:06:15.835521Z",
     "iopub.status.idle": "2022-06-21T10:06:15.844015Z",
     "shell.execute_reply": "2022-06-21T10:06:15.842955Z"
    },
    "papermill": {
     "duration": 0.024738,
     "end_time": "2022-06-21T10:06:15.846130",
     "exception": false,
     "start_time": "2022-06-21T10:06:15.821392",
     "status": "completed"
    },
    "tags": []
   },
   "outputs": [],
   "source": [
    "def my_split_func(df, train_start_date='2013-01-01', train_end_date='2017-08-30',\n",
    "               val_start_date='2017-09-01', val_end_date='2020-01-01'):\n",
    "    train_start_date = (pd.to_datetime(train_start_date) - pd.to_datetime('2013-01-01')).days\n",
    "    train_end_date = (pd.to_datetime(train_end_date) - pd.to_datetime('2013-01-01')).days\n",
    "    val_start_date = (pd.to_datetime(val_start_date) - pd.to_datetime('2013-01-01')).days\n",
    "    val_end_date = (pd.to_datetime(val_end_date) - pd.to_datetime('2013-01-01')).days\n",
    "    \n",
    "    train = df[(df['days_from_2013'] >= train_start_date) & (df['days_from_2013'] <= train_end_date)]\n",
    "    val = df[(df['days_from_2013'] >= val_start_date) & (df['days_from_2013'] <= val_end_date)]\n",
    "    return [train.drop(columns=['sales']), val.drop(columns=['sales']), train['sales'], val['sales']]"
   ]
  },
  {
   "cell_type": "code",
   "execution_count": 23,
   "id": "296ad7a9",
   "metadata": {
    "execution": {
     "iopub.execute_input": "2022-06-21T10:06:15.874915Z",
     "iopub.status.busy": "2022-06-21T10:06:15.874457Z",
     "iopub.status.idle": "2022-06-21T10:06:15.883626Z",
     "shell.execute_reply": "2022-06-21T10:06:15.882243Z"
    },
    "papermill": {
     "duration": 0.026543,
     "end_time": "2022-06-21T10:06:15.886129",
     "exception": false,
     "start_time": "2022-06-21T10:06:15.859586",
     "status": "completed"
    },
    "tags": []
   },
   "outputs": [],
   "source": [
    "def get_weights_distribution(tp, dates):\n",
    "    if tp == 1:\n",
    "        return np.ones(dates.shape)\n",
    "    if tp == 2:\n",
    "        return np.exp((400 - (pd.to_datetime('2017-08-16') - pd.to_datetime(dates)).days) / 100)\n",
    "    if tp == 3:\n",
    "        return np.exp((400 - (pd.to_datetime('2017-08-16') - pd.to_datetime(dates)).days) / 200)\n",
    "    if tp == 4:\n",
    "        return np.exp((400 - (pd.to_datetime('2017-08-16') - pd.to_datetime(dates)).days) / 300)\n",
    "    if tp == 5:\n",
    "        return np.exp((400 - (pd.to_datetime('2017-08-16') - pd.to_datetime(dates)).days) / 400)"
   ]
  },
  {
   "cell_type": "code",
   "execution_count": 24,
   "id": "f64a3433",
   "metadata": {
    "execution": {
     "iopub.execute_input": "2022-06-21T10:06:15.914866Z",
     "iopub.status.busy": "2022-06-21T10:06:15.914388Z",
     "iopub.status.idle": "2022-06-21T10:06:15.933106Z",
     "shell.execute_reply": "2022-06-21T10:06:15.932210Z"
    },
    "papermill": {
     "duration": 0.035597,
     "end_time": "2022-06-21T10:06:15.935280",
     "exception": false,
     "start_time": "2022-06-21T10:06:15.899683",
     "status": "completed"
    },
    "tags": []
   },
   "outputs": [],
   "source": [
    "def tags_to_dict():\n",
    "    tags = {\n",
    "     'AUTOMOTIVE': [4, 7, 30, 10, 'family'],\n",
    "     'BABY CARE':  [-8, 2, 25, 5, 'family'],\n",
    "     'BEAUTY': [-8, 7, 25, 5, 'other'],\n",
    "     'BEVERAGES': [0, 0, 40, 40, 'food'],\n",
    "     'BOOKS': [0, 0, 55, 15, 'other'],\n",
    "     'BREAD/BAKERY': [-3, 0, 30, 30, 'food'],\n",
    "     'CELEBRATION': [-5, 5, 50, 20, 'family'],\n",
    "     'CLEANING': [-8, 3, 40, 20, 'food'],\n",
    "     'DAIRY': [-4, 0, 40, 40, 'food'],\n",
    "     'DELI': [3, 6, 40, 20, 'food'],\n",
    "     'EGGS': [-4, -5, 40, 20, 'food'],\n",
    "     'FROZEN FOODS': [-4, -3, 40, 20, 'food'],\n",
    "     'GROCERY I': [-4, 3, 40, 20, 'food'],\n",
    "     'GROCERY II': [-4, 3, 40, 20, 'food'],\n",
    "     'HARDWARE': [10, 10, 30, 20, 'other'],\n",
    "     'HOME AND KITCHEN I': [-10, 4, 40, 20, 'family'],\n",
    "     'HOME AND KITCHEN II': [-10, 4, 40, 20, 'family'],\n",
    "     'HOME APPLIANCES': [0, 4, 40, 20, 'family'],\n",
    "     'HOME CARE': [-10, 4, 40, 20, 'family'],\n",
    "     'LADIESWEAR': [-10, 4, 40, 20, 'other'],\n",
    "     'LAWN AND GARDEN': [-10, 4, 40, 20, 'family'],\n",
    "     'LINGERIE': [-10, 4, 40, 2, 'other'],\n",
    "     'LIQUOR,WINE,BEER': [4, 8, 40, 20, 'food'],\n",
    "     'MAGAZINES': [-6, -7, 50, 20, 'other'],\n",
    "     'MEATS': [-4, 5, 40, 20, 'food'],\n",
    "     'PERSONAL CARE': [-5, 5, 40, 20, 'family'],\n",
    "     'PET SUPPLIES': [-5, 0, 40, 20, 'family'],\n",
    "     'PLAYERS AND ELECTRONICS': [5, 5, 25, 10, 'other'],\n",
    "     'POULTRY': [-7, -4, 40, 20, 'food'],\n",
    "     'PREPARED FOODS': [0, 6, 30, 10, 'food'],\n",
    "     'PRODUCE': [0, 0, 40, 40, 'other'],\n",
    "     'SCHOOL AND OFFICE SUPPLIES': [3, 3, 25, 15, 'family'],\n",
    "     'SEAFOOD': [-5, 8, 40, 20, 'food']\n",
    "    }\n",
    "    \n",
    "    sex_dict = {}\n",
    "    luxury_dict = {}\n",
    "    age_mean_dict = {}\n",
    "    age_var_dict = {}\n",
    "    type_dict = {}\n",
    "    for i in tags.keys():\n",
    "        sex_dict[i] = tags[i][0]\n",
    "        luxury_dict[i] = tags[i][1]\n",
    "        age_mean_dict[i] = tags[i][2]\n",
    "        age_var_dict[i] = tags[i][3]\n",
    "        type_dict[i] = tags[i][4]\n",
    "    return [sex_dict, luxury_dict, age_mean_dict, age_var_dict, type_dict]"
   ]
  },
  {
   "cell_type": "code",
   "execution_count": 25,
   "id": "4ba7b09a",
   "metadata": {
    "execution": {
     "iopub.execute_input": "2022-06-21T10:06:15.963175Z",
     "iopub.status.busy": "2022-06-21T10:06:15.962784Z",
     "iopub.status.idle": "2022-06-21T10:06:15.973108Z",
     "shell.execute_reply": "2022-06-21T10:06:15.971929Z"
    },
    "papermill": {
     "duration": 0.02748,
     "end_time": "2022-06-21T10:06:15.975602",
     "exception": false,
     "start_time": "2022-06-21T10:06:15.948122",
     "status": "completed"
    },
    "tags": []
   },
   "outputs": [],
   "source": [
    "def get_oil_dict(oil):\n",
    "    # estimate price of gaps (market don't work on weekends and holidays)\n",
    "    price_estim = [-1] * (oil['days_from_2013'][oil.shape[0] - 1] + 1)\n",
    "    price_estim[0] = 93.14\n",
    "    for i in range(1, oil.shape[0]):\n",
    "        price_estim[oil['days_from_2013'][i]] = oil['dcoilwtico'][i]\n",
    "\n",
    "    for i in range (len(price_estim)):\n",
    "        if price_estim[i] == -1 or math.isnan(price_estim[i]):\n",
    "            tj = -1\n",
    "            for j in range(i + 1, len(price_estim)):\n",
    "                if price_estim[j] != -1 and (not math.isnan(price_estim[j])):\n",
    "                    tj = j\n",
    "                    break\n",
    "\n",
    "            for j in range(i, tj):\n",
    "                price_estim[j] = ((tj - j) * price_estim[i - 1] + (j - i) * price_estim[tj]) / (tj - i)\n",
    "\n",
    "            i = tj\n",
    "\n",
    "    oil_dict = dict(zip(np.arange(len(price_estim)), price_estim))\n",
    "    return oil_dict"
   ]
  },
  {
   "cell_type": "markdown",
   "id": "61e33a73",
   "metadata": {
    "papermill": {
     "duration": 0.012835,
     "end_time": "2022-06-21T10:06:16.001557",
     "exception": false,
     "start_time": "2022-06-21T10:06:15.988722",
     "status": "completed"
    },
    "tags": []
   },
   "source": [
    "# Last stripes"
   ]
  },
  {
   "cell_type": "code",
   "execution_count": 26,
   "id": "f1d757aa",
   "metadata": {
    "execution": {
     "iopub.execute_input": "2022-06-21T10:06:16.031540Z",
     "iopub.status.busy": "2022-06-21T10:06:16.031090Z",
     "iopub.status.idle": "2022-06-21T10:06:16.047151Z",
     "shell.execute_reply": "2022-06-21T10:06:16.045908Z"
    },
    "papermill": {
     "duration": 0.033506,
     "end_time": "2022-06-21T10:06:16.049504",
     "exception": false,
     "start_time": "2022-06-21T10:06:16.015998",
     "status": "completed"
    },
    "tags": []
   },
   "outputs": [],
   "source": [
    "def add_features (orig_df):\n",
    "    \n",
    "    df = orig_df.copy()\n",
    "        \n",
    "    # Time features\n",
    "    df['year'] = df.index.year.astype('int')\n",
    "    df['quarter'] = df.index.quarter.astype('int')\n",
    "    df['month'] = df.index.month.astype('int')\n",
    "    df['day'] = df.index.day.astype('int')\n",
    "    df['dayofweek'] = df.index.day_of_week.astype('int')\n",
    "    df['weekofyear'] = df.index.week.astype('int')\n",
    "    df['isweekend'] = df.dayofweek.apply(lambda x: 1 if x in (5,6) else 0)\n",
    "    df['startschool'] = df.month.apply(lambda x: 1 if x in (4,5,8,9) else 0)\n",
    "    \n",
    "    df['daysinmonth'] = df.index.days_in_month.astype('int')\n",
    "\n",
    "    # Dummy features\n",
    "    df = pd.get_dummies(df, columns=['year'], drop_first=True)\n",
    "    df = pd.get_dummies(df, columns=['quarter'], drop_first=True)\n",
    "    df = pd.get_dummies(df, columns=['dayofweek'], drop_first=True)\n",
    "    df = pd.get_dummies(df, columns=['store'], drop_first=True)\n",
    "    df = pd.get_dummies(df, columns=['event_type'], drop_first=True)\n",
    "    df = pd.get_dummies(df, columns=['isevent'], drop_first=True)\n",
    "    df = pd.get_dummies(df, columns=['state'], drop_first=True)\n",
    "\n",
    "    # DeterministicProcess\n",
    "    fourierA = CalendarFourier(freq='A', order=5)\n",
    "    fourierM = CalendarFourier(freq='M', order=2)\n",
    "    fourierW = CalendarFourier(freq='W', order=4)\n",
    "\n",
    "    dp = DeterministicProcess(index=df.index,\n",
    "                          order=1,\n",
    "                          seasonal=False,\n",
    "                          constant=False,\n",
    "                          additional_terms=[fourierA, fourierM, fourierW],\n",
    "                          drop=True)\n",
    "    dp_df = dp.in_sample()\n",
    "    df = pd.concat([df, dp_df], axis=1)\n",
    "    \n",
    "    # Outliers\n",
    "    df['outliers'] = df.sales.apply(lambda x: 1 if x>30000 else 0)\n",
    "    \n",
    "    df.drop(columns=['daysinmonth', 'month', 'city'], inplace=True)\n",
    "    \n",
    "    return df"
   ]
  },
  {
   "cell_type": "code",
   "execution_count": 27,
   "id": "6c57b95a",
   "metadata": {
    "execution": {
     "iopub.execute_input": "2022-06-21T10:06:16.076967Z",
     "iopub.status.busy": "2022-06-21T10:06:16.076555Z",
     "iopub.status.idle": "2022-06-21T10:06:16.101857Z",
     "shell.execute_reply": "2022-06-21T10:06:16.100687Z"
    },
    "papermill": {
     "duration": 0.041572,
     "end_time": "2022-06-21T10:06:16.103952",
     "exception": false,
     "start_time": "2022-06-21T10:06:16.062380",
     "status": "completed"
    },
    "tags": []
   },
   "outputs": [],
   "source": [
    "import math\n",
    "\n",
    "def add_my(df):\n",
    "    # read\n",
    "    train = pd.read_csv('./data/train.csv')\n",
    "    oil = pd.read_csv('./data/oil.csv')\n",
    "    trans = pd.read_csv('./data/transactions.csv')\n",
    "    \n",
    "    # add 'days_from_2013' for easy shifting\n",
    "    df['days_from_2013'] = (pd.to_datetime(df.index.get_level_values(2)) - pd.to_datetime('2013-01-01')).days\n",
    "    train['days_from_2013'] = (pd.to_datetime(train['date']) - pd.to_datetime('2013-01-01')).dt.days\n",
    "    oil['days_from_2013'] = (pd.to_datetime(oil['date']) - pd.to_datetime('2013-01-01')).dt.days\n",
    "    trans['days_from_2013'] = (pd.to_datetime(trans['date']) - pd.to_datetime('2013-01-01')).dt.days\n",
    "    \n",
    "    # groupby features\n",
    "    gr_day = train.groupby('days_from_2013')['sales'].mean()\n",
    "    gr_store = train.groupby('store_nbr')['sales'].mean()\n",
    "    gr_family = train.groupby('family')['sales'].mean()\n",
    "\n",
    "    days = [16, 18, 20, 21, 25, 28, 30, 35, 42, 60, 90, 120, 180, 365]\n",
    "    for i in days:\n",
    "        df['days_' + str(i)] = df['days_from_2013'] - i\n",
    "        df['days_lagged' + str(i)] = df['days_' + str(i)].map(gr_day).fillna(0)\n",
    "        df = df.drop(columns=['days_' + str(i)])\n",
    "\n",
    "    df['store_gb'] = df.index.get_level_values(0).map(gr_store)\n",
    "    df['family_gb'] = df.index.get_level_values(1).map(gr_family)\n",
    "    \n",
    "    oil_dict = get_oil_dict(oil)\n",
    "\n",
    "    # lagged oil\n",
    "    days = [0, 1, 2, 3, 4, 5, 6, 7, 10, 14, 21, 30, 60, 90, 120, 180, 360]\n",
    "    for i in days:\n",
    "        df['days_' + str(i)] = df['days_from_2013'] - i\n",
    "        df['oil_lagged' + str(i)] = df['days_' + str(i)].map(oil_dict)\n",
    "        df = df.drop(columns=['days_' + str(i)])\n",
    "        \n",
    "    # lagged transactions\n",
    "    # # fill trans dict\n",
    "    trans_dict = {}\n",
    "    for ii in range(trans.shape[0]):\n",
    "        i = trans.loc[ii]\n",
    "        trans_dict[tuple([i['store_nbr'], i['days_from_2013']])] = i['transactions']\n",
    "    \n",
    "    def transaction_get_value(a, b):\n",
    "        try:\n",
    "            return trans_dict[tuple([a, (pd.to_datetime(b) - pd.to_datetime('2013-01-01').dt.days)])]\n",
    "        except:\n",
    "            return 0\n",
    "\n",
    "    days = [16, 18, 20, 21, 25, 28, 30, 35, 42, 60, 90, 120, 180, 365]\n",
    "    for i in days:\n",
    "        df['days_' + str(i)] = df['days_from_2013'] - i\n",
    "        df['oil_lagged' + str(i)] = df['days_' + str(i)].map(oil_dict)\n",
    "        df['trans_lagged' + str(i)] = [transaction_get_value(*a) for a in tuple(zip(df.index.get_level_values(0),\n",
    "                                                                        df.index.get_level_values(2)))]\n",
    "        df = df.drop(columns=['days_' + str(i)])\n",
    "\n",
    "    sex_dict, luxury_dict, age_mean_dict, age_var_dict, type_dict = tags_to_dict()\n",
    "    df['tag_sex'] = df.index.get_level_values(1).map(sex_dict)\n",
    "    df['tag_luxury'] = df.index.get_level_values(1).map(luxury_dict)\n",
    "    df['tag_age_mean'] = df.index.get_level_values(1).map(age_mean_dict)\n",
    "    df['tag_age_var'] = df.index.get_level_values(1).map(age_var_dict)\n",
    "    df['tag_type'] = df.index.get_level_values(1).map(type_dict)\n",
    "    df = pd.get_dummies(df, columns=['tag_type'])\n",
    "    \n",
    "    df['tag_age_min'] = df['tag_age_mean'] - df['tag_age_var']\n",
    "    df['tag_age_max'] = df['tag_age_mean'] + df['tag_age_var']\n",
    "    return df"
   ]
  },
  {
   "cell_type": "code",
   "execution_count": 28,
   "id": "08690a7c",
   "metadata": {},
   "outputs": [
    {
     "name": "stderr",
     "output_type": "stream",
     "text": [
      "C:\\Users\\trilt1\\AppData\\Local\\Temp\\ipykernel_9980\\3373796417.py:11: FutureWarning: weekofyear and week have been deprecated, please use DatetimeIndex.isocalendar().week instead, which returns a Series. To exactly reproduce the behavior of week and weekofyear and return an Index, you may call pd.Int64Index(idx.isocalendar().week)\n",
      "  df['weekofyear'] = df.index.week.astype('int')\n"
     ]
    },
    {
     "data": {
      "text/html": [
       "<div>\n",
       "<style scoped>\n",
       "    .dataframe tbody tr th:only-of-type {\n",
       "        vertical-align: middle;\n",
       "    }\n",
       "\n",
       "    .dataframe tbody tr th {\n",
       "        vertical-align: top;\n",
       "    }\n",
       "\n",
       "    .dataframe thead th {\n",
       "        text-align: right;\n",
       "    }\n",
       "</style>\n",
       "<table border=\"1\" class=\"dataframe\">\n",
       "  <thead>\n",
       "    <tr style=\"text-align: right;\">\n",
       "      <th></th>\n",
       "      <th></th>\n",
       "      <th></th>\n",
       "      <th>id</th>\n",
       "      <th>sales</th>\n",
       "      <th>onpromotion</th>\n",
       "      <th>cluster</th>\n",
       "      <th>uniquestore</th>\n",
       "      <th>newstore</th>\n",
       "      <th>firstday</th>\n",
       "      <th>isclosed</th>\n",
       "      <th>dcoilwtico</th>\n",
       "      <th>lagoil_1_dcoilwtico</th>\n",
       "      <th>...</th>\n",
       "      <th>trans_lagged365</th>\n",
       "      <th>tag_sex</th>\n",
       "      <th>tag_luxury</th>\n",
       "      <th>tag_age_mean</th>\n",
       "      <th>tag_age_var</th>\n",
       "      <th>tag_type_family</th>\n",
       "      <th>tag_type_food</th>\n",
       "      <th>tag_type_other</th>\n",
       "      <th>tag_age_min</th>\n",
       "      <th>tag_age_max</th>\n",
       "    </tr>\n",
       "    <tr>\n",
       "      <th>store_nbr</th>\n",
       "      <th>family</th>\n",
       "      <th>date</th>\n",
       "      <th></th>\n",
       "      <th></th>\n",
       "      <th></th>\n",
       "      <th></th>\n",
       "      <th></th>\n",
       "      <th></th>\n",
       "      <th></th>\n",
       "      <th></th>\n",
       "      <th></th>\n",
       "      <th></th>\n",
       "      <th></th>\n",
       "      <th></th>\n",
       "      <th></th>\n",
       "      <th></th>\n",
       "      <th></th>\n",
       "      <th></th>\n",
       "      <th></th>\n",
       "      <th></th>\n",
       "      <th></th>\n",
       "      <th></th>\n",
       "      <th></th>\n",
       "    </tr>\n",
       "  </thead>\n",
       "  <tbody>\n",
       "    <tr>\n",
       "      <th rowspan=\"5\" valign=\"top\">1</th>\n",
       "      <th rowspan=\"5\" valign=\"top\">AUTOMOTIVE</th>\n",
       "      <th>2016-06-01</th>\n",
       "      <td>2216808</td>\n",
       "      <td>3.0</td>\n",
       "      <td>0</td>\n",
       "      <td>13</td>\n",
       "      <td>0</td>\n",
       "      <td>0</td>\n",
       "      <td>0</td>\n",
       "      <td>0</td>\n",
       "      <td>49.070000</td>\n",
       "      <td>49.100000</td>\n",
       "      <td>...</td>\n",
       "      <td>0</td>\n",
       "      <td>4</td>\n",
       "      <td>7</td>\n",
       "      <td>30</td>\n",
       "      <td>10</td>\n",
       "      <td>1</td>\n",
       "      <td>0</td>\n",
       "      <td>0</td>\n",
       "      <td>20</td>\n",
       "      <td>40</td>\n",
       "    </tr>\n",
       "    <tr>\n",
       "      <th>2016-06-02</th>\n",
       "      <td>2218590</td>\n",
       "      <td>1.0</td>\n",
       "      <td>0</td>\n",
       "      <td>13</td>\n",
       "      <td>0</td>\n",
       "      <td>0</td>\n",
       "      <td>0</td>\n",
       "      <td>0</td>\n",
       "      <td>49.140000</td>\n",
       "      <td>49.070000</td>\n",
       "      <td>...</td>\n",
       "      <td>0</td>\n",
       "      <td>4</td>\n",
       "      <td>7</td>\n",
       "      <td>30</td>\n",
       "      <td>10</td>\n",
       "      <td>1</td>\n",
       "      <td>0</td>\n",
       "      <td>0</td>\n",
       "      <td>20</td>\n",
       "      <td>40</td>\n",
       "    </tr>\n",
       "    <tr>\n",
       "      <th>2016-06-03</th>\n",
       "      <td>2220372</td>\n",
       "      <td>4.0</td>\n",
       "      <td>0</td>\n",
       "      <td>13</td>\n",
       "      <td>0</td>\n",
       "      <td>0</td>\n",
       "      <td>0</td>\n",
       "      <td>0</td>\n",
       "      <td>48.690000</td>\n",
       "      <td>49.140000</td>\n",
       "      <td>...</td>\n",
       "      <td>0</td>\n",
       "      <td>4</td>\n",
       "      <td>7</td>\n",
       "      <td>30</td>\n",
       "      <td>10</td>\n",
       "      <td>1</td>\n",
       "      <td>0</td>\n",
       "      <td>0</td>\n",
       "      <td>20</td>\n",
       "      <td>40</td>\n",
       "    </tr>\n",
       "    <tr>\n",
       "      <th>2016-06-04</th>\n",
       "      <td>2222154</td>\n",
       "      <td>9.0</td>\n",
       "      <td>0</td>\n",
       "      <td>13</td>\n",
       "      <td>0</td>\n",
       "      <td>0</td>\n",
       "      <td>0</td>\n",
       "      <td>0</td>\n",
       "      <td>49.030000</td>\n",
       "      <td>48.690000</td>\n",
       "      <td>...</td>\n",
       "      <td>0</td>\n",
       "      <td>4</td>\n",
       "      <td>7</td>\n",
       "      <td>30</td>\n",
       "      <td>10</td>\n",
       "      <td>1</td>\n",
       "      <td>0</td>\n",
       "      <td>0</td>\n",
       "      <td>20</td>\n",
       "      <td>40</td>\n",
       "    </tr>\n",
       "    <tr>\n",
       "      <th>2016-06-05</th>\n",
       "      <td>2223936</td>\n",
       "      <td>2.0</td>\n",
       "      <td>0</td>\n",
       "      <td>13</td>\n",
       "      <td>0</td>\n",
       "      <td>0</td>\n",
       "      <td>0</td>\n",
       "      <td>0</td>\n",
       "      <td>49.370000</td>\n",
       "      <td>49.030000</td>\n",
       "      <td>...</td>\n",
       "      <td>0</td>\n",
       "      <td>4</td>\n",
       "      <td>7</td>\n",
       "      <td>30</td>\n",
       "      <td>10</td>\n",
       "      <td>1</td>\n",
       "      <td>0</td>\n",
       "      <td>0</td>\n",
       "      <td>20</td>\n",
       "      <td>40</td>\n",
       "    </tr>\n",
       "    <tr>\n",
       "      <th>...</th>\n",
       "      <th>...</th>\n",
       "      <th>...</th>\n",
       "      <td>...</td>\n",
       "      <td>...</td>\n",
       "      <td>...</td>\n",
       "      <td>...</td>\n",
       "      <td>...</td>\n",
       "      <td>...</td>\n",
       "      <td>...</td>\n",
       "      <td>...</td>\n",
       "      <td>...</td>\n",
       "      <td>...</td>\n",
       "      <td>...</td>\n",
       "      <td>...</td>\n",
       "      <td>...</td>\n",
       "      <td>...</td>\n",
       "      <td>...</td>\n",
       "      <td>...</td>\n",
       "      <td>...</td>\n",
       "      <td>...</td>\n",
       "      <td>...</td>\n",
       "      <td>...</td>\n",
       "      <td>...</td>\n",
       "    </tr>\n",
       "    <tr>\n",
       "      <th rowspan=\"5\" valign=\"top\">54</th>\n",
       "      <th rowspan=\"5\" valign=\"top\">SEAFOOD</th>\n",
       "      <th>2017-08-27</th>\n",
       "      <td>3022139</td>\n",
       "      <td>NaN</td>\n",
       "      <td>0</td>\n",
       "      <td>3</td>\n",
       "      <td>1</td>\n",
       "      <td>0</td>\n",
       "      <td>0</td>\n",
       "      <td>0</td>\n",
       "      <td>46.816667</td>\n",
       "      <td>47.233333</td>\n",
       "      <td>...</td>\n",
       "      <td>0</td>\n",
       "      <td>-5</td>\n",
       "      <td>8</td>\n",
       "      <td>40</td>\n",
       "      <td>20</td>\n",
       "      <td>0</td>\n",
       "      <td>1</td>\n",
       "      <td>0</td>\n",
       "      <td>20</td>\n",
       "      <td>60</td>\n",
       "    </tr>\n",
       "    <tr>\n",
       "      <th>2017-08-28</th>\n",
       "      <td>3023921</td>\n",
       "      <td>NaN</td>\n",
       "      <td>0</td>\n",
       "      <td>3</td>\n",
       "      <td>1</td>\n",
       "      <td>0</td>\n",
       "      <td>0</td>\n",
       "      <td>0</td>\n",
       "      <td>46.400000</td>\n",
       "      <td>46.816667</td>\n",
       "      <td>...</td>\n",
       "      <td>0</td>\n",
       "      <td>-5</td>\n",
       "      <td>8</td>\n",
       "      <td>40</td>\n",
       "      <td>20</td>\n",
       "      <td>0</td>\n",
       "      <td>1</td>\n",
       "      <td>0</td>\n",
       "      <td>20</td>\n",
       "      <td>60</td>\n",
       "    </tr>\n",
       "    <tr>\n",
       "      <th>2017-08-29</th>\n",
       "      <td>3025703</td>\n",
       "      <td>NaN</td>\n",
       "      <td>0</td>\n",
       "      <td>3</td>\n",
       "      <td>1</td>\n",
       "      <td>0</td>\n",
       "      <td>0</td>\n",
       "      <td>0</td>\n",
       "      <td>46.460000</td>\n",
       "      <td>46.400000</td>\n",
       "      <td>...</td>\n",
       "      <td>0</td>\n",
       "      <td>-5</td>\n",
       "      <td>8</td>\n",
       "      <td>40</td>\n",
       "      <td>20</td>\n",
       "      <td>0</td>\n",
       "      <td>1</td>\n",
       "      <td>0</td>\n",
       "      <td>20</td>\n",
       "      <td>60</td>\n",
       "    </tr>\n",
       "    <tr>\n",
       "      <th>2017-08-30</th>\n",
       "      <td>3027485</td>\n",
       "      <td>NaN</td>\n",
       "      <td>0</td>\n",
       "      <td>3</td>\n",
       "      <td>1</td>\n",
       "      <td>0</td>\n",
       "      <td>0</td>\n",
       "      <td>0</td>\n",
       "      <td>45.960000</td>\n",
       "      <td>46.460000</td>\n",
       "      <td>...</td>\n",
       "      <td>0</td>\n",
       "      <td>-5</td>\n",
       "      <td>8</td>\n",
       "      <td>40</td>\n",
       "      <td>20</td>\n",
       "      <td>0</td>\n",
       "      <td>1</td>\n",
       "      <td>0</td>\n",
       "      <td>20</td>\n",
       "      <td>60</td>\n",
       "    </tr>\n",
       "    <tr>\n",
       "      <th>2017-08-31</th>\n",
       "      <td>3029267</td>\n",
       "      <td>NaN</td>\n",
       "      <td>0</td>\n",
       "      <td>3</td>\n",
       "      <td>1</td>\n",
       "      <td>0</td>\n",
       "      <td>0</td>\n",
       "      <td>0</td>\n",
       "      <td>47.260000</td>\n",
       "      <td>45.960000</td>\n",
       "      <td>...</td>\n",
       "      <td>0</td>\n",
       "      <td>-5</td>\n",
       "      <td>8</td>\n",
       "      <td>40</td>\n",
       "      <td>20</td>\n",
       "      <td>0</td>\n",
       "      <td>1</td>\n",
       "      <td>0</td>\n",
       "      <td>20</td>\n",
       "      <td>60</td>\n",
       "    </tr>\n",
       "  </tbody>\n",
       "</table>\n",
       "<p>812592 rows × 160 columns</p>\n",
       "</div>"
      ],
      "text/plain": [
       "                                      id  sales  onpromotion  cluster  \\\n",
       "store_nbr family     date                                               \n",
       "1         AUTOMOTIVE 2016-06-01  2216808    3.0            0       13   \n",
       "                     2016-06-02  2218590    1.0            0       13   \n",
       "                     2016-06-03  2220372    4.0            0       13   \n",
       "                     2016-06-04  2222154    9.0            0       13   \n",
       "                     2016-06-05  2223936    2.0            0       13   \n",
       "...                                  ...    ...          ...      ...   \n",
       "54        SEAFOOD    2017-08-27  3022139    NaN            0        3   \n",
       "                     2017-08-28  3023921    NaN            0        3   \n",
       "                     2017-08-29  3025703    NaN            0        3   \n",
       "                     2017-08-30  3027485    NaN            0        3   \n",
       "                     2017-08-31  3029267    NaN            0        3   \n",
       "\n",
       "                                 uniquestore  newstore  firstday  isclosed  \\\n",
       "store_nbr family     date                                                    \n",
       "1         AUTOMOTIVE 2016-06-01            0         0         0         0   \n",
       "                     2016-06-02            0         0         0         0   \n",
       "                     2016-06-03            0         0         0         0   \n",
       "                     2016-06-04            0         0         0         0   \n",
       "                     2016-06-05            0         0         0         0   \n",
       "...                                      ...       ...       ...       ...   \n",
       "54        SEAFOOD    2017-08-27            1         0         0         0   \n",
       "                     2017-08-28            1         0         0         0   \n",
       "                     2017-08-29            1         0         0         0   \n",
       "                     2017-08-30            1         0         0         0   \n",
       "                     2017-08-31            1         0         0         0   \n",
       "\n",
       "                                 dcoilwtico  lagoil_1_dcoilwtico  ...  \\\n",
       "store_nbr family     date                                         ...   \n",
       "1         AUTOMOTIVE 2016-06-01   49.070000            49.100000  ...   \n",
       "                     2016-06-02   49.140000            49.070000  ...   \n",
       "                     2016-06-03   48.690000            49.140000  ...   \n",
       "                     2016-06-04   49.030000            48.690000  ...   \n",
       "                     2016-06-05   49.370000            49.030000  ...   \n",
       "...                                     ...                  ...  ...   \n",
       "54        SEAFOOD    2017-08-27   46.816667            47.233333  ...   \n",
       "                     2017-08-28   46.400000            46.816667  ...   \n",
       "                     2017-08-29   46.460000            46.400000  ...   \n",
       "                     2017-08-30   45.960000            46.460000  ...   \n",
       "                     2017-08-31   47.260000            45.960000  ...   \n",
       "\n",
       "                                 trans_lagged365  tag_sex  tag_luxury  \\\n",
       "store_nbr family     date                                               \n",
       "1         AUTOMOTIVE 2016-06-01                0        4           7   \n",
       "                     2016-06-02                0        4           7   \n",
       "                     2016-06-03                0        4           7   \n",
       "                     2016-06-04                0        4           7   \n",
       "                     2016-06-05                0        4           7   \n",
       "...                                          ...      ...         ...   \n",
       "54        SEAFOOD    2017-08-27                0       -5           8   \n",
       "                     2017-08-28                0       -5           8   \n",
       "                     2017-08-29                0       -5           8   \n",
       "                     2017-08-30                0       -5           8   \n",
       "                     2017-08-31                0       -5           8   \n",
       "\n",
       "                                 tag_age_mean  tag_age_var  tag_type_family  \\\n",
       "store_nbr family     date                                                     \n",
       "1         AUTOMOTIVE 2016-06-01            30           10                1   \n",
       "                     2016-06-02            30           10                1   \n",
       "                     2016-06-03            30           10                1   \n",
       "                     2016-06-04            30           10                1   \n",
       "                     2016-06-05            30           10                1   \n",
       "...                                       ...          ...              ...   \n",
       "54        SEAFOOD    2017-08-27            40           20                0   \n",
       "                     2017-08-28            40           20                0   \n",
       "                     2017-08-29            40           20                0   \n",
       "                     2017-08-30            40           20                0   \n",
       "                     2017-08-31            40           20                0   \n",
       "\n",
       "                                 tag_type_food  tag_type_other  tag_age_min  \\\n",
       "store_nbr family     date                                                     \n",
       "1         AUTOMOTIVE 2016-06-01              0               0           20   \n",
       "                     2016-06-02              0               0           20   \n",
       "                     2016-06-03              0               0           20   \n",
       "                     2016-06-04              0               0           20   \n",
       "                     2016-06-05              0               0           20   \n",
       "...                                        ...             ...          ...   \n",
       "54        SEAFOOD    2017-08-27              1               0           20   \n",
       "                     2017-08-28              1               0           20   \n",
       "                     2017-08-29              1               0           20   \n",
       "                     2017-08-30              1               0           20   \n",
       "                     2017-08-31              1               0           20   \n",
       "\n",
       "                                 tag_age_max  \n",
       "store_nbr family     date                     \n",
       "1         AUTOMOTIVE 2016-06-01           40  \n",
       "                     2016-06-02           40  \n",
       "                     2016-06-03           40  \n",
       "                     2016-06-04           40  \n",
       "                     2016-06-05           40  \n",
       "...                                      ...  \n",
       "54        SEAFOOD    2017-08-27           60  \n",
       "                     2017-08-28           60  \n",
       "                     2017-08-29           60  \n",
       "                     2017-08-30           60  \n",
       "                     2017-08-31           60  \n",
       "\n",
       "[812592 rows x 160 columns]"
      ]
     },
     "metadata": {},
     "output_type": "display_data"
    }
   ],
   "source": [
    "df = add_features(final_df).loc[:date['date_end_test'],:].reset_index().set_index(['store_nbr', 'family', 'date']).sort_index()\n",
    "\n",
    "df['16_tra'] = df['16_tra'].fillna(0)\n",
    "df['21_tra'] = df['21_tra'].fillna(0)\n",
    "df['30_tra'] = df['30_tra'].fillna(0)\n",
    "df['60_tra'] = df['60_tra'].fillna(0)\n",
    "df = add_my(df)\n",
    "display(df)"
   ]
  },
  {
   "cell_type": "code",
   "execution_count": 29,
   "id": "96410778",
   "metadata": {},
   "outputs": [],
   "source": [
    "df.to_csv('data.csv', index=True)"
   ]
  },
  {
   "cell_type": "markdown",
   "id": "323718ee",
   "metadata": {
    "papermill": {
     "duration": 0.013722,
     "end_time": "2022-06-21T10:31:49.043547",
     "exception": false,
     "start_time": "2022-06-21T10:31:49.029825",
     "status": "completed"
    },
    "tags": []
   },
   "source": [
    "# Sklearn Linear Regression"
   ]
  },
  {
   "cell_type": "code",
   "execution_count": 30,
   "id": "c5388c6f",
   "metadata": {
    "execution": {
     "iopub.execute_input": "2022-06-21T10:31:49.073035Z",
     "iopub.status.busy": "2022-06-21T10:31:49.072640Z",
     "iopub.status.idle": "2022-06-21T10:31:51.035196Z",
     "shell.execute_reply": "2022-06-21T10:31:51.034334Z"
    },
    "papermill": {
     "duration": 1.980398,
     "end_time": "2022-06-21T10:31:51.037565",
     "exception": false,
     "start_time": "2022-06-21T10:31:49.057167",
     "status": "completed"
    },
    "tags": []
   },
   "outputs": [],
   "source": [
    "from sklearn.linear_model import LinearRegression\n",
    "from sklearn.ensemble import RandomForestRegressor, GradientBoostingRegressor\n",
    "from sklearn.metrics import mean_squared_log_error as msle\n",
    "from tqdm import tqdm\n",
    "\n",
    "# from xgboost import XGBRegressor\n",
    "# from lightgbm import LGBMRegressor\n",
    "# from catboost import Pool, CatBoostRegressor\n",
    "\n",
    "# import optuna"
   ]
  },
  {
   "cell_type": "code",
   "execution_count": 31,
   "id": "cb96d056",
   "metadata": {
    "execution": {
     "iopub.execute_input": "2022-06-21T10:31:51.067981Z",
     "iopub.status.busy": "2022-06-21T10:31:51.067561Z",
     "iopub.status.idle": "2022-06-21T10:31:51.081821Z",
     "shell.execute_reply": "2022-06-21T10:31:51.080889Z"
    },
    "papermill": {
     "duration": 0.032127,
     "end_time": "2022-06-21T10:31:51.083856",
     "exception": false,
     "start_time": "2022-06-21T10:31:51.051729",
     "status": "completed"
    },
    "tags": []
   },
   "outputs": [],
   "source": [
    "logs = []\n",
    "\n",
    "def objective(trial):\n",
    "    params = {\n",
    "        'criterion': 'squared_error',\n",
    "        'bootstrap': trial.suggest_categorical('bootstrap',['True','False']),\n",
    "        'max_depth': trial.suggest_int('max_depth', 1, 10000),\n",
    "        'max_features': trial.suggest_categorical('max_features', ['auto', 'sqrt','log2']),\n",
    "        'max_leaf_nodes': trial.suggest_int('max_leaf_nodes', 1, 10000),\n",
    "        'n_estimators': trial.suggest_int('n_estimators', 30, 1000),\n",
    "        'min_samples_split': trial.suggest_int('min_samples_split', 2, 20),\n",
    "        'min_samples_leaf': trial.suggest_int('min_samples_leaf', 1, 20)\n",
    "    }\n",
    "    weights_distribution = trial.suggest_categorical('weights_distribution', [1, 2, 3, 4, 5])\n",
    "    \n",
    "    sm_rf = 0\n",
    "    cnt = 0\n",
    "    \n",
    "    i = df.index.get_level_values(0).unique()[0]\n",
    "    for j in df.index.get_level_values(1).unique():\n",
    "        df_ = df.loc[(i, j)]\n",
    "        df_ = df_.drop(columns=['id', 'transactions'])\n",
    "\n",
    "        train = df_[~df_['sales'].isna()]\n",
    "        X_test = df_[df_['sales'].isna()].drop(columns=['sales'])\n",
    "        X_train, X_val, y_train, y_val = my_split_func(train)\n",
    "\n",
    "        y_train = np.log1p(y_train)\n",
    "        y_val = np.log1p(y_val)\n",
    "        \n",
    "        model = RandomForestRegressor(**params)\n",
    "        weights = get_weights_distribution(weights_distribution, X_train.index)\n",
    "        model.fit(X_train, y_train, sample_weight=weights)\n",
    "        preds = model.predict(X_val)\n",
    "        \n",
    "        sm_rf += msle(np.exp(y_val) - 1, (np.exp(preds) - 1).clip(0))\n",
    "        cnt += 1\n",
    "\n",
    "    logs.append([(sm_rf / cnt)**0.5, params, weights_distribution])\n",
    "    return (sm_rf / cnt)**0.5"
   ]
  },
  {
   "cell_type": "code",
   "execution_count": 25,
   "id": "7c390154",
   "metadata": {
    "execution": {
     "iopub.execute_input": "2022-06-21T10:31:51.114228Z",
     "iopub.status.busy": "2022-06-21T10:31:51.113650Z",
     "iopub.status.idle": "2022-06-21T10:31:51.117094Z",
     "shell.execute_reply": "2022-06-21T10:31:51.116373Z"
    },
    "papermill": {
     "duration": 0.021278,
     "end_time": "2022-06-21T10:31:51.119109",
     "exception": false,
     "start_time": "2022-06-21T10:31:51.097831",
     "status": "completed"
    },
    "tags": []
   },
   "outputs": [],
   "source": [
    "# study = optuna.create_study(direction='minimize')\n",
    "# study.optimize(objective, n_trials=1000)"
   ]
  },
  {
   "cell_type": "code",
   "execution_count": 32,
   "id": "7bd5adf1",
   "metadata": {
    "execution": {
     "iopub.execute_input": "2022-06-21T10:31:51.151266Z",
     "iopub.status.busy": "2022-06-21T10:31:51.150750Z",
     "iopub.status.idle": "2022-06-21T10:31:51.214356Z",
     "shell.execute_reply": "2022-06-21T10:31:51.213569Z"
    },
    "jupyter": {
     "source_hidden": true
    },
    "papermill": {
     "duration": 0.082647,
     "end_time": "2022-06-21T10:31:51.216733",
     "exception": false,
     "start_time": "2022-06-21T10:31:51.134086",
     "status": "completed"
    },
    "tags": []
   },
   "outputs": [],
   "source": [
    "good_p = [{'criterion': 'squared_error',\n",
    "  'bootstrap': 'False',\n",
    "  'max_depth': 9733,\n",
    "  'max_features': 'auto',\n",
    "  'max_leaf_nodes': 4730,\n",
    "  'n_estimators': 159,\n",
    "  'min_samples_split': 3,\n",
    "  'min_samples_leaf': 8},\n",
    " {'criterion': 'squared_error',\n",
    "  'bootstrap': 'False',\n",
    "  'max_depth': 3637,\n",
    "  'max_features': 'auto',\n",
    "  'max_leaf_nodes': 5844,\n",
    "  'n_estimators': 927,\n",
    "  'min_samples_split': 19,\n",
    "  'min_samples_leaf': 9},\n",
    " {'criterion': 'squared_error',\n",
    "  'bootstrap': 'False',\n",
    "  'max_depth': 5062,\n",
    "  'max_features': 'auto',\n",
    "  'max_leaf_nodes': 5517,\n",
    "  'n_estimators': 802,\n",
    "  'min_samples_split': 20,\n",
    "  'min_samples_leaf': 8},\n",
    " {'criterion': 'squared_error',\n",
    "  'bootstrap': 'False',\n",
    "  'max_depth': 3464,\n",
    "  'max_features': 'auto',\n",
    "  'max_leaf_nodes': 6557,\n",
    "  'n_estimators': 831,\n",
    "  'min_samples_split': 18,\n",
    "  'min_samples_leaf': 9},\n",
    " {'criterion': 'squared_error',\n",
    "  'bootstrap': 'False',\n",
    "  'max_depth': 9643,\n",
    "  'max_features': 'auto',\n",
    "  'max_leaf_nodes': 3637,\n",
    "  'n_estimators': 602,\n",
    "  'min_samples_split': 8,\n",
    "  'min_samples_leaf': 8},\n",
    " {'criterion': 'squared_error',\n",
    "  'bootstrap': 'False',\n",
    "  'max_depth': 5776,\n",
    "  'max_features': 'auto',\n",
    "  'max_leaf_nodes': 5125,\n",
    "  'n_estimators': 850,\n",
    "  'min_samples_split': 20,\n",
    "  'min_samples_leaf': 8},\n",
    " {'criterion': 'squared_error',\n",
    "  'bootstrap': 'False',\n",
    "  'max_depth': 4385,\n",
    "  'max_features': 'auto',\n",
    "  'max_leaf_nodes': 5692,\n",
    "  'n_estimators': 622,\n",
    "  'min_samples_split': 20,\n",
    "  'min_samples_leaf': 8},\n",
    " {'criterion': 'squared_error',\n",
    "  'bootstrap': 'False',\n",
    "  'max_depth': 9517,\n",
    "  'max_features': 'auto',\n",
    "  'max_leaf_nodes': 5239,\n",
    "  'n_estimators': 154,\n",
    "  'min_samples_split': 3,\n",
    "  'min_samples_leaf': 8},\n",
    " {'criterion': 'squared_error',\n",
    "  'bootstrap': 'False',\n",
    "  'max_depth': 9974,\n",
    "  'max_features': 'auto',\n",
    "  'max_leaf_nodes': 1802,\n",
    "  'n_estimators': 286,\n",
    "  'min_samples_split': 8,\n",
    "  'min_samples_leaf': 9},\n",
    " {'criterion': 'squared_error',\n",
    "  'bootstrap': 'False',\n",
    "  'max_depth': 8942,\n",
    "  'max_features': 'auto',\n",
    "  'max_leaf_nodes': 3263,\n",
    "  'n_estimators': 356,\n",
    "  'min_samples_split': 14,\n",
    "  'min_samples_leaf': 8},\n",
    " {'criterion': 'squared_error',\n",
    "  'bootstrap': 'False',\n",
    "  'max_depth': 5629,\n",
    "  'max_features': 'auto',\n",
    "  'max_leaf_nodes': 4907,\n",
    "  'n_estimators': 586,\n",
    "  'min_samples_split': 20,\n",
    "  'min_samples_leaf': 9},\n",
    " {'criterion': 'squared_error',\n",
    "  'bootstrap': 'False',\n",
    "  'max_depth': 5292,\n",
    "  'max_features': 'auto',\n",
    "  'max_leaf_nodes': 5194,\n",
    "  'n_estimators': 885,\n",
    "  'min_samples_split': 20,\n",
    "  'min_samples_leaf': 8},\n",
    " {'criterion': 'squared_error',\n",
    "  'bootstrap': 'False',\n",
    "  'max_depth': 3123,\n",
    "  'max_features': 'auto',\n",
    "  'max_leaf_nodes': 5206,\n",
    "  'n_estimators': 814,\n",
    "  'min_samples_split': 7,\n",
    "  'min_samples_leaf': 9},\n",
    " {'criterion': 'squared_error',\n",
    "  'bootstrap': 'False',\n",
    "  'max_depth': 4363,\n",
    "  'max_features': 'auto',\n",
    "  'max_leaf_nodes': 5692,\n",
    "  'n_estimators': 816,\n",
    "  'min_samples_split': 19,\n",
    "  'min_samples_leaf': 9},\n",
    " {'criterion': 'squared_error',\n",
    "  'bootstrap': 'False',\n",
    "  'max_depth': 5159,\n",
    "  'max_features': 'auto',\n",
    "  'max_leaf_nodes': 5510,\n",
    "  'n_estimators': 863,\n",
    "  'min_samples_split': 19,\n",
    "  'min_samples_leaf': 8},\n",
    " {'criterion': 'squared_error',\n",
    "  'bootstrap': 'False',\n",
    "  'max_depth': 9640,\n",
    "  'max_features': 'auto',\n",
    "  'max_leaf_nodes': 3074,\n",
    "  'n_estimators': 631,\n",
    "  'min_samples_split': 2,\n",
    "  'min_samples_leaf': 10},\n",
    " {'criterion': 'squared_error',\n",
    "  'bootstrap': 'False',\n",
    "  'max_depth': 3227,\n",
    "  'max_features': 'auto',\n",
    "  'max_leaf_nodes': 6524,\n",
    "  'n_estimators': 931,\n",
    "  'min_samples_split': 19,\n",
    "  'min_samples_leaf': 8},\n",
    " {'criterion': 'squared_error',\n",
    "  'bootstrap': 'False',\n",
    "  'max_depth': 5503,\n",
    "  'max_features': 'auto',\n",
    "  'max_leaf_nodes': 5540,\n",
    "  'n_estimators': 813,\n",
    "  'min_samples_split': 19,\n",
    "  'min_samples_leaf': 8},\n",
    " {'criterion': 'squared_error',\n",
    "  'bootstrap': 'False',\n",
    "  'max_depth': 2388,\n",
    "  'max_features': 'auto',\n",
    "  'max_leaf_nodes': 5413,\n",
    "  'n_estimators': 842,\n",
    "  'min_samples_split': 6,\n",
    "  'min_samples_leaf': 8},\n",
    " {'criterion': 'squared_error',\n",
    "  'bootstrap': 'False',\n",
    "  'max_depth': 9395,\n",
    "  'max_features': 'auto',\n",
    "  'max_leaf_nodes': 2736,\n",
    "  'n_estimators': 549,\n",
    "  'min_samples_split': 3,\n",
    "  'min_samples_leaf': 8},\n",
    " {'criterion': 'squared_error',\n",
    "  'bootstrap': 'False',\n",
    "  'max_depth': 5346,\n",
    "  'max_features': 'auto',\n",
    "  'max_leaf_nodes': 4506,\n",
    "  'n_estimators': 600,\n",
    "  'min_samples_split': 20,\n",
    "  'min_samples_leaf': 8},\n",
    " {'criterion': 'squared_error',\n",
    "  'bootstrap': 'False',\n",
    "  'max_depth': 5633,\n",
    "  'max_features': 'auto',\n",
    "  'max_leaf_nodes': 5546,\n",
    "  'n_estimators': 802,\n",
    "  'min_samples_split': 19,\n",
    "  'min_samples_leaf': 8},\n",
    " {'criterion': 'squared_error',\n",
    "  'bootstrap': 'False',\n",
    "  'max_depth': 9638,\n",
    "  'max_features': 'auto',\n",
    "  'max_leaf_nodes': 3230,\n",
    "  'n_estimators': 347,\n",
    "  'min_samples_split': 10,\n",
    "  'min_samples_leaf': 10},\n",
    " {'criterion': 'squared_error',\n",
    "  'bootstrap': 'False',\n",
    "  'max_depth': 8900,\n",
    "  'max_features': 'auto',\n",
    "  'max_leaf_nodes': 3277,\n",
    "  'n_estimators': 604,\n",
    "  'min_samples_split': 12,\n",
    "  'min_samples_leaf': 9},\n",
    " {'criterion': 'squared_error',\n",
    "  'bootstrap': 'False',\n",
    "  'max_depth': 9684,\n",
    "  'max_features': 'auto',\n",
    "  'max_leaf_nodes': 6188,\n",
    "  'n_estimators': 151,\n",
    "  'min_samples_split': 3,\n",
    "  'min_samples_leaf': 7},\n",
    " {'criterion': 'squared_error',\n",
    "  'bootstrap': 'False',\n",
    "  'max_depth': 4280,\n",
    "  'max_features': 'auto',\n",
    "  'max_leaf_nodes': 5767,\n",
    "  'n_estimators': 582,\n",
    "  'min_samples_split': 19,\n",
    "  'min_samples_leaf': 9},\n",
    " {'criterion': 'squared_error',\n",
    "  'bootstrap': 'False',\n",
    "  'max_depth': 5492,\n",
    "  'max_features': 'auto',\n",
    "  'max_leaf_nodes': 7085,\n",
    "  'n_estimators': 928,\n",
    "  'min_samples_split': 20,\n",
    "  'min_samples_leaf': 8},\n",
    " {'criterion': 'squared_error',\n",
    "  'bootstrap': 'False',\n",
    "  'max_depth': 9442,\n",
    "  'max_features': 'auto',\n",
    "  'max_leaf_nodes': 3015,\n",
    "  'n_estimators': 571,\n",
    "  'min_samples_split': 19,\n",
    "  'min_samples_leaf': 8},\n",
    " {'criterion': 'squared_error',\n",
    "  'bootstrap': 'False',\n",
    "  'max_depth': 9229,\n",
    "  'max_features': 'auto',\n",
    "  'max_leaf_nodes': 2628,\n",
    "  'n_estimators': 724,\n",
    "  'min_samples_split': 14,\n",
    "  'min_samples_leaf': 10},\n",
    " {'criterion': 'squared_error',\n",
    "  'bootstrap': 'False',\n",
    "  'max_depth': 8943,\n",
    "  'max_features': 'auto',\n",
    "  'max_leaf_nodes': 3268,\n",
    "  'n_estimators': 552,\n",
    "  'min_samples_split': 12,\n",
    "  'min_samples_leaf': 9},\n",
    " {'criterion': 'squared_error',\n",
    "  'bootstrap': 'False',\n",
    "  'max_depth': 5048,\n",
    "  'max_features': 'auto',\n",
    "  'max_leaf_nodes': 5318,\n",
    "  'n_estimators': 841,\n",
    "  'min_samples_split': 20,\n",
    "  'min_samples_leaf': 8},\n",
    " {'criterion': 'squared_error',\n",
    "  'bootstrap': 'False',\n",
    "  'max_depth': 4811,\n",
    "  'max_features': 'auto',\n",
    "  'max_leaf_nodes': 4645,\n",
    "  'n_estimators': 862,\n",
    "  'min_samples_split': 20,\n",
    "  'min_samples_leaf': 8},\n",
    " {'criterion': 'squared_error',\n",
    "  'bootstrap': 'False',\n",
    "  'max_depth': 9948,\n",
    "  'max_features': 'auto',\n",
    "  'max_leaf_nodes': 2266,\n",
    "  'n_estimators': 478,\n",
    "  'min_samples_split': 2,\n",
    "  'min_samples_leaf': 8},\n",
    " {'criterion': 'squared_error',\n",
    "  'bootstrap': 'False',\n",
    "  'max_depth': 9082,\n",
    "  'max_features': 'auto',\n",
    "  'max_leaf_nodes': 2578,\n",
    "  'n_estimators': 771,\n",
    "  'min_samples_split': 16,\n",
    "  'min_samples_leaf': 10},\n",
    " {'criterion': 'squared_error',\n",
    "  'bootstrap': 'False',\n",
    "  'max_depth': 9473,\n",
    "  'max_features': 'auto',\n",
    "  'max_leaf_nodes': 4595,\n",
    "  'n_estimators': 601,\n",
    "  'min_samples_split': 20,\n",
    "  'min_samples_leaf': 8},\n",
    " {'criterion': 'squared_error',\n",
    "  'bootstrap': 'False',\n",
    "  'max_depth': 2596,\n",
    "  'max_features': 'auto',\n",
    "  'max_leaf_nodes': 5962,\n",
    "  'n_estimators': 826,\n",
    "  'min_samples_split': 19,\n",
    "  'min_samples_leaf': 8},\n",
    " {'criterion': 'squared_error',\n",
    "  'bootstrap': 'False',\n",
    "  'max_depth': 7853,\n",
    "  'max_features': 'auto',\n",
    "  'max_leaf_nodes': 3855,\n",
    "  'n_estimators': 540,\n",
    "  'min_samples_split': 12,\n",
    "  'min_samples_leaf': 9},\n",
    " {'criterion': 'squared_error',\n",
    "  'bootstrap': 'False',\n",
    "  'max_depth': 9124,\n",
    "  'max_features': 'auto',\n",
    "  'max_leaf_nodes': 3312,\n",
    "  'n_estimators': 561,\n",
    "  'min_samples_split': 12,\n",
    "  'min_samples_leaf': 10},\n",
    " {'criterion': 'squared_error',\n",
    "  'bootstrap': 'False',\n",
    "  'max_depth': 5893,\n",
    "  'max_features': 'auto',\n",
    "  'max_leaf_nodes': 7028,\n",
    "  'n_estimators': 900,\n",
    "  'min_samples_split': 18,\n",
    "  'min_samples_leaf': 8},\n",
    " {'criterion': 'squared_error',\n",
    "  'bootstrap': 'False',\n",
    "  'max_depth': 4892,\n",
    "  'max_features': 'auto',\n",
    "  'max_leaf_nodes': 5583,\n",
    "  'n_estimators': 817,\n",
    "  'min_samples_split': 20,\n",
    "  'min_samples_leaf': 8},\n",
    " {'criterion': 'squared_error',\n",
    "  'bootstrap': 'False',\n",
    "  'max_depth': 8662,\n",
    "  'max_features': 'auto',\n",
    "  'max_leaf_nodes': 2555,\n",
    "  'n_estimators': 603,\n",
    "  'min_samples_split': 2,\n",
    "  'min_samples_leaf': 9},\n",
    " {'criterion': 'squared_error',\n",
    "  'bootstrap': 'False',\n",
    "  'max_depth': 9399,\n",
    "  'max_features': 'auto',\n",
    "  'max_leaf_nodes': 5406,\n",
    "  'n_estimators': 476,\n",
    "  'min_samples_split': 8,\n",
    "  'min_samples_leaf': 9},\n",
    " {'criterion': 'squared_error',\n",
    "  'bootstrap': 'False',\n",
    "  'max_depth': 5676,\n",
    "  'max_features': 'auto',\n",
    "  'max_leaf_nodes': 5010,\n",
    "  'n_estimators': 910,\n",
    "  'min_samples_split': 20,\n",
    "  'min_samples_leaf': 8},\n",
    " {'criterion': 'squared_error',\n",
    "  'bootstrap': 'False',\n",
    "  'max_depth': 8670,\n",
    "  'max_features': 'auto',\n",
    "  'max_leaf_nodes': 2466,\n",
    "  'n_estimators': 615,\n",
    "  'min_samples_split': 2,\n",
    "  'min_samples_leaf': 9},\n",
    " {'criterion': 'squared_error',\n",
    "  'bootstrap': 'False',\n",
    "  'max_depth': 9504,\n",
    "  'max_features': 'auto',\n",
    "  'max_leaf_nodes': 4756,\n",
    "  'n_estimators': 174,\n",
    "  'min_samples_split': 3,\n",
    "  'min_samples_leaf': 8},\n",
    " {'criterion': 'squared_error',\n",
    "  'bootstrap': 'False',\n",
    "  'max_depth': 5425,\n",
    "  'max_features': 'auto',\n",
    "  'max_leaf_nodes': 4880,\n",
    "  'n_estimators': 593,\n",
    "  'min_samples_split': 20,\n",
    "  'min_samples_leaf': 8},\n",
    " {'criterion': 'squared_error',\n",
    "  'bootstrap': 'False',\n",
    "  'max_depth': 3110,\n",
    "  'max_features': 'auto',\n",
    "  'max_leaf_nodes': 6680,\n",
    "  'n_estimators': 900,\n",
    "  'min_samples_split': 18,\n",
    "  'min_samples_leaf': 9},\n",
    " {'criterion': 'squared_error',\n",
    "  'bootstrap': 'False',\n",
    "  'max_depth': 7487,\n",
    "  'max_features': 'auto',\n",
    "  'max_leaf_nodes': 2261,\n",
    "  'n_estimators': 619,\n",
    "  'min_samples_split': 2,\n",
    "  'min_samples_leaf': 8},\n",
    " {'criterion': 'squared_error',\n",
    "  'bootstrap': 'False',\n",
    "  'max_depth': 9159,\n",
    "  'max_features': 'auto',\n",
    "  'max_leaf_nodes': 1792,\n",
    "  'n_estimators': 650,\n",
    "  'min_samples_split': 2,\n",
    "  'min_samples_leaf': 7},\n",
    " {'criterion': 'squared_error',\n",
    "  'bootstrap': 'False',\n",
    "  'max_depth': 5681,\n",
    "  'max_features': 'auto',\n",
    "  'max_leaf_nodes': 5128,\n",
    "  'n_estimators': 865,\n",
    "  'min_samples_split': 20,\n",
    "  'min_samples_leaf': 8},\n",
    " {'criterion': 'squared_error',\n",
    "  'bootstrap': 'False',\n",
    "  'max_depth': 8890,\n",
    "  'max_features': 'auto',\n",
    "  'max_leaf_nodes': 4136,\n",
    "  'n_estimators': 652,\n",
    "  'min_samples_split': 2,\n",
    "  'min_samples_leaf': 8},\n",
    " {'criterion': 'squared_error',\n",
    "  'bootstrap': 'False',\n",
    "  'max_depth': 5616,\n",
    "  'max_features': 'auto',\n",
    "  'max_leaf_nodes': 5129,\n",
    "  'n_estimators': 805,\n",
    "  'min_samples_split': 19,\n",
    "  'min_samples_leaf': 7},\n",
    " {'criterion': 'squared_error',\n",
    "  'bootstrap': 'False',\n",
    "  'max_depth': 9610,\n",
    "  'max_features': 'auto',\n",
    "  'max_leaf_nodes': 3832,\n",
    "  'n_estimators': 537,\n",
    "  'min_samples_split': 3,\n",
    "  'min_samples_leaf': 10},\n",
    " {'criterion': 'squared_error',\n",
    "  'bootstrap': 'False',\n",
    "  'max_depth': 7895,\n",
    "  'max_features': 'auto',\n",
    "  'max_leaf_nodes': 2550,\n",
    "  'n_estimators': 547,\n",
    "  'min_samples_split': 7,\n",
    "  'min_samples_leaf': 10},\n",
    " {'criterion': 'squared_error',\n",
    "  'bootstrap': 'False',\n",
    "  'max_depth': 9542,\n",
    "  'max_features': 'auto',\n",
    "  'max_leaf_nodes': 4330,\n",
    "  'n_estimators': 138,\n",
    "  'min_samples_split': 12,\n",
    "  'min_samples_leaf': 8},\n",
    " {'criterion': 'squared_error',\n",
    "  'bootstrap': 'False',\n",
    "  'max_depth': 9248,\n",
    "  'max_features': 'auto',\n",
    "  'max_leaf_nodes': 3167,\n",
    "  'n_estimators': 725,\n",
    "  'min_samples_split': 9,\n",
    "  'min_samples_leaf': 8},\n",
    " {'criterion': 'squared_error',\n",
    "  'bootstrap': 'False',\n",
    "  'max_depth': 9384,\n",
    "  'max_features': 'auto',\n",
    "  'max_leaf_nodes': 2723,\n",
    "  'n_estimators': 542,\n",
    "  'min_samples_split': 8,\n",
    "  'min_samples_leaf': 9},\n",
    " {'criterion': 'squared_error',\n",
    "  'bootstrap': 'False',\n",
    "  'max_depth': 9690,\n",
    "  'max_features': 'auto',\n",
    "  'max_leaf_nodes': 3295,\n",
    "  'n_estimators': 580,\n",
    "  'min_samples_split': 14,\n",
    "  'min_samples_leaf': 9},\n",
    " {'criterion': 'squared_error',\n",
    "  'bootstrap': 'False',\n",
    "  'max_depth': 9740,\n",
    "  'max_features': 'auto',\n",
    "  'max_leaf_nodes': 2422,\n",
    "  'n_estimators': 226,\n",
    "  'min_samples_split': 12,\n",
    "  'min_samples_leaf': 9},\n",
    " {'criterion': 'squared_error',\n",
    "  'bootstrap': 'False',\n",
    "  'max_depth': 5135,\n",
    "  'max_features': 'auto',\n",
    "  'max_leaf_nodes': 4734,\n",
    "  'n_estimators': 801,\n",
    "  'min_samples_split': 20,\n",
    "  'min_samples_leaf': 8},\n",
    " {'criterion': 'squared_error',\n",
    "  'bootstrap': 'False',\n",
    "  'max_depth': 7858,\n",
    "  'max_features': 'auto',\n",
    "  'max_leaf_nodes': 1368,\n",
    "  'n_estimators': 588,\n",
    "  'min_samples_split': 4,\n",
    "  'min_samples_leaf': 9},\n",
    " {'criterion': 'squared_error',\n",
    "  'bootstrap': 'False',\n",
    "  'max_depth': 4094,\n",
    "  'max_features': 'auto',\n",
    "  'max_leaf_nodes': 5658,\n",
    "  'n_estimators': 605,\n",
    "  'min_samples_split': 20,\n",
    "  'min_samples_leaf': 9},\n",
    " {'criterion': 'squared_error',\n",
    "  'bootstrap': 'False',\n",
    "  'max_depth': 8659,\n",
    "  'max_features': 'auto',\n",
    "  'max_leaf_nodes': 2678,\n",
    "  'n_estimators': 669,\n",
    "  'min_samples_split': 3,\n",
    "  'min_samples_leaf': 9},\n",
    " {'criterion': 'squared_error',\n",
    "  'bootstrap': 'False',\n",
    "  'max_depth': 7750,\n",
    "  'max_features': 'auto',\n",
    "  'max_leaf_nodes': 3738,\n",
    "  'n_estimators': 703,\n",
    "  'min_samples_split': 13,\n",
    "  'min_samples_leaf': 10},\n",
    " {'criterion': 'squared_error',\n",
    "  'bootstrap': 'False',\n",
    "  'max_depth': 9805,\n",
    "  'max_features': 'auto',\n",
    "  'max_leaf_nodes': 3020,\n",
    "  'n_estimators': 716,\n",
    "  'min_samples_split': 14,\n",
    "  'min_samples_leaf': 10},\n",
    " {'criterion': 'squared_error',\n",
    "  'bootstrap': 'False',\n",
    "  'max_depth': 9567,\n",
    "  'max_features': 'auto',\n",
    "  'max_leaf_nodes': 2948,\n",
    "  'n_estimators': 223,\n",
    "  'min_samples_split': 12,\n",
    "  'min_samples_leaf': 10}]"
   ]
  },
  {
   "cell_type": "code",
   "execution_count": 33,
   "id": "60d3d617",
   "metadata": {
    "execution": {
     "iopub.execute_input": "2022-06-21T10:31:51.247418Z",
     "iopub.status.busy": "2022-06-21T10:31:51.246879Z",
     "iopub.status.idle": "2022-06-21T10:31:51.266149Z",
     "shell.execute_reply": "2022-06-21T10:31:51.265319Z"
    },
    "papermill": {
     "duration": 0.037826,
     "end_time": "2022-06-21T10:31:51.268591",
     "exception": false,
     "start_time": "2022-06-21T10:31:51.230765",
     "status": "completed"
    },
    "tags": []
   },
   "outputs": [],
   "source": [
    "ss = pd.read_csv('./data/sample_submission.csv')"
   ]
  },
  {
   "cell_type": "code",
   "execution_count": 34,
   "id": "529cd263",
   "metadata": {
    "execution": {
     "iopub.execute_input": "2022-06-21T10:31:51.300047Z",
     "iopub.status.busy": "2022-06-21T10:31:51.299389Z",
     "iopub.status.idle": "2022-06-21T11:20:33.574416Z",
     "shell.execute_reply": "2022-06-21T11:20:33.573380Z"
    },
    "papermill": {
     "duration": 2922.313625,
     "end_time": "2022-06-21T11:20:33.596900",
     "exception": false,
     "start_time": "2022-06-21T10:31:51.283275",
     "status": "completed"
    },
    "tags": []
   },
   "outputs": [
    {
     "name": "stderr",
     "output_type": "stream",
     "text": [
      "100%|██████████| 54/54 [42:03<00:00, 46.74s/it] \n"
     ]
    }
   ],
   "source": [
    "sm_rf = 0\n",
    "cnt = 0\n",
    "fin_pred = {}\n",
    "for i in tqdm(df.index.get_level_values(0).unique()):\n",
    "    for j in df.index.get_level_values(1).unique():\n",
    "        df_ = df.loc[(i, j)]\n",
    "        test_id = df_[df_['sales'].isna()]['id']\n",
    "        df_ = df_.drop(columns=['id', 'transactions'])\n",
    "\n",
    "        train = df_[~df_['sales'].isna()]\n",
    "        X_test = df_[df_['sales'].isna()].drop(columns=['sales'])\n",
    "        X_train, X_val, y_train, y_val = my_split_func(train)\n",
    "\n",
    "        y_train = np.log1p(y_train)\n",
    "        # y_val = np.log1p(y_val)\n",
    "\n",
    "        model = RandomForestRegressor(**good_p[0], random_state=0)\n",
    "        weights = get_weights_distribution(5, X_train.index)\n",
    "        model.fit(X_train, y_train, sample_weight=weights)\n",
    "\n",
    "        # preds = model.predict(X_val)\n",
    "        preds_ = model.predict(X_test)\n",
    "\n",
    "        for q in range(preds_.shape[0]):\n",
    "            fin_pred[test_id[q]] = preds_[q]\n",
    "        \n",
    "        # sm_rf += msle(np.exp(y_val) - 1, (np.exp(pr) - 1).clip(0))\n",
    "        # cnt += 1\n",
    "#     print((sm_rf / cnt)**0.5)\n",
    "# print((sm_rf / cnt)**0.5)"
   ]
  },
  {
   "cell_type": "code",
   "execution_count": null,
   "id": "c575523b",
   "metadata": {
    "execution": {
     "iopub.execute_input": "2022-06-21T11:20:33.636810Z",
     "iopub.status.busy": "2022-06-21T11:20:33.636061Z",
     "iopub.status.idle": "2022-06-21T11:20:33.641157Z",
     "shell.execute_reply": "2022-06-21T11:20:33.640324Z"
    },
    "jupyter": {
     "source_hidden": true
    },
    "papermill": {
     "duration": 0.027599,
     "end_time": "2022-06-21T11:20:33.643206",
     "exception": false,
     "start_time": "2022-06-21T11:20:33.615607",
     "status": "completed"
    },
    "tags": []
   },
   "outputs": [],
   "source": [
    "# sm_rf = 0\n",
    "# sm_lg = 0\n",
    "# cnt = 0\n",
    "\n",
    "# i = df.index.get_level_values(0).unique()[0]\n",
    "# for j in df.index.get_level_values(1).unique():\n",
    "#     df_ = df.loc[(i, j)]\n",
    "#     df_ = df_.drop(columns=['id', 'transactions'])\n",
    "\n",
    "#     train = df_[~df_['sales'].isna()]\n",
    "#     X_test = df_[df_['sales'].isna()].drop(columns=['sales'])\n",
    "#     X_train, X_val, y_train, y_val = my_split_func(train)\n",
    "\n",
    "#     y_train = np.log1p(y_train)\n",
    "#     y_val = np.log1p(y_val)\n",
    "#     y_test = np.log1p(y_test)\n",
    "#     weights = np.exp((400 - (pd.to_datetime('2017-08-16') - pd.to_datetime(X_train.index)).days) / 200)\n",
    "#     weights = weights.to_numpy()\n",
    "\n",
    "#     model = RandomForestRegressor()\n",
    "#     model.fit(X_train, y_train, sample_weight=weights)\n",
    "#     preds = model.predict(X_val)\n",
    "#     sm_rf += msle(np.exp(y_val) - 1, (np.exp(preds) - 1).clip(0))\n",
    "\n",
    "#     model = LGBMRegressor()\n",
    "#     model.fit(X_train.to_numpy(), y_train, sample_weight=weights)\n",
    "#     preds = model.predict(X_val)\n",
    "#     sm_lg += msle(np.exp(y_val) - 1, (np.exp(preds) - 1).clip(0))\n",
    "\n",
    "#     cnt += 1\n",
    "# print(\"RF:\", (sm_rf / cnt)**0.5)\n",
    "# print(\"LG:\", (sm_lg / cnt)**0.5)"
   ]
  },
  {
   "cell_type": "code",
   "execution_count": null,
   "id": "af34c87a",
   "metadata": {
    "collapsed": true,
    "execution": {
     "iopub.execute_input": "2022-06-21T11:20:33.799102Z",
     "iopub.status.busy": "2022-06-21T11:20:33.798651Z",
     "iopub.status.idle": "2022-06-21T11:20:33.805685Z",
     "shell.execute_reply": "2022-06-21T11:20:33.804578Z"
    },
    "jupyter": {
     "outputs_hidden": true,
     "source_hidden": true
    },
    "papermill": {
     "duration": 0.145258,
     "end_time": "2022-06-21T11:20:33.807808",
     "exception": false,
     "start_time": "2022-06-21T11:20:33.662550",
     "status": "completed"
    },
    "tags": []
   },
   "outputs": [],
   "source": [
    "# sm_gb = 0\n",
    "# sm_lr = 0\n",
    "# sm_rf = 0\n",
    "# sm_xg = 0\n",
    "# sm_lg = 0\n",
    "# sm_cb = 0\n",
    "\n",
    "# cnt = 0\n",
    "# for i in tqdm(df.index.get_level_values(0).unique()):\n",
    "#     for j in df.index.get_level_values(1).unique():\n",
    "#         df_ = df.loc[(i, j)]\n",
    "#         df_ = df_.drop(columns=['id', 'transactions'])\n",
    "        \n",
    "#         train = df_[~df_['sales'].isna()]\n",
    "#         X_test = df_[df_['sales'].isna()].drop(columns=['sales'])\n",
    "#         X_train, X_val, y_train, y_val = my_split_func(train)\n",
    "        \n",
    "#         y_train = np.log1p(y_train)\n",
    "#         y_val = np.log1p(y_val)\n",
    "#         y_test = np.log1p(y_test)\n",
    "#         weights = np.exp((400 - (pd.to_datetime('2017-08-16') - pd.to_datetime(X_train.index)).days) / 200)\n",
    "#         weights = weights.to_numpy()\n",
    "        \n",
    "#         model = GradientBoostingRegressor()\n",
    "#         model.fit(X_train, y_train, sample_weight=weights)\n",
    "#         preds = model.predict(X_val)\n",
    "#         sm_gb += msle(np.exp(y_val) - 1, (np.exp(preds) - 1).clip(0))\n",
    "        \n",
    "#         model = LinearRegression()\n",
    "#         model.fit(X_train, y_train, sample_weight=weights)\n",
    "#         preds = model.predict(X_val)\n",
    "#         sm_lr += msle(np.exp(y_val) - 1, (np.exp(preds) - 1).clip(0))\n",
    "        \n",
    "#         model = RandomForestRegressor()\n",
    "#         model.fit(X_train, y_train, sample_weight=weights)\n",
    "#         preds = model.predict(X_val)\n",
    "#         sm_rf += msle(np.exp(y_val) - 1, (np.exp(preds) - 1).clip(0))\n",
    "        \n",
    "#         model = XGBRegressor()\n",
    "#         model.fit(X_train, y_train, sample_weight=weights)\n",
    "#         preds = model.predict(X_val)\n",
    "#         sm_xg += msle(np.exp(y_val) - 1, (np.exp(preds) - 1).clip(0))\n",
    "        \n",
    "#         model = LGBMRegressor()\n",
    "#         model.fit(X_train.to_numpy(), y_train, sample_weight=weights)\n",
    "#         preds = model.predict(X_val)\n",
    "#         sm_lg += msle(np.exp(y_val) - 1, (np.exp(preds) - 1).clip(0))\n",
    "        \n",
    "        \n",
    "#         P = Pool(X_train.to_numpy(), y_train, weight=weights)\n",
    "#         if len(set(y_train)) == 1:\n",
    "#             preds = np.full((X_val.shape[0], 1), y_train[0])\n",
    "#         else:\n",
    "#             model = CatBoostRegressor()\n",
    "#             model.fit(X_train, y_train, verbose=0)\n",
    "#             preds = model.predict(X_val)\n",
    "#         sm_cb += msle(np.exp(y_val) - 1, (np.exp(preds) - 1).clip(0))\n",
    "        \n",
    "#         cnt += 1\n",
    "#         #print(msle(np.exp(y_val) - 1,(np.exp(preds) - 1).clip(0), squared=False))\n",
    "#     print(\"GB:\", (sm_gb / cnt)**0.5)\n",
    "#     print(\"RF:\", (sm_rf / cnt)**0.5)\n",
    "#     print(\"LR:\", (sm_lr / cnt)**0.5)\n",
    "#     print(\"XG:\", (sm_xg / cnt)**0.5)\n",
    "#     print(\"LG:\", (sm_lg / cnt)**0.5)\n",
    "#     print(\"CB:\", (sm_cb / cnt)**0.5)\n",
    "#     break\n",
    "# #print((sm / cnt)**0.5)"
   ]
  },
  {
   "cell_type": "markdown",
   "id": "c925a9d1",
   "metadata": {
    "papermill": {
     "duration": 0.019085,
     "end_time": "2022-06-21T11:20:33.846027",
     "exception": false,
     "start_time": "2022-06-21T11:20:33.826942",
     "status": "completed"
    },
    "tags": []
   },
   "source": [
    "# Submission"
   ]
  },
  {
   "cell_type": "code",
   "execution_count": 35,
   "id": "43423127",
   "metadata": {
    "execution": {
     "iopub.execute_input": "2022-06-21T11:20:33.886641Z",
     "iopub.status.busy": "2022-06-21T11:20:33.885951Z",
     "iopub.status.idle": "2022-06-21T11:20:33.921912Z",
     "shell.execute_reply": "2022-06-21T11:20:33.920806Z"
    },
    "papermill": {
     "duration": 0.059281,
     "end_time": "2022-06-21T11:20:33.924825",
     "exception": false,
     "start_time": "2022-06-21T11:20:33.865544",
     "status": "completed"
    },
    "tags": []
   },
   "outputs": [],
   "source": [
    "ss['sales'] = ss['id'].map(fin_pred)"
   ]
  },
  {
   "cell_type": "code",
   "execution_count": 36,
   "id": "7df0b049",
   "metadata": {
    "execution": {
     "iopub.execute_input": "2022-06-21T11:20:33.965030Z",
     "iopub.status.busy": "2022-06-21T11:20:33.964571Z",
     "iopub.status.idle": "2022-06-21T11:20:33.970950Z",
     "shell.execute_reply": "2022-06-21T11:20:33.969933Z"
    },
    "papermill": {
     "duration": 0.029301,
     "end_time": "2022-06-21T11:20:33.973171",
     "exception": false,
     "start_time": "2022-06-21T11:20:33.943870",
     "status": "completed"
    },
    "tags": []
   },
   "outputs": [],
   "source": [
    "ss['sales'] = np.exp(ss['sales']) - 1"
   ]
  },
  {
   "cell_type": "code",
   "execution_count": 37,
   "id": "7c5ebcb7",
   "metadata": {
    "execution": {
     "iopub.execute_input": "2022-06-21T11:20:34.013157Z",
     "iopub.status.busy": "2022-06-21T11:20:34.012665Z",
     "iopub.status.idle": "2022-06-21T11:20:34.120019Z",
     "shell.execute_reply": "2022-06-21T11:20:34.118797Z"
    },
    "papermill": {
     "duration": 0.131257,
     "end_time": "2022-06-21T11:20:34.123216",
     "exception": false,
     "start_time": "2022-06-21T11:20:33.991959",
     "status": "completed"
    },
    "tags": []
   },
   "outputs": [],
   "source": [
    "ss.to_csv('submission.csv', index=False)"
   ]
  },
  {
   "cell_type": "code",
   "execution_count": 38,
   "id": "53418aa9",
   "metadata": {
    "execution": {
     "iopub.execute_input": "2022-06-21T11:20:34.164251Z",
     "iopub.status.busy": "2022-06-21T11:20:34.163781Z",
     "iopub.status.idle": "2022-06-21T11:20:34.178517Z",
     "shell.execute_reply": "2022-06-21T11:20:34.177615Z"
    },
    "papermill": {
     "duration": 0.038009,
     "end_time": "2022-06-21T11:20:34.180618",
     "exception": false,
     "start_time": "2022-06-21T11:20:34.142609",
     "status": "completed"
    },
    "tags": []
   },
   "outputs": [
    {
     "data": {
      "text/html": [
       "<div>\n",
       "<style scoped>\n",
       "    .dataframe tbody tr th:only-of-type {\n",
       "        vertical-align: middle;\n",
       "    }\n",
       "\n",
       "    .dataframe tbody tr th {\n",
       "        vertical-align: top;\n",
       "    }\n",
       "\n",
       "    .dataframe thead th {\n",
       "        text-align: right;\n",
       "    }\n",
       "</style>\n",
       "<table border=\"1\" class=\"dataframe\">\n",
       "  <thead>\n",
       "    <tr style=\"text-align: right;\">\n",
       "      <th></th>\n",
       "      <th>id</th>\n",
       "      <th>sales</th>\n",
       "    </tr>\n",
       "  </thead>\n",
       "  <tbody>\n",
       "    <tr>\n",
       "      <th>0</th>\n",
       "      <td>3000888</td>\n",
       "      <td>3.260289</td>\n",
       "    </tr>\n",
       "    <tr>\n",
       "      <th>1</th>\n",
       "      <td>3000889</td>\n",
       "      <td>0.000000</td>\n",
       "    </tr>\n",
       "    <tr>\n",
       "      <th>2</th>\n",
       "      <td>3000890</td>\n",
       "      <td>4.031745</td>\n",
       "    </tr>\n",
       "    <tr>\n",
       "      <th>3</th>\n",
       "      <td>3000891</td>\n",
       "      <td>2421.441468</td>\n",
       "    </tr>\n",
       "    <tr>\n",
       "      <th>4</th>\n",
       "      <td>3000892</td>\n",
       "      <td>0.115015</td>\n",
       "    </tr>\n",
       "    <tr>\n",
       "      <th>...</th>\n",
       "      <td>...</td>\n",
       "      <td>...</td>\n",
       "    </tr>\n",
       "    <tr>\n",
       "      <th>28507</th>\n",
       "      <td>3029395</td>\n",
       "      <td>339.861863</td>\n",
       "    </tr>\n",
       "    <tr>\n",
       "      <th>28508</th>\n",
       "      <td>3029396</td>\n",
       "      <td>113.848349</td>\n",
       "    </tr>\n",
       "    <tr>\n",
       "      <th>28509</th>\n",
       "      <td>3029397</td>\n",
       "      <td>1272.751190</td>\n",
       "    </tr>\n",
       "    <tr>\n",
       "      <th>28510</th>\n",
       "      <td>3029398</td>\n",
       "      <td>115.502759</td>\n",
       "    </tr>\n",
       "    <tr>\n",
       "      <th>28511</th>\n",
       "      <td>3029399</td>\n",
       "      <td>13.446688</td>\n",
       "    </tr>\n",
       "  </tbody>\n",
       "</table>\n",
       "<p>28512 rows × 2 columns</p>\n",
       "</div>"
      ],
      "text/plain": [
       "            id        sales\n",
       "0      3000888     3.260289\n",
       "1      3000889     0.000000\n",
       "2      3000890     4.031745\n",
       "3      3000891  2421.441468\n",
       "4      3000892     0.115015\n",
       "...        ...          ...\n",
       "28507  3029395   339.861863\n",
       "28508  3029396   113.848349\n",
       "28509  3029397  1272.751190\n",
       "28510  3029398   115.502759\n",
       "28511  3029399    13.446688\n",
       "\n",
       "[28512 rows x 2 columns]"
      ]
     },
     "execution_count": 38,
     "metadata": {},
     "output_type": "execute_result"
    }
   ],
   "source": [
    "ss"
   ]
  },
  {
   "cell_type": "code",
   "execution_count": null,
   "id": "d6b3ae73",
   "metadata": {
    "papermill": {
     "duration": 0.019218,
     "end_time": "2022-06-21T11:20:34.218904",
     "exception": false,
     "start_time": "2022-06-21T11:20:34.199686",
     "status": "completed"
    },
    "tags": []
   },
   "outputs": [],
   "source": []
  }
 ],
 "metadata": {
  "kernelspec": {
   "display_name": "Python 3.9.12 ('base')",
   "language": "python",
   "name": "python3"
  },
  "language_info": {
   "codemirror_mode": {
    "name": "ipython",
    "version": 3
   },
   "file_extension": ".py",
   "mimetype": "text/x-python",
   "name": "python",
   "nbconvert_exporter": "python",
   "pygments_lexer": "ipython3",
   "version": "3.9.12"
  },
  "papermill": {
   "default_parameters": {},
   "duration": 4563.403594,
   "end_time": "2022-06-21T11:20:35.976296",
   "environment_variables": {},
   "exception": null,
   "input_path": "__notebook__.ipynb",
   "output_path": "__notebook__.ipynb",
   "parameters": {},
   "start_time": "2022-06-21T10:04:32.572702",
   "version": "2.3.4"
  },
  "vscode": {
   "interpreter": {
    "hash": "3f69673e463f5b59d6864e26256e61d9d74897ae03937aa77ee55707f94fda41"
   }
  }
 },
 "nbformat": 4,
 "nbformat_minor": 5
}
