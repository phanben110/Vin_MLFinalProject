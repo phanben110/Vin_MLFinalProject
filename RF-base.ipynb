{
 "cells": [
  {
   "cell_type": "code",
   "execution_count": 1,
   "id": "1c4ec47b",
   "metadata": {},
   "outputs": [],
   "source": [
    "import pandas as pd\n",
    "import numpy as np\n",
    "import matplotlib.pyplot as plt\n",
    "import seaborn as sns\n",
    "random_state = 42"
   ]
  },
  {
   "cell_type": "markdown",
   "id": "5839dcfa",
   "metadata": {},
   "source": [
    "### "
   ]
  },
  {
   "cell_type": "code",
   "execution_count": 2,
   "id": "4714db81",
   "metadata": {},
   "outputs": [],
   "source": [
    "train_df = pd.read_csv('train.csv', index_col='id')\n",
    "holiday_df = pd.read_csv(\"holidays_events.csv\")\n",
    "transaction_df = pd.read_csv(\"transactions.csv\")\n",
    "store_df = pd.read_csv('stores.csv')\n",
    "oil_df = pd.read_csv('oil.csv')"
   ]
  },
  {
   "cell_type": "code",
   "execution_count": 3,
   "id": "668b5604",
   "metadata": {},
   "outputs": [],
   "source": [
    "test_df = pd.read_csv('test.csv', index_col='id')"
   ]
  },
  {
   "cell_type": "code",
   "execution_count": 4,
   "id": "2c02568b",
   "metadata": {
    "scrolled": true
   },
   "outputs": [
    {
     "data": {
      "text/html": [
       "<div>\n",
       "<style scoped>\n",
       "    .dataframe tbody tr th:only-of-type {\n",
       "        vertical-align: middle;\n",
       "    }\n",
       "\n",
       "    .dataframe tbody tr th {\n",
       "        vertical-align: top;\n",
       "    }\n",
       "\n",
       "    .dataframe thead th {\n",
       "        text-align: right;\n",
       "    }\n",
       "</style>\n",
       "<table border=\"1\" class=\"dataframe\">\n",
       "  <thead>\n",
       "    <tr style=\"text-align: right;\">\n",
       "      <th></th>\n",
       "      <th>date</th>\n",
       "      <th>store_nbr</th>\n",
       "      <th>family</th>\n",
       "      <th>sales</th>\n",
       "      <th>onpromotion</th>\n",
       "    </tr>\n",
       "    <tr>\n",
       "      <th>id</th>\n",
       "      <th></th>\n",
       "      <th></th>\n",
       "      <th></th>\n",
       "      <th></th>\n",
       "      <th></th>\n",
       "    </tr>\n",
       "  </thead>\n",
       "  <tbody>\n",
       "    <tr>\n",
       "      <th>0</th>\n",
       "      <td>2013-01-01</td>\n",
       "      <td>1</td>\n",
       "      <td>AUTOMOTIVE</td>\n",
       "      <td>0.0</td>\n",
       "      <td>0</td>\n",
       "    </tr>\n",
       "    <tr>\n",
       "      <th>1</th>\n",
       "      <td>2013-01-01</td>\n",
       "      <td>1</td>\n",
       "      <td>BABY CARE</td>\n",
       "      <td>0.0</td>\n",
       "      <td>0</td>\n",
       "    </tr>\n",
       "    <tr>\n",
       "      <th>2</th>\n",
       "      <td>2013-01-01</td>\n",
       "      <td>1</td>\n",
       "      <td>BEAUTY</td>\n",
       "      <td>0.0</td>\n",
       "      <td>0</td>\n",
       "    </tr>\n",
       "    <tr>\n",
       "      <th>3</th>\n",
       "      <td>2013-01-01</td>\n",
       "      <td>1</td>\n",
       "      <td>BEVERAGES</td>\n",
       "      <td>0.0</td>\n",
       "      <td>0</td>\n",
       "    </tr>\n",
       "    <tr>\n",
       "      <th>4</th>\n",
       "      <td>2013-01-01</td>\n",
       "      <td>1</td>\n",
       "      <td>BOOKS</td>\n",
       "      <td>0.0</td>\n",
       "      <td>0</td>\n",
       "    </tr>\n",
       "    <tr>\n",
       "      <th>5</th>\n",
       "      <td>2013-01-01</td>\n",
       "      <td>1</td>\n",
       "      <td>BREAD/BAKERY</td>\n",
       "      <td>0.0</td>\n",
       "      <td>0</td>\n",
       "    </tr>\n",
       "    <tr>\n",
       "      <th>6</th>\n",
       "      <td>2013-01-01</td>\n",
       "      <td>1</td>\n",
       "      <td>CELEBRATION</td>\n",
       "      <td>0.0</td>\n",
       "      <td>0</td>\n",
       "    </tr>\n",
       "    <tr>\n",
       "      <th>7</th>\n",
       "      <td>2013-01-01</td>\n",
       "      <td>1</td>\n",
       "      <td>CLEANING</td>\n",
       "      <td>0.0</td>\n",
       "      <td>0</td>\n",
       "    </tr>\n",
       "    <tr>\n",
       "      <th>8</th>\n",
       "      <td>2013-01-01</td>\n",
       "      <td>1</td>\n",
       "      <td>DAIRY</td>\n",
       "      <td>0.0</td>\n",
       "      <td>0</td>\n",
       "    </tr>\n",
       "    <tr>\n",
       "      <th>9</th>\n",
       "      <td>2013-01-01</td>\n",
       "      <td>1</td>\n",
       "      <td>DELI</td>\n",
       "      <td>0.0</td>\n",
       "      <td>0</td>\n",
       "    </tr>\n",
       "  </tbody>\n",
       "</table>\n",
       "</div>"
      ],
      "text/plain": [
       "          date  store_nbr        family  sales  onpromotion\n",
       "id                                                         \n",
       "0   2013-01-01          1    AUTOMOTIVE    0.0            0\n",
       "1   2013-01-01          1     BABY CARE    0.0            0\n",
       "2   2013-01-01          1        BEAUTY    0.0            0\n",
       "3   2013-01-01          1     BEVERAGES    0.0            0\n",
       "4   2013-01-01          1         BOOKS    0.0            0\n",
       "5   2013-01-01          1  BREAD/BAKERY    0.0            0\n",
       "6   2013-01-01          1   CELEBRATION    0.0            0\n",
       "7   2013-01-01          1      CLEANING    0.0            0\n",
       "8   2013-01-01          1         DAIRY    0.0            0\n",
       "9   2013-01-01          1          DELI    0.0            0"
      ]
     },
     "execution_count": 4,
     "metadata": {},
     "output_type": "execute_result"
    }
   ],
   "source": [
    "train_df.head(10)"
   ]
  },
  {
   "cell_type": "code",
   "execution_count": 5,
   "id": "30232296",
   "metadata": {},
   "outputs": [],
   "source": [
    "def transform_date(date):\n",
    "    # change from \"MM/DD/YYYY\" -> \"YYYY-MM-DD\"\n",
    "    tmp = date.split('/')\n",
    "    month, day, year = tmp[0], tmp[1], tmp[2]\n",
    "    if (len(month) == 1): \n",
    "        month = '0' + month\n",
    "    if (len(day) == 1): \n",
    "        day = '0' + day\n",
    "    return \"-\".join([year, month, day])\n",
    "holiday_df['date'] = holiday_df['date'].apply(transform_date)"
   ]
  },
  {
   "cell_type": "code",
   "execution_count": 6,
   "id": "adfeab10",
   "metadata": {
    "scrolled": true
   },
   "outputs": [
    {
     "data": {
      "text/html": [
       "<div>\n",
       "<style scoped>\n",
       "    .dataframe tbody tr th:only-of-type {\n",
       "        vertical-align: middle;\n",
       "    }\n",
       "\n",
       "    .dataframe tbody tr th {\n",
       "        vertical-align: top;\n",
       "    }\n",
       "\n",
       "    .dataframe thead th {\n",
       "        text-align: right;\n",
       "    }\n",
       "</style>\n",
       "<table border=\"1\" class=\"dataframe\">\n",
       "  <thead>\n",
       "    <tr style=\"text-align: right;\">\n",
       "      <th></th>\n",
       "      <th>date</th>\n",
       "      <th>store_nbr</th>\n",
       "      <th>family</th>\n",
       "      <th>sales</th>\n",
       "      <th>onpromotion</th>\n",
       "      <th>type</th>\n",
       "      <th>locale</th>\n",
       "      <th>locale_name</th>\n",
       "      <th>description</th>\n",
       "      <th>transferred</th>\n",
       "    </tr>\n",
       "  </thead>\n",
       "  <tbody>\n",
       "    <tr>\n",
       "      <th>0</th>\n",
       "      <td>2013-01-01</td>\n",
       "      <td>1</td>\n",
       "      <td>AUTOMOTIVE</td>\n",
       "      <td>0.0</td>\n",
       "      <td>0</td>\n",
       "      <td>Holiday</td>\n",
       "      <td>National</td>\n",
       "      <td>Ecuador</td>\n",
       "      <td>Primer dia del ano</td>\n",
       "      <td>False</td>\n",
       "    </tr>\n",
       "    <tr>\n",
       "      <th>1</th>\n",
       "      <td>2013-01-01</td>\n",
       "      <td>1</td>\n",
       "      <td>BABY CARE</td>\n",
       "      <td>0.0</td>\n",
       "      <td>0</td>\n",
       "      <td>Holiday</td>\n",
       "      <td>National</td>\n",
       "      <td>Ecuador</td>\n",
       "      <td>Primer dia del ano</td>\n",
       "      <td>False</td>\n",
       "    </tr>\n",
       "    <tr>\n",
       "      <th>2</th>\n",
       "      <td>2013-01-01</td>\n",
       "      <td>1</td>\n",
       "      <td>BEAUTY</td>\n",
       "      <td>0.0</td>\n",
       "      <td>0</td>\n",
       "      <td>Holiday</td>\n",
       "      <td>National</td>\n",
       "      <td>Ecuador</td>\n",
       "      <td>Primer dia del ano</td>\n",
       "      <td>False</td>\n",
       "    </tr>\n",
       "  </tbody>\n",
       "</table>\n",
       "</div>"
      ],
      "text/plain": [
       "         date  store_nbr      family  sales  onpromotion     type    locale  \\\n",
       "0  2013-01-01          1  AUTOMOTIVE    0.0            0  Holiday  National   \n",
       "1  2013-01-01          1   BABY CARE    0.0            0  Holiday  National   \n",
       "2  2013-01-01          1      BEAUTY    0.0            0  Holiday  National   \n",
       "\n",
       "  locale_name         description transferred  \n",
       "0     Ecuador  Primer dia del ano       False  \n",
       "1     Ecuador  Primer dia del ano       False  \n",
       "2     Ecuador  Primer dia del ano       False  "
      ]
     },
     "execution_count": 6,
     "metadata": {},
     "output_type": "execute_result"
    }
   ],
   "source": [
    "# main dataframe (train_df or test_df) merged with holiday_df\n",
    "mh_df = train_df.merge(holiday_df, how='left', left_on = 'date', right_on = 'date')\n",
    "mh_df = mh_df.fillna(\"None\")\n",
    "mh_df.head(3)"
   ]
  },
  {
   "cell_type": "code",
   "execution_count": 7,
   "id": "43edf3d0",
   "metadata": {
    "scrolled": true
   },
   "outputs": [
    {
     "data": {
      "text/html": [
       "<div>\n",
       "<style scoped>\n",
       "    .dataframe tbody tr th:only-of-type {\n",
       "        vertical-align: middle;\n",
       "    }\n",
       "\n",
       "    .dataframe tbody tr th {\n",
       "        vertical-align: top;\n",
       "    }\n",
       "\n",
       "    .dataframe thead th {\n",
       "        text-align: right;\n",
       "    }\n",
       "</style>\n",
       "<table border=\"1\" class=\"dataframe\">\n",
       "  <thead>\n",
       "    <tr style=\"text-align: right;\">\n",
       "      <th></th>\n",
       "      <th>date</th>\n",
       "      <th>store_nbr</th>\n",
       "      <th>family</th>\n",
       "      <th>sales</th>\n",
       "      <th>onpromotion</th>\n",
       "      <th>type_x</th>\n",
       "      <th>locale</th>\n",
       "      <th>locale_name</th>\n",
       "      <th>description</th>\n",
       "      <th>transferred</th>\n",
       "      <th>city</th>\n",
       "      <th>state</th>\n",
       "      <th>type_y</th>\n",
       "      <th>cluster</th>\n",
       "    </tr>\n",
       "  </thead>\n",
       "  <tbody>\n",
       "    <tr>\n",
       "      <th>0</th>\n",
       "      <td>2013-01-01</td>\n",
       "      <td>1</td>\n",
       "      <td>AUTOMOTIVE</td>\n",
       "      <td>0.0</td>\n",
       "      <td>0</td>\n",
       "      <td>Holiday</td>\n",
       "      <td>National</td>\n",
       "      <td>Ecuador</td>\n",
       "      <td>Primer dia del ano</td>\n",
       "      <td>False</td>\n",
       "      <td>Quito</td>\n",
       "      <td>Pichincha</td>\n",
       "      <td>D</td>\n",
       "      <td>13</td>\n",
       "    </tr>\n",
       "    <tr>\n",
       "      <th>1</th>\n",
       "      <td>2013-01-01</td>\n",
       "      <td>1</td>\n",
       "      <td>BABY CARE</td>\n",
       "      <td>0.0</td>\n",
       "      <td>0</td>\n",
       "      <td>Holiday</td>\n",
       "      <td>National</td>\n",
       "      <td>Ecuador</td>\n",
       "      <td>Primer dia del ano</td>\n",
       "      <td>False</td>\n",
       "      <td>Quito</td>\n",
       "      <td>Pichincha</td>\n",
       "      <td>D</td>\n",
       "      <td>13</td>\n",
       "    </tr>\n",
       "    <tr>\n",
       "      <th>2</th>\n",
       "      <td>2013-01-01</td>\n",
       "      <td>1</td>\n",
       "      <td>BEAUTY</td>\n",
       "      <td>0.0</td>\n",
       "      <td>0</td>\n",
       "      <td>Holiday</td>\n",
       "      <td>National</td>\n",
       "      <td>Ecuador</td>\n",
       "      <td>Primer dia del ano</td>\n",
       "      <td>False</td>\n",
       "      <td>Quito</td>\n",
       "      <td>Pichincha</td>\n",
       "      <td>D</td>\n",
       "      <td>13</td>\n",
       "    </tr>\n",
       "    <tr>\n",
       "      <th>3</th>\n",
       "      <td>2013-01-01</td>\n",
       "      <td>1</td>\n",
       "      <td>BEVERAGES</td>\n",
       "      <td>0.0</td>\n",
       "      <td>0</td>\n",
       "      <td>Holiday</td>\n",
       "      <td>National</td>\n",
       "      <td>Ecuador</td>\n",
       "      <td>Primer dia del ano</td>\n",
       "      <td>False</td>\n",
       "      <td>Quito</td>\n",
       "      <td>Pichincha</td>\n",
       "      <td>D</td>\n",
       "      <td>13</td>\n",
       "    </tr>\n",
       "  </tbody>\n",
       "</table>\n",
       "</div>"
      ],
      "text/plain": [
       "         date  store_nbr      family  sales  onpromotion   type_x    locale  \\\n",
       "0  2013-01-01          1  AUTOMOTIVE    0.0            0  Holiday  National   \n",
       "1  2013-01-01          1   BABY CARE    0.0            0  Holiday  National   \n",
       "2  2013-01-01          1      BEAUTY    0.0            0  Holiday  National   \n",
       "3  2013-01-01          1   BEVERAGES    0.0            0  Holiday  National   \n",
       "\n",
       "  locale_name         description transferred   city      state type_y  \\\n",
       "0     Ecuador  Primer dia del ano       False  Quito  Pichincha      D   \n",
       "1     Ecuador  Primer dia del ano       False  Quito  Pichincha      D   \n",
       "2     Ecuador  Primer dia del ano       False  Quito  Pichincha      D   \n",
       "3     Ecuador  Primer dia del ano       False  Quito  Pichincha      D   \n",
       "\n",
       "   cluster  \n",
       "0       13  \n",
       "1       13  \n",
       "2       13  \n",
       "3       13  "
      ]
     },
     "execution_count": 7,
     "metadata": {},
     "output_type": "execute_result"
    }
   ],
   "source": [
    "# contain: merge of train, holiday and store \n",
    "mhs_df = mh_df.merge(store_df, how='left', left_on = 'store_nbr', right_on = 'store_nbr')\n",
    "mhs_df.head(4)"
   ]
  },
  {
   "cell_type": "code",
   "execution_count": 8,
   "id": "c1d276bc",
   "metadata": {},
   "outputs": [
    {
     "data": {
      "text/plain": [
       "array([1., 1., 0., 0., 0.])"
      ]
     },
     "execution_count": 8,
     "metadata": {},
     "output_type": "execute_result"
    }
   ],
   "source": [
    "a = np.ones(2)\n",
    "b = np.zeros(3)\n",
    "np.concatenate([a, b])"
   ]
  },
  {
   "cell_type": "code",
   "execution_count": 8,
   "id": "522a29b4",
   "metadata": {
    "scrolled": false
   },
   "outputs": [
    {
     "data": {
      "text/html": [
       "<div>\n",
       "<style scoped>\n",
       "    .dataframe tbody tr th:only-of-type {\n",
       "        vertical-align: middle;\n",
       "    }\n",
       "\n",
       "    .dataframe tbody tr th {\n",
       "        vertical-align: top;\n",
       "    }\n",
       "\n",
       "    .dataframe thead th {\n",
       "        text-align: right;\n",
       "    }\n",
       "</style>\n",
       "<table border=\"1\" class=\"dataframe\">\n",
       "  <thead>\n",
       "    <tr style=\"text-align: right;\">\n",
       "      <th></th>\n",
       "      <th>date</th>\n",
       "      <th>dcoilwtico</th>\n",
       "    </tr>\n",
       "  </thead>\n",
       "  <tbody>\n",
       "    <tr>\n",
       "      <th>0</th>\n",
       "      <td>2013-01-01</td>\n",
       "      <td>NaN</td>\n",
       "    </tr>\n",
       "    <tr>\n",
       "      <th>1</th>\n",
       "      <td>2013-01-02</td>\n",
       "      <td>93.14</td>\n",
       "    </tr>\n",
       "    <tr>\n",
       "      <th>2</th>\n",
       "      <td>2013-01-03</td>\n",
       "      <td>92.97</td>\n",
       "    </tr>\n",
       "    <tr>\n",
       "      <th>3</th>\n",
       "      <td>2013-01-04</td>\n",
       "      <td>93.12</td>\n",
       "    </tr>\n",
       "    <tr>\n",
       "      <th>4</th>\n",
       "      <td>2013-01-07</td>\n",
       "      <td>93.20</td>\n",
       "    </tr>\n",
       "  </tbody>\n",
       "</table>\n",
       "</div>"
      ],
      "text/plain": [
       "         date  dcoilwtico\n",
       "0  2013-01-01         NaN\n",
       "1  2013-01-02       93.14\n",
       "2  2013-01-03       92.97\n",
       "3  2013-01-04       93.12\n",
       "4  2013-01-07       93.20"
      ]
     },
     "execution_count": 8,
     "metadata": {},
     "output_type": "execute_result"
    }
   ],
   "source": [
    "oil_df.head()"
   ]
  },
  {
   "cell_type": "code",
   "execution_count": 9,
   "id": "8b05d190",
   "metadata": {},
   "outputs": [
    {
     "data": {
      "text/plain": [
       "43"
      ]
     },
     "execution_count": 9,
     "metadata": {},
     "output_type": "execute_result"
    }
   ],
   "source": [
    "pd.isna(oil_df['dcoilwtico']).sum()"
   ]
  },
  {
   "cell_type": "code",
   "execution_count": null,
   "id": "1e85491d",
   "metadata": {},
   "outputs": [],
   "source": []
  },
  {
   "cell_type": "code",
   "execution_count": 10,
   "id": "c563fa9d",
   "metadata": {},
   "outputs": [],
   "source": [
    "# handle missing value in oil dataframe\n",
    "n = len(oil_df)\n",
    "for i in range(n):\n",
    "    if (pd.isna(oil_df.iloc[i, 1])):\n",
    "        if (i - 1 < 0):\n",
    "            v = oil_df.iloc[i + 1, 1] # chưa chặt lắm\n",
    "        else:\n",
    "            v = oil_df.iloc[i - 1, 1]\n",
    "        oil_df.iloc[i, 1] = v"
   ]
  },
  {
   "cell_type": "code",
   "execution_count": 32,
   "id": "9cb49847",
   "metadata": {
    "scrolled": false
   },
   "outputs": [
    {
     "data": {
      "text/html": [
       "<div>\n",
       "<style scoped>\n",
       "    .dataframe tbody tr th:only-of-type {\n",
       "        vertical-align: middle;\n",
       "    }\n",
       "\n",
       "    .dataframe tbody tr th {\n",
       "        vertical-align: top;\n",
       "    }\n",
       "\n",
       "    .dataframe thead th {\n",
       "        text-align: right;\n",
       "    }\n",
       "</style>\n",
       "<table border=\"1\" class=\"dataframe\">\n",
       "  <thead>\n",
       "    <tr style=\"text-align: right;\">\n",
       "      <th></th>\n",
       "      <th>date</th>\n",
       "      <th>store_nbr</th>\n",
       "      <th>family</th>\n",
       "      <th>sales</th>\n",
       "      <th>onpromotion</th>\n",
       "      <th>type_x</th>\n",
       "      <th>locale</th>\n",
       "      <th>locale_name</th>\n",
       "      <th>description</th>\n",
       "      <th>transferred</th>\n",
       "      <th>city</th>\n",
       "      <th>state</th>\n",
       "      <th>type_y</th>\n",
       "      <th>cluster</th>\n",
       "      <th>dcoilwtico</th>\n",
       "    </tr>\n",
       "  </thead>\n",
       "  <tbody>\n",
       "    <tr>\n",
       "      <th>0</th>\n",
       "      <td>2013-01-01</td>\n",
       "      <td>1</td>\n",
       "      <td>AUTOMOTIVE</td>\n",
       "      <td>0.0</td>\n",
       "      <td>0</td>\n",
       "      <td>Holiday</td>\n",
       "      <td>National</td>\n",
       "      <td>Ecuador</td>\n",
       "      <td>Primer dia del ano</td>\n",
       "      <td>False</td>\n",
       "      <td>Quito</td>\n",
       "      <td>Pichincha</td>\n",
       "      <td>D</td>\n",
       "      <td>13</td>\n",
       "      <td>93.14</td>\n",
       "    </tr>\n",
       "    <tr>\n",
       "      <th>1</th>\n",
       "      <td>2013-01-01</td>\n",
       "      <td>1</td>\n",
       "      <td>BABY CARE</td>\n",
       "      <td>0.0</td>\n",
       "      <td>0</td>\n",
       "      <td>Holiday</td>\n",
       "      <td>National</td>\n",
       "      <td>Ecuador</td>\n",
       "      <td>Primer dia del ano</td>\n",
       "      <td>False</td>\n",
       "      <td>Quito</td>\n",
       "      <td>Pichincha</td>\n",
       "      <td>D</td>\n",
       "      <td>13</td>\n",
       "      <td>93.14</td>\n",
       "    </tr>\n",
       "    <tr>\n",
       "      <th>2</th>\n",
       "      <td>2013-01-01</td>\n",
       "      <td>1</td>\n",
       "      <td>BEAUTY</td>\n",
       "      <td>0.0</td>\n",
       "      <td>0</td>\n",
       "      <td>Holiday</td>\n",
       "      <td>National</td>\n",
       "      <td>Ecuador</td>\n",
       "      <td>Primer dia del ano</td>\n",
       "      <td>False</td>\n",
       "      <td>Quito</td>\n",
       "      <td>Pichincha</td>\n",
       "      <td>D</td>\n",
       "      <td>13</td>\n",
       "      <td>93.14</td>\n",
       "    </tr>\n",
       "    <tr>\n",
       "      <th>3</th>\n",
       "      <td>2013-01-01</td>\n",
       "      <td>1</td>\n",
       "      <td>BEVERAGES</td>\n",
       "      <td>0.0</td>\n",
       "      <td>0</td>\n",
       "      <td>Holiday</td>\n",
       "      <td>National</td>\n",
       "      <td>Ecuador</td>\n",
       "      <td>Primer dia del ano</td>\n",
       "      <td>False</td>\n",
       "      <td>Quito</td>\n",
       "      <td>Pichincha</td>\n",
       "      <td>D</td>\n",
       "      <td>13</td>\n",
       "      <td>93.14</td>\n",
       "    </tr>\n",
       "    <tr>\n",
       "      <th>4</th>\n",
       "      <td>2013-01-01</td>\n",
       "      <td>1</td>\n",
       "      <td>BOOKS</td>\n",
       "      <td>0.0</td>\n",
       "      <td>0</td>\n",
       "      <td>Holiday</td>\n",
       "      <td>National</td>\n",
       "      <td>Ecuador</td>\n",
       "      <td>Primer dia del ano</td>\n",
       "      <td>False</td>\n",
       "      <td>Quito</td>\n",
       "      <td>Pichincha</td>\n",
       "      <td>D</td>\n",
       "      <td>13</td>\n",
       "      <td>93.14</td>\n",
       "    </tr>\n",
       "  </tbody>\n",
       "</table>\n",
       "</div>"
      ],
      "text/plain": [
       "         date  store_nbr      family  sales  onpromotion   type_x    locale  \\\n",
       "0  2013-01-01          1  AUTOMOTIVE    0.0            0  Holiday  National   \n",
       "1  2013-01-01          1   BABY CARE    0.0            0  Holiday  National   \n",
       "2  2013-01-01          1      BEAUTY    0.0            0  Holiday  National   \n",
       "3  2013-01-01          1   BEVERAGES    0.0            0  Holiday  National   \n",
       "4  2013-01-01          1       BOOKS    0.0            0  Holiday  National   \n",
       "\n",
       "  locale_name         description transferred   city      state type_y  \\\n",
       "0     Ecuador  Primer dia del ano       False  Quito  Pichincha      D   \n",
       "1     Ecuador  Primer dia del ano       False  Quito  Pichincha      D   \n",
       "2     Ecuador  Primer dia del ano       False  Quito  Pichincha      D   \n",
       "3     Ecuador  Primer dia del ano       False  Quito  Pichincha      D   \n",
       "4     Ecuador  Primer dia del ano       False  Quito  Pichincha      D   \n",
       "\n",
       "   cluster  dcoilwtico  \n",
       "0       13       93.14  \n",
       "1       13       93.14  \n",
       "2       13       93.14  \n",
       "3       13       93.14  \n",
       "4       13       93.14  "
      ]
     },
     "execution_count": 32,
     "metadata": {},
     "output_type": "execute_result"
    }
   ],
   "source": [
    "mhso_df = mhs_df.merge(oil_df, how='left', left_on = 'date', right_on = 'date')\n",
    "mhso_df.head(5)"
   ]
  },
  {
   "cell_type": "code",
   "execution_count": 38,
   "id": "86744d9e",
   "metadata": {},
   "outputs": [],
   "source": [
    "# handle missing value in oil dataframe\n",
    "n = len(mhso_df['dcoilwtico'])\n",
    "arr = mhso_df['dcoilwtico'].values\n",
    "for i in range(n):\n",
    "    if (np.isnan(arr[i])):\n",
    "        if (i - 1 < 0):\n",
    "            print(i)\n",
    "            v = arr[i + 1] # chưa chặt lắm\n",
    "        else:\n",
    "            v = arr[i - 1]\n",
    "        arr[i] = v\n",
    "mhso_df['dcoilwtico'] = arr"
   ]
  },
  {
   "cell_type": "code",
   "execution_count": 39,
   "id": "d06aa226",
   "metadata": {},
   "outputs": [
    {
     "data": {
      "text/plain": [
       "0"
      ]
     },
     "execution_count": 39,
     "metadata": {},
     "output_type": "execute_result"
    }
   ],
   "source": [
    "oil_price = mhso_df['dcoilwtico'].values.reshape(-1, 1)\n",
    "np.isnan(oil_price).sum()"
   ]
  },
  {
   "cell_type": "code",
   "execution_count": 40,
   "id": "210c0b84",
   "metadata": {
    "scrolled": true
   },
   "outputs": [
    {
     "name": "stdout",
     "output_type": "stream",
     "text": [
      "(3054348, 131) (3054348,)\n"
     ]
    }
   ],
   "source": [
    "from sklearn.preprocessing import OneHotEncoder, StandardScaler\n",
    "class FeatureEncoder(object):\n",
    "    \"\"\"\n",
    "        Thực hiện:\n",
    "         - chuyển family, store_nbr -> one-hot\n",
    "         - chuyển date -> tập one-hot của dayOfWeek & của month\n",
    "         - normalize onPromotion\n",
    "    \"\"\"\n",
    "    def __init__(self, X_df):\n",
    "        weekday = pd.to_datetime(X_df['date']).dt.dayofweek.values.reshape(-1,1)\n",
    "        month = pd.to_datetime(X_df['date']).dt.month.values.reshape(-1,1)\n",
    "        self.family_encoder = OneHotEncoder().fit(X_df[['family']])\n",
    "        self.store_type_encoder = OneHotEncoder().fit(X_df[['type_y']])\n",
    "        self.week_encoder = OneHotEncoder().fit(weekday)\n",
    "        self.month_encoder = OneHotEncoder().fit(month)\n",
    "        self.holiday_type_encoder = OneHotEncoder().fit(X_df[['type_x']])\n",
    "        self.locale_name_encoder = OneHotEncoder().fit(X_df[['locale_name']])\n",
    "        self.cluster_encoder = OneHotEncoder().fit(X_df[['cluster']])\n",
    "        self.city_encoder = OneHotEncoder().fit(X_df[['city']])\n",
    "    \n",
    "    def date2feature(self, date_col):\n",
    "        weekday = pd.to_datetime(date_col).dt.dayofweek.values.reshape(-1,1)\n",
    "        month = pd.to_datetime(date_col).dt.month.values.reshape(-1,1)\n",
    "        year = pd.to_datetime(date_col).dt.year.values.reshape(-1,1)\n",
    "        weekday_features = self.week_encoder.transform(weekday).todense()\n",
    "        month_features = self.month_encoder.transform(month).todense()\n",
    "        return np.hstack([year, month_features, weekday_features])\n",
    "\n",
    "    def preprocess(self, mhso_df):\n",
    "        date_features = self.date2feature(mhso_df['date'])\n",
    "        family_features = self.family_encoder.transform(mhso_df[['family']]).todense()\n",
    "        onpromotion = mhso_df['onpromotion'].values.reshape(-1, 1)\n",
    "        holiday_type_features = self.holiday_type_encoder.transform(mhso_df[['type_x']]).todense()\n",
    "        locale_name_features = self.locale_name_encoder.transform(mhso_df[['locale_name']]).todense()\n",
    "        store_type_features = self.store_type_encoder.transform(mhso_df[['type_y']]).todense()\n",
    "        cluster_features = self.cluster_encoder.transform(mhso_df[['cluster']]).todense()\n",
    "        city_features = self.city_encoder.transform(mhso_df[['city']]).todense()\n",
    "        oil_price = mhso_df['dcoilwtico'].values.reshape(-1, 1)\n",
    "#         return date_features, family_features, onpromotion, holiday_type_features, locale_name_features, store_type_features, cluster_features, city_features\n",
    "        X = np.hstack([date_features, family_features, onpromotion, holiday_type_features, locale_name_features, store_type_features, cluster_features, city_features, oil_price])\n",
    "        return X\n",
    "encoder = FeatureEncoder(mhso_df)\n",
    "X = encoder.preprocess(mhso_df)\n",
    "y = mhso_df['sales'].values\n",
    "print(X.shape, y.shape)"
   ]
  },
  {
   "cell_type": "code",
   "execution_count": 31,
   "id": "2d8cf719",
   "metadata": {},
   "outputs": [],
   "source": [
    "# from sklearn.linear_model import LinearRegression, Ridge\n",
    "# from sklearn.ensemble import AdaBoostRegressor\n",
    "# from sklearn.model_selection import train_test_split\n",
    "# X_train, X_val, y_train, y_val = train_test_split(X, y, test_size = 0.2, random_state = random_state)"
   ]
  },
  {
   "cell_type": "code",
   "execution_count": 41,
   "id": "324f3539",
   "metadata": {
    "scrolled": true
   },
   "outputs": [
    {
     "name": "stderr",
     "output_type": "stream",
     "text": [
      "C:\\Users\\thamnt36\\Anaconda3\\lib\\site-packages\\sklearn\\utils\\validation.py:727: FutureWarning: np.matrix usage is deprecated in 1.0 and will raise a TypeError in 1.2. Please convert to a numpy array with np.asarray. For more information see: https://numpy.org/doc/stable/reference/generated/numpy.matrix.html\n",
      "  warnings.warn(\n"
     ]
    },
    {
     "data": {
      "text/html": [
       "<style>#sk-container-id-1 {color: black;background-color: white;}#sk-container-id-1 pre{padding: 0;}#sk-container-id-1 div.sk-toggleable {background-color: white;}#sk-container-id-1 label.sk-toggleable__label {cursor: pointer;display: block;width: 100%;margin-bottom: 0;padding: 0.3em;box-sizing: border-box;text-align: center;}#sk-container-id-1 label.sk-toggleable__label-arrow:before {content: \"▸\";float: left;margin-right: 0.25em;color: #696969;}#sk-container-id-1 label.sk-toggleable__label-arrow:hover:before {color: black;}#sk-container-id-1 div.sk-estimator:hover label.sk-toggleable__label-arrow:before {color: black;}#sk-container-id-1 div.sk-toggleable__content {max-height: 0;max-width: 0;overflow: hidden;text-align: left;background-color: #f0f8ff;}#sk-container-id-1 div.sk-toggleable__content pre {margin: 0.2em;color: black;border-radius: 0.25em;background-color: #f0f8ff;}#sk-container-id-1 input.sk-toggleable__control:checked~div.sk-toggleable__content {max-height: 200px;max-width: 100%;overflow: auto;}#sk-container-id-1 input.sk-toggleable__control:checked~label.sk-toggleable__label-arrow:before {content: \"▾\";}#sk-container-id-1 div.sk-estimator input.sk-toggleable__control:checked~label.sk-toggleable__label {background-color: #d4ebff;}#sk-container-id-1 div.sk-label input.sk-toggleable__control:checked~label.sk-toggleable__label {background-color: #d4ebff;}#sk-container-id-1 input.sk-hidden--visually {border: 0;clip: rect(1px 1px 1px 1px);clip: rect(1px, 1px, 1px, 1px);height: 1px;margin: -1px;overflow: hidden;padding: 0;position: absolute;width: 1px;}#sk-container-id-1 div.sk-estimator {font-family: monospace;background-color: #f0f8ff;border: 1px dotted black;border-radius: 0.25em;box-sizing: border-box;margin-bottom: 0.5em;}#sk-container-id-1 div.sk-estimator:hover {background-color: #d4ebff;}#sk-container-id-1 div.sk-parallel-item::after {content: \"\";width: 100%;border-bottom: 1px solid gray;flex-grow: 1;}#sk-container-id-1 div.sk-label:hover label.sk-toggleable__label {background-color: #d4ebff;}#sk-container-id-1 div.sk-serial::before {content: \"\";position: absolute;border-left: 1px solid gray;box-sizing: border-box;top: 0;bottom: 0;left: 50%;z-index: 0;}#sk-container-id-1 div.sk-serial {display: flex;flex-direction: column;align-items: center;background-color: white;padding-right: 0.2em;padding-left: 0.2em;position: relative;}#sk-container-id-1 div.sk-item {position: relative;z-index: 1;}#sk-container-id-1 div.sk-parallel {display: flex;align-items: stretch;justify-content: center;background-color: white;position: relative;}#sk-container-id-1 div.sk-item::before, #sk-container-id-1 div.sk-parallel-item::before {content: \"\";position: absolute;border-left: 1px solid gray;box-sizing: border-box;top: 0;bottom: 0;left: 50%;z-index: -1;}#sk-container-id-1 div.sk-parallel-item {display: flex;flex-direction: column;z-index: 1;position: relative;background-color: white;}#sk-container-id-1 div.sk-parallel-item:first-child::after {align-self: flex-end;width: 50%;}#sk-container-id-1 div.sk-parallel-item:last-child::after {align-self: flex-start;width: 50%;}#sk-container-id-1 div.sk-parallel-item:only-child::after {width: 0;}#sk-container-id-1 div.sk-dashed-wrapped {border: 1px dashed gray;margin: 0 0.4em 0.5em 0.4em;box-sizing: border-box;padding-bottom: 0.4em;background-color: white;}#sk-container-id-1 div.sk-label label {font-family: monospace;font-weight: bold;display: inline-block;line-height: 1.2em;}#sk-container-id-1 div.sk-label-container {text-align: center;}#sk-container-id-1 div.sk-container {/* jupyter's `normalize.less` sets `[hidden] { display: none; }` but bootstrap.min.css set `[hidden] { display: none !important; }` so we also need the `!important` here to be able to override the default hidden behavior on the sphinx rendered scikit-learn.org. See: https://github.com/scikit-learn/scikit-learn/issues/21755 */display: inline-block !important;position: relative;}#sk-container-id-1 div.sk-text-repr-fallback {display: none;}</style><div id=\"sk-container-id-1\" class=\"sk-top-container\"><div class=\"sk-text-repr-fallback\"><pre>RandomForestRegressor(n_estimators=10)</pre><b>In a Jupyter environment, please rerun this cell to show the HTML representation or trust the notebook. <br />On GitHub, the HTML representation is unable to render, please try loading this page with nbviewer.org.</b></div><div class=\"sk-container\" hidden><div class=\"sk-item\"><div class=\"sk-estimator sk-toggleable\"><input class=\"sk-toggleable__control sk-hidden--visually\" id=\"sk-estimator-id-1\" type=\"checkbox\" checked><label for=\"sk-estimator-id-1\" class=\"sk-toggleable__label sk-toggleable__label-arrow\">RandomForestRegressor</label><div class=\"sk-toggleable__content\"><pre>RandomForestRegressor(n_estimators=10)</pre></div></div></div></div></div>"
      ],
      "text/plain": [
       "RandomForestRegressor(n_estimators=10)"
      ]
     },
     "execution_count": 41,
     "metadata": {},
     "output_type": "execute_result"
    }
   ],
   "source": [
    "from sklearn.ensemble import RandomForestRegressor\n",
    "model = RandomForestRegressor(n_estimators = 10)\n",
    "model.fit(X, y)"
   ]
  },
  {
   "cell_type": "code",
   "execution_count": 43,
   "id": "0bf279ba",
   "metadata": {},
   "outputs": [
    {
     "name": "stderr",
     "output_type": "stream",
     "text": [
      "C:\\Users\\thamnt36\\Anaconda3\\lib\\site-packages\\sklearn\\utils\\validation.py:727: FutureWarning: np.matrix usage is deprecated in 1.0 and will raise a TypeError in 1.2. Please convert to a numpy array with np.asarray. For more information see: https://numpy.org/doc/stable/reference/generated/numpy.matrix.html\n",
      "  warnings.warn(\n"
     ]
    }
   ],
   "source": [
    "test_df = pd.read_csv('test.csv', index_col='id')\n",
    "test_mh_df = test_df.merge(holiday_df, how='left', left_on = 'date', right_on = 'date')\n",
    "test_mh_df = test_mh_df.fillna(\"None\")\n",
    "test_mhs_df = test_mh_df.merge(store_df, how='left', left_on = 'store_nbr', right_on = 'store_nbr')\n",
    "test_mhso_df = test_mhs_df.merge(oil_df, how='left', left_on = 'date', right_on = 'date')\n",
    "\n",
    "# handle missing value in oil dataframe\n",
    "n = len(test_mhso_df['dcoilwtico'])\n",
    "arr = test_mhso_df['dcoilwtico'].values\n",
    "for i in range(n):\n",
    "    if (np.isnan(arr[i])):\n",
    "        if (i - 1 < 0):\n",
    "            print(i)\n",
    "            v = arr[i + 1] # chưa chặt lắm\n",
    "        else:\n",
    "            v = arr[i - 1]\n",
    "        arr[i] = v\n",
    "test_mhso_df['dcoilwtico'] = arr\n",
    "\n",
    "X_test= encoder.preprocess(test_mhso_df)\n",
    "y_pred = model.predict(X_test)\n",
    "y_pred = np.where(y_pred > 0, y_pred, 0)\n",
    "submit = pd.DataFrame(np.hstack([test_df.index.values.reshape(-1, 1), y_pred.reshape(-1, 1)]), columns = ['id', 'sales'])\n",
    "submit.id = submit.id.astype(np.int32)\n",
    "submit.to_csv('submit.csv', index=False)"
   ]
  },
  {
   "cell_type": "code",
   "execution_count": null,
   "id": "5fb57b42",
   "metadata": {},
   "outputs": [],
   "source": [
    "from sklearn.preprocessing import OneHotEncoder, StandardScaler\n",
    "class FeatureEncoder2(object):\n",
    "    \"\"\"\n",
    "        Thực hiện:\n",
    "         - chuyển family, store_nbr -> one-hot\n",
    "         - chuyển date -> tập one-hot của dayOfWeek & của month\n",
    "         - normalize onPromotion\n",
    "    \"\"\"\n",
    "    def __init__(self, X_df):\n",
    "        weekday = pd.to_datetime(X_df['date']).dt.dayofweek.values.reshape(-1,1)\n",
    "        month = pd.to_datetime(X_df['date']).dt.month.values.reshape(-1,1)\n",
    "        self.family_encoder = OneHotEncoder().fit(X_df[['family']])\n",
    "        self.store_type_encoder = OneHotEncoder().fit(X_df[['type_y']])\n",
    "        self.week_encoder = OneHotEncoder().fit(weekday)\n",
    "        self.month_encoder = OneHotEncoder().fit(month)\n",
    "        self.holiday_type_encoder = OneHotEncoder().fit(X_df[['type_x']])\n",
    "        self.locale_name_encoder = OneHotEncoder().fit(X_df[['locale_name']])\n",
    "        self.cluster_encoder = OneHotEncoder().fit(X_df[['cluster']])\n",
    "        self.city_encoder = OneHotEncoder().fit(X_df[['city']])\n",
    "    \n",
    "    def date2feature(self, date_col):\n",
    "        weekday = pd.to_datetime(date_col).dt.dayofweek.values.reshape(-1,1)\n",
    "        month = pd.to_datetime(date_col).dt.month.values.reshape(-1,1)\n",
    "        year = pd.to_datetime(date_col).dt.year.values.reshape(-1,1) # linear correalation\n",
    "        weekday_features = self.week_encoder.transform(weekday).todense()\n",
    "        month_features = self.month_encoder.transform(month).todense()\n",
    "        return np.hstack([year, month_features, weekday_features])\n",
    "\n",
    "    def preprocess(self, mh_df):\n",
    "        date_features = self.date2feature(mh_df['date'])\n",
    "        family_features = self.family_encoder.transform(mh_df[['family']]).todense()\n",
    "        onpromotion = mh_df['onpromotion'].values.reshape(-1, 1) # linear correalation\n",
    "        holiday_type_features = self.holiday_type_encoder.transform(mh_df[['type_x']]).todense()\n",
    "        locale_name_features = self.locale_name_encoder.transform(mh_df[['locale_name']]).todense()\n",
    "        store_type_features = self.store_type_encoder.transform(mh_df[['type_y']]).todense()\n",
    "        cluster_features = self.cluster_encoder.transform(mh_df[['cluster']]).todense()\n",
    "        city_features = self.city_encoder.transform(mh_df[['city']]).todense()\n",
    "#         return date_features, family_features, onpromotion, holiday_type_features, locale_name_features, store_type_features, cluster_features, city_features\n",
    "        X = np.hstack([date_features, family_features, onpromotion, holiday_type_features, locale_name_features, store_type_features, cluster_features, city_features])\n",
    "        return X\n",
    "encoder = FeatureEncoder(mhso_df)\n",
    "X = encoder.preprocess(mhso_df)\n",
    "y = mhso_df['sales'].values\n",
    "print(X.shape, y.shape)"
   ]
  },
  {
   "cell_type": "code",
   "execution_count": 3,
   "id": "5953212a",
   "metadata": {},
   "outputs": [],
   "source": [
    "import numpy as np\n",
    "x = np.random.rand(10000)\n",
    "y = x*2 + 4"
   ]
  },
  {
   "cell_type": "code",
   "execution_count": 4,
   "id": "1bc9da05",
   "metadata": {},
   "outputs": [
    {
     "data": {
      "text/plain": [
       "[<matplotlib.lines.Line2D at 0x18e2cb2d4c0>]"
      ]
     },
     "execution_count": 4,
     "metadata": {},
     "output_type": "execute_result"
    },
    {
     "data": {
      "image/png": "[encoded data removed]",
      "text/plain": [
       "<Figure size 432x288 with 1 Axes>"
      ]
     },
     "metadata": {
      "needs_background": "light"
     },
     "output_type": "display_data"
    }
   ],
   "source": [
    "import matplotlib.pyplot as plt\n",
    "plt.plot(x, y)"
   ]
  },
  {
   "cell_type": "code",
   "execution_count": 5,
   "id": "59a56c99",
   "metadata": {},
   "outputs": [
    {
     "data": {
      "text/plain": [
       "(array([1013., 1038., 1025.,  983.,  966.,  946., 1010.,  996., 1029.,\n",
       "         994.]),\n",
       " array([4.00063244, 4.20056731, 4.40050218, 4.60043705, 4.80037192,\n",
       "        5.00030679, 5.20024166, 5.40017652, 5.60011139, 5.80004626,\n",
       "        5.99998113]),\n",
       " <BarContainer object of 10 artists>)"
      ]
     },
     "execution_count": 5,
     "metadata": {},
     "output_type": "execute_result"
    },
    {
     "data": {
      "image/png": "[encoded data removed]",
      "text/plain": [
       "<Figure size 432x288 with 1 Axes>"
      ]
     },
     "metadata": {
      "needs_background": "light"
     },
     "output_type": "display_data"
    }
   ],
   "source": [
    "plt.hist(y)"
   ]
  }
 ],
 "metadata": {
  "kernelspec": {
   "display_name": "Python 3 (ipykernel)",
   "language": "python",
   "name": "python3"
  },
  "language_info": {
   "codemirror_mode": {
    "name": "ipython",
    "version": 3
   },
   "file_extension": ".py",
   "mimetype": "text/x-python",
   "name": "python",
   "nbconvert_exporter": "python",
   "pygments_lexer": "ipython3",
   "version": "3.9.12"
  }
 },
 "nbformat": 4,
 "nbformat_minor": 5
}
